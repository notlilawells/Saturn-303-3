{
 "cells": [
  {
   "cell_type": "code",
   "execution_count": 1,
   "metadata": {},
   "outputs": [],
   "source": [
    "import pandas as pd\n",
    "import numpy as np\n",
    "import matplotlib.pyplot as plt\n",
    "\n",
    "from sklearn.model_selection import GridSearchCV, train_test_split\n",
    "from sklearn.ensemble import RandomForestRegressor\n",
    "from sklearn.metrics import mean_squared_error\n",
    "from sklearn.preprocessing import MinMaxScaler\n",
    "\n",
    "import statsmodels.api as sm"
   ]
  },
  {
   "cell_type": "code",
   "execution_count": 4,
   "metadata": {},
   "outputs": [],
   "source": [
    "X_train = pd.read_csv(\"Data/X_train.csv\")\n",
    "y_train = pd.read_csv(\"Data/y_train.csv\")\n",
    "\n",
    "X_test = pd.read_csv(\"Data/X_test.csv\")\n",
    "y_test = pd.read_csv(\"Data/y_test.csv\")"
   ]
  },
  {
   "cell_type": "code",
   "execution_count": 9,
   "metadata": {},
   "outputs": [
    {
     "data": {
      "text/html": [
       "<div>\n",
       "<style scoped>\n",
       "    .dataframe tbody tr th:only-of-type {\n",
       "        vertical-align: middle;\n",
       "    }\n",
       "\n",
       "    .dataframe tbody tr th {\n",
       "        vertical-align: top;\n",
       "    }\n",
       "\n",
       "    .dataframe thead th {\n",
       "        text-align: right;\n",
       "    }\n",
       "</style>\n",
       "<table border=\"1\" class=\"dataframe\">\n",
       "  <thead>\n",
       "    <tr style=\"text-align: right;\">\n",
       "      <th></th>\n",
       "      <th>fixed acidity</th>\n",
       "      <th>volatile acidity</th>\n",
       "      <th>citric acid</th>\n",
       "      <th>residual sugar</th>\n",
       "      <th>chlorides</th>\n",
       "      <th>free sulfur dioxide</th>\n",
       "      <th>total sulfur dioxide</th>\n",
       "      <th>density</th>\n",
       "      <th>pH</th>\n",
       "      <th>sulphates</th>\n",
       "      <th>alcohol</th>\n",
       "      <th>type_red</th>\n",
       "      <th>type_white</th>\n",
       "    </tr>\n",
       "  </thead>\n",
       "  <tbody>\n",
       "    <tr>\n",
       "      <th>0</th>\n",
       "      <td>0.371901</td>\n",
       "      <td>0.220000</td>\n",
       "      <td>0.307229</td>\n",
       "      <td>0.021472</td>\n",
       "      <td>0.061462</td>\n",
       "      <td>0.034722</td>\n",
       "      <td>0.463134</td>\n",
       "      <td>0.113553</td>\n",
       "      <td>0.232558</td>\n",
       "      <td>0.185393</td>\n",
       "      <td>0.492754</td>\n",
       "      <td>0.0</td>\n",
       "      <td>1.0</td>\n",
       "    </tr>\n",
       "    <tr>\n",
       "      <th>1</th>\n",
       "      <td>0.305785</td>\n",
       "      <td>0.166667</td>\n",
       "      <td>0.168675</td>\n",
       "      <td>0.065951</td>\n",
       "      <td>0.054817</td>\n",
       "      <td>0.069444</td>\n",
       "      <td>0.343318</td>\n",
       "      <td>0.129940</td>\n",
       "      <td>0.496124</td>\n",
       "      <td>0.196629</td>\n",
       "      <td>0.420290</td>\n",
       "      <td>0.0</td>\n",
       "      <td>1.0</td>\n",
       "    </tr>\n",
       "    <tr>\n",
       "      <th>2</th>\n",
       "      <td>0.239669</td>\n",
       "      <td>0.126667</td>\n",
       "      <td>0.198795</td>\n",
       "      <td>0.046012</td>\n",
       "      <td>0.041528</td>\n",
       "      <td>0.027778</td>\n",
       "      <td>0.089862</td>\n",
       "      <td>0.083478</td>\n",
       "      <td>0.279070</td>\n",
       "      <td>0.101124</td>\n",
       "      <td>0.362319</td>\n",
       "      <td>0.0</td>\n",
       "      <td>1.0</td>\n",
       "    </tr>\n",
       "    <tr>\n",
       "      <th>3</th>\n",
       "      <td>0.181818</td>\n",
       "      <td>0.173333</td>\n",
       "      <td>0.192771</td>\n",
       "      <td>0.049080</td>\n",
       "      <td>0.058140</td>\n",
       "      <td>0.041667</td>\n",
       "      <td>0.253456</td>\n",
       "      <td>0.076537</td>\n",
       "      <td>0.519380</td>\n",
       "      <td>0.123596</td>\n",
       "      <td>0.550725</td>\n",
       "      <td>0.0</td>\n",
       "      <td>1.0</td>\n",
       "    </tr>\n",
       "    <tr>\n",
       "      <th>4</th>\n",
       "      <td>0.165289</td>\n",
       "      <td>0.186667</td>\n",
       "      <td>0.228916</td>\n",
       "      <td>0.004601</td>\n",
       "      <td>0.046512</td>\n",
       "      <td>0.006944</td>\n",
       "      <td>0.158986</td>\n",
       "      <td>0.063428</td>\n",
       "      <td>0.434109</td>\n",
       "      <td>0.067416</td>\n",
       "      <td>0.492754</td>\n",
       "      <td>0.0</td>\n",
       "      <td>1.0</td>\n",
       "    </tr>\n",
       "  </tbody>\n",
       "</table>\n",
       "</div>"
      ],
      "text/plain": [
       "   fixed acidity  volatile acidity  citric acid  residual sugar  chlorides  \\\n",
       "0       0.371901          0.220000     0.307229        0.021472   0.061462   \n",
       "1       0.305785          0.166667     0.168675        0.065951   0.054817   \n",
       "2       0.239669          0.126667     0.198795        0.046012   0.041528   \n",
       "3       0.181818          0.173333     0.192771        0.049080   0.058140   \n",
       "4       0.165289          0.186667     0.228916        0.004601   0.046512   \n",
       "\n",
       "   free sulfur dioxide  total sulfur dioxide   density        pH  sulphates  \\\n",
       "0             0.034722              0.463134  0.113553  0.232558   0.185393   \n",
       "1             0.069444              0.343318  0.129940  0.496124   0.196629   \n",
       "2             0.027778              0.089862  0.083478  0.279070   0.101124   \n",
       "3             0.041667              0.253456  0.076537  0.519380   0.123596   \n",
       "4             0.006944              0.158986  0.063428  0.434109   0.067416   \n",
       "\n",
       "    alcohol  type_red  type_white  \n",
       "0  0.492754       0.0         1.0  \n",
       "1  0.420290       0.0         1.0  \n",
       "2  0.362319       0.0         1.0  \n",
       "3  0.550725       0.0         1.0  \n",
       "4  0.492754       0.0         1.0  "
      ]
     },
     "execution_count": 9,
     "metadata": {},
     "output_type": "execute_result"
    }
   ],
   "source": [
    "X_train.head()"
   ]
  },
  {
   "cell_type": "code",
   "execution_count": 16,
   "metadata": {},
   "outputs": [
    {
     "name": "stdout",
     "output_type": "stream",
     "text": [
      "Fitting 5 folds for each of 54 candidates, totalling 270 fits\n"
     ]
    },
    {
     "data": {
      "text/plain": [
       "{'max_features': 3, 'n_estimators': 900}"
      ]
     },
     "execution_count": 16,
     "metadata": {},
     "output_type": "execute_result"
    }
   ],
   "source": [
    "params = {'n_estimators': range(100, 1000, 100),\n",
    "          'max_features': range(1, 13, 2)}\n",
    "\n",
    "rfr_grid = GridSearchCV(RandomForestRegressor(random_state = 1), \n",
    "                                                params, \n",
    "                                                n_jobs = -1, \n",
    "                                                scoring = \"neg_mean_squared_error\", \n",
    "                                                verbose = 1)\n",
    "rfr_grid.fit(X_train, y_train.quality)\n",
    "rfr_grid.best_params_"
   ]
  },
  {
   "cell_type": "code",
   "execution_count": 17,
   "metadata": {},
   "outputs": [
    {
     "data": {
      "text/plain": [
       "Text(0, 0.5, 'K-fold RMSE')"
      ]
     },
     "execution_count": 17,
     "metadata": {},
     "output_type": "execute_result"
    },
    {
     "data": {
      "image/png": "[encoded data removed]",
      "text/plain": [
       "<Figure size 1008x360 with 2 Axes>"
      ]
     },
     "metadata": {
      "needs_background": "light"
     },
     "output_type": "display_data"
    }
   ],
   "source": [
    "cv_results_rf = pd.DataFrame(rfr_grid.cv_results_)\n",
    "\n",
    "fig, axes = plt.subplots(1, 2, figsize = (14,5))\n",
    "plt.subplots_adjust(wspace = 0.2)\n",
    "axes[0].plot(cv_results_rf.param_n_estimators, -cv_results_rf.mean_test_score, 'o')\n",
    "axes[0].set_xlabel('Estimators')\n",
    "axes[0].set_ylabel('K-fold RMSE')\n",
    "\n",
    "axes[1].plot(cv_results_rf.param_max_features, -cv_results_rf.mean_test_score, 'o')\n",
    "axes[1].set_xlabel('Features')\n",
    "axes[1].set_ylabel('K-fold RMSE')"
   ]
  },
  {
   "cell_type": "code",
   "execution_count": 20,
   "metadata": {},
   "outputs": [
    {
     "name": "stderr",
     "output_type": "stream",
     "text": [
      "/var/folders/_x/qn4xkmz55j1g75w_xy65m99m0000gn/T/ipykernel_98029/3428752590.py:1: DataConversionWarning: A column-vector y was passed when a 1d array was expected. Please change the shape of y to (n_samples,), for example using ravel().\n",
      "  rfr_model_coarse = RandomForestRegressor(n_estimators= 900, max_features = 3, random_state = 1, n_jobs = -1).fit(X_train, y_train)\n"
     ]
    },
    {
     "name": "stdout",
     "output_type": "stream",
     "text": [
      "Training RMSE: 0.2170179369194643\n",
      "Test RMSE: 0.625485949733757\n"
     ]
    }
   ],
   "source": [
    "rfr_model_coarse = RandomForestRegressor(n_estimators= 900, max_features = 3, random_state = 1, n_jobs = -1).fit(X_train, y_train)\n",
    "train_rmse = mean_squared_error(y_train, rfr_model_coarse.predict(X_train), squared = False)\n",
    "test_rmse = mean_squared_error(y_test, rfr_model_coarse.predict(X_test), squared = False)\n",
    "\n",
    "print(\"Training RMSE: {}\".format(train_rmse))\n",
    "print(\"Test RMSE: {}\".format(test_rmse))"
   ]
  }
 ],
 "metadata": {
  "kernelspec": {
   "display_name": "Python 3 (ipykernel)",
   "language": "python",
   "name": "python3"
  },
  "language_info": {
   "codemirror_mode": {
    "name": "ipython",
    "version": 3
   },
   "file_extension": ".py",
   "mimetype": "text/x-python",
   "name": "python",
   "nbconvert_exporter": "python",
   "pygments_lexer": "ipython3",
   "version": "3.9.12"
  }
 },
 "nbformat": 4,
 "nbformat_minor": 2
}
