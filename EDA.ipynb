{
 "cells": [
  {
   "cell_type": "code",
   "execution_count": 1,
   "id": "fa6bc99e",
   "metadata": {},
   "outputs": [],
   "source": [
    "import pandas as pd\n",
    "import numpy as np"
   ]
  },
  {
   "cell_type": "code",
   "execution_count": 5,
   "id": "fd63a338",
   "metadata": {},
   "outputs": [],
   "source": [
    "red = pd.read_csv('Data/winequality-red.csv', delimiter=\";\")\n",
    "white = pd.read_csv('Data/winequality-white.csv', delimiter=\";\")"
   ]
  },
  {
   "cell_type": "code",
   "execution_count": 11,
   "id": "903fa7a7",
   "metadata": {},
   "outputs": [],
   "source": [
    "red['type'] = 'red'\n",
    "white['type'] = 'white'"
   ]
  },
  {
   "cell_type": "code",
   "execution_count": 16,
   "id": "634dd251",
   "metadata": {},
   "outputs": [],
   "source": [
    "all_df = pd.concat([red, white], ignore_index = True)"
   ]
  },
  {
   "cell_type": "code",
   "execution_count": 21,
   "id": "db40eff6",
   "metadata": {},
   "outputs": [
    {
     "data": {
      "text/plain": [
       "0.8731880644450568"
      ]
     },
     "execution_count": 21,
     "metadata": {},
     "output_type": "execute_result"
    }
   ],
   "source": [
    "np.std(all_df.quality.values)"
   ]
  }
 ],
 "metadata": {
  "kernelspec": {
   "display_name": "Python 3 (ipykernel)",
   "language": "python",
   "name": "python3"
  },
  "language_info": {
   "codemirror_mode": {
    "name": "ipython",
    "version": 3
   },
   "file_extension": ".py",
   "mimetype": "text/x-python",
   "name": "python",
   "nbconvert_exporter": "python",
   "pygments_lexer": "ipython3",
   "version": "3.10.10"
  },
  "varInspector": {
   "cols": {
    "lenName": 16,
    "lenType": 16,
    "lenVar": 40
   },
   "kernels_config": {
    "python": {
     "delete_cmd_postfix": "",
     "delete_cmd_prefix": "del ",
     "library": "var_list.py",
     "varRefreshCmd": "print(var_dic_list())"
    },
    "r": {
     "delete_cmd_postfix": ") ",
     "delete_cmd_prefix": "rm(",
     "library": "var_list.r",
     "varRefreshCmd": "cat(var_dic_list()) "
    }
   },
   "types_to_exclude": [
    "module",
    "function",
    "builtin_function_or_method",
    "instance",
    "_Feature"
   ],
   "window_display": false
  }
 },
 "nbformat": 4,
 "nbformat_minor": 5
}
