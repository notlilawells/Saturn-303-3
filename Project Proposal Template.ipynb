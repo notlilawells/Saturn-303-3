{
 "cells": [
  {
   "cell_type": "raw",
   "id": "33dd6c4c",
   "metadata": {},
   "source": [
    "---\n",
    "title: \"Project Proposal\"\n",
    "format: \n",
    "  html:\n",
    "    toc: true\n",
    "    toc-title: Contents\n",
    "    code-fold: show\n",
    "    self-contained: true\n",
    "jupyter: python3\n",
    "---"
   ]
  },
  {
   "cell_type": "markdown",
   "id": "0116f49b",
   "metadata": {},
   "source": [
    "## Instructions {-}\n",
    "\n",
    "1. Please answer the following questions as part of your project proposal.\n",
    "\n",
    "2. Write your answers in the *Markdown* cells of the Jupyter notebook. You don't need to write any code, but if you want to, you may use the *Code* cells.\n",
    "\n",
    "3. Use [Quarto](https://quarto.org/docs/output-formats/html-basics.html) to print the *.ipynb* file as HTML. You will need to open the command prompt, navigate to the directory containing the file, and use the command: `quarto render filename.ipynb --to html`. Submit the HTML file.\n",
    "\n",
    "4. The project proposal is worth 8 points, and is due on **18th April 2023 at 11:59 pm**. \n",
    "\n",
    "5. You must make one submission as a group, and not individually.\n",
    "\n",
    "6. Maintaining a GitHub repository is optional, though encouraged for the project.\n",
    "\n",
    "7. Share the link of your project's GitHub repository [here](https://docs.google.com/spreadsheets/d/1khao3unpj_vsx4kOSg_Zzo77YK1UWL2w73Oa0aAirOo/edit#gid=0) (optional)."
   ]
  },
  {
   "cell_type": "markdown",
   "id": "fe7ea9bb",
   "metadata": {},
   "source": [
    "# 1) Team name\n",
    "Mention your team name.\n",
    "\n",
    "*(0 points)*\n",
    "\n",
    "Saturn."
   ]
  },
  {
   "cell_type": "markdown",
   "id": "16fccc9b",
   "metadata": {},
   "source": [
    "# 2) Member names\n",
    "Mention the names of your team members.\n",
    "\n",
    "*(0 points)*\n",
    "\n",
    "Members: Kaitlyn Hung, Amy Wang, Anastasia Wei, Lila Wells."
   ]
  },
  {
   "cell_type": "markdown",
   "id": "220a6528",
   "metadata": {},
   "source": [
    "# 3) Link to the GitHub repository (optional)\n",
    "Share the link of the team's project repository on GitHub.\n",
    "\n",
    "Also, put the link of your project's GitHub repository [here](https://docs.google.com/spreadsheets/d/1khao3unpj_vsx4kOSg_Zzo77YK1UWL2w73Oa0aAirOo/edit#gid=0).\n",
    "\n",
    "We believe there is no harm in having other teams view your GitHub repository. However, if you don't want anyone to see your team's work, you may make the repository *Private* and add your instructor and graduate TA as *Colloborators* in it.\n",
    "\n",
    "*(0 points)*\n",
    "\n",
    "The link to our GitHub repository can be accessed [here](https://github.com/notlilawells/Saturn-303-3)"
   ]
  },
  {
   "cell_type": "markdown",
   "id": "16c1a490",
   "metadata": {},
   "source": [
    "# 4) Topic\n",
    "Mention the topic of your course project.\n",
    "\n",
    "*(0 points)*\n",
    "\n",
    "Our topic is as follows: \"Predicting Wine Quality based on Physical and Chemical Alcohol Attributes\""
   ]
  },
  {
   "cell_type": "markdown",
   "id": "2f77a6a8",
   "metadata": {},
   "source": []
  },
  {
   "cell_type": "markdown",
   "id": "84a10dd1",
   "metadata": {},
   "source": []
  },
  {
   "cell_type": "markdown",
   "id": "7992c3e2",
   "metadata": {},
   "source": []
  },
  {
   "attachments": {},
   "cell_type": "markdown",
   "id": "9403cdfb",
   "metadata": {},
   "source": [
    "# 5) Problem statement\n",
    "\n",
    "*(4 points)*\n",
    "\n",
    "## 5a) The problem\n",
    "The Vinho Verde region of northwest Portugal brings affordable wines of diverse flavor profiles and complexities to everyday individuals [1]. As this region grows as a wine exporter, it is crucial that wineyards scale up their ability to determine the quality of each wine. Quality is an important metric used in the wine’s certification process to the market and helps vinters determine the properly price their wines [2]. Currently, however, wine quality is largely determined by sommeliers [2]. Though these individuals are experts in wine-tasting, sommeliers too are humans with subjective opinions and personal preferences in taste. Therefore, the industry has begun to support the sommelier-determined measure of quality through the measurement of objective physicochemical properties of the wines, such as pH and alcohol values. In effort to expand this practice, we will build a model that predicts sommelier-determined wine quality based on physicochemical properties of Vinho Verde wines. Given the great diversity in climate, grapes, and methods of winemaking in the Vinho Verde wines [1], this model would likely be generalizable to determination of quality for wines from other regions.\n",
    "\n",
    "References\n",
    "[1] https://www.vinhoverde.pt/en/about-vinho-verde \n",
    "[2] https://www.sciencedirect.com/science/article/pii/S0167923609001377?via%3Dihub "
   ]
  },
  {
   "attachments": {},
   "cell_type": "markdown",
   "id": "9a0dee45",
   "metadata": {},
   "source": [
    "## 5b) Type of response\n",
    "Our dataset lends itself to a regression problem, in which we use the physicochemical properties of wine samples from the Vinho Verde region of Portugal to predict its quality (`quality`: a continuous variable ranging from 1-10).\n"
   ]
  },
  {
   "attachments": {},
   "cell_type": "markdown",
   "id": "2c8cb75b",
   "metadata": {},
   "source": [
    "## 5c) Performance metric\n",
    "To assess the accuracy of our regression model, we will optimize RMSE. We want to understand the quality of each individual wine sample, and thus would like the error for each individual prediction to be minimized. RMSE accomplishes this by penalizing large errors. MAE would be useful if we wanted the overall error across the wine samples to be low, and are indifferent to how the error is distributed across the wine samples."
   ]
  },
  {
   "cell_type": "markdown",
   "id": "57701e9e",
   "metadata": {},
   "source": [
    "## 5d) Naive model accuracy\n",
    "What is the accuracy of the naive model (Standard deviation of response in case of continuous response / proportion of the majority class in case of classification model)\n",
    "\n",
    "The standard deviation of the continuous response is 0.87."
   ]
  },
  {
   "cell_type": "markdown",
   "id": "3eb2d4f2",
   "metadata": {},
   "source": [
    "# 6) Data\n",
    "\n",
    "## 6a) Source\n",
    "What data sources will you use, and how will the data help solve the problem? Explain.\n",
    "If the data is open source, share the link of the data.\n",
    "\n",
    "*(0.5 point)*"
   ]
  },
  {
   "cell_type": "markdown",
   "id": "85399134",
   "metadata": {},
   "source": [
    "We are using a data set entitled \"Wine Quality Data Set\" from the UCI Machine Learning Repository. The dataset can be accessed [here](http://archive.ics.uci.edu/ml/datasets/Wine+Quality). Wine quality is based on the physicochemical properties of the wine, and this data set includes 10 of the properties, making it useful for predicting wine quality. "
   ]
  },
  {
   "cell_type": "markdown",
   "id": "87bee818",
   "metadata": {},
   "source": [
    "## 6b) Response & predictors\n",
    "What is the response, and mention some of the predictors.\n",
    "\n",
    "*(0.5 point)*"
   ]
  },
  {
   "cell_type": "markdown",
   "id": "70978298",
   "metadata": {},
   "source": [
    "Our response variable is wine quality, represented by the variable `quality` in this dataset. This value ranges from 1 to 10. The predictors we will be using include physicochemical attributes of wine such as pH, density, fixed and volatile acidity, citric acid content, residual sugars, chlorides, free sulfur dioxides and total sulfur dioxides, sulphates, alcohol quality, and wine type (red or white)."
   ]
  },
  {
   "cell_type": "markdown",
   "id": "8eb561c3",
   "metadata": {},
   "source": [
    "## 6c) Size\n",
    "What is the number of continuous predictors, categorical predictors, and observations in your dataset(s). If you are using multiple datasets, please provide the information for each dataset. When counting predictors, count only those that have sufficient non-missing values, and will be useful.\n",
    "\n",
    "*(1 point)*"
   ]
  },
  {
   "cell_type": "markdown",
   "id": "095f63e0",
   "metadata": {},
   "source": [
    "There are 11 total predictors in this dataset: **10 predictors are continuous** and **one predictor is categorical**. There are **6,497 total observations** in this dataset, and each observation erepresents a different wine sample. "
   ]
  },
  {
   "cell_type": "markdown",
   "id": "0450286f",
   "metadata": {},
   "source": [
    "# 7) Exisiting solutions\n",
    "Are there existing solutions of your problem? Almost all Kaggle datasets have exisiting solutions. If yes, then how do you plan to build up on those solutions? **What is the highest model accuracy / performance achieved in the existing solutions?**\n",
    "\n",
    "*(1 point)*\n",
    "\n",
    "There are several existing solutions for our problem, as we are using an established data set from the UCI Machine Learning Library (a well known website housing data resources). There are 1408 dataset notebooks on kaggle of various qualities and completeness that use this data set in some regard. The highest accuracy a published Kaggle notebook has achieved when using this dataset to predict wine quality is 91% (using Random Forest modeling methods). \n",
    "\n",
    "We plan to improve upon existing solutions by implementing ensemble modeling with 8 additional modeling methods (including MARS, decision tree with cost-complexity pruning, bagging, Random Forests, AdaBoosts, gradient boosting, XGBoost, and Lasso/Ridge/Stepwise selection methods) Existing solutions on Kaggle largely address this problem using a single modeling method. By implementing ensemble modeling and leveraging different modeling methods, we are confident that our model will outperform existing Kaggle solutions."
   ]
  },
  {
   "cell_type": "markdown",
   "id": "cb8a845f",
   "metadata": {},
   "source": [
    "# 8) Stakeholders"
   ]
  },
  {
   "cell_type": "markdown",
   "id": "d39c782c",
   "metadata": {},
   "source": [
    "Who are the stakeholders, and how will your project benefit them? Explain.\n",
    "\n",
    "*(1 point)*"
   ]
  },
  {
   "cell_type": "markdown",
   "id": "0c874b4f",
   "metadata": {},
   "source": [
    "# 9) Work-split\n",
    "*(This question is answered for you)*\n",
    "\n",
    "How do you plan to split the project work amongst individual team members?\n",
    "\n",
    "We will learn to develop and tune the following models in the STAT303 sequence:\n",
    "\n",
    "1. MARS\n",
    "\n",
    "2. Decision trees with cost-complexity pruning\n",
    "\n",
    "3. Bagging (Bagging MARS / decision trees)\n",
    "\n",
    "4. Random Forests\n",
    "\n",
    "5. AdaBoost\n",
    "\n",
    "6. Gradient boosting\n",
    "\n",
    "7. XGBoost\n",
    "\n",
    "8. Lasso / Ridge / Stepwise selection \n",
    "\n",
    "Each team member is required to develop and tune at least one of the above models. In the end, the team will combine all the developed models to create a model more accurate than each of the individual models.\n",
    "\n",
    "*(0 points)*\n",
    "\n",
    "We will all participate in exploratory data analysis to identify salient predictors for our models. We will divide the modeling processes as follows:\n",
    "\n",
    "1. MARS - **Lila**\n",
    "\n",
    "2. Decision trees with cost-complexity pruning - **Kaitlyn**\n",
    "\n",
    "3. Bagging (Bagging MARS / decision trees) - **Lila**\n",
    "\n",
    "4. Random Forests - **Amy**\n",
    "\n",
    "5. AdaBoost - **Kaitlyn**\n",
    "\n",
    "6. Gradient boosting - **Anastasia**\n",
    "\n",
    "7. XGBoost - **Amy**\n",
    "\n",
    "8. Lasso / Ridge / Stepwise selection - **Anastasia**"
   ]
  },
  {
   "cell_type": "markdown",
   "id": "4a5689d2",
   "metadata": {},
   "source": []
  }
 ],
 "metadata": {
  "kernelspec": {
   "display_name": "Python 3 (ipykernel)",
   "language": "python",
   "name": "python3"
  },
  "language_info": {
   "codemirror_mode": {
    "name": "ipython",
    "version": 3
   },
   "file_extension": ".py",
   "mimetype": "text/x-python",
   "name": "python",
   "nbconvert_exporter": "python",
   "pygments_lexer": "ipython3",
   "version": "3.10.10"
  },
  "varInspector": {
   "cols": {
    "lenName": 16,
    "lenType": 16,
    "lenVar": 40
   },
   "kernels_config": {
    "python": {
     "delete_cmd_postfix": "",
     "delete_cmd_prefix": "del ",
     "library": "var_list.py",
     "varRefreshCmd": "print(var_dic_list())"
    },
    "r": {
     "delete_cmd_postfix": ") ",
     "delete_cmd_prefix": "rm(",
     "library": "var_list.r",
     "varRefreshCmd": "cat(var_dic_list()) "
    }
   },
   "types_to_exclude": [
    "module",
    "function",
    "builtin_function_or_method",
    "instance",
    "_Feature"
   ],
   "window_display": false
  }
 },
 "nbformat": 4,
 "nbformat_minor": 5
}
