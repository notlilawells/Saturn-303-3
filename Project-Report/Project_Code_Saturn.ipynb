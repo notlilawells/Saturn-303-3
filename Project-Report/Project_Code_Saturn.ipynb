{
 "cells": [
  {
   "cell_type": "code",
   "execution_count": 9,
   "id": "qoe1RABix95y",
   "metadata": {
    "id": "qoe1RABix95y"
   },
   "outputs": [],
   "source": [
    "%%capture\n",
    "!pip install catboost"
   ]
  },
  {
   "cell_type": "code",
   "execution_count": 10,
   "id": "IQFxCk7Nu-My",
   "metadata": {
    "id": "IQFxCk7Nu-My"
   },
   "outputs": [],
   "source": [
    "import pandas as pd\n",
    "import numpy as np\n",
    "import seaborn as sns\n",
    "import matplotlib.pyplot as plt\n",
    "from sklearn.metrics import mean_squared_error\n",
    "from sklearn.linear_model import LinearRegression, Lasso, LassoCV, LogisticRegression, LogisticRegression\n",
    "from sklearn.linear_model import Ridge, RidgeCV\n",
    "from sklearn.tree import DecisionTreeRegressor\n",
    "from sklearn.model_selection import KFold, cross_val_score,train_test_split, GridSearchCV, ParameterGrid, StratifiedKFold, RandomizedSearchCV\n",
    "from sklearn.ensemble import VotingRegressor, GradientBoostingRegressor, BaggingRegressor, RandomForestRegressor ,AdaBoostRegressor\n",
    "import itertools as it\n",
    "import time as time\n",
    "from xgboost import XGBRegressor\n",
    "from lightgbm import LGBMRegressor\n",
    "from catboost import CatBoostRegressor\n",
    "from pyearth import Earth"
   ]
  },
  {
   "cell_type": "code",
   "execution_count": 42,
   "id": "21flZcHHu8Rq",
   "metadata": {
    "id": "21flZcHHu8Rq"
   },
   "outputs": [],
   "source": [
    "X_train = pd.read_csv(\"X_train.csv\")\n",
    "y_train = pd.read_csv(\"y_train.csv\")\n",
    "X_test = pd.read_csv(\"X_test.csv\")\n",
    "y_test = pd.read_csv(\"y_test.csv\")"
   ]
  },
  {
   "cell_type": "raw",
   "id": "33dd6c4c",
   "metadata": {
    "id": "33dd6c4c"
   },
   "source": [
    "---\n",
    "title: \"Project Code\"\n",
    "subtitle: Team name\n",
    "author: Author 1, Author 2, Author 3, and Author 4 \n",
    "date: 05/23/2023\n",
    "number-sections: true\n",
    "abstract: _This file contains the code for the project on <>, as part of the STAT303-3 course in Spring 2023_.\n",
    "format: \n",
    "  html:\n",
    "    toc: true\n",
    "    toc-title: Contents\n",
    "    self-contained: true\n",
    "    font-size: 100%\n",
    "    toc-depth: 4\n",
    "    mainfont: serif\n",
    "jupyter: python3\n",
    "---"
   ]
  },
  {
   "cell_type": "markdown",
   "id": "aba5ee91",
   "metadata": {
    "id": "aba5ee91"
   },
   "source": [
    "## Length of the code {-}\n",
    "No restriction\n",
    "\n",
    "**Delete this section from the report, when using this template.** "
   ]
  },
  {
   "cell_type": "markdown",
   "id": "fe7ea9bb",
   "metadata": {
    "id": "fe7ea9bb"
   },
   "source": [
    "## Data quality check / cleaning / preparation \n",
    "\n",
    "Put code with comments. The comments should explain the code such that it can be easily understood. You may put text *(in a markdown cell)* before a large chunk of code to explain the overall purpose of the code, if it is not intuitive. **Put the name of the person / persons who contributed to each code chunk / set of code chunks.** An example is given below."
   ]
  },
  {
   "cell_type": "markdown",
   "id": "1a3cb57b",
   "metadata": {
    "id": "1a3cb57b"
   },
   "source": [
    "### Data cleaning\n",
    "*By Anastasia Wei*"
   ]
  },
  {
   "cell_type": "code",
   "execution_count": null,
   "id": "d009329f",
   "metadata": {
    "id": "d009329f",
    "outputId": "105d1e4a-c565-4bfd-cf35-c3ffbc738eac"
   },
   "outputs": [
    {
     "data": {
      "text/html": [
       "<div>\n",
       "<style scoped>\n",
       "    .dataframe tbody tr th:only-of-type {\n",
       "        vertical-align: middle;\n",
       "    }\n",
       "\n",
       "    .dataframe tbody tr th {\n",
       "        vertical-align: top;\n",
       "    }\n",
       "\n",
       "    .dataframe thead th {\n",
       "        text-align: right;\n",
       "    }\n",
       "</style>\n",
       "<table border=\"1\" class=\"dataframe\">\n",
       "  <thead>\n",
       "    <tr style=\"text-align: right;\">\n",
       "      <th></th>\n",
       "      <th>fixed acidity</th>\n",
       "      <th>volatile acidity</th>\n",
       "      <th>citric acid</th>\n",
       "      <th>residual sugar</th>\n",
       "      <th>chlorides</th>\n",
       "      <th>free sulfur dioxide</th>\n",
       "      <th>total sulfur dioxide</th>\n",
       "      <th>density</th>\n",
       "      <th>pH</th>\n",
       "      <th>sulphates</th>\n",
       "      <th>alcohol</th>\n",
       "      <th>quality</th>\n",
       "      <th>type</th>\n",
       "    </tr>\n",
       "  </thead>\n",
       "  <tbody>\n",
       "    <tr>\n",
       "      <th>0</th>\n",
       "      <td>7.4</td>\n",
       "      <td>0.70</td>\n",
       "      <td>0.00</td>\n",
       "      <td>1.9</td>\n",
       "      <td>0.076</td>\n",
       "      <td>11.0</td>\n",
       "      <td>34.0</td>\n",
       "      <td>0.9978</td>\n",
       "      <td>3.51</td>\n",
       "      <td>0.56</td>\n",
       "      <td>9.4</td>\n",
       "      <td>5</td>\n",
       "      <td>red</td>\n",
       "    </tr>\n",
       "    <tr>\n",
       "      <th>1</th>\n",
       "      <td>7.8</td>\n",
       "      <td>0.88</td>\n",
       "      <td>0.00</td>\n",
       "      <td>2.6</td>\n",
       "      <td>0.098</td>\n",
       "      <td>25.0</td>\n",
       "      <td>67.0</td>\n",
       "      <td>0.9968</td>\n",
       "      <td>3.20</td>\n",
       "      <td>0.68</td>\n",
       "      <td>9.8</td>\n",
       "      <td>5</td>\n",
       "      <td>red</td>\n",
       "    </tr>\n",
       "    <tr>\n",
       "      <th>2</th>\n",
       "      <td>7.8</td>\n",
       "      <td>0.76</td>\n",
       "      <td>0.04</td>\n",
       "      <td>2.3</td>\n",
       "      <td>0.092</td>\n",
       "      <td>15.0</td>\n",
       "      <td>54.0</td>\n",
       "      <td>0.9970</td>\n",
       "      <td>3.26</td>\n",
       "      <td>0.65</td>\n",
       "      <td>9.8</td>\n",
       "      <td>5</td>\n",
       "      <td>red</td>\n",
       "    </tr>\n",
       "    <tr>\n",
       "      <th>3</th>\n",
       "      <td>11.2</td>\n",
       "      <td>0.28</td>\n",
       "      <td>0.56</td>\n",
       "      <td>1.9</td>\n",
       "      <td>0.075</td>\n",
       "      <td>17.0</td>\n",
       "      <td>60.0</td>\n",
       "      <td>0.9980</td>\n",
       "      <td>3.16</td>\n",
       "      <td>0.58</td>\n",
       "      <td>9.8</td>\n",
       "      <td>6</td>\n",
       "      <td>red</td>\n",
       "    </tr>\n",
       "    <tr>\n",
       "      <th>4</th>\n",
       "      <td>7.4</td>\n",
       "      <td>0.70</td>\n",
       "      <td>0.00</td>\n",
       "      <td>1.9</td>\n",
       "      <td>0.076</td>\n",
       "      <td>11.0</td>\n",
       "      <td>34.0</td>\n",
       "      <td>0.9978</td>\n",
       "      <td>3.51</td>\n",
       "      <td>0.56</td>\n",
       "      <td>9.4</td>\n",
       "      <td>5</td>\n",
       "      <td>red</td>\n",
       "    </tr>\n",
       "  </tbody>\n",
       "</table>\n",
       "</div>"
      ],
      "text/plain": [
       "   fixed acidity  volatile acidity  citric acid  residual sugar  chlorides  \\\n",
       "0            7.4              0.70         0.00             1.9      0.076   \n",
       "1            7.8              0.88         0.00             2.6      0.098   \n",
       "2            7.8              0.76         0.04             2.3      0.092   \n",
       "3           11.2              0.28         0.56             1.9      0.075   \n",
       "4            7.4              0.70         0.00             1.9      0.076   \n",
       "\n",
       "   free sulfur dioxide  total sulfur dioxide  density    pH  sulphates  \\\n",
       "0                 11.0                  34.0   0.9978  3.51       0.56   \n",
       "1                 25.0                  67.0   0.9968  3.20       0.68   \n",
       "2                 15.0                  54.0   0.9970  3.26       0.65   \n",
       "3                 17.0                  60.0   0.9980  3.16       0.58   \n",
       "4                 11.0                  34.0   0.9978  3.51       0.56   \n",
       "\n",
       "   alcohol  quality type  \n",
       "0      9.4        5  red  \n",
       "1      9.8        5  red  \n",
       "2      9.8        5  red  \n",
       "3      9.8        6  red  \n",
       "4      9.4        5  red  "
      ]
     },
     "execution_count": 5,
     "metadata": {},
     "output_type": "execute_result"
    }
   ],
   "source": [
    "# read in the red and white wine files\n",
    "red = pd.read_csv('Data/winequality-red.csv', delimiter = \";\")\n",
    "white = pd.read_csv('Data/winequality-white.csv', delimiter = \";\")\n",
    "red['type'] = 'red'\n",
    "white['type'] = 'white'\n",
    "\n",
    "# combine the red and white wine data\n",
    "all_df = pd.concat([red, white], ignore_index = True)\n",
    "all_df.head()"
   ]
  },
  {
   "cell_type": "markdown",
   "id": "371a5a4a",
   "metadata": {
    "id": "371a5a4a"
   },
   "source": [
    "### Distribution of response\n",
    "*By Anastasia Wei*"
   ]
  },
  {
   "cell_type": "code",
   "execution_count": null,
   "id": "b868f6b5",
   "metadata": {
    "id": "b868f6b5",
    "outputId": "a9b20c53-cc1e-4e0f-aa3e-31228dae47be"
   },
   "outputs": [
    {
     "name": "stdout",
     "output_type": "stream",
     "text": [
      "Response mean = 5.818377712790519\n",
      "Response standard deviation = 0.8731880644450432\n"
     ]
    }
   ],
   "source": [
    "# Mean and standard deviation of response\n",
    "print('Response mean =', np.average(all_df.quality))\n",
    "print('Response standard deviation =', np.std(all_df.quality))"
   ]
  },
  {
   "cell_type": "code",
   "execution_count": null,
   "id": "73025ab1",
   "metadata": {
    "id": "73025ab1",
    "outputId": "02e10f57-0adf-4033-e60a-96a4b238b55d",
    "scrolled": false
   },
   "outputs": [
    {
     "data": {
      "application/javascript": [
       "/* Put everything inside the global mpl namespace */\n",
       "/* global mpl */\n",
       "window.mpl = {};\n",
       "\n",
       "mpl.get_websocket_type = function () {\n",
       "    if (typeof WebSocket !== 'undefined') {\n",
       "        return WebSocket;\n",
       "    } else if (typeof MozWebSocket !== 'undefined') {\n",
       "        return MozWebSocket;\n",
       "    } else {\n",
       "        alert(\n",
       "            'Your browser does not have WebSocket support. ' +\n",
       "                'Please try Chrome, Safari or Firefox ≥ 6. ' +\n",
       "                'Firefox 4 and 5 are also supported but you ' +\n",
       "                'have to enable WebSockets in about:config.'\n",
       "        );\n",
       "    }\n",
       "};\n",
       "\n",
       "mpl.figure = function (figure_id, websocket, ondownload, parent_element) {\n",
       "    this.id = figure_id;\n",
       "\n",
       "    this.ws = websocket;\n",
       "\n",
       "    this.supports_binary = this.ws.binaryType !== undefined;\n",
       "\n",
       "    if (!this.supports_binary) {\n",
       "        var warnings = document.getElementById('mpl-warnings');\n",
       "        if (warnings) {\n",
       "            warnings.style.display = 'block';\n",
       "            warnings.textContent =\n",
       "                'This browser does not support binary websocket messages. ' +\n",
       "                'Performance may be slow.';\n",
       "        }\n",
       "    }\n",
       "\n",
       "    this.imageObj = new Image();\n",
       "\n",
       "    this.context = undefined;\n",
       "    this.message = undefined;\n",
       "    this.canvas = undefined;\n",
       "    this.rubberband_canvas = undefined;\n",
       "    this.rubberband_context = undefined;\n",
       "    this.format_dropdown = undefined;\n",
       "\n",
       "    this.image_mode = 'full';\n",
       "\n",
       "    this.root = document.createElement('div');\n",
       "    this.root.setAttribute('style', 'display: inline-block');\n",
       "    this._root_extra_style(this.root);\n",
       "\n",
       "    parent_element.appendChild(this.root);\n",
       "\n",
       "    this._init_header(this);\n",
       "    this._init_canvas(this);\n",
       "    this._init_toolbar(this);\n",
       "\n",
       "    var fig = this;\n",
       "\n",
       "    this.waiting = false;\n",
       "\n",
       "    this.ws.onopen = function () {\n",
       "        fig.send_message('supports_binary', { value: fig.supports_binary });\n",
       "        fig.send_message('send_image_mode', {});\n",
       "        if (fig.ratio !== 1) {\n",
       "            fig.send_message('set_dpi_ratio', { dpi_ratio: fig.ratio });\n",
       "        }\n",
       "        fig.send_message('refresh', {});\n",
       "    };\n",
       "\n",
       "    this.imageObj.onload = function () {\n",
       "        if (fig.image_mode === 'full') {\n",
       "            // Full images could contain transparency (where diff images\n",
       "            // almost always do), so we need to clear the canvas so that\n",
       "            // there is no ghosting.\n",
       "            fig.context.clearRect(0, 0, fig.canvas.width, fig.canvas.height);\n",
       "        }\n",
       "        fig.context.drawImage(fig.imageObj, 0, 0);\n",
       "    };\n",
       "\n",
       "    this.imageObj.onunload = function () {\n",
       "        fig.ws.close();\n",
       "    };\n",
       "\n",
       "    this.ws.onmessage = this._make_on_message_function(this);\n",
       "\n",
       "    this.ondownload = ondownload;\n",
       "};\n",
       "\n",
       "mpl.figure.prototype._init_header = function () {\n",
       "    var titlebar = document.createElement('div');\n",
       "    titlebar.classList =\n",
       "        'ui-dialog-titlebar ui-widget-header ui-corner-all ui-helper-clearfix';\n",
       "    var titletext = document.createElement('div');\n",
       "    titletext.classList = 'ui-dialog-title';\n",
       "    titletext.setAttribute(\n",
       "        'style',\n",
       "        'width: 100%; text-align: center; padding: 3px;'\n",
       "    );\n",
       "    titlebar.appendChild(titletext);\n",
       "    this.root.appendChild(titlebar);\n",
       "    this.header = titletext;\n",
       "};\n",
       "\n",
       "mpl.figure.prototype._canvas_extra_style = function (_canvas_div) {};\n",
       "\n",
       "mpl.figure.prototype._root_extra_style = function (_canvas_div) {};\n",
       "\n",
       "mpl.figure.prototype._init_canvas = function () {\n",
       "    var fig = this;\n",
       "\n",
       "    var canvas_div = (this.canvas_div = document.createElement('div'));\n",
       "    canvas_div.setAttribute(\n",
       "        'style',\n",
       "        'border: 1px solid #ddd;' +\n",
       "            'box-sizing: content-box;' +\n",
       "            'clear: both;' +\n",
       "            'min-height: 1px;' +\n",
       "            'min-width: 1px;' +\n",
       "            'outline: 0;' +\n",
       "            'overflow: hidden;' +\n",
       "            'position: relative;' +\n",
       "            'resize: both;'\n",
       "    );\n",
       "\n",
       "    function on_keyboard_event_closure(name) {\n",
       "        return function (event) {\n",
       "            return fig.key_event(event, name);\n",
       "        };\n",
       "    }\n",
       "\n",
       "    canvas_div.addEventListener(\n",
       "        'keydown',\n",
       "        on_keyboard_event_closure('key_press')\n",
       "    );\n",
       "    canvas_div.addEventListener(\n",
       "        'keyup',\n",
       "        on_keyboard_event_closure('key_release')\n",
       "    );\n",
       "\n",
       "    this._canvas_extra_style(canvas_div);\n",
       "    this.root.appendChild(canvas_div);\n",
       "\n",
       "    var canvas = (this.canvas = document.createElement('canvas'));\n",
       "    canvas.classList.add('mpl-canvas');\n",
       "    canvas.setAttribute('style', 'box-sizing: content-box;');\n",
       "\n",
       "    this.context = canvas.getContext('2d');\n",
       "\n",
       "    var backingStore =\n",
       "        this.context.backingStorePixelRatio ||\n",
       "        this.context.webkitBackingStorePixelRatio ||\n",
       "        this.context.mozBackingStorePixelRatio ||\n",
       "        this.context.msBackingStorePixelRatio ||\n",
       "        this.context.oBackingStorePixelRatio ||\n",
       "        this.context.backingStorePixelRatio ||\n",
       "        1;\n",
       "\n",
       "    this.ratio = (window.devicePixelRatio || 1) / backingStore;\n",
       "\n",
       "    var rubberband_canvas = (this.rubberband_canvas = document.createElement(\n",
       "        'canvas'\n",
       "    ));\n",
       "    rubberband_canvas.setAttribute(\n",
       "        'style',\n",
       "        'box-sizing: content-box; position: absolute; left: 0; top: 0; z-index: 1;'\n",
       "    );\n",
       "\n",
       "    // Apply a ponyfill if ResizeObserver is not implemented by browser.\n",
       "    if (this.ResizeObserver === undefined) {\n",
       "        if (window.ResizeObserver !== undefined) {\n",
       "            this.ResizeObserver = window.ResizeObserver;\n",
       "        } else {\n",
       "            var obs = _JSXTOOLS_RESIZE_OBSERVER({});\n",
       "            this.ResizeObserver = obs.ResizeObserver;\n",
       "        }\n",
       "    }\n",
       "\n",
       "    this.resizeObserverInstance = new this.ResizeObserver(function (entries) {\n",
       "        var nentries = entries.length;\n",
       "        for (var i = 0; i < nentries; i++) {\n",
       "            var entry = entries[i];\n",
       "            var width, height;\n",
       "            if (entry.contentBoxSize) {\n",
       "                if (entry.contentBoxSize instanceof Array) {\n",
       "                    // Chrome 84 implements new version of spec.\n",
       "                    width = entry.contentBoxSize[0].inlineSize;\n",
       "                    height = entry.contentBoxSize[0].blockSize;\n",
       "                } else {\n",
       "                    // Firefox implements old version of spec.\n",
       "                    width = entry.contentBoxSize.inlineSize;\n",
       "                    height = entry.contentBoxSize.blockSize;\n",
       "                }\n",
       "            } else {\n",
       "                // Chrome <84 implements even older version of spec.\n",
       "                width = entry.contentRect.width;\n",
       "                height = entry.contentRect.height;\n",
       "            }\n",
       "\n",
       "            // Keep the size of the canvas and rubber band canvas in sync with\n",
       "            // the canvas container.\n",
       "            if (entry.devicePixelContentBoxSize) {\n",
       "                // Chrome 84 implements new version of spec.\n",
       "                canvas.setAttribute(\n",
       "                    'width',\n",
       "                    entry.devicePixelContentBoxSize[0].inlineSize\n",
       "                );\n",
       "                canvas.setAttribute(\n",
       "                    'height',\n",
       "                    entry.devicePixelContentBoxSize[0].blockSize\n",
       "                );\n",
       "            } else {\n",
       "                canvas.setAttribute('width', width * fig.ratio);\n",
       "                canvas.setAttribute('height', height * fig.ratio);\n",
       "            }\n",
       "            canvas.setAttribute(\n",
       "                'style',\n",
       "                'width: ' + width + 'px; height: ' + height + 'px;'\n",
       "            );\n",
       "\n",
       "            rubberband_canvas.setAttribute('width', width);\n",
       "            rubberband_canvas.setAttribute('height', height);\n",
       "\n",
       "            // And update the size in Python. We ignore the initial 0/0 size\n",
       "            // that occurs as the element is placed into the DOM, which should\n",
       "            // otherwise not happen due to the minimum size styling.\n",
       "            if (fig.ws.readyState == 1 && width != 0 && height != 0) {\n",
       "                fig.request_resize(width, height);\n",
       "            }\n",
       "        }\n",
       "    });\n",
       "    this.resizeObserverInstance.observe(canvas_div);\n",
       "\n",
       "    function on_mouse_event_closure(name) {\n",
       "        return function (event) {\n",
       "            return fig.mouse_event(event, name);\n",
       "        };\n",
       "    }\n",
       "\n",
       "    rubberband_canvas.addEventListener(\n",
       "        'mousedown',\n",
       "        on_mouse_event_closure('button_press')\n",
       "    );\n",
       "    rubberband_canvas.addEventListener(\n",
       "        'mouseup',\n",
       "        on_mouse_event_closure('button_release')\n",
       "    );\n",
       "    // Throttle sequential mouse events to 1 every 20ms.\n",
       "    rubberband_canvas.addEventListener(\n",
       "        'mousemove',\n",
       "        on_mouse_event_closure('motion_notify')\n",
       "    );\n",
       "\n",
       "    rubberband_canvas.addEventListener(\n",
       "        'mouseenter',\n",
       "        on_mouse_event_closure('figure_enter')\n",
       "    );\n",
       "    rubberband_canvas.addEventListener(\n",
       "        'mouseleave',\n",
       "        on_mouse_event_closure('figure_leave')\n",
       "    );\n",
       "\n",
       "    canvas_div.addEventListener('wheel', function (event) {\n",
       "        if (event.deltaY < 0) {\n",
       "            event.step = 1;\n",
       "        } else {\n",
       "            event.step = -1;\n",
       "        }\n",
       "        on_mouse_event_closure('scroll')(event);\n",
       "    });\n",
       "\n",
       "    canvas_div.appendChild(canvas);\n",
       "    canvas_div.appendChild(rubberband_canvas);\n",
       "\n",
       "    this.rubberband_context = rubberband_canvas.getContext('2d');\n",
       "    this.rubberband_context.strokeStyle = '#000000';\n",
       "\n",
       "    this._resize_canvas = function (width, height, forward) {\n",
       "        if (forward) {\n",
       "            canvas_div.style.width = width + 'px';\n",
       "            canvas_div.style.height = height + 'px';\n",
       "        }\n",
       "    };\n",
       "\n",
       "    // Disable right mouse context menu.\n",
       "    this.rubberband_canvas.addEventListener('contextmenu', function (_e) {\n",
       "        event.preventDefault();\n",
       "        return false;\n",
       "    });\n",
       "\n",
       "    function set_focus() {\n",
       "        canvas.focus();\n",
       "        canvas_div.focus();\n",
       "    }\n",
       "\n",
       "    window.setTimeout(set_focus, 100);\n",
       "};\n",
       "\n",
       "mpl.figure.prototype._init_toolbar = function () {\n",
       "    var fig = this;\n",
       "\n",
       "    var toolbar = document.createElement('div');\n",
       "    toolbar.classList = 'mpl-toolbar';\n",
       "    this.root.appendChild(toolbar);\n",
       "\n",
       "    function on_click_closure(name) {\n",
       "        return function (_event) {\n",
       "            return fig.toolbar_button_onclick(name);\n",
       "        };\n",
       "    }\n",
       "\n",
       "    function on_mouseover_closure(tooltip) {\n",
       "        return function (event) {\n",
       "            if (!event.currentTarget.disabled) {\n",
       "                return fig.toolbar_button_onmouseover(tooltip);\n",
       "            }\n",
       "        };\n",
       "    }\n",
       "\n",
       "    fig.buttons = {};\n",
       "    var buttonGroup = document.createElement('div');\n",
       "    buttonGroup.classList = 'mpl-button-group';\n",
       "    for (var toolbar_ind in mpl.toolbar_items) {\n",
       "        var name = mpl.toolbar_items[toolbar_ind][0];\n",
       "        var tooltip = mpl.toolbar_items[toolbar_ind][1];\n",
       "        var image = mpl.toolbar_items[toolbar_ind][2];\n",
       "        var method_name = mpl.toolbar_items[toolbar_ind][3];\n",
       "\n",
       "        if (!name) {\n",
       "            /* Instead of a spacer, we start a new button group. */\n",
       "            if (buttonGroup.hasChildNodes()) {\n",
       "                toolbar.appendChild(buttonGroup);\n",
       "            }\n",
       "            buttonGroup = document.createElement('div');\n",
       "            buttonGroup.classList = 'mpl-button-group';\n",
       "            continue;\n",
       "        }\n",
       "\n",
       "        var button = (fig.buttons[name] = document.createElement('button'));\n",
       "        button.classList = 'mpl-widget';\n",
       "        button.setAttribute('role', 'button');\n",
       "        button.setAttribute('aria-disabled', 'false');\n",
       "        button.addEventListener('click', on_click_closure(method_name));\n",
       "        button.addEventListener('mouseover', on_mouseover_closure(tooltip));\n",
       "\n",
       "        var icon_img = document.createElement('img');\n",
       "        icon_img.src = '_images/' + image + '.png';\n",
       "        icon_img.srcset = '_images/' + image + '_large.png 2x';\n",
       "        icon_img.alt = tooltip;\n",
       "        button.appendChild(icon_img);\n",
       "\n",
       "        buttonGroup.appendChild(button);\n",
       "    }\n",
       "\n",
       "    if (buttonGroup.hasChildNodes()) {\n",
       "        toolbar.appendChild(buttonGroup);\n",
       "    }\n",
       "\n",
       "    var fmt_picker = document.createElement('select');\n",
       "    fmt_picker.classList = 'mpl-widget';\n",
       "    toolbar.appendChild(fmt_picker);\n",
       "    this.format_dropdown = fmt_picker;\n",
       "\n",
       "    for (var ind in mpl.extensions) {\n",
       "        var fmt = mpl.extensions[ind];\n",
       "        var option = document.createElement('option');\n",
       "        option.selected = fmt === mpl.default_extension;\n",
       "        option.innerHTML = fmt;\n",
       "        fmt_picker.appendChild(option);\n",
       "    }\n",
       "\n",
       "    var status_bar = document.createElement('span');\n",
       "    status_bar.classList = 'mpl-message';\n",
       "    toolbar.appendChild(status_bar);\n",
       "    this.message = status_bar;\n",
       "};\n",
       "\n",
       "mpl.figure.prototype.request_resize = function (x_pixels, y_pixels) {\n",
       "    // Request matplotlib to resize the figure. Matplotlib will then trigger a resize in the client,\n",
       "    // which will in turn request a refresh of the image.\n",
       "    this.send_message('resize', { width: x_pixels, height: y_pixels });\n",
       "};\n",
       "\n",
       "mpl.figure.prototype.send_message = function (type, properties) {\n",
       "    properties['type'] = type;\n",
       "    properties['figure_id'] = this.id;\n",
       "    this.ws.send(JSON.stringify(properties));\n",
       "};\n",
       "\n",
       "mpl.figure.prototype.send_draw_message = function () {\n",
       "    if (!this.waiting) {\n",
       "        this.waiting = true;\n",
       "        this.ws.send(JSON.stringify({ type: 'draw', figure_id: this.id }));\n",
       "    }\n",
       "};\n",
       "\n",
       "mpl.figure.prototype.handle_save = function (fig, _msg) {\n",
       "    var format_dropdown = fig.format_dropdown;\n",
       "    var format = format_dropdown.options[format_dropdown.selectedIndex].value;\n",
       "    fig.ondownload(fig, format);\n",
       "};\n",
       "\n",
       "mpl.figure.prototype.handle_resize = function (fig, msg) {\n",
       "    var size = msg['size'];\n",
       "    if (size[0] !== fig.canvas.width || size[1] !== fig.canvas.height) {\n",
       "        fig._resize_canvas(size[0], size[1], msg['forward']);\n",
       "        fig.send_message('refresh', {});\n",
       "    }\n",
       "};\n",
       "\n",
       "mpl.figure.prototype.handle_rubberband = function (fig, msg) {\n",
       "    var x0 = msg['x0'] / fig.ratio;\n",
       "    var y0 = (fig.canvas.height - msg['y0']) / fig.ratio;\n",
       "    var x1 = msg['x1'] / fig.ratio;\n",
       "    var y1 = (fig.canvas.height - msg['y1']) / fig.ratio;\n",
       "    x0 = Math.floor(x0) + 0.5;\n",
       "    y0 = Math.floor(y0) + 0.5;\n",
       "    x1 = Math.floor(x1) + 0.5;\n",
       "    y1 = Math.floor(y1) + 0.5;\n",
       "    var min_x = Math.min(x0, x1);\n",
       "    var min_y = Math.min(y0, y1);\n",
       "    var width = Math.abs(x1 - x0);\n",
       "    var height = Math.abs(y1 - y0);\n",
       "\n",
       "    fig.rubberband_context.clearRect(\n",
       "        0,\n",
       "        0,\n",
       "        fig.canvas.width / fig.ratio,\n",
       "        fig.canvas.height / fig.ratio\n",
       "    );\n",
       "\n",
       "    fig.rubberband_context.strokeRect(min_x, min_y, width, height);\n",
       "};\n",
       "\n",
       "mpl.figure.prototype.handle_figure_label = function (fig, msg) {\n",
       "    // Updates the figure title.\n",
       "    fig.header.textContent = msg['label'];\n",
       "};\n",
       "\n",
       "mpl.figure.prototype.handle_cursor = function (fig, msg) {\n",
       "    var cursor = msg['cursor'];\n",
       "    switch (cursor) {\n",
       "        case 0:\n",
       "            cursor = 'pointer';\n",
       "            break;\n",
       "        case 1:\n",
       "            cursor = 'default';\n",
       "            break;\n",
       "        case 2:\n",
       "            cursor = 'crosshair';\n",
       "            break;\n",
       "        case 3:\n",
       "            cursor = 'move';\n",
       "            break;\n",
       "    }\n",
       "    fig.rubberband_canvas.style.cursor = cursor;\n",
       "};\n",
       "\n",
       "mpl.figure.prototype.handle_message = function (fig, msg) {\n",
       "    fig.message.textContent = msg['message'];\n",
       "};\n",
       "\n",
       "mpl.figure.prototype.handle_draw = function (fig, _msg) {\n",
       "    // Request the server to send over a new figure.\n",
       "    fig.send_draw_message();\n",
       "};\n",
       "\n",
       "mpl.figure.prototype.handle_image_mode = function (fig, msg) {\n",
       "    fig.image_mode = msg['mode'];\n",
       "};\n",
       "\n",
       "mpl.figure.prototype.handle_history_buttons = function (fig, msg) {\n",
       "    for (var key in msg) {\n",
       "        if (!(key in fig.buttons)) {\n",
       "            continue;\n",
       "        }\n",
       "        fig.buttons[key].disabled = !msg[key];\n",
       "        fig.buttons[key].setAttribute('aria-disabled', !msg[key]);\n",
       "    }\n",
       "};\n",
       "\n",
       "mpl.figure.prototype.handle_navigate_mode = function (fig, msg) {\n",
       "    if (msg['mode'] === 'PAN') {\n",
       "        fig.buttons['Pan'].classList.add('active');\n",
       "        fig.buttons['Zoom'].classList.remove('active');\n",
       "    } else if (msg['mode'] === 'ZOOM') {\n",
       "        fig.buttons['Pan'].classList.remove('active');\n",
       "        fig.buttons['Zoom'].classList.add('active');\n",
       "    } else {\n",
       "        fig.buttons['Pan'].classList.remove('active');\n",
       "        fig.buttons['Zoom'].classList.remove('active');\n",
       "    }\n",
       "};\n",
       "\n",
       "mpl.figure.prototype.updated_canvas_event = function () {\n",
       "    // Called whenever the canvas gets updated.\n",
       "    this.send_message('ack', {});\n",
       "};\n",
       "\n",
       "// A function to construct a web socket function for onmessage handling.\n",
       "// Called in the figure constructor.\n",
       "mpl.figure.prototype._make_on_message_function = function (fig) {\n",
       "    return function socket_on_message(evt) {\n",
       "        if (evt.data instanceof Blob) {\n",
       "            /* FIXME: We get \"Resource interpreted as Image but\n",
       "             * transferred with MIME type text/plain:\" errors on\n",
       "             * Chrome.  But how to set the MIME type?  It doesn't seem\n",
       "             * to be part of the websocket stream */\n",
       "            evt.data.type = 'image/png';\n",
       "\n",
       "            /* Free the memory for the previous frames */\n",
       "            if (fig.imageObj.src) {\n",
       "                (window.URL || window.webkitURL).revokeObjectURL(\n",
       "                    fig.imageObj.src\n",
       "                );\n",
       "            }\n",
       "\n",
       "            fig.imageObj.src = (window.URL || window.webkitURL).createObjectURL(\n",
       "                evt.data\n",
       "            );\n",
       "            fig.updated_canvas_event();\n",
       "            fig.waiting = false;\n",
       "            return;\n",
       "        } else if (\n",
       "            typeof evt.data === 'string' &&\n",
       "            evt.data.slice(0, 21) === 'data:image/png;base64'\n",
       "        ) {\n",
       "            fig.imageObj.src = evt.data;\n",
       "            fig.updated_canvas_event();\n",
       "            fig.waiting = false;\n",
       "            return;\n",
       "        }\n",
       "\n",
       "        var msg = JSON.parse(evt.data);\n",
       "        var msg_type = msg['type'];\n",
       "\n",
       "        // Call the  \"handle_{type}\" callback, which takes\n",
       "        // the figure and JSON message as its only arguments.\n",
       "        try {\n",
       "            var callback = fig['handle_' + msg_type];\n",
       "        } catch (e) {\n",
       "            console.log(\n",
       "                \"No handler for the '\" + msg_type + \"' message type: \",\n",
       "                msg\n",
       "            );\n",
       "            return;\n",
       "        }\n",
       "\n",
       "        if (callback) {\n",
       "            try {\n",
       "                // console.log(\"Handling '\" + msg_type + \"' message: \", msg);\n",
       "                callback(fig, msg);\n",
       "            } catch (e) {\n",
       "                console.log(\n",
       "                    \"Exception inside the 'handler_\" + msg_type + \"' callback:\",\n",
       "                    e,\n",
       "                    e.stack,\n",
       "                    msg\n",
       "                );\n",
       "            }\n",
       "        }\n",
       "    };\n",
       "};\n",
       "\n",
       "// from http://stackoverflow.com/questions/1114465/getting-mouse-location-in-canvas\n",
       "mpl.findpos = function (e) {\n",
       "    //this section is from http://www.quirksmode.org/js/events_properties.html\n",
       "    var targ;\n",
       "    if (!e) {\n",
       "        e = window.event;\n",
       "    }\n",
       "    if (e.target) {\n",
       "        targ = e.target;\n",
       "    } else if (e.srcElement) {\n",
       "        targ = e.srcElement;\n",
       "    }\n",
       "    if (targ.nodeType === 3) {\n",
       "        // defeat Safari bug\n",
       "        targ = targ.parentNode;\n",
       "    }\n",
       "\n",
       "    // pageX,Y are the mouse positions relative to the document\n",
       "    var boundingRect = targ.getBoundingClientRect();\n",
       "    var x = e.pageX - (boundingRect.left + document.body.scrollLeft);\n",
       "    var y = e.pageY - (boundingRect.top + document.body.scrollTop);\n",
       "\n",
       "    return { x: x, y: y };\n",
       "};\n",
       "\n",
       "/*\n",
       " * return a copy of an object with only non-object keys\n",
       " * we need this to avoid circular references\n",
       " * http://stackoverflow.com/a/24161582/3208463\n",
       " */\n",
       "function simpleKeys(original) {\n",
       "    return Object.keys(original).reduce(function (obj, key) {\n",
       "        if (typeof original[key] !== 'object') {\n",
       "            obj[key] = original[key];\n",
       "        }\n",
       "        return obj;\n",
       "    }, {});\n",
       "}\n",
       "\n",
       "mpl.figure.prototype.mouse_event = function (event, name) {\n",
       "    var canvas_pos = mpl.findpos(event);\n",
       "\n",
       "    if (name === 'button_press') {\n",
       "        this.canvas.focus();\n",
       "        this.canvas_div.focus();\n",
       "    }\n",
       "\n",
       "    var x = canvas_pos.x * this.ratio;\n",
       "    var y = canvas_pos.y * this.ratio;\n",
       "\n",
       "    this.send_message(name, {\n",
       "        x: x,\n",
       "        y: y,\n",
       "        button: event.button,\n",
       "        step: event.step,\n",
       "        guiEvent: simpleKeys(event),\n",
       "    });\n",
       "\n",
       "    /* This prevents the web browser from automatically changing to\n",
       "     * the text insertion cursor when the button is pressed.  We want\n",
       "     * to control all of the cursor setting manually through the\n",
       "     * 'cursor' event from matplotlib */\n",
       "    event.preventDefault();\n",
       "    return false;\n",
       "};\n",
       "\n",
       "mpl.figure.prototype._key_event_extra = function (_event, _name) {\n",
       "    // Handle any extra behaviour associated with a key event\n",
       "};\n",
       "\n",
       "mpl.figure.prototype.key_event = function (event, name) {\n",
       "    // Prevent repeat events\n",
       "    if (name === 'key_press') {\n",
       "        if (event.which === this._key) {\n",
       "            return;\n",
       "        } else {\n",
       "            this._key = event.which;\n",
       "        }\n",
       "    }\n",
       "    if (name === 'key_release') {\n",
       "        this._key = null;\n",
       "    }\n",
       "\n",
       "    var value = '';\n",
       "    if (event.ctrlKey && event.which !== 17) {\n",
       "        value += 'ctrl+';\n",
       "    }\n",
       "    if (event.altKey && event.which !== 18) {\n",
       "        value += 'alt+';\n",
       "    }\n",
       "    if (event.shiftKey && event.which !== 16) {\n",
       "        value += 'shift+';\n",
       "    }\n",
       "\n",
       "    value += 'k';\n",
       "    value += event.which.toString();\n",
       "\n",
       "    this._key_event_extra(event, name);\n",
       "\n",
       "    this.send_message(name, { key: value, guiEvent: simpleKeys(event) });\n",
       "    return false;\n",
       "};\n",
       "\n",
       "mpl.figure.prototype.toolbar_button_onclick = function (name) {\n",
       "    if (name === 'download') {\n",
       "        this.handle_save(this, null);\n",
       "    } else {\n",
       "        this.send_message('toolbar_button', { name: name });\n",
       "    }\n",
       "};\n",
       "\n",
       "mpl.figure.prototype.toolbar_button_onmouseover = function (tooltip) {\n",
       "    this.message.textContent = tooltip;\n",
       "};\n",
       "\n",
       "///////////////// REMAINING CONTENT GENERATED BY embed_js.py /////////////////\n",
       "// prettier-ignore\n",
       "var _JSXTOOLS_RESIZE_OBSERVER=function(A){var t,i=new WeakMap,n=new WeakMap,a=new WeakMap,r=new WeakMap,o=new Set;function s(e){if(!(this instanceof s))throw new TypeError(\"Constructor requires 'new' operator\");i.set(this,e)}function h(){throw new TypeError(\"Function is not a constructor\")}function c(e,t,i,n){e=0 in arguments?Number(arguments[0]):0,t=1 in arguments?Number(arguments[1]):0,i=2 in arguments?Number(arguments[2]):0,n=3 in arguments?Number(arguments[3]):0,this.right=(this.x=this.left=e)+(this.width=i),this.bottom=(this.y=this.top=t)+(this.height=n),Object.freeze(this)}function d(){t=requestAnimationFrame(d);var s=new WeakMap,p=new Set;o.forEach((function(t){r.get(t).forEach((function(i){var r=t instanceof window.SVGElement,o=a.get(t),d=r?0:parseFloat(o.paddingTop),f=r?0:parseFloat(o.paddingRight),l=r?0:parseFloat(o.paddingBottom),u=r?0:parseFloat(o.paddingLeft),g=r?0:parseFloat(o.borderTopWidth),m=r?0:parseFloat(o.borderRightWidth),w=r?0:parseFloat(o.borderBottomWidth),b=u+f,F=d+l,v=(r?0:parseFloat(o.borderLeftWidth))+m,W=g+w,y=r?0:t.offsetHeight-W-t.clientHeight,E=r?0:t.offsetWidth-v-t.clientWidth,R=b+v,z=F+W,M=r?t.width:parseFloat(o.width)-R-E,O=r?t.height:parseFloat(o.height)-z-y;if(n.has(t)){var k=n.get(t);if(k[0]===M&&k[1]===O)return}n.set(t,[M,O]);var S=Object.create(h.prototype);S.target=t,S.contentRect=new c(u,d,M,O),s.has(i)||(s.set(i,[]),p.add(i)),s.get(i).push(S)}))})),p.forEach((function(e){i.get(e).call(e,s.get(e),e)}))}return s.prototype.observe=function(i){if(i instanceof window.Element){r.has(i)||(r.set(i,new Set),o.add(i),a.set(i,window.getComputedStyle(i)));var n=r.get(i);n.has(this)||n.add(this),cancelAnimationFrame(t),t=requestAnimationFrame(d)}},s.prototype.unobserve=function(i){if(i instanceof window.Element&&r.has(i)){var n=r.get(i);n.has(this)&&(n.delete(this),n.size||(r.delete(i),o.delete(i))),n.size||r.delete(i),o.size||cancelAnimationFrame(t)}},A.DOMRectReadOnly=c,A.ResizeObserver=s,A.ResizeObserverEntry=h,A}; // eslint-disable-line\n",
       "mpl.toolbar_items = [[\"Home\", \"Reset original view\", \"fa fa-home icon-home\", \"home\"], [\"Back\", \"Back to previous view\", \"fa fa-arrow-left icon-arrow-left\", \"back\"], [\"Forward\", \"Forward to next view\", \"fa fa-arrow-right icon-arrow-right\", \"forward\"], [\"\", \"\", \"\", \"\"], [\"Pan\", \"Left button pans, Right button zooms\\nx/y fixes axis, CTRL fixes aspect\", \"fa fa-arrows icon-move\", \"pan\"], [\"Zoom\", \"Zoom to rectangle\\nx/y fixes axis, CTRL fixes aspect\", \"fa fa-square-o icon-check-empty\", \"zoom\"], [\"\", \"\", \"\", \"\"], [\"Download\", \"Download plot\", \"fa fa-floppy-o icon-save\", \"download\"]];\n",
       "\n",
       "mpl.extensions = [\"eps\", \"jpeg\", \"pdf\", \"png\", \"ps\", \"raw\", \"svg\", \"tif\"];\n",
       "\n",
       "mpl.default_extension = \"png\";/* global mpl */\n",
       "\n",
       "var comm_websocket_adapter = function (comm) {\n",
       "    // Create a \"websocket\"-like object which calls the given IPython comm\n",
       "    // object with the appropriate methods. Currently this is a non binary\n",
       "    // socket, so there is still some room for performance tuning.\n",
       "    var ws = {};\n",
       "\n",
       "    ws.close = function () {\n",
       "        comm.close();\n",
       "    };\n",
       "    ws.send = function (m) {\n",
       "        //console.log('sending', m);\n",
       "        comm.send(m);\n",
       "    };\n",
       "    // Register the callback with on_msg.\n",
       "    comm.on_msg(function (msg) {\n",
       "        //console.log('receiving', msg['content']['data'], msg);\n",
       "        // Pass the mpl event to the overridden (by mpl) onmessage function.\n",
       "        ws.onmessage(msg['content']['data']);\n",
       "    });\n",
       "    return ws;\n",
       "};\n",
       "\n",
       "mpl.mpl_figure_comm = function (comm, msg) {\n",
       "    // This is the function which gets called when the mpl process\n",
       "    // starts-up an IPython Comm through the \"matplotlib\" channel.\n",
       "\n",
       "    var id = msg.content.data.id;\n",
       "    // Get hold of the div created by the display call when the Comm\n",
       "    // socket was opened in Python.\n",
       "    var element = document.getElementById(id);\n",
       "    var ws_proxy = comm_websocket_adapter(comm);\n",
       "\n",
       "    function ondownload(figure, _format) {\n",
       "        window.open(figure.canvas.toDataURL());\n",
       "    }\n",
       "\n",
       "    var fig = new mpl.figure(id, ws_proxy, ondownload, element);\n",
       "\n",
       "    // Call onopen now - mpl needs it, as it is assuming we've passed it a real\n",
       "    // web socket which is closed, not our websocket->open comm proxy.\n",
       "    ws_proxy.onopen();\n",
       "\n",
       "    fig.parent_element = element;\n",
       "    fig.cell_info = mpl.find_output_cell(\"<div id='\" + id + \"'></div>\");\n",
       "    if (!fig.cell_info) {\n",
       "        console.error('Failed to find cell for figure', id, fig);\n",
       "        return;\n",
       "    }\n",
       "    fig.cell_info[0].output_area.element.on(\n",
       "        'cleared',\n",
       "        { fig: fig },\n",
       "        fig._remove_fig_handler\n",
       "    );\n",
       "};\n",
       "\n",
       "mpl.figure.prototype.handle_close = function (fig, msg) {\n",
       "    var width = fig.canvas.width / fig.ratio;\n",
       "    fig.cell_info[0].output_area.element.off(\n",
       "        'cleared',\n",
       "        fig._remove_fig_handler\n",
       "    );\n",
       "    fig.resizeObserverInstance.unobserve(fig.canvas_div);\n",
       "\n",
       "    // Update the output cell to use the data from the current canvas.\n",
       "    fig.push_to_output();\n",
       "    var dataURL = fig.canvas.toDataURL();\n",
       "    // Re-enable the keyboard manager in IPython - without this line, in FF,\n",
       "    // the notebook keyboard shortcuts fail.\n",
       "    IPython.keyboard_manager.enable();\n",
       "    fig.parent_element.innerHTML =\n",
       "        '<img src=\"' + dataURL + '\" width=\"' + width + '\">';\n",
       "    fig.close_ws(fig, msg);\n",
       "};\n",
       "\n",
       "mpl.figure.prototype.close_ws = function (fig, msg) {\n",
       "    fig.send_message('closing', msg);\n",
       "    // fig.ws.close()\n",
       "};\n",
       "\n",
       "mpl.figure.prototype.push_to_output = function (_remove_interactive) {\n",
       "    // Turn the data on the canvas into data in the output cell.\n",
       "    var width = this.canvas.width / this.ratio;\n",
       "    var dataURL = this.canvas.toDataURL();\n",
       "    this.cell_info[1]['text/html'] =\n",
       "        '<img src=\"' + dataURL + '\" width=\"' + width + '\">';\n",
       "};\n",
       "\n",
       "mpl.figure.prototype.updated_canvas_event = function () {\n",
       "    // Tell IPython that the notebook contents must change.\n",
       "    IPython.notebook.set_dirty(true);\n",
       "    this.send_message('ack', {});\n",
       "    var fig = this;\n",
       "    // Wait a second, then push the new image to the DOM so\n",
       "    // that it is saved nicely (might be nice to debounce this).\n",
       "    setTimeout(function () {\n",
       "        fig.push_to_output();\n",
       "    }, 1000);\n",
       "};\n",
       "\n",
       "mpl.figure.prototype._init_toolbar = function () {\n",
       "    var fig = this;\n",
       "\n",
       "    var toolbar = document.createElement('div');\n",
       "    toolbar.classList = 'btn-toolbar';\n",
       "    this.root.appendChild(toolbar);\n",
       "\n",
       "    function on_click_closure(name) {\n",
       "        return function (_event) {\n",
       "            return fig.toolbar_button_onclick(name);\n",
       "        };\n",
       "    }\n",
       "\n",
       "    function on_mouseover_closure(tooltip) {\n",
       "        return function (event) {\n",
       "            if (!event.currentTarget.disabled) {\n",
       "                return fig.toolbar_button_onmouseover(tooltip);\n",
       "            }\n",
       "        };\n",
       "    }\n",
       "\n",
       "    fig.buttons = {};\n",
       "    var buttonGroup = document.createElement('div');\n",
       "    buttonGroup.classList = 'btn-group';\n",
       "    var button;\n",
       "    for (var toolbar_ind in mpl.toolbar_items) {\n",
       "        var name = mpl.toolbar_items[toolbar_ind][0];\n",
       "        var tooltip = mpl.toolbar_items[toolbar_ind][1];\n",
       "        var image = mpl.toolbar_items[toolbar_ind][2];\n",
       "        var method_name = mpl.toolbar_items[toolbar_ind][3];\n",
       "\n",
       "        if (!name) {\n",
       "            /* Instead of a spacer, we start a new button group. */\n",
       "            if (buttonGroup.hasChildNodes()) {\n",
       "                toolbar.appendChild(buttonGroup);\n",
       "            }\n",
       "            buttonGroup = document.createElement('div');\n",
       "            buttonGroup.classList = 'btn-group';\n",
       "            continue;\n",
       "        }\n",
       "\n",
       "        button = fig.buttons[name] = document.createElement('button');\n",
       "        button.classList = 'btn btn-default';\n",
       "        button.href = '#';\n",
       "        button.title = name;\n",
       "        button.innerHTML = '<i class=\"fa ' + image + ' fa-lg\"></i>';\n",
       "        button.addEventListener('click', on_click_closure(method_name));\n",
       "        button.addEventListener('mouseover', on_mouseover_closure(tooltip));\n",
       "        buttonGroup.appendChild(button);\n",
       "    }\n",
       "\n",
       "    if (buttonGroup.hasChildNodes()) {\n",
       "        toolbar.appendChild(buttonGroup);\n",
       "    }\n",
       "\n",
       "    // Add the status bar.\n",
       "    var status_bar = document.createElement('span');\n",
       "    status_bar.classList = 'mpl-message pull-right';\n",
       "    toolbar.appendChild(status_bar);\n",
       "    this.message = status_bar;\n",
       "\n",
       "    // Add the close button to the window.\n",
       "    var buttongrp = document.createElement('div');\n",
       "    buttongrp.classList = 'btn-group inline pull-right';\n",
       "    button = document.createElement('button');\n",
       "    button.classList = 'btn btn-mini btn-primary';\n",
       "    button.href = '#';\n",
       "    button.title = 'Stop Interaction';\n",
       "    button.innerHTML = '<i class=\"fa fa-power-off icon-remove icon-large\"></i>';\n",
       "    button.addEventListener('click', function (_evt) {\n",
       "        fig.handle_close(fig, {});\n",
       "    });\n",
       "    button.addEventListener(\n",
       "        'mouseover',\n",
       "        on_mouseover_closure('Stop Interaction')\n",
       "    );\n",
       "    buttongrp.appendChild(button);\n",
       "    var titlebar = this.root.querySelector('.ui-dialog-titlebar');\n",
       "    titlebar.insertBefore(buttongrp, titlebar.firstChild);\n",
       "};\n",
       "\n",
       "mpl.figure.prototype._remove_fig_handler = function (event) {\n",
       "    var fig = event.data.fig;\n",
       "    if (event.target !== this) {\n",
       "        // Ignore bubbled events from children.\n",
       "        return;\n",
       "    }\n",
       "    fig.close_ws(fig, {});\n",
       "};\n",
       "\n",
       "mpl.figure.prototype._root_extra_style = function (el) {\n",
       "    el.style.boxSizing = 'content-box'; // override notebook setting of border-box.\n",
       "};\n",
       "\n",
       "mpl.figure.prototype._canvas_extra_style = function (el) {\n",
       "    // this is important to make the div 'focusable\n",
       "    el.setAttribute('tabindex', 0);\n",
       "    // reach out to IPython and tell the keyboard manager to turn it's self\n",
       "    // off when our div gets focus\n",
       "\n",
       "    // location in version 3\n",
       "    if (IPython.notebook.keyboard_manager) {\n",
       "        IPython.notebook.keyboard_manager.register_events(el);\n",
       "    } else {\n",
       "        // location in version 2\n",
       "        IPython.keyboard_manager.register_events(el);\n",
       "    }\n",
       "};\n",
       "\n",
       "mpl.figure.prototype._key_event_extra = function (event, _name) {\n",
       "    var manager = IPython.notebook.keyboard_manager;\n",
       "    if (!manager) {\n",
       "        manager = IPython.keyboard_manager;\n",
       "    }\n",
       "\n",
       "    // Check for shift+enter\n",
       "    if (event.shiftKey && event.which === 13) {\n",
       "        this.canvas_div.blur();\n",
       "        // select the cell after this one\n",
       "        var index = IPython.notebook.find_cell_index(this.cell_info[0]);\n",
       "        IPython.notebook.select(index + 1);\n",
       "    }\n",
       "};\n",
       "\n",
       "mpl.figure.prototype.handle_save = function (fig, _msg) {\n",
       "    fig.ondownload(fig, null);\n",
       "};\n",
       "\n",
       "mpl.find_output_cell = function (html_output) {\n",
       "    // Return the cell and output element which can be found *uniquely* in the notebook.\n",
       "    // Note - this is a bit hacky, but it is done because the \"notebook_saving.Notebook\"\n",
       "    // IPython event is triggered only after the cells have been serialised, which for\n",
       "    // our purposes (turning an active figure into a static one), is too late.\n",
       "    var cells = IPython.notebook.get_cells();\n",
       "    var ncells = cells.length;\n",
       "    for (var i = 0; i < ncells; i++) {\n",
       "        var cell = cells[i];\n",
       "        if (cell.cell_type === 'code') {\n",
       "            for (var j = 0; j < cell.output_area.outputs.length; j++) {\n",
       "                var data = cell.output_area.outputs[j];\n",
       "                if (data.data) {\n",
       "                    // IPython >= 3 moved mimebundle to data attribute of output\n",
       "                    data = data.data;\n",
       "                }\n",
       "                if (data['text/html'] === html_output) {\n",
       "                    return [cell, data, j];\n",
       "                }\n",
       "            }\n",
       "        }\n",
       "    }\n",
       "};\n",
       "\n",
       "// Register the function which deals with the matplotlib target/channel.\n",
       "// The kernel may be null if the page has been refreshed.\n",
       "if (IPython.notebook.kernel !== null) {\n",
       "    IPython.notebook.kernel.comm_manager.register_target(\n",
       "        'matplotlib',\n",
       "        mpl.mpl_figure_comm\n",
       "    );\n",
       "}\n"
      ],
      "text/plain": [
       "<IPython.core.display.Javascript object>"
      ]
     },
     "metadata": {},
     "output_type": "display_data"
    },
    {
     "data": {
      "text/html": [
       "<img src=\"data:image/png;base64,iVBORw0KGgoAAAANSUhEUgAABQAAAAPACAYAAABq3NR5AAAAAXNSR0IArs4c6QAAIABJREFUeF7s3QfUFcXh/vFBLAiJYgHFHo1osMVoImKMBVs0lthFbLFEosRYfrHEXrGLNSYqsTeUKEZjjWLBXsAGUaOxJaioIASw8D/P5L83+15u2bsz75a53znHE+XdnZn9zL6bsw8zO11mz54921AQQAABBBBAAAEEEEAAAQQQQAABBBBAIEiBLgSAQY4rF4UAAggggAACCCCAAAIIIIAAAggggIAVIADkRkAAAQQQQAABBBBAAAEEEEAAAQQQQCBgAQLAgAeXS0MAAQQQQAABBBBAAAEEEEAAAQQQQIAAkHsAAQQQQAABBBBAAAEEEEAAAQQQQACBgAUIAAMeXC4NAQQQQAABBBBAAAEEEEAAAQQQQAABAkDuAQQQQAABBBBAAAEEEEAAAQQQQAABBAIWIAAMeHC5NAQQQAABBBBAAAEEEEAAAQQQQAABBAgAuQcQQAABBBBAAAEEEEAAAQQQQAABBBAIWIAAMODB5dIQQAABBBBAAAEEEEAAAQQQQAABBBAgAOQeQAABBBBAAAEEEEAAAQQQQAABBBBAIGABAsCAB5dLQwABBBBAAAEEEEAAAQQQQAABBBBAgACQewABBBBAAAEEEEAAAQQQQAABBBBAAIGABQgAAx5cLg0BBBBAAAEEEEAAAQQQQAABBBBAAAECQO4BBBBAAAEEEEAAAQQQQAABBBBAAAEEAhYgAAx4cLk0BBBAAAEEEEAAAQQQQAABBBBAAAEECAC5BxBAAAEEEEAAAQQQQAABBBBAAAEEEAhYgAAw4MHl0hBAAAEEEEAAAQQQQAABBBBAAAEEECAA5B5AAAEEEEAAAQQQQAABBBBAAAEEEEAgYAECwIAHl0tDAAEEEEAAAQQQQAABBBBAAAEEEECAAJB7AAEEEEAAAQQQQAABBBBAAAEEEEAAgYAFCAADHlwuDQEEEEAAAQQQQAABBBBAAAEEEEAAAQJA7gEEEEAAAQQQQAABBBBAAAEEEEAAAQQCFiAADHhwuTQEEEAAAQQQQAABBBBAAAEEEEAAAQQIALkHEEAAAQQQQAABBBBAAAEEEEAAAQQQCFiAADDgweXSEEAAAQQQQAABBBBAAAEEEEAAAQQQIADkHkAAAQQQQAABBBBAAAEEEEAAAQQQQCBgAQLAgAeXS0MAAQQQQAABBBBAAAEEEEAAAQQQQIAAkHsAAQQQQAABBBBAAAEEEEAAAQQQQACBgAUIAAMeXC4NAQQQQAABBBBAAAEEEEAAAQQQQAABAkDuAQQQQAABBBBAAAEEEEAAAQQQQAABBAIWIAAMeHC5NAQQQAABBBBAAAEEEEAAAQQQQAABBAgAuQcQQAABBBBAAAEEEEAAAQQQQAABBBAIWIAAMODB5dIQQAABBBBAAAEEEEAAAQQQQAABBBAgAOQeQAABBBBAAAEEEEAAAQQQQAABBBBAIGABAsCAB5dLQwABBBBAAAEEEEAAAQQQQAABBBBAgACQewABBBBAAAEEEEAAAQQQQAABBBBAAIGABQgAAx5cLg0BBBBAAAEEEEAAAQQQQAABBBBAAAECQO4BBBBAAAEEEEAAAQQQQAABBBBAAAEEAhYgAAx4cLk0BBBAAAEEEEAAAQQQQAABBBBAAAEECAC5BxBAAAEEEEAAAQQQQAABBBBAAAEEEAhYgAAw4MHl0hBAAAEEEEAAAQQQQAABBBBAAAEEECAA5B5AAAEEEEAAAQQQQAABBBBAAAEEEEAgYAECwIAHl0tDAAEEEEAAAQQQQAABBBBAAAEEEECAAJB7AAEEEEAAAQQQQAABBBBAAAEEEEAAgYAFCAADHlwuDQEEEEAAAQQQQAABBBBAAAEEEEAAAQJA7gEEEEAAAQQQQAABBBBAAAEEEEAAAQQCFiAADHhwuTQEEEAAAQQQQAABBBBAAAEEEEAAAQQIALkHEEAAAQQQQAABBBBAAAEEEEAAAQQQCFiAADDgweXSEEAAAQQQQAABBBBAAAEEEEAAAQQQIADkHkAAAQQQQAABBBBAAAEEEEAAAQQQQCBgAQLAgAeXS0MAAQQQQAABBBBAAAEEEEAAAQQQQIAAkHsAAQQQQAABBBBAAAEEEEAAAQQQQACBgAUIAAMeXC4NAQQQQAABBBBAAAEEEEAAAQQQQAABAkDuAQQQQAABBBBAAAEEEEAAAQQQQAABBAIWIAAMeHC5NAQQQAABBBBAAAEEEEAAAQQQQAABBAgAuQcQQAABBBBAAAEEEEAAAQQQQAABBBAIWIAAMODB5dIQQAABBBBAAAEEEEAAAQQQQAABBBAgAOQeQAABBBBAAAEEEEAAAQQQQAABBBBAIGABAsCAB5dLQwABBBBAAAEEEEAAAQQQQAABBBBAgACQewABBBBAAAEEEEAAAQQQQAABBBBAAIGABQgAAx5cLg0BBBBAAAEEEEAAAQQQQAABBBBAAAECQO4BBBBAAAEEEEAAAQQQQAABBBBAAAEEAhYgAAx4cLk0BBBAAAEEEEAAAQQQQAABBBBAAAEECAC5BxBAAAEEEEAAAQQQQAABBBBAAAEEEAhYgAAw4MHl0hBAAAEEEEAAAQQQQAABBBBAAAEEECAA5B5AAAEEEEAAAQQQQAABBBBAAAEEEEAgYAECwIAHl0tDAAEEEEAAAQQQQAABBBBAAAEEEECAAJB7AAEEEEAAAQQQQAABBBBAAAEEEEAAgYAFCAADHlwuDQEEEEAAAQQQQAABBBBAAAEEEEAAAQJA7gEEEEAAAQQQQKCNBGbNmmXmnXfeNrri4l0qY5B8TGbPnm2+/vprM/fccyc/iSMRQAABBBBAYA4BAkBuCgQQQACB4AVuuukmc8IJJ1Su88wzzzTbbbddouvWy+eAAQPM5MmTK8evuuqq5rbbbkt0vg467bTTzDXXXFM5/sEHHzRLLbWU/e+jjjrKjBo1yv77j370I3PttdcmrjfUA2X+wgsvmIceesi8/PLL5q233jJTp041X375pfnWt75l+vTpY1ZeeWWz/vrrmw033NB07949VAqzxx57mKefftpe389//nMzbNiwOa51pZVWqvzZGWecYbbffvuaHtOmTTMXXnihWXDBBc2vfvWrwpnFr6NR5xQEKcDUdSy++OKmX79+ZrPNNrO/P3PNNVei63rqqafMnnvuWfN3MlEFKQ9S8HfVVVeZf/3rX+bEE09MWcucpzV7jrz33ntm4MCBlRP1PFpnnXW8td9ZFb3++uv22X3uuedWnpnVbSW9/zurj9SLAAIIIIBAWQQIAMsyUvQTAQQQQCC1wD//+U+z6aabVs7fZZddzMknn5yovvHjx5sdd9yxw7FdunQxTzzxhFl44YUT1aHg5tVXX7XHLrvssua+++6rnNfsxT1RA4EcpODvjjvuMH/4wx/Mm2++meiqevToYQYPHmz23XdfGwiFVnwFgA888IA55ZRTbPB08MEHm6FDhxaOKmkAWK/jCgOPPvpos8UWWzS9tjwCwGeeecYcf/zxNtCuF+Y27XidA5o9R8oWAP7nP/8xF1xwgf0LEc3+i/+lSTUBAWDau4bzEEAAAQTaTYAAsN1GnOtFAAEE2lRg4403Nu+//769+r59+5rRo0cnkrj00kvN8OHD5zj27LPPNttss03TOr744gs7M0kvsSqDBg3qMBux2Yt70wYCOeDDDz80v/3tbyuz3eKXpcBV4d78889vPv/8czN9+vQ5rrpXr152puUGG2wQiMh/L8NXABi//8sQACrYXWSRRWqOpWbR6R6YMmVKzZ//7Gc/M5oJ2WiZcx4BYJKxTHvzNnuOlC0AbGV8CADT3jWchwACCCDQbgIEgO024lwvAggg0KYCv/vd78zIkSPt1StQ0rLKBRZYoKmGArvnnnvOHrfooouajz/+2P67wj+FgM3KI488Yg444IDKYZdcconZZJNNKv/d7MW9Wf0h/Pzvf/+7ncH373//u3I5Cvt23nlnu2zxBz/4gZlnnnkqP9OMTi0PvvHGG83bb79d+XMt/zzuuONsyBpKSRIaJQlAyhYAJpkhp1lir732mrn77rvNzTffbBQMRkX3jX7X9Lteq7QSMPm6l5KMZdq2mj1HCADTynIeAggggAAC4QgQAIYzllwJAggggEADgb/85S/msMMOqxyhZabNZovpu3P9+/c3X331lT3vyCOPNPp+oIpmJz3++ON1A4aooXPOOcf88Y9/tP+pb5cpeNB37Cj/FVCgqiXWmgEYFS3X1lLJ3r17N2TSuPzpT3+ySwX1fcConHfeeWarrbYKgthXaBRiABgfYH0rbsiQIeaDDz6o/PFvfvMb+2dFKb7GMs31hBwApvHgHAQQQAABBNpRgACwHUeda0YAAQTaUOCTTz4x6623ntF35lQOPPBAc+ihhzaUuPfee82vf/1re8yKK65orrzySvOTn/ykco42AtGGII3Krrvuaje0UNFMNs1ao/xPQDP/Hnvsscof/OIXv7BLgevN3Kplp/O1qcXMmTPtjzV78M477zTLLLNM6al9hUahB4AaaH1bT7NGFdyraAmwZgcuvfTShbgPfI1lmoshAEyjxjkIIIAAAgiEJUAAGNZ4cjUIIIAAAg0EtGx3woQJ9ogkO+4ee+yx5tZbb7XH6+Vd/7311lubiRMn2j9rNsNoxowZZu21167MTtPGC/r+GuW/Avfff38Hj4022shcdtllLYV/kaWWd2uZd1RU1+9///vSU/sKjdohANRgK5Q/5phjKuOuAP6kk04qxH3gayzTXAwBYBo1zkEAAQQQQCAsAQLAsMaTq0EAAQQQaCCgjQG0ZFRFs8SeffZZuyy3Xtlwww0rS1Mvv/xyo/8eNmyYGTFihD1lrbXWMjfccEPd88eOHWv23nvvys/1nbLvf//7HY5v5dtd+gahlh2raKnj7bffbv72t7/ZPmrWk3YlXnnllc1mm21mv1EY/25esxtDG6Ro1tyjjz5q3n33XfPpp58abcSw2GKL2bB0yy23tDMYfZYddtjBvPzyy5Xx0Hf9ku6sXKsf8YBFP9eOwvKoLkm+med6zrhx48zDDz9stPOrbD/77DP7jTp9d1LLx9dcc017PymobDTbMUloVO96dH9oV9xmRaG47mnd21HRfa37O0nZa6+9zJNPPmkP3Xzzzc2FF16Y5LSG45LkG4C1Gvnmm2/MT3/608q3IfV7rt9D/W+8tPINQG08o02DxowZY785qLHUc2OhhRYyyy23nFl33XWNNh7p06fPHF2qbqceTHyX2/gz4cQTTzS77babeeONN+w3R3U/devWzbar33Mtn9cnBVp5jqgP11xzjVlnnXWMvr+psdau5tohWnUvscQSdqbzdtttZ77zne80HMuLLrrIXHzxxfaYJZdc0n6bs1lpdE7173CtuqrvjVZ/n/W8VFCse1bfENV4du/e3WgjId3z+gTB+uuv3+wyTDxU10zTFVZYwWjTJ90rf/3rX23dmnmu33nNRtbxGi+XZ1zTTnEAAggggAACDQQIALk9EEAAAQTaRqB6Qw7N7lt99dVrXr9euKPvyClI06YheklUQLbffvvZcxQC6CXy29/+ds064i+6egnUsV27du1wbCsv7lEAeP3119swQJsg1Ct6cVf7WrrcqOjbeeeff7659tprO2yiUOschVWnnnqq3QzFtYwfP96+DEdFIYfCDpdSHbjWq7PVwEB9SnrOm2++aU455RQbOiUpqleBmQKdWiWrAPCjjz6y38SMdqvefffd7XcYm5VJkybZ8xS8qVRvctPs/PjP48ZpA0DVp29u6tubUanVp6QB4D333GPvS4VEjYqWGysI1XdGtRlNVHwEgArq4kubo7oVHCuU1LcyW3mO6HwFgC+99JK99+Lfz4xfo55vuv8OP/zwun+ZUKYAUJ8I0H2hzzDUu+bo+hXQ6/e40fOzOgBU2KdxiHabr3W/aDdzzUhVSE1BAAEEEEAgawECwKzFaQ8BBBBAIDeB6dOn29ls0cufZkfFZ+jFOxafEaUXcL0wq2hZr+qIvjenF2jNeqpV9txzT7vph4pm6+hlubq08uKu4E3fyDvrrLMq1cw333x2Rolm7Klv8aLjNRul3owTzVY56KCDKrO3onOjOuWl2U/xotlBV1xxhZ3t4lKGDx9uLr300koVN910k50V51L0fUeFUdFuwosvvrhR6FtdkoZ58fOSnKNQU+FwdVikl37N0tL4TJ48ufIdyqh+zTzSJjU6rrq4BID33XdfZadqzRiNNrNRO/G2tBRbJf49Rt07CpeqA+vq/mlGrWbWqvTs2dN+z7GVmaf1jF0CQG0Isu2221aq1u+MNvCJlyQBoL4Besghh3QYL12bZnDKUoFP9E3RqG4FdQqOoqKQ7YgjjrD/qfsyem5odq3qicp1111nZ9uqxJ8JJ5xwgvnzn/9sw7rqstpqq1V2Nm/lOaJ6fvzjH3f49qZ+5zWjUfdnfDdlHatdy7XRTq1x9R0AKmzU7Fn9rihcjopmF0b3op6l//d//1f5WZLfTT3r9Dx+5ZVXOjBG4zlt2rTKtyOjAzRGer7LqlaJB4D6ixGNezS+6qvGV39JE32TMqpDwaq+J6sNpigIIIAAAghkKUAAmKU2bSGAAAII5C4waNAg89xzz9l+NFquGA9D9FJ6wAEHVPquQCFairvTTjvZWXHVRSHjD3/4w8osPc360PfIqksrL+56cdQMLYUOq6yyig0nBgwYUHkx16yz0047zS7ri4pmJcW/iRZvX98w1AynqCjY1GYa6ne0NPqdd94xmnGof6IASbMLtYROL8hpi2aYaQm2imZPaUz0v65FQY8Ck6go3KreDCRJYFDdj2bnaLy17FobUUTXpO89ahllFOzoz6dMmWK/fahAJR5wKIiNNpyJt+0SAMbrSfINQC0BjwcrCsF1fzUq8WXcSWcN1qvP1wxAjcUaa6xRmc2ooOXqq6/u0GyzAFBBjsJkBesq3/3ud+03QOO/GzpGvz/adToKnXVsvZnFScZS58efCWpPy35rFf3+6/e1+pxa3zet/gZgVJ+CNf3O6P5QGKbw74EHHrB/yRDfmVv3pu7R6uI7AIzqbzY+8X40+93Uc0vP7OgvY3Ru37597TdctdQ3eu7o266650eNGlUJdvWM03jW+guP+O+U7HTfKczXuGiGX7Tbu2YFn3vuuUbLvKPyve99r8NzyvW5x/kIIIAAAggkESAATKLEMQgggAACwQjoe1XRTDy9rMV3oI0usnqWnwIlvbBFRbM3oll4+u6XvvVWXZ5//nn77a6o6KW61m6krQSAUV36RpWW7daakaPZJlq6HAUSukYtW67+zpy+WRXfBVlBoWZE1vsenWbSKQCIZk/WmlXVyk2ikCKaXagwU9+r81Guuuoqc+aZZ1aq0izDgQMHdqi6WWBQqx/Nzqn+3p5CoWgJea36FMjou3HRMu56gUCS0KhZ39R+kgBQfVHgp5mfKlqirUC5XlE4rNlYUWm0pD7J2PoKANWWxlzGKvq90+9fvDQLmOIb1Oi7ePpvLbWtVRQc6S8Cohm4gwcPNscdd9wchyYZS50UfyZElWh2rHbH1n3y8ccf2+BR1xgFU2meIwrBFIzWmiGscFrXoTFW0bNGhppVGy9lCAB1Xyq8jYq+vamZfZr1WKvoLze0oVA0u1OfiYg2g4ofH/+d0p/rLxq0vLjWJxJU15AhQ+w3W6MSfTcwye8GxyCAAAIIIOBDgADQhyJ1IIAAAgiURkCzzjRTKSq1grn4twL1MqeQMB6MVS8xvOuuu+b4VtQf/vAHO+sjejGMlllWQ7X64q7vEGppZr3vDqr+6hAsvsFA1P72229fWQ6ncEEvro02o9B5mrWmXXpVNDNGTo36Ue+m0HK7+IYiWmKnUNVH0bLN+Ew6fccuPt5qI0lgVt2XZucceOCBlZf7VVdd1c6QbFY0U0ibBUSeCo2rS5LQqFnfVGeSAFDHxWdQapmw7v16MzPjYbpmhUbX0uy66/3cZwCoJcSvvvpqXdtmAWD8O4JJAmrdc/o90xJ53c9auptmLHVOdQCo79ApgKreyCRef6vPEY2p/mKj0VL+F154ocOsZc021D0bL0UPAPVtSi1hjr7Lp7+w0fM6mp1X717UrG59FzUqtWbDVgeAWg6vDWHqFW14pBmzUdHSeT2HKQgggAACCGQlQACYlTTtIIAAAggUQkDLwbSsLprlpJl88e+FqZPxlz/9LP7Nvegi9JKvjRNUFJpoRly87L///jaoU2m0wUWrL+71+hNvW0sGNXsnKiNHjjT6XlhUNGNp6623rvx30o0bNKtQu4NGpdH3DxsNtmYXxXfZ1A7DmtHoo2hpdnwsqpdvq40kgVl1X5qdo++WafmvdlBWYKRwoFlRQKygWEXhq4Ll6pJ1AFjtp8C33rVsscUW5h//+IftspZTaoaTS/EZAMaX+ms5e/W335oFgPomZRTiJQnL9DzRjLJG30xMMpbyqw4ANaNVS8kblVafI6ovPlO2Xt3xpfraqEYBe7wUPQDUuMdDtkbffY1fl77vqCXg0YxnBXenn356h2uPB4AKfuOz+2p56vMNWpoe1akZnfrUBAUBBBBAAIGsBAgAs5KmHQQQQACBwgjoe37R5hD6Lp++zxcv8WBDu+3q227VJT5TqnoGm2adaIlr9PH3RgFbqy/utWa0VfdNQVR8l0l9v2/ttdeuHHbDDTd0uGYFhtqlOEnRTsDaUEJFH9XXUrlWS3WQqKWyWjLro1Tv9KxlzpqdFy/Nwrxa/UhzTqPrURig5bUam6i89tprHXaQ1Z8nCY2S9C3pDEDduwo+ou8TaplyNJM1fj3x2UwKLzX7Td+Tcyk+A8D4twk1c+7FF1/s0LVmAWB8F3CdqA1OtGGQfq/q7djc7NqTjKXqqA4A9RcJ8e9I1mqn1edIo2A3Xr82/NEzMCpPPPFEh81Lih4Axj/XoGvQ86F6GXO9cYt/B1bLe6tnccd/pxp9TzZef/wvjuLfcGx27/BzBBBAAAEEfAgQAPpQpA4EEEAAgVIJxHcu1XewtFNuVOIfy1ewoRlR8d06o+PiGyZoWe7TTz9d+SZffNaJZh89+eSTdZfKtvrinmS2XvUH/7WUTYFkVBQi3nzzzZX/rt4ko9Fg/utf/6rsEqow8Pe//33LY9+ZS4C1rDG+46sCSgWV8ZIkMKu+qDTnRHVoV2DNDPznP/9pFCxpaaqWV1bvsKz7Jtp8JTo3SWiUpG9JA0C1q5lhWkauontbm8voO3jxMmzYMLthgkqtTSdavimqZma67AKstvVtwuj7dfp2n76DGS/NAkAdq2W91TPe9Of6puB6661n/9GSz6TL4JOMpeqPPxPqfae02rfV50iSUFFtyE07W0el+llS9ABQ32K85ZZbbPf1rUPdy0mL/lLi8ssvrxxe/fsZ/51K+pch8XOGDh1qtFEQBQEEEEAAgawECACzkqYdBBBAAIHCCEyYMKEyq2+uueay4V30Eq9v4Z144om2r/369bM7QtYqWiKmACD6ULzOi75rFw8Y9X09LSesV1p9cW/2nSm1Ux0AXnPNNWadddapdKFesNHqAOl6dd1pipZha0fcZs6t1h2317m1liknCcyq223lHIV72qRBy4K1A2h0nc2upSgBYPU3LvXtx/iMUt3zmiUYbTSjmYzaMMS1+JwBqGBu8uTJtkvawfcvf/lLh+4lCQAVVOu7dwrw6xUFtmuttZbdUVwzWTVTsF5JEwDKRH/Z0Ky0+hypda/VaqN6Ca0Cv/jGL0UPABWy3XffffbSqv+yp5mpNkiJL/utnv0YD/O0/F3L4JuVVoL4ZnXxcwQQQAABBFoVIABsVYzjEUAAAQRKL6AAQ0uxtJumij74H33bTi/8Ws6ooqXC+oZcvRLfaCC+1DT+0tlslkerL+7VYV6tvjULAPfZZx+jl1nXUm/n2iT1xr/Rph1Gn3vuubq7ciapLzpG46WP/Eel1gYtrYR5UT1JztEMP804VKDcqOibcgpAtQw4Hi4VJQBU37XsXUG5igKfaOds/Xc8PNPMQM2SbbapQpIx9BUAfvrpp6Z///6VJqv7X30N+u9aG+Xoz/WsuOOOO2zQXb2MuPqaNFtSO2Vr6WitDXXSBIBauh9fJl7PsZXniH7ftIQ7San+nICWg2tZeFSKHgDGn3Xf//73O8x8bnb91bsHV98jacK8NOc06yc/RwABBBBAIKkAAWBSKY5DAAEEEAhKIB4URbtbaoMQLWfUzB+VZmHbOeecY8NDlQEDBlSWRMZnH8VnBtYCbOXFPUmfdEyzADC+Y612Ab377rszH1tt+hFfPly9tDBth+Lf2NIutgrYNMszXpKEefHjFdRpNmhUau3e+fbbb9vNXqJZZ9GxWsKpGWjaJVf/q9BUm4Row4h4eKLjixQAxr+dpr4qMI5CvviySp/fb/QVAFZ/B/KII44w2pQnXpLMAKy+B/Xty4cfftjujKzvZtab2alNaOLL0KN60gSASZdXt/ocqfW9yVq/c9U712rTGs3+jEqaADC+m7i+G/nQQw/N0XQr49Po91mBrHZ6V2l1BmD1bOJGMwC1lFd/2dOsEAA2E+LnCCCAAAKdKUAA2Jm61I0AAgggUFiB+OyOaBOP559/3oY4KprNo5dQzdaqV/Q9KW0MoKKNBnS+dkXVrrYqWlasOhrtDNrqi3uzUFLtNgsAtRPm7bffXrlOzb6rDsk6e+C0PHannXaqNOP6zTdVVB0a1NvpNB4YJFm++sUXX9hlnlGpFQBqMxkt/Y3KLrvsYncjbrRhRDxA1nlFCgC1vHfDDTc02hRERX3VztEKQxV267uGKtWBkMt94ysA1K7dCjCjok1v4uNX616pNwOw3vXIQeGYvqWnWaYKgKOi2X/6MwW+8VKkAFCzNhdddNGmw6XA85e//GXlOD03V1999cp/xwPAPn362IC0WdHvj8I1lc4OAI855hhz22232bYinaDxAAAgAElEQVQWWmihhsu5q/sdv4/0DH/ppZcq33nVsWnCvDTnNPPk5wgggAACCCQVIABMKsVxCCCAAAJBCbz//vv2BU5F3+1SeKQwI9rxNMkGF7NmzbLf1ps+fbqtR99908wgbbKhsummm5qLL764oVseAWD8OtU5hYGalZakaNm0XqQbhZpJ6tEx22+/vQ29VLQsUTN1Gu3QqdBFy7L17UUFhupHvAwePNj6R+W6666zS22ri2bhRcFWkl2Vq3eErQ4Ax48f3+EbeAr/Tj755KYM//d//9fh+24KlOQQL0lCoyQzGtMED/Hlk9FuwAqLtXxbRQGSAjAf94Lq8xEA6ndSy/m1DFhFAZPCveolua3MMGs2kFomrOdGNBtYx+s7m5p91upY6vhmz4Ra/Wl2TvVfCtT73aiuW5sO6Tua0e/os88+22FDmPjPk26yod1v//rXv1bGpzNnAGozG21qE5W//e1vZokllmg2pPbn2thD94mKNn6JZhJGJ6f5nUpzTqLOchACCCCAAAIJBAgAEyBxCAIIIIBAmAIK6PTdNhW93Cm0UaChomWOCpSaFQVSWnKoomWt+nftRKuizUSiGYX16mn1xd3HDMB4iKN+1VuyWN3nSZMmGQWjKgrqdG3xHUKbWVX/XObxkETLHfXh/XqzEeMzLvXtud13391u0qClqdXf61Lwp5CjVtHGLFFo2+wbjTpfG8FonKJSHQDqG23xwE8zjlZdddWmHPEwQAcrSKyecZpnABjfUVnLqbUEcvjw4TYoV9HsV80m9VV8BICa7XfSSSdVulRvfBsFgAoRFRppAxd9A0/f91Tg3Kh8+eWXNmz+z3/+Yw/beeedzSmnnNLhlCRjqROaPRNq9aPZOdUBoH7vFFI2K9tuu63RpjAqmvmn37N4iQds2hBFM3ubBcLx+77eDEB9R1NeUWk0Q7NRAF4901hLs/W8a1Y++ugjOwNWn4VQkYNmBMZLmjAvzTnN+srPEUAAAQQQSCpAAJhUiuMQQAABBIIT0Oyvm2++2V6XljgqOJg6dar973vvvbfh8s0II75TpL6tp5kt0XLA+++/3yyzzDIN3Vp9cfcRAGomncJPzYJU0XJn7TSqWS6NinwUsERF3/CLAsG0N4eWF8aXDWr23AknnFAzRFAoo8AhXpZaaikbROlnCmFUFKIphNM3v2oV7dgajVG0/Lte/zVTUH1SkBCV6gCwekalNo1YeeWVG5JUB1U6WEvIe/To0eG8JKFRkhmAm2yyiXn33Xdt3Um/V6ZvYWq2ZRRq6TuNCrUmTpxo61EwGv82Ytp7IDrPNQBUWLfDDjtUwl3NENUOsAsssMAcXWs2A3DgwIF2Kb2KgqDLL7+84eVVfz80+q5o/KS99tqrsgS10ZL3Zs+EWh1pdk51AKjZm5qxXMsmql+hm64jKvq9jGZ/Rn82evRoo28sRkU7nitgr1eqlxTXCwA101ABf7wv+l2vVRrd//r91e979Bc9iy22mN0ROtr1vV4/dZ/H/wJBMx31OxQvacK8NOe4/l5xPgIIIIAAApEAASD3AgIIIIBA2woorNNyNBUt5Y2We+lFM9oJuBmOZglF3/zTi692CtWSwFpLxmrV1eqLu48AUP3Qy218hpKWxSpc0zK+WkVBimYM6dpUVlxxRRsaun47UEs19S3AKJxS3dpkQDPqqpcDq22FZLfccottO1rGW93fU089tcP3Bat/rllA0SxNLQ1VaKEdQquL2tOszurwpzoArA5Bms2M08xHhSZRsBa1qxmO1f6+AkB9vy8K7rS0Nz6jsdE9rn7q+lR0n0cbxrS6oUKz3yP93CUA1KYWmtUWhdqq7/TTT7eBYK3SLACs/j6jlsEqSKpXqgPdK664wqy//vodDo9vvlNrZ+Lo4GbPBB/PEdWh8F7f8Ktedq6f6bmme++TTz6xzem+1DNRf1kQL9XBosLSyy67rOZzQaG77j1tphKVegFg9eYj+n2P3x/xPjQLwKtn6GqJuD7NoM1tahV9EkHfDoyeddooSb8D1TMb04R5ac5J8rvDMQgggAACCCQRIABMosQxCCCAAAJBCih80oYG1UGSNnSILyNsdvF6kY6/1Or4pHU0e9lvtqFHrb4lOUezABVUaaldVBS4KRBVOBHt+KrNIDTza8SIEZXlcHoRVhC59tprN6NJ9HPNztGyvHgIqCW+CgY1U1HBarQ0Vi/lChI06y7ayCTeSK2ll9WdqN4lVt+AVCio79ypHd0PCho1w/HRRx+1p2tmXrQ7dHUAqPtI90A80NPycS0P14wjFc0Q0yYhChu1QUStomCwehamrwAwPvtMoYtC1CSbQOj6ay3z1vcLXZZ/17r+VgNAzdbVsmndB5rNFi3XVN2aqaYZa/VKswBQ9/1Pf/rTypgrJFN4pd9r+UVFx2mnb92P+p1S0axIzY6sLvENKbSkWvfC8ssvP8dxzZ4Jta6p2TnVz4SoDgXfCnmjb2VqabzCtvPOO898/vnnlaYUgivcq1V23HFHOw5R0fPjsMMOsztfq+j3Q2Ok3yftnBz/XaoXAH744Ycd2tNsQH2Wofpbjqq/WQCo32c9XxSwR0UB9m9+8xsb0kbPFn3rU38Jor5G4Z/GXc+/WrMa04R5ac5J9BDlIAQQQAABBBIIEAAmQOIQBBBAAIFwBeIbUURXWWu5VyOB3/3ud2bkyJEdDtHMGr0INyutvrj7mgGofmlDj/3339+8+uqrHbqpb3ktssgiNtDQMfGiGX/6tqGWxfosakcBSfQ9xXjdeulXYKJQUDOSoqW+tdpX/9Q3fbdN59Qr++67r3nsscc6/FjBpkKxyZMnd2hDs8j0XbhoJlytXYC1AYRmjVUXhR36R9dXHTTrO4Ga6RSVWhsz+AoAq5dPK9jo3bu3Dbg0q0/jXavoHtCMTH0TLSoy1lLOKNz0dR/EgxyZ1euTgj6Ff9Fy/er2tXmDfq8afYuuWQCoOhXUKuisHjcFxlGIFe2GHPVBfVYguOyyy87BUj0TTf1T6K7gWAFbtLtus2dCLe9m51QHgAr/o514VZ92MdfvS63fr2bfzdPGOwpHq38vtbxYzxL9PkVFS2/1+6Nl6Cr1AkAFcFp+Hs1A1LHqn9y1YVF8c6VmAaDOVR8UWEebDkX90e+BxkzBp8LJeFEwqM1d6j3H04R5ac7x9ftFPQgggAACCBAAcg8ggAACCLS1gD7sfuWVV1YM9MKqcCCaAZcERwGKAqeo6MX+ySefbPh9rejYVl/cfQaA6oNefIcNG2a/mRefQVXruhX4aNmwAqHOKprJdemll1aWqzZrRy/wmiWoGUOaYRcVff9N4ZlmglXvFhxdt4INLW2uVzSOCki1kYTGqVEAqDqi5cLR7KF69WoZpZZTaxOVtdZaq+KuGUlDhgzpcJqvAFAB5HbbbdchyIsa0qwnhS31igKbeFikY6u/xdhsnJL8vN4SzyTn6hjN6tLMsyTfpUwSAKpOfQtUgXc8xKrXH31GQDOHo5lv1cfNmDHD7hb997//fY4q9Hul2asqzZ4Jtdpvdk51AKgl01oirdlt9YqW/R577LFmq622ajoEWh6sYxs5ffe737Uhue7/KFSrFwCqQc2i1CYz1b9PCq6jmbk6LkkAqOMUtOpZp7+safasW2211exnCBp94zJNmJfmnKb4HIAAAggggEBCAQLAhFAchgACCCAQpoBmgWk2WFQUyMQ3ukhy1ZoFtO6661ZmCmm5mJb3JSmtvrj7DgCjPmoZrgIuLZPTv2vZngIwhQB6CdaLq74Bp1l4WZSXXnrJ7syszTe0uYNm5+ilXcGsgkh9g7B///427NGsPc1U0ywqLTOcOXNmpYsKY/Stx3pFs5f0PUBtOqDlnAqANStLS8MV1kQbicS/hVdrBmBUv3ZM1cYyqk/LwhU6KPDQLCP1WcumtaNoFErGN0HRrDH1Nf5dRV8BoPqn69P32RSeRDMSZffb3/7WLnetVzRDNL4LrmYTKkz0XZIGgAp9ZaqZeFpCqw1XtGmHQpukJWkAqPq++OILO0tSbhpfzUrTPaYZab169bJjqg0i9AxoVjRrUfeoAjONh2bN6V7QM0iz8lSaPRNqtdHsnOoAcMKECbYa3aeasajwXLt8a4aefmd0Pbr/G20SUt0PXZvCNV1b9Dur+17Bn0JE/aPv7r3zzjuJAkDVr13ZtdGSAkstSdb5Cg31OxZ9jzBpABj1V+1rmfPjjz9uN3rR81v31BJLLGGX+uo5p9//ZiVNmJfmnGb94OcIIIAAAggkFSAATCrFcQgggAACCCBQeAF9R/CCCy6wgY2WbmpGmEI2SnqB+PfYFLooOKneDCJ97ZyJAAIIIIAAAgggkIUAAWAWyrSBAAIIIIAAApkKaJaPNrrQzKp6Oxtn2qESNxb/vqG+makZkBQEEEAAAQQQQACBcgkQAJZrvOgtAggggAACCCCQqcDWW29d+Sajlov+4Ac/yLR9GkMAAQQQQAABBBBwFyAAdDekBgQQQAABBBBAIEiBJ554wu7wqvK9733Pfi+RggACCCCAAAIIIFA+AQLA8o0ZPUYAAQQQQAABBLwLzJo1y+64qo0WVLQhjDY/0YYhKvq2YqPNQrx3iAoRQAABBBBAAAEEvAkQAHqjpCIEEEAAAQQQQKC8AtpARQGfdgaeNm2a3Xk5Kuuvv7654ooryntx9BwBBBBAAAEEEGhzAQLANr8BuHwEEEAAAQQQQEACX331lVljjTXs/8bLiiuuaEaMGGF69eoFFAIIIIAAAggggEBJBQgASzpwdBsBBBBAAAEEEPAtcPjhh5vHH3/czgBcYoklzBZbbGF3Ul5ggQV8N0V9CCCAAAIIIIAAAhkKEABmiE1TCCCAAAIIIIAAAggggAACCCCAAAIIZC1AAJi1OO0hgAACCCCAAAIIIIAAAggggAACCCCQoQABYIbYNIUAAggggAACCCCAAAIIIIAAAggggEDWAgSAWYvTHgIIIIAAAggggAACCCCAAAIIIIAAAhkKEABmiE1TCCCAAAIIIIAAAggggAACCCCAAAIIZC1AAJi1OO0hgAACCCCAAAIIIIAAAggggAACCCCQoQABYIbYNPU/gRkzZpiJEyfaP1h44YXN3HPPDQ8CCCCAAAIIIIAAAggggAACCHgW+Oqrr8zkyZNtrX379jXdunXz3ALVlUGAALAMoxRgH8eNG2d22mmnAK+MS0IAAQQQQAABBBBAAAEEEECgmAK33nqrWX311YvZOXrVqQIEgJ3KS+X1BAgAuTcQQAABBBBAAAEEEEAAAQQQyFaAADBb7yK1RgBYpNFoo7689957ZuDAgfaK9QDq3bt3G109l4oAAggggAACCCCAAAIIIIBANgKTJk2qrMB78MEHzVJLLZVNw7RSKAECwEINR/t05l//+pfZYIMN7AU/8sgjZvHFF2+fi+dKEUAAAQQQQAABBBBAAAEEEMhIgPfvjKAL3gwBYMEHKNTu8QAKdWS5LgQQQAABBBBAAAEEEEAAgSIJ8P5dpNHIry8EgPnZt3XLPIDaevi5eAQQQAABBBBAAAEEEEAAgYwEeP/OCLrgzRAAFnyAQu0eD6BQR5brQgABBBBAAAEEEEAAAQQQKJIA799FGo38+kIAmJ99W7fMA6ith5+LRwABBBBAAAEEEEAAAQQQyEiA9++MoAveDAFgwQco1O7xAAp1ZLkuBBBAAAEEEEAAAQQQQACBIgnw/l2k0civLwSA+dm3dcs8gNp6+Ll4BBBAAAEEEEAAAQQQQACBjAR4/84IuuDNEAAWfIBC7R4PoFBHlutCAAEEEEAAAQQQQAABBBAokgDv30Uajfz6QgCYn31bt8wDqK2Hn4tHAAEEEEAAAQQQQAABBBDISID374ygC94MAWDBByjU7vEACnVkuS4EEEAAAQQQQAABBBBAAIEiCfD+XaTRyK8vBID52bd1yzyA2nr4uXgEEEAAAQQQQAABBBBAAIGMBHj/zgi64M0QABZ8gELtHg+gUEeW60IAAQQQQAABBBBAIEyBb775xnzxxRdmypQpZtasWebrr78O80K5qsIJdO3a1XTv3t307NnTdOvWreX+8f7dMlmQJxAABjmsxb8oHkDFHyN6iAACCCCAAAIIIIAAAv8VmDp1qnn//ffN7NmzIUEgV4EFF1zQ9OnTx3Tp0iVxP3j/TkwV9IEEgEEPb3EvjgdQcceGniGAAAIIIIAAAggggMD/BGqFfwpfNCuLgkAWAl999VWHZnr16mUWXXTRxE3z/p2YKugDCQCDHt7iXhwPoOKODT1DAAEEEEAAAQQQQACB/wpo2e/EiRMrM/++9a1vmYUXXtgux2xlBhaeCLgIaLn5Z599ZiZNmlSpZoUVVjDzzjtvomp5/07EFPxBBIDBD3ExL5AHUDHHhV4hgAACCCCAAAIIIIDA/wT0vT8t/VVR+LfUUksR/HGD5CagAPCTTz6x7S+22GI2jE5SeP9OohT+MQSA4Y9xIa+QB1Ahh4VOIYAAAggggAACCCCAQEzgvffes9//U1lmmWVMjx498EEgN4EZM2aYf/zjH5VAeumll07UF96/EzEFfxABYPBDXMwL5AFUzHGhVwgggAACCCCAAAIIIPA/gbfeesvMnDnTzvpbaaWVmP3HzZGrgDahmTBhgl2SruW/WgacpPD+nUQp/GMIAMMf40JeIQ+gQg4LnUIAAQQQQAABBBBAAIGYwN///nejDRjmnntus+KKK2KDQO4Cae5J3r9zH7ZCdIAAsBDD0H6d4AHUfmPOFSOAAAIIIIAAAgggUDaBNGFL2a6R/pZLIM09yft3uca4s3pLANhZstTbUIAHEDcIAggggAACCCCAAAIIFF0gTdhS9Guif+UWSHNP8v5d7jH31XsCQF+S1NOSAA+glrg4GAEEEEAAAQQQQAABBHIQSBO25NBNmmwjgTT3JO/fbXSDNLhUAkDug1wEeADlwk6jCCCAAAIIIIAAAggg0IJAmrClheo5FIGWBdLck7x/t8wc5AkEgEEOa/EvigdQ8ceIHiKAAAIIIIAAAggg0O4CacKWdjcr+/U/9dRTZs8997SX8eCDD5qlllqqUJeU5p7k/btQQ5hbZwgAc6Nv74Z5ALX3+HP1CCCAAAIIIIAAAgiUQaDlsGXaNGOmTy/DpaXrY/fuxvToke7ckpxFAFiSgaKbLQsQALZMxgk+BAgAfShSBwIIIIAAAggggAACCHSmQMsB4EcfGTNpkjGffdaZ3cqn7p49jend25hevfJpP6NWCQAzgqaZzAUIADMnp0EJEAByHyCAAAIIIIAAAggggEDRBVIFgBMnGnPIIUW/tNb7N3y4MX37EgC2Luf1jJbvSd6/vfqXuTICwDKPXon7TgBY4sGj6wgggAACCCCAAAIItIlAy2GLZgASAJb67mAGYKmHj843ECAA5PbIRYAAMBd2GkUAAQQQQAABBBBAAIEWBAgAY1gZzACMh2/jx483l19+ubn55pvNlClTTJ8+fcxBBx1kttlmG9upDz74wPzpT38yjz76qPnwww9Nly5dzNJLL2022mgjs/fee5uFFlqo7khPnjzZXHPNNXaTj/fee8/MP//8Zp111jEHHnig+eyzz9gEpIXfEQ4tjwABYHnGKqieEgAGNZxcDAIIIIAAAggggAACQQoQAOYXAA4aNMjccMMNHe6rm266yay55prmL3/5izn66KPNzJkza953PXv2NJdccolZe+215/j5yy+/bA444ADzySefzPGzeeaZx+y+++42WFRhF+Agf63b9qIIANt26PO9cALAfP1pHQEEEEAAAQQQQAABBJoLEADmFwCq5c0228wcdthhZt555zVjxowxu+22m3niiSfMvvvua7755huz8sorm6FDh9pQ8OuvvzbPPvusGT58uHn77bdNjx49zO23326WW265ykV8+umnZosttrCz/BQSHnHEEWaDDTawdSnsO//8883UqVMrxxMANv8d4YjyCBAAlmesguopAWBQw8nFIIAAAggggAACCCAQpAABYH4B4FJLLWXuvfdeM/fcc1c6oZBPoaCW7a6++urmuuuuM/PNN1+He+/zzz8322+/vT1m4403Npdddlnl56eeeqq59tprjWb63XLLLaZfv34dzh03bpzRzMMvv/zS/jkBYJC/1m17UQSAbTv0+V44AWC+/rSOAAIIIIAAAggggAACzQUIAPMLAPfaay9zzDHHdBikRx55xC7fVbn66qtN//79aw7irbfeao499lj7XUDNHOzdu7eZPXu2WW+99ezS3x122MGcfvrpNc89/vjj7XcHCQCb/35wRLkECADLNV7B9JYAMJih5EIQQAABBBBAoIQCM2bMMPqHUk6Bbt26Gf1D6XwBAsD8AsBhw4aZn//85x0G+ayzzjJXXnml/bOxY8fOMfsvOvif//yn2W677ex/XnjhhWbzzTc3EyZMqGwgomXCWgpcq2hTkf32248AsPN/vWghYwECwIzBae6/AgSA3AkIIIAAAggggEB+Avr+lb6FpeV0lHIJdO3a1e5uqu+XUTpfgAAwZpzxLsC///3v7Y6+8aLv/d13330tDbw2C9GuwPHZg6NGjZpj+W9U6fvvv2+XDquwBLglag4uuAABYMEHKNTuEQCGOrJcFwIIIIAAAgiUQUAB4Mcff2y/kUUpl4C+i7booosSAGY0bASA+QWAI0aMMAMGDOgw0vvss4/dBKSVotDw4IMPNqNHj7abfqjcc889Zvnll69ZzZQpU8wPf/hDAsBWkDm2FAIEgKUYpvA6SQAY3phyRQgggAACCCBQHgECwPKMVXVPCQCzHTsCwGIFgEOGDDEPPfSQ6dWrl3nsscdauhn0LcD999/fnqPdgVdZZZWa5+svR/StQBVmALZEzMEFFyAALPgAhdo9AsBQR5brQgABBBBAAIEyCBAAlmGUaveRADDbsSMALFYAeMopp9idf7UU/tlnnzXdu3dPfEO88cYbZquttrLHn3POOWbrrbeuee4LL7xgdt11VwLAxLIcWBYBAsCyjFRg/SQADGxAuRwEEEAAAQQQKJUAAWCphqtDZwkAsx07AsBiBYB33323OfTQQ22nzj//fLPlllvWvCG03Fe7+S6xxBLmpJNOMmuvvbY9Tt/20zf+tAGINgKpVfTnl156KQFgtr9qtJaBAAFgBsg0MacAASB3BQIIIIAAAgggkJ8AAWB+9q4tEwC6CrZ2PgFgsQLAmTNn2hBPy3SXXHJJM3LkSLPwwgt3GNTJkyebXXbZxWgnYG2WoyXDPXr0sMdcdNFF5uKLLzZdunSxuwlHS32jCt599127e/AXX3xBANjarwpHl0CAALAEgxRiFwkAQxxVrgkBBBBAAAEEyiJAAFiWkZqznwSA2Y4dAWCxAkD1Jj4LUCHgr3/9a7Puuuvajo4bN85ccMEFRst9VbRkeOedd65chALEbbbZxrz99tumW7duRhuEaBbhvPPOa78pqKXBChCjHdL5BmC2v2+01rkCBICd60vtdQQIALk1EEAAAQQQQACB/AQIAPOzd22ZANBVsLXzCQCLFwCqRzfddJM59dRTzZdffllzQDXD76CDDrIBX3XR7ufaDOStt96a42dzzTWXOfLII80ZZ5xhf0YA2NrvC0cXW4AAsNjjE2zvCACDHVouDAEEEEAAAQRKIEAAWIJBqtNFAsBsxy5VADhpkjGffZZtR7NorWdPY3r3NqZXr05r7amnnjJ77rmnrX/EiBFmwIABddvSct2rr77ajB071nzwwQc2DOzdu7f93t/gwYPN6quvXvfcadOmmVtuucXoW4GaDahNRdZYYw1z4IEHmmWXXdb8+Mc/JgDstFGm4rwECADzkm/zdgkA2/wG4PIRQAABBBBAIFcBAsBc+Z0aJwB04mv55JYDwGnTjJk+veV2SnOCdt39/9/TK02fA+toy/ekMYb378BugpSXQwCYEo7T3AR4ALn5cTYCCCCAAAIIIOAiQADoopfvuQSA2fqnCVuy7SGttZtAmnuS9+92u0tqXy8BIPdBLgI8gHJhp1EEEEAAAQQQQMAKEACW90YgAMx27NKELdn2kNbaTSDNPcn7d7vdJQSAjHiBBHgAFWgw6AoCCCCAAAIItJ0AAWB5h5wAMNuxSxO2ZNtDWms3gTT3JO/f7XaXEAAy4gUS4AFUoMGgKwgggAACCCDQdgIEgOUdcgLAbMcuTdiSbQ9prd0E0tyTvH+3211CAMiIF0iAB1CBBoOuIIAAAggggEDbCRAAlnfICQCzHbs0YUu2PaS1dhNIc0/y/t1udwkBICNeIAEeQAUaDLqCAAIIIIAAAm0nQABY3iEnAMx27NKELdn2kNbaTSDNPcn7d7vdJQSAjHiBBHgAFWgw6AoCCCCAAAIItJ0AAWB5h5wAMNuxSxO2ZNtDWms3gTT3JO/f7XaXEAAy4gUS4AFUoMGgKwgggAACCCDQdgIEgOUdcgLAbMcuTdiSbQ9prd0E0tyTvH+3211CAMiIF0iAB1CBBoOuIIAAAggggEDbCRAAlnfICQCzHbs0YUu2PaS1dhNIc0/y/t1udwkBICNeIAEeQAUaDLqCAAIIIIAAAm0nQABY3iEnAMx27NKELdn2kNbaTSDNPcn7d7vdJQSAjHiBBHgAFWgw6AoCCCCAAAIItJ0AAWB5h5wAMNuxSxO2ZNtDWms3gTT3JO/f7XaXEAAy4gUS4AFUoMGgKwgggAACCCDQdgIEgOUdcgLAbMcuTdiSbQ9prd0E0tyTvH+3211CAMiIF0iAB1CBBoOuIIAAAggggEDbCRAAlnfICQCzHbs0YUu2PaS1dhNIc0/y/t1udwkBICNeIAEeQAUaDLqCAAIIIIAAAm0nQABY3iEnAMx27NKELdn2kNbaTSDNPcn7d7vdJQSAjHiBBHgAFWgw6AoCCCCAAAIItJ0AAWB5h5wAMNuxSxO2ZNtDWsN1q5gAACAASURBVGs3gTT3JO/f7XaXEAAy4gUS4AFUoMGgKwgggAACCCDQdgIEgOUdcgLAbMcuTdiSbQ9prd0E0tyTvH+3211CAMiIF0iAB1CBBoOuIIAAAggggEDbCRAAlnfICQCzHbs0YUu2PaS1dhNIc0/y/t1udwkBICNeIAEeQAUaDLqCAAIIIIAAAm0nQABY3iEnAMx27NKELdn2kNbaTSDNPcn7d7vdJQSAjHiBBHgAFWgw6AoCCCCAAAIItJ0AAWB5h5wAMNuxSxO2ZNtDWstL4OuvvzZdu3bNvPk09yTv35kPUyEb7DJ79uzZhewZnQpagAdQ0MPLxSGAAAIIIIBAwQUIAAs+QA26RwCY7dilCVuy7SGt1RJ47733zMCBA+2PTj31VLPTTju1BHXUUUeZUaNGmcUWW8yMGTOmw7mzZs0yf/jDH8y8885rDjjggJbq9XFwmnuS928f8uWvgwCw/GNYyivgAVTKYaPTCCCAAAIIIBCIAAFgeQeSADDbsWs1bJkxY4bRP6GWbt26Gf1T9NKZAeCgQYPMc889Zw4++GAzdOjQzClavSfVQd6/Mx+mQjZIAFjIYQm/UzyAwh9jrhABBBBAAAEEiitAAFjcsWnWMwLAZkJ+f95q2KLfrU8//dRoeWhoRctdF1poIdOzZ8/CX5prAHj22Web++67z/Tq1cvccMMNHa534403Nu+//z4BYOHvAjpYLUAAyD2RiwABYC7sNIoAAggggAACCFgBAsDy3ggEgNmOXZoA8OOPPzYKoEIrZbr3XAPARmNHABjand0+10MA2D5jXagrJQAs1HDQGQQQQAABBBBoMwECwPIOeJlCmPIq/6/nBID/syjTvUcA2PG3j/fvEJ5G7tdAAOhuSA0pBHgApUDjFAQQQAABBBBAwJMAAaAnyByqKVMIkwOP9yYJALMJAHfZZRfz4osvmv79+5urr756jnG8++67zaGHHmr//Pjjjze77777HMfoe3xatqsZer/73e86bAKy4YYb2o07Hn74Yfs9vG9/+9tmlVVWMXvssYf5yU9+MkddtTYB0bFPP/30HMcuueSS5qGHHurw51oGruv429/+Zt599127JLxPnz5m/fXXN7/4xS/sv6ctrd6Taof377TaYZ1HABjWeJbmangAlWao6CgCCCCAAAIIBChAAFjeQSUAzHbsWg1bQv7d6sx777LLLjMXXHCB3Vn32WefNfPNN1+HgVbod/PNN9s/22KLLczw4cM7/Pyrr76y4eHUqVPtrr/rrrtuJQDccccdzQMPPGA/fVCrHH744XPs5usSAD755JPm17/+tfn8889rtqdNVM466yyz+eabp7qZW70nCQBTMQd5EgFgkMNa/IsiACz+GNFDBBBAAAEEEAhXIOSQItxR+++VdWYIE7pdmutrNWwJ+XerM++91157zWy33XZ2iEaMGGEGDBjQYbg222wz884779g/W2SRRcwTTzzR4efPPPOMGTx4sOnSpYsZM2aMmTVrViUA1IEK3X71q1/Z8FDhokK6M844w4aCc889t9EMw2WXXbZSZ60AULs7aybfz372M/PBBx+YX/7yl/afueaay8w///z23IkTJ5qddtrJ7gQtLwWBCibVxssvv2wuuugiM378ePvf11xzjVlrrbVavi1bvScJAFsmDvYEAsBgh7bYF0YAWOzxoXcIIIAAAgggELZAyCFF2CNHAJj1+LYatoT8u9WZAaDGVUtx//3vf9vZeJqVFxWFbRtttJFdtjtt2jTzzTff2MBuhRVWqBxz7rnn2iW+q622mhk5cqTdhGXgwIH25woFFbb96Ec/6nD7aNnukCFD7J8dffTRZu+9924YAEY/bLQJiEJIhZGyUj+0a3K8KJjUMS+99JJZaaWVzJ133tnyLd3qPUkA2DJxsCcQAAY7tMW+MALAYo8PvUMAAQQQQACBsAVCDinCHjkCwKzHt9WwJeTfrc4OAI877jhzyy23mFVXXdXcdtttlaHWvx9zzDE20NP39DTL7oQTTjCDBg2qHLPtttua119/3c64O+iggzoEgAoW//jHP85x62g235prrmlmzpxpvymoZcZRqTUDsFkA+MYbb5itttrKHnb66aebHXbYoebtOnbs2ErYqOtdY401WrqtW70nCQBb4g36YALAoIe3uBdHAFjcsaFnCCCAAAIIIBC+QMghReij19khTOh+rV5fq2FLyL9bnX3v6Tt9Cu+0pFZLdBdccEE7XEcccYQZPXq0DQHffPNN+y3ALbfc0px//vn255o1GG3kMWrUKNOvX78OAWAUCtYa+w022MBukKHlx2eeeaZTAHj99debk08+2dah2X/LL798zdtNgeOPf/xju5z4yCOPtJuCtFJavScJAFvRDftYAsCwx7ewV0cAWNihoWMIIIAAAggg0AYCIYcUoQ9fZ4cwofu1en2thi0h/2519r03ffp0s84669jv9+lbefrun4rCso8++sjccccddpafQrNevXqZxx57rBK2adffxRdf3DzyyCP2z+JLgOvtGqzjouW8W2+9tTnnnHOcAsBhw4bZ7xe2Uvbcc0+7Y3ErpdV7kgCwFd2wjyUADHt8C3t1BICFHRo6hgACCCCAAAJtIBBySBH68HV2CBO6X6vX12rYEvLvVhb33r777muDPS3v1TLfaFltz5497axAzfbTrD2Ve+65x86y0wy/e++91+y6667mpJNOmiMA1K7A2pijVvEZAB577LHm1ltvbekW23777e1mJK2UVu9JAsBWdMM+lgAw7PEt7NURABZ2aOgYAggggAACCLSBQMghRejDl0UIE7phK9fXatgS8u9WFvfetddeaxTYLbfccjbUi/570003NRdffLEdumhHYIV9O+64o1l33XXNlClT7CYgUTgYnwGYVQCodtRflXHjxtndhjujtHpPEgB2xiiUs04CwHKOW+l7TQBY+iHkAhBAAAEEEECgxAIhhxQlHpZEXc8ihEnUkTY5qNWwJeTfrSzuPW3ysckmm9i76+GHH7abadx33312mayWy6pEm4Voww3NFNQGHvPPP7956qmnKqFbHgHgVVddVfmOYPUuxdW/LrNnz7a7E6cprd6TBIBplMM8hwAwzHEt/FURABZ+iOggAggggAACCAQsEHJIEfCw2UvLIoQJ3bCV62s1bAn5dyure++nP/2peeutt8xpp51mzjvvPPPJJ5+YO++806y00kp26O666y5z+OGH2+8Aagnt5Zdfbr/ld9lll1WGNo8AULP+oqXG6t8BBxxQ81Z7/vnn7S7Affr0Mb/5zW+MrreV0uo9SQDYim7YxxIAhj2+hb06AsDCDg0dQwABBBBAAIE2EAg5pAh9+LIKYUJ3THp9rYYtIf9uZXXvaTdezaZbZZVVzCuvvGIWWmghM3bs2MqMOW0Ioo1BVBZeeGEzefJku2w4/p2/zgwAoyXIv/zlL81hhx3W4Vbadttt7UYlCyywgP0eoJYyx8uMGTPMXnvtZV588UUzzzzz2GXOSy65ZNLb0R7X6j1JANgSb9AHEwAGPbzFvTgCwOKODT1DAAEEEEAAgfAFQg4pQh+9rEKY0B2TXl+rYUvIv1tZ3Xtayhst99U4bb755ubCCy/sMGTRLEH9oZbSjhkzxvTu3btyTGcGgDvvvLN56aWXTL9+/Wy/evToYYNIFc3u22OPPcxXX31ltHHJ0KFDzYYbbmiXKL/22mv2O4YvvPCCPfbAAw80hx56aNJbsXJcq/ckAWDLxMGeQAAY7NAW+8IIAIs9PvQOAQQQQAABBMIWCDmkCHvkWAKc9fi2GraE/LuVVQCo8Kx///5m6tSpdrj1zb/Bgwd3GPoTTzzR3HjjjfbPVlttNTNy5MgOP+/MAPDcc8+1G45ERTP5FOrpf1UefPBBc8QRR5jp06fXvV01W1GbmHTt2rXlW7rVe5IAsGXiYE8gAAx2aIt9YQSAxR4feocAAggggAACYQuEHFKEPXIEgFmPb6thi363Pv30U/P1119n3dVOb09hlZbjamZbZ5dDDjnE/PWvf7XNjB492vTt27dDk/fcc4/9fp6KZtkdfPDBmQWAM2fONGeffbbtn8Zbs/+uv/56s/TSS1f68PHHH9sdgR955BGjjU10juzWXHNNs8suu5j11lsvNWGr9yQBYGrq4E4kAAxuSMtxQQSA5RgneokAAggggAACYQoQAJZ3XLOahVVeIb89bzVs0Tfe9E+opVu3bkb/UPITaPWeJADMb6yK1jIBYNFGpE36QwDYJgPNZSKAAAIIIIBAIQUIAAs5LIk6RQCYiMnbQWnCFm+NUxECNQTS3JO8f3MrSYAAkPsgFwEeQLmw0ygCCCCAAAIIIGAFCADLeyMQAGY7dmnClmx7SGvtJpDmnuT9u93uktrXSwDIfZCLAA+gXNhpFAEEEEAAAQQQIAAs+T1AAJjtAKYJW7LtIa21m0Cae5L373a7SwgAO33E9YHP2267zbz44otm8uTJZt555zXLLrus2WCDDew25tHW4NUd+fLLL+0ORnfeead58803zezZs82SSy5pNtlkE7PPPvs0/cjqhAkTzBVXXGG0Xbra1UdZV111VTNo0CDzk5/8pOF1u7adFpUHUFo5zkMAAQQQQAABBNwFmAHobphXDQSA2cqnCVuy7SGttZtAmnuS9+92u0sIADttxLVN+VFHHWV3J6pXFllkEXPJJZfYXX/iRbsB7bvvvuaZZ56peWrv3r3NlVdeOceuR9HBDzzwgN39SEFerbLHHnuYY489tubPXNt2AeUB5KLHuQgggAACCCCAgJsAAaCbX55nEwBmq58mbMm2h7TWbgJp7knev9vtLiEA7LQRP/PMM81VV11l6x84cKDZb7/9zHe+8x0zadIku+33pZdeav7zn//YmXma5bfYYotV+qLwTluYzzPPPHbr8p/97Gd25uDDDz9stxafMmWKnQ141113me7du3e4hldeecXstttudkvx1VZbzfz2t781K664onnvvffMZZddZh588EF7/PHHH2923333Oa7fpW1XTB5AroKcjwACCCCAAAIIpBcgAExvl/eZBIDZjkCasCXbHtJauwmkuSd5/263u4QAsFNG/N///rfZeOONjWYBbr311uacc86Zo51x48bZoE7HKIhTIKeiP99pp53sv5944on2mHgZP368/TPN7lNYN2TIkA4/33///c2YMWPMMsssY/785z+bHj16VH6uZcRDhw41999/vw0eFQZ+61vfqvzctW1XTB5AroKcjwACCCCAAAIIpBcgAExvl/eZBIDZjkCasCXbHtJauwmkuSd5/263u4QAsFNG/Prrrzcnn3yyrfuhhx6ys/VqFc3uUxinn+s4lWgGnv5MP+vatescpx599NHm9ttv73CeDtK3Arfcckt7/KmnnloJEuMVaCagviOoMPD00083O+ywQ+XHLm37gOQB5EOROhBAAAEEEEAAgXQCBIDp3IpwFgFgtqOQJmzJtoe01m4Cae5J3r/b7S4hAOyUET///PPNn/70Jzu77vHHH6/bxllnnWW/5aelvi+//LIN5X74wx+aqVOn2s06TjjhhJrn6ht/Bx10kP2ZZvl973vfs/8+YsQIM2zYMNOlSxfbrr4xWKtsu+225vXXX7dLk7UUWcW1bR+QPIB8KFIHAggggAACCCCQToAAMJ1bEc4iAMx2FNKELdn2kNbaTSDNPcn7d7vdJQSAnTriX3zxRYclttWNKcRTmLfooovawO7dd9+1s/NUTjvtNLPjjjvW7N/7779vlxirxGf66Xt/d9xxh+nTp4/9XmC9Es0gXHzxxe33CFVc2/YByQPIhyJ1IIAAAggggAAC6QQIANO5FeEsAsBsRyFN2JJtD2mt3QTS3JO8f7fbXUIAmNuIf/jhh2bTTTe13/LbbLPNzEUXXWSefPJJs9dee9k+aQbhuuuuW7N/+m7g6quvbr7++mv7DUAt3VUZPHiw3Tl47bXXNlqGXK+orYsvvtjOFNQ3BTUD0bVtH5A8gHwoUgcCCCCAAAIIIJBOgAAwnVsRziIAzHYU0oQt2faQ1tpNIM09yft3u90lBIC5jPg333xjDjjgAPPoo492CPu0828U5o0aNcr069evbv/WWmstoxmG8Q1EttpqK/PGG2/Y2YHa8bdeUbh4xhln2B+PHTvWLLzwwnbXYZe2k0DqAdOoaIfkaAMUzUzUDEUKAggggAACCCCAQDYCBIDZOHdGKwSAnaFav840YUu2PaS1dhNIc08SALbbXUIAmMuIa9nutddea9tWaHfeeefZf9f3/I488kj773fffbdZYYUV6vZvvfXWMx9//LHdxEObeaho+bCW8mojEH2HsF658cYb7Q7DKloqrCXDrm0ngVxppZWSHGaPIQBMTMWBCCCAAAIIIICAFwECQC+MuVRCAJgt+1tvvWVmzpxpG+3bt2/NjRuz7RGttbOAJhhNnDjRftd/vvnmM8svv3wiDgLAREzBH9Rltu4cineBaOfda665pvJ/FjfddJPp0aOH/e/Ro0ebI444wv67ZuQ1+sUdMGCA+eSTT+yMOQWKKptvvrl5++23O4SKtS7ihhtuMCeddJL90ZgxY8xiiy3m3HYSLALAJEocgwACCCCAAAII5CNAAJiPu49WCQB9KCavQ8HJp59+ak/o3bt33c0Xk9fIkQikF5gyZYrRPgEqPXv2tBN8khQCwCRK4R9DANgJYzxr1iyjzTfuuusuW7tm91199dWmV69eldYefPBB86tf/cr+d3x331rdiZYA67t/xx13nD3k5z//uXn11Vc77O5b69z4EmB9+2+hhRYyrm0nIWMJcBIljkEAAQQQQAABBPIRIADMx91HqwSAPhST1zFjxgzzj3/8o3LCIossYhZYYAE7+0rfWacgkIWAZv7ps2B6z9b+ACpLL710w41I4/0iAMxilIrfBgGg5zGaPHmy0Y6/zz//vK15lVVWMVdccYX99l68PP3002aPPfawf6Qlwj/60Y9q9iS+CcjQoUPNwQcfbI/TuapD50VLjGtVcOGFF5pLLrnEzDXXXOaVV16x/+vatg8yHkA+FKkDAQQQQAABBBBIJ0AAmM6tCGcRAGY/Ch988IH5/PPPOzSs8K9r167Zd4YW21JAoV988eb8889vll122cQhNO/fbXnbzHHRBIAe7wMtydWGH++8846tdf311zfDhw+vLPuNN6VNMPRzlTPPPNNst912NXui6b3a6ENFm3lsv/329t+PP/54c/PNN9vU/4EHHqh7FZqJePvtt5sll1zSPPTQQ/Y417Z9kPEA8qFIHQgggAACCCCAQDoBAsB0bkU4iwAw+1FQ8KJPMn300UfZN06LCFQJKPxbZpll7OSepIX376RSYR9HAOhpfF9//XWz9957V74PsfPOO5sTTjjBzD333HVb6N+/vz1e5ymoq1Xuv//+yqy/+FLh66+/3px88sn2l/6pp56y09BrlW222cZMmDBhjqXCLm37IOMB5EOROhBAAAEEEEAAgXQCBIDp3IpwFgFgfqOgTz1pGea0adOM/l3LMikIZCGg2aYK/r797W/bCUatLj/n/TuLUSp+GwSAHsZIM/522203+7dCKoccckjl+36NqtcuwAr1lltuObsRSK0E/6ijjjKjRo2y3w989NFHK7/o2gFYOwGrnH322UZBX3XRMZtuuqmdKqydgNXHqLi07YHMfrtggw02sFWxC7APUepAAAEEEEAAAQSSCxAAJrcq2pEEgEUbEfqDQPEFeP8u/hhl0UMCQEdl/c3Prrvuar+vp6KZfJrRl6SMHTu2cqyW9O6+++4dThs3bpwN7fQdQO0YvP/++3f4+aBBg8xzzz1nA8SRI0favw2IikI/fS9Qy4O18YeW/3bv3r3yc9e2k1xfo2N4ALkKcj4CCCCAAAIIIJBegAAwvV3eZxIA5j0CtI9A+QR4/y7fmHVGjwkAHVWvu+46c8opp9hatthiC3P66ac3rVFTdqMyZMgQG85pSq8Cvh133NF069bNPPzww3Zmnz42q/+Tv+OOO+bY4Wf8+PFGS4019bxv375Gs/r69etnPvzwQ7vxh3b7VakVLurPXdpuepFNDuAB5CrI+QgggAACCCCAQHoBAsD0dnmfSQCY9wjQPgLlE+D9u3xj1hk9JgB0VN1ss80qm34krUrf5IuKAr59993XKMyrVRZddFGj7/1pll+tog0+jjvuODtLsFbZZ599jJYR1yqubSe93lrH8QBy0eNcBBBAAAEEEEDATYAA0M0vz7MJAPPUp20EyinA+3c5x813rwkAHUS1gYc202i1xANAnfvll1+aG2+80YwePdq8+eab9oOy2rV3o402srMCF1lkkYZNqL4rr7zSbgai7xBqqe+qq65qtEQ4+k5gvQpc22712qPjeQClleM8BBBAAAEEEEDAXYAA0N0wrxoIAPOSp10EyivA+3d5x85nzwkAfWpSV2IBHkCJqTgQAQQQQAABBBDwLkAA6J00swoJADOjpiEEghHg/TuYoXS6EAJAJz5OTivAAyitHOchgAACCCCAAALuAgSA7oZ51UAAmJc87SJQXgHev8s7dj57TgDoU5O6EgvwAEpMxYEIIIAAAggggIB3AQJA76SZVUgAmBk1DSEQjADv38EMpdOFEAA68XFyWgEeQGnlOA8BBBBAAAEEEHAXIAB0N8yrBgLAvORpF4HyCvD+Xd6x89lzAkCfmtSVWIAHUGIqDkQAAQQQQAABBLwLEAB6J82sQgLAzKhpCIFgBHj/DmYonS6EANCJj5PTCvAASivHeQgggAACCCCAgLsAAaC7YV41EADmJU+7CJRXgPfv8o6dz54TAPrUpK7EAjyAElNxIAIIIIAAAggg4F2AANA7aWYVEgBmRk1DCAQjwPt3MEPpdCEEgE58nJxWgAdQWjnOQwABBBBAAAEE3AUIAN0N86qBADAvedpFoLwCvH+Xd+x89pwA0KcmdSUW4AGUmIoDEUAAAQQQQAAB7wIEgN5JM6uQADAzahpCIBgB3r+DGUqnCyEAdOLj5LQCPIDSynEeAggggAACCCDgLkAA6G6YVw0EgHnJ0y4C5RXg/bu8Y+ez5wSAPjWpK7EAD6DEVByIAAIIIIAAAgh4FyAA9E6aWYUEgJlR0xACwQjw/h3MUDpdCAGgEx8npxXgAZRWjvMQQAABBBBAAAF3AQJAd8O8aiAAzEuedhEorwDv3+UdO589JwD0qUldiQV4ACWm4kAEEEAAAQQQQMC7AAGgd9LMKiQAzIyahhAIRoD372CG0ulCCACd+Dg5rQAPoLRynIcAAggggAACCLgLEAC6G+ZVAwFgXvK0i0B5BXj/Lu/Y+ew5AaBPTepKLMADKDEVByKAAAIIIIAAAt4FCAC9k2ZWIQFgZtQ0hEAwArx/BzOUThdCAOjEx8lpBXgApZXjPAQQQAABBBBAwF2AANDdMK8aCADzkqddBMorwPt3ecfOZ88JAH1qUldiAR5Aiak4EAEEEEAAAQQQ8C5AAOidNLMKCQAzo6YhBIIR4P07mKF0uhACQCc+Tk4rwAMorRznIYAAAggggAAC7gIEgO6GedVAAJiXPO0iUF4B3r/LO3Y+e04A6FOTuhIL8ABKTMWBCCCAAAIIIICAdwECQO+kmVVIAJgZNQ0hEIwA79/BDKXThRAAOvFxcloBHkBp5TgPAQQQQAABBBBwFyAAdDfMqwYCwLzkaReB8grw/l3esfPZcwJAn5rUlViAB1BiKg5EAAEEEEAAAQS8CxAAeifNrEICwMyoaQiBYAR4/w5mKJ0uhADQiY+T0wrwAEorx3kIIIAAAggggIC7AAGgu2FeNRAA5iVPuwiUV4D37/KOnc+eEwD61KSuxAI8gBJTcSACCCCAAAIIIOBdgADQO2lmFRIAZkZNQwgEI8D7dzBD6XQhBIBOfJycVoAHUFo5zkMAAQQQQAABBNwFCADdDfOqgQAwL3naRaC8Arx/l3fsfPacANCnJnUlFuABlJiKAxFAAAEEEEAAAe8CBIDeSTOrkAAwM2oaQiAYAd6/gxlKpwshAHTi4+S0AjyA0spxHgIIIIAAAggg4C5AAOhumFcNBIB5ydMuAuUV4P27vGPns+cEgD41qSuxAA+gxFQciAACCCCAAAIIeBcgAPROmlmFBICZUdMQAsEI8P4dzFA6XQgBoBMfJ6cV4AGUVo7zEEAAAQQQQAABdwECQHfDvGogAMxLnnYRKK8A79/lHTufPScA9KlJXYkFeAAlpuJABBBAAAEEEEDAuwABoHfSzCokAMyMmoYQCEaA9+9ghtLpQggAnfg4Oa0AD6C0cpyHAAIIIIAAAgi4CxAAuhvmVQMBYF7ytItAeQV4/y7v2PnsOQGgT03qSizAAygxFQcigAACCCCAAALeBQgAvZNmViEBYGbUNIRAMAK8fwczlE4XQgDoxMfJaQV4AKWV4zwEEEAAAQQQQMBdgADQ3TCvGggA85KnXQTKK8D7d3nHzmfPCQB9alJXYgEeQImpOBABBBBAAAEEEPAuQADonTSzCgkAM6OmIQSCEeD9O5ihdLoQAkAnPk5OK8ADKK0c5yGAAAIIIIAAAu4CBIDuhnnVQACYlzztIlBeAd6/yzt2PntOAOhTk7oSC/AASkzFgQgggAACCCCAgHcBAkDvpJlVSACYGTUNIRCMAO/fwQyl04UQADrxcXJaAR5AaeU4DwEEEEAAAQQQcBcgAHQ3zKsGAsC85GkXgfIK8P5d3rHz2XMCQJ+a1JVYgAdQYioORAABBBBAAAEEvAsQAHonzaxCAsDMqGkIgWAEeP8OZiidLoQA0ImPk9MK8ABKK8d5CCCAAAIIIICAuwABoLthXjUQAOYlT7sIlFeA9+/yjp3PnhMA+tSkrsQCPIASU3EgAggggAACCCDgXYAA0DtpZhUSAGZGTUMIBCPA+3cwQ+l03/coGwAAIABJREFUIQSATnycnFaAB1BaOc5DAAEEEEAAAQTcBQgA3Q3zqoEAMC952kWgvAK8f5d37Hz2nADQpyZ1JRbgAZSYigMRQAABBBBAAAHvAgSA3kkzq5AAMDNqGkIgGAHev4MZSqcLIQB04uPktAI8gNLKcR4CCCCAAAIIIOAuQADobphXDQSAecnTLgLlFeD9u7xj57PnBIA+NakrsQAPoMRUHIgAAggggAACCHgXIAD0TppZhQSAmVHTEALBCPD+HcxQOl0IAaATHyenFeABlFaO8xBAAAEEEEAAAXcBAkB3w7xqIADMS552ESivAO/f5R07nz0nAPSpSV2JBXgAJabiQAQQQAABBBBAwLsAAaB30swqJADMjJqGEAhGgPfvYIbS6UIIAJ34ODmtAA+gtHKchwACCCCAAAIIuAsQALob5lUDAWBe8rSLQHkFeP8u79j57DkBoE9N6koswAMoMRUHIoAAAggggAAC3gUIAL2TZlYhAWBm1DSEQDACvH8HM5ROF0IA6MTHyWkFeAClleM8BBBAAAEEEEDAXYAA0N0wrxoIAPOSp10EyivA+3d5x85nzwkAfWpSV2IBHkCJqTgQAQQQQAABBBDwLkAA6J00swoJADOjpiEEghHg/TuYoXS6EAJAJz5OTivAAyitHOchgAACCCCAAALuAgSA7oZ51UAAmJc87SJQXgHev8s7dj57TgDoU5O6EgvwAEpMxYEIIIAAAggggIB3AQJA76SZVUgAmBk1DSEQjADv38EMpdOFEAA68XFyWgEeQGnlOA8BBBBAAAEEEHAXIAB0N8yrBgLAvORpF4HyCvD+Xd6x89lzAkCfmtSVWIAHUGIqDkQAAQQQQAABBLwLEAB6J82sQgLAzKhpCIFgBHj/DmYonS6EANCJj5PTCvAASivHeQgggAACCCCAgLsAAaC7YV41EADmJU+7CJRXgPfv8o6dz54TAPrUpK7EAjyAElNxIAIIIIAAAggg4F2AANA7aWYVEgBmRk1DCAQjwPt3MEPpdCEEgE58nJxWgAdQWjnOQwABBBBAAAEE3AUIAN0N86qBADAvedpFoLwCvH+Xd+x89pwA0KcmdSUW4AGUmIoDEUAAAQQQQAAB7wIEgN5JM6uQADAzahpCIBgB3r+DGUqnCyEAdOLj5LQCPIDSynEeAggggAACCCDgLkAA6G6YVw0EgHnJ0y4C5RXg/bu8Y+ez5wSAPjWpK7EAD6DEVByIAAIIIIAAAgh4FyAA9E6aWYUEgJlR0xACwQjw/h3MUDpdCAGgEx8npxXgAZRWjvMQQAABBBBAAAF3AQJAd8O8aiAAzEuedhEorwDv3+UdO589JwD0qUldiQV4ACWm4kAEEEAAAQQQQMC7AAGgd9LMKiQAzIyahhAIRoD372CG0ulCCACd+Dg5rQAPoLRynIcAAggggAACCLgLEAC6G+ZVAwFgXvK0i0B5BXj/Lu/Y+ew5AaBPTepKLMADKDEVByKAAAIIIIAAAt4FCAC9k2ZWIQFgZtQ0hEAwArx/BzOUThdCAOjEx8lpBXgApZXjPAQQQAABBBBAwF2AANDdMK8aCADzkqddBMorwPt3ecfOZ88JAH1qUldiAR5Aiak4EAEEEEAAAQQQ8C5AAOidNLMKCQAzo6YhBIIR4P07mKF0uhACQCc+Tk4rwAMorRznIYAAAggggAAC7gIEgO6GedVAAJiXPO0iUF4B3r/LO3Y+e04A6FOTuhIL8ABKTMWBCCCAAAIIIICAdwECQO+kmVVIAJgZNQ0hEIwA79/BDKXThRAAOvFxcloBHkBp5TgPAQQQQAABBBBwFyAAdDfMqwYCwLzkaReB8grw/l3esfPZcwJAn5rUlViAB1BiKg5EAAEEEEAAAQS8CxAAeifNrEICwMyoaQiBYAR4/w5mKJ0uhADQiY+T0wrwAEorx3kIIIAAAggggIC7AAGgu2FeNRAA5iVPuwiUV4D37/KOnc+eEwD61KSuxAI8gBJTcSACCCCAAAIIIOBdgADQO2lmFRIAZkZNQwgEI8D7dzBD6XQhBIBOfJycVoAHUFo5zkMAAQQQQAABBNwFCADdDfOqgQAwL3naRaC8Arx/l3fsfPacANCnJnUlFuABlJiKAxFAAAEEEEAAAe8CBIDeSTOrkAAwM2oaQiAYAd6/gxlKpwshAHTi4+S0AjyA0spxHgIIIIAAAggg4C5AAOhumFcNBIB5ydMuAuUV4P27vGPns+cEgD41qSuxAA+gxFQciAACCCCAAAIIeBcgAPROmlmFBICZUdMQAsEI8P4dzFA6XQgBoBMfJ6cV4AGUVo7zEEAAAQQQQAABdwECQHfDvGogAMxLnnYRKK8A79/lHTufPScA9KlJXYkFeAAlpuJABBBAAAEEEEDAuwABoHfSzCokAMyMmoYQCEaA9+9ghtLpQggAnfg4Oa0AD6C0cpyHAAIIIIAAAgi4CxAAuhvmVQMBYF7ytItAeQV4/y7v2PnsOQGgT03qSizAAygxFQcigAACCCCAAALeBQgAvZNmViEBYGbUNIRAMAK8fwczlE4XQgDoxMfJaQV4AKWV4zwEEEAAAQQQQMBdgADQ3TCvGggA85KnXQTKK8D7d3nHzmfPCQB9alJXYgEeQImpOBABBBBAAAEEEPAuQADonTSzCgkAM6OmIQSCEeD9O5ihdLoQAkAnPk5OK8ADKK0c5yGAAAIIIIAAAu4CBIDuhnnVQACYlzztIlBeAd6/yzt2PntOAOhTk7oSC/AASkzFgQgggAACCCCAgHcBAkDvpJlVSACYGTUNIRCMAO/fwQyl04UQADrxcXJaAR5AaeU4DwEEEEAAAQQQcBcgAHQ3zKsGAsC85GkXgfIK8P5d3rHz2XMCQJ+a1JVYgAdQYioORAABBBBAAAEEvAsQAHonzaxCAsDMqGkIgWAEeP8OZiidLoQA0ImPk9MK8ABKK8d5CCCAAAIIIICAuwABoLthXjUQAOYlT7sIlFeA9+/yjp3PnhMA+tSkrsQCPIASU3EgAggggAACCCDgXYAA0DtpZhUSAGZGTUMIBCPA+3cwQ+l0IQSATnycnFaAB1BaOc5DAAEEEEAAAQTcBQgA3Q3zqoEAMC952kWgvAK8f5d37Hz2nADQpyZ1JRbgAZSYigMRQAABBBBAAAHvAgSA3kkzq5AAMDNqGkIgGAHev4MZSqcLIQB04uPktAI8gNLKcR4CCCCAAAIIIOAuQADobphXDQSAecnTLgLlFeD9u7xj57PnBIA+NakrsQAPoMRUHIgAAggggAACCHgXIAD0TppZhQSAmVHTEALBCPD+HcxQOl0IAaATHyenFeABlFaO8xBAAAEEEEAAAXcBAkB3w7xqIADMS552ESivAO/f5R07nz0nAPSpSV2JBXgAJabiQAQQQAABBBBAwLsAAaB30swqJADMjJqGEAhGgPfvYIbS6UIIAJ34ODmtAA+gtHKchwACCCCAAAIIuAsQALob5lUDAWBe8rSLQHkFeP8u79j57DkBoE9N6koswAMoMRUHIoAAAggggAAC3gUIAL2TZlYhAWBm1DSEQDACvH8HM5ROF0IA6MTHyWkFeAClleM8BBBAAAEEEEDAXYAA0N0wrxoIAPOSp10EyivA+3d5x85nzwkAfWpSV2IBHkCJqTgQAQQQQAABBBDwLkAA6J00swoJADOjpiEEghHg/TuYoXS6EAJAJz5OTivAAyitHOchgAACCCCAAALuAgSA7oZ51UAAmJc87SJQXgHev8s7dj57TgDoU5O6EgvwAEpMxYEIIIAAAggggIB3AQJA76SZVUgAmBk1DSEQjADv38EMpdOFEAA68XFyWgEeQGnlOA8BBBBAAAEEEHAXIAB0N8yrBgLAvORpF4HyCvD+Xd6x89lzAkCfmtSVWIAHUGIqDkQAAQQQQAABBLwLEAB6J82sQgLAzKhpCIFgBHj/DmYonS6EANCJj5PTCvAASivHeQgggAACCCCAgLsAAaC7YV41EADmJU+7CJRXgPfv8o6dz54TAPrUpK7EAjyAElNxIAIIIIAAAggg4F2AANA7aWYVEgBmRk1DCAQjwPt3MEPpdCEEgE58nJxWgAdQWjnOQwABBBBAAAEE3AUIAN0N86qBADAvedpFoLwCvH+Xd+x89pwA0KcmdSUW4AGUmIoDEUAAAQQQQAAB7wIEgN5JM6uQADAzahpCIBgB3r+DGUqnCyEAdOLj5LQCPIDSynEeAggggAACCCDgLkAA6G6YVw0EgHnJ0y4C5RXg/bu8Y+ez5wSAPjWpK7EAD6DEVByIAAIIIIAAAgh4FyAA9E6aWYUEgJlR0xACwQjw/h3MUDpdCAGgEx8npxXgAZRWjvMQQAABBBBAAAF3AQJAd8O8aiAAzEuedhEorwDv3+UdO589JwD0qUldiQV4ACWm4kAEEEAAAQQQQMC7AAGgd9LMKiQAzIyahhAIRoD372CG0ulCCACd+Dg5rQAPoLRynIcAAggggAACCLgLEAC6G+ZVAwFgXvK0i0B5BXj/Lu/Y+ew5AaBPTepKLMADKDEVByKAAAIIIIAAAt4FCAC9k2ZWIQFgZtQ0hEAwArx/BzOUThdCAOjEx8lpBXgApZXjPAQQQAABBBBAwF2AANDdMK8aCADzkqddBMorwPt3ecfOZ88JAH1qUldiAR5Aiak4EAEEEEAAAQQQ8C5AAOidNLMKCQAzo6YhBIIR4P07mKF0uhACQCc+Tk4rwAMorRznIYAAAggggAAC7gIEgO6GedVAAJiXPO0iUF4B3r/LO3Y+e04A6FOTuhIL8ABKTMWBCCCAAAIIIICAdwECQO+kmVVIAJgZNQ0hEIwA79/BDKXThRAAOvFxcloBHkBp5TgPAQQQQAABBBBwFyAAdDfMqwYCwLzkaReB8grw/l3esfPZcwJAn5rUlViAB1BiKg5EAAEEEEAAAQS8CxAAeifNrEICwMyoaQiBYAR4/w5mKJ0uhADQiY+T0wrwAEorx3kIIIAAAggggIC7AAGgu2FeNRAA5iVPuwiUV4D37/KOnc+eEwD61KSuxAI8gBJTcSACCCCAAAIIIOBdgADQO2lmFRIAZkZNQwgEI8D7dzBD6XQhBIBOfJycVoAHUFo5zkMAAQQQQAABBNwFCADdDfOqgQAwL3naRaC8Arx/l3fsfPacANCnJnUlFuABlJiKAxFAAAEEEEAAAe8CBIDeSTOrkAAwM2oaQiAYAd6/gxlKpwshAHTi4+S0AjyA0spxHgIIIIAAAggg4C5AAOhumFcNBIB5ydMuAuUV4P27vGPns+cEgD41qSuxAA+gxFQciAACCCCAAAIIeBcgAPROmlmFBICZUdMQAsEI8P4dzFA6XQgBoBMfJ6cV4AGUVo7zEEAAAQQQQAABdwECQHfDvGogAMxLnnYRKK8A79/lHTufPScA9KlJXYkFeAAlpuJABBBAAAEEEEDAuwABoHfSzCokAMyMmoYQCEaA9+9ghtLpQggAnfg4Oa0AD6C0cpyHAAIIIIAAAgi4CxAAuhvmVQMBYF7ytItAeQV4/y7v2PnsOQGgT03qSizAAygxFQcigAACCCCAAALeBQgAvZNmViEBYGbUNIRAMAK8fwczlE4XQgDoxMfJaQV4AKWV4zwEEEAAAQQQQMBdgADQ3TCvGggA85KnXQTKK8D7d3nHzmfPCQB9alJXYgEeQImpOBABBBBAAAEEEPAuQADonTSzCgkAM6OmIQSCEeD9O5ihdLoQAkAnPk5OK8ADKK0c5yGAAAIIIIAAAu4CBIDuhnnVQACYlzztIlBeAd6/yzt2PntOAOhT8/+x9ybAVlTX/v8SBJHBCQeU0gwOQaIYJxSNvkgw5kWDE6iAqMSYOCY+9TkkEoxRo2I0UdQMEnkhgL4YjMEZRUQNKg+SQFD8RUorRlPOhVMYhPuvtet/b13kXM453Xv33qv701WvYrzda6/9+Xbtl/2p7tPUapgAC1DDqDgRAhCAAAQgAAEIeCeAAPSOtLCCCMDCUDMQBEpDgP13aaLMNREEYC58XJyVAAtQVnJcBwEIQAACEIAABPITQADmZxirAgIwFnnGhYBdAuy/7Wbns3MEoE+a1GqYAAtQw6g4EQIQgAAEIAABCHgngAD0jrSwggjAwlAzEARKQ4D9d2mizDURBGAufFyclQALUFZyXAcBCEAAAhCAAATyE0AA5mcYqwICMBZ5xoWAXQLsv+1m57NzBKBPmtRqmAALUMOoOBECEIAABCAAAQh4J4AA9I60sIIIwMJQMxAESkOA/Xdposw1EQRgLnxcnJUAC1BWclwHAQhAAAIQgAAE8hNAAOZnGKsCAjAWecaFgF0C7L/tZuezcwSgT5rUapgAC1DDqDgRAhCAAAQgAAEIeCeAAPSOtLCCCMDCUDMQBEpDgP13aaLMNREEYC58XJyVAAtQVnJcBwEIQAACEIAABPITQADmZxirAgIwFnnGhYBdAuy/7Wbns3MEoE+a1GqYAAtQw6g4EQIQgAAEIAABCHgngAD0jrSwggjAwlAzEARKQ4D9d2mizDURBGAufFyclQALUFZyXAcBCEAAAhCAAATyE0AA5mcYqwICMBZ5xoWAXQLsv+1m57NzBKBPmp+odcUVV8jkyZNF/3P48OEdjvTOO+/IoEGD6nay2WabyTPPPFPzvBdeeEFuu+0293etp+futttuMnLkSDn44IPXW3vVqlUybdo0+eMf/yhLly6VlpYW6du3rwwZMkTGjBnjavk+WIB8E6UeBCAAAQhAAAIQaJwAArBxVqmdiQBMLRH6gUD6BNh/p59RER0iAANRfvTRR+Xss8+WNWvW1BWAc+bMkdNOO61uJx0JwEceeUTOPfdcUZFX6xg9erRceumlNf+2YsUKOfXUU2XevHk1/7711lvLxIkTZZdddqnbXzMnsAA1Q4tzIQABCEAAAhCAgF8CCEC/PIushgAskjZjQaAcBNh/lyPHvLNAAOYlWOP6xx57TL7zne/IypUr3V/rPQH485//XG644Qb31N2MGTM67GiDDTaQ7t27r/X3xYsXy4gRI0RF3u677y4XXnih7LzzzvLPf/5Tbr31VlERqccPfvADGTVq1Dq1VRw+8MAD0qVLFycsjzjiCOnatavMnj1bxo8fL++9957r6957711n7DzoWIDy0ONaCEAAAhCAAAQgkI8AAjAfv5hXIwBj0mdsCNgkwP7bZm6+u0YAeiSqT/vdfPPNcsstt7gn/1qPegLwnHPOkYcffli++tWvys9+9rOmOtInB/UJwh122EH+8Ic/SI8ePdqu11d5tfbMmTPda7wqA3v27Nn294ULF7a9mnzZZZc5kdj+WLRokft3+mShisIzzjijqd7WdzILkDeUFIIABCAAAQhAAAJNE0AANo0smQsQgMlEQSMQMEOA/beZqII2igD0hPfJJ5+Ua6+9VvS3+PT4/Oc/L/p0nh71BODgwYPl1Vdflf/+7/+Wb37zmw13pL/X97WvfW29Y+iTgPpbfioDr7rqKjn22GPb6rc+/adP+Kkk7Ny58zpjX3LJJTJ9+nT3FOCsWbMa7q3eiSxA9QjxdwhAAAIQgAAEIBCOAAIwHNvQlRGAoQlTHwLlI8D+u3yZZpkRAjALtRrXfO5zn3P/Vl+lPf3002Xo0KFy6KGH1hWAy5Ytk4EDB7rzfvOb38h+++3XcEe33367XH311aKvBj/11FPSu3fvmtceeeSRsmTJEvnyl7/snk7UQ4XgvvvuK++//777UMi4ceNqXqu/L3jWWWe5v+kThrvuumvD/a3vRBYgLxgpAgEIQAACEIAABDIRQABmwpbERQjAJGKgCQiYIsD+21RcwZpFAHpC269fPyfYzjvvPNlxxx3db/Dpf9djfU8A/ulPf3Jf2lWJd8cdd7in7fRpwjfeeMO9rjtgwAAn6L70pS+t06n+3t8999wj2267rfvNvo6O1qf4+vTpI48//rg77ZVXXnFPBupx5ZVXyrBhw2perk8m6hOK9ebRLEYWoGaJcT4EIAABCEAAAhDwRwAB6I9l0ZUQgEUTZzwI2CfA/tt+hj5mgAD0QVFEXnrpJfnMZz7TVq1RAfirX/1KrrvuOvf6rUrAjz/+uGZHxxxzjPzoRz+SDTfcsO3vJ554ovt67z777CNTpkzpcCY33XSTTJgwwdXX3/XTpxSffvppOfnkk901kyZNkkGDBtW8XvtRCbl69Wr3G4D62rCPgwXIB0VqQAACEIAABCAAgWwEEIDZuKVwFQIwhRToAQK2CLD/tpVXqG4RgIHINioAW3+HT9tQgahf4t17772dpPvLX/4iKu/09V09TjrpJPn+97/f1vHhhx8uL774ontCT7/429Ghgu/HP/6x+/PcuXNliy22cF/+bZV5d999t/Tv37/D67WfDz74wH1FWL8m3MihC8z6Dn3Ccfjw4e4UfSpRn07kgAAEIAABCEAAAhAohgACsBjOIUZBAIagSk0IlJsAArDc+TY6OwRgo6SaPK9RAXjmmWe6p/E+/elPy+TJk9f6iq8OuXz5cveknspAfYJPX/lt/b1BfYVXX+XVD4HccMMNHXY4bdo00a/86qGvCusrw/p7fhdddJH7d/fff797bbmj48ADD5S33nrLfUBEPyTSyNHaYyPnIgAbocQ5EIAABCAAAQhAwB8BBKA/lkVXQgAWTZzxIGCfAALQfoY+ZoAA9EGxRo1GBWDrpfqqbfvXe9uX/Nvf/tb29d5TTjlF9Df99DjssMPk5ZdfFn0S8Prrr+9wJlOnTpUf/vCH7u9z5syRbbbZRmbMmCEXXHCB+3f6NOBnP/vZDq8/4IAD5O2333ZP7OnvGTZyIAAbocQ5EIAABCAAAQhAIA4BBGAc7j5GRQD6oEgNCFSLAAKwWnl3NFsEYKD7oFkBWK+Ngw8+WF5//XXZc8893cdC9Dj66KPlueeeW+vrvrXqtH8FWJ823HzzzeXRRx8VffpQj3pf9219BVh/c3Ds2LH1WnV/5xXghjBxEgQgAAEIQAACEIhCAAEYBbuXQRGAXjBSBAKVIoAArFTcHU4WARjoPvAtAE844QT585//7F4Vfuihh1zXo0ePlmeffVYGDhzoXh/u6Ljxxhvl5ptvlk6dOsnixYvdf+p1er0eeq3WqHW0/wjIOeec436j0MfBAuSDIjUgAAEIQAACEIBANgIIwGzcUrgKAZhCCvQAAVsE2H/byitUtwjAQGSbFYAtLS3uN/46OvQrwCrvdt11V/fEnh76QY4777xTtt9+e3nkkUc6vFZfGZ4+fbr07dtXZs2a5c7Tj3AcdNBB7p+vueYaOeqoo2pe/+qrr7qPjOihHxLRPnwcLEA+KFIDAhCAAAQgAAEIZCOAAMzGLYWrEIAppEAPELBFgP23rbxCdYsADES2EQGoT/Sdf/757vf1Lr/8cjnyyCNrdrN69WrZd9995cMPP5T//M//lJ/+9KfuvClTprjr9Im+Z555RjbZZJOa1w8dOlReeOGFdV4V3n///eXdd9+V9r8r+MkCM2fObHvqr96rws2gZAFqhhbnQgACEIAABCAAAb8EEIB+eRZZDQFYJG3GgkA5CLD/LkeOeWeBAMxLsIPrGxGA+hSe/rafPv13xBFHyE9+8pOa1dpLuPZP4ekXgPVLwHqMHz9eVPR98tBzDj30UDeGfgl4xIgRbafoV4BV6ulrxfohEBWJnzwuvvhiufvuu2WrrbaSJ554Yr1PKTaDkgWoGVqcCwEIQAACEIAABPwSQAD65VlkNQRgkbQZCwLlIMD+uxw55p0FAjAvwRwCUC8dM2aM/OlPf3Ly7be//a3oBzfaH2+++aYcf/zxoq/i9unTRx5++GHZaKON2k4ZOXKkzJ8/30m8u+66S3r16tX2N5V++pt9+nqwfvhDX//t3r1729/nzp3rnv7TQ18nHjVq1FpjL1y40AlD/R1A/WLwaaed5o0WC5A3lBSCAAQgAAEIQAACTRNAADaNLJkLEIDJREEjEDBDgP23maiCNooADIS3kScAdeglS5bIcccdJytWrJAePXrId77zHfnSl77k/lm/2HvDDTc4+bfhhhvKL37xC/niF7+4VseLFi1y169Zs0Z22WUX0af6+vfvL//617/chz/0a78dCT7992eccYYTg507d3aCb9iwYdKtWzeZPXu2e6pw2bJlov8j45577pGePXt6o8UC5A0lhSAAAQhAAAIQgEDTBBCATSNL5gIEYDJR0AgEzBBg/20mqqCNIgAD4W1UAOrwjz/+uJx33nnywQcf1OxGn9q76qqr3O//1Tr0Ax9jx451T+rVOvQpQ32Vt9ahgu/UU08VFYm1ji233NL91qA+YejzYAHySZNaEIAABCAAAQhAoDkCCMDmeKV0NgIwpTToBQI2CLD/tpFT6C4RgIEINyMAtYXXX39dJk2a5H5nT6/VY9ttt3W/EXjyySfLdtttt95O9SMfEydOdB8D0Y+KqDTcbbfdRF8Rbv2dwI4KrFq1SqZNmyYzZsyQpUuXysqVK90Xgw855BD3VGDv3r29U2IB8o6UghCAAAQgAAEIQKBhAgjAhlEldyICMLlIaAgCyRNg/518RIU0iAAsBDODfJIACxD3BAQgAAEIQAACEIhHAAEYj33ekRGAeQlyPQSqR4D9d/UyrzVjBCD3QRQCLEBRsDMoBCAAAQhAAAIQcAQQgHZvBASg3ezoHAKxCLD/jkU+rXERgGnlUZluWIAqEzUThQAEIAABCEAgQQIIwARDabAlBGCDoDgNAhBoI8D+m5tBCSAAuQ+iEGABioKdQSEAAQhAAAIQgIAjgAC0eyMgAO1mR+cQiEWA/Xcs8mmNiwBMK4/KdMMCVJmomSgEIAABCJSQwPLly0X/j8MmgY022kg++ugjeffdd9s+PmdzJtXsGgFYzdyZNQTyEGD/nYdeea5FAJYnS1MzYQEyFRfNQgACEIAABNbWn398AAAgAElEQVQioE+PqTxavXo1ZAwS2HzzzV127733HgLQYH4IQIOh0TIEIhNg/x05gESGRwAmEkTV2mABqlrizBcCEIAABMpEgNdHbae52267yZo1axCARmNEABoNjrYhEJEA+++I8BMaGgGYUBhVaoUFqEppM1cIQAACECgbAQSg7UQRgLbzQwDazo/uIRCDAPvvGNTTGxMBmF4mleiIBagSMTNJCEAAAhAoKQEEoO1gEYC280MA2s6P7iEQgwD77xjU0xsTAZheJpXoiAWoEjEzSQhAAAIQKCkBBKDtYBGAtvNDANrOj+4hEIMA++8Y1NMbEwGYXiaV6IgFqBIxM0kIQAACECgpAQSg7WARgLbzQwDazo/uIRCDAPvvGNTTGxMBmF4mleiIBagSMTNJCEAAAhAoKQEEoO1gEYC280MA2s6P7iEQgwD77xjU0xsTAZheJpXoiAWoEjEzSQhAAAIQKCkBBKDtYBGAtvNDANrOj+4hEIMA++8Y1NMbEwGYXiaV6IgFqBIxM0kIQAACECgpAQSg7WARgLbzQwDazo/uIRCDAPvvGNTTGxMBmF4mleiIBagSMTNJCEAAAhAoKQEEoO1gEYC280MA2s6P7iEQgwD77xjU0xsTAZheJpXoiAWoEjEzSQhAAAIQKCkBBKDtYBGAtvNDANrOj+4hEIMA++8Y1NMbEwGYXiaV6IgFqBIxM0kIQAACECgpAQSg7WARgLbzQwDazo/uIRCDAPvvGNTTGxMBmF4mleiIBagSMTNJCEAAAhAoKQEEoO1gEYC280MA2s6P7iEQgwD77xjU0xsTAZheJpXoiAWoEjEzSQhAAAIQKCkBBKDtYBGAtvNDANrOj+4hEIMA++8Y1NMbEwGYXiaV6IgFqBIxM0kIQAACECgpAQSg7WARgLbzQwDazo/uIRCDAPvvGNTTGxMBmF4mleiIBagSMTNJCEAAAhAoKQEEoO1gEYC280MA2s6P7iEQgwD77xjU0xsTAZheJpXoiAWoEjEzSQhAAAIQKCkBBKDtYBGAtvNDANrOj+4hEIMA++8Y1NMbEwGYXiaV6IgFqBIxM0kIQAACECgpAQSg7WARgLbzQwDazo/uIRCDAPvvGNTTGxMBmF4mleiIBagSMTNJCEAAAhAoKQEEoO1gEYC280MA2s6P7iEQgwD77xjU0xsTAZheJpXoiAWoEjEzSQhAAAIQKCkBBKDtYBGAtvNDANrOj+4hEIMA++8Y1NMbEwGYXiaV6IgFqBIxM0kIQAACECgpAQSg7WARgLbzQwDazo/uIRCDAPvvGNTTGxMBmF4mleiIBagSMTNJCEAAAhAoKQEEoO1gEYC280MA2s6P7iEQgwD77xjU0xsTAZheJpXoiAWoEjEzSQhAAAIQKCkBBKDtYBGAtvNDANrOj+4hEIMA++8Y1NMbEwGYXiaV6IgFqBIxM0kIQAACECgpAQSg7WARgLbzQwDazo/uIRCDAPvvGNTTGxMBmF4mleiIBagSMTNJCEAAAhAoKQEEoO1gEYC280MA2s6P7iEQgwD77xjU0xsTAZheJpXoiAWoEjEzSQhAAAIQKCkBBKDtYBGAtvNDANrOj+4hEIMA++8Y1NMbEwGYXiaV6IgFqBIxM0kIQAACECgpAQSg7WARgLbzQwDazo/uIRCDAPvvGNTTGxMBmF4mleiIBagSMTNJCEAAAhAoKQEEoO1gEYC280MA2s6P7iEQgwD77xjU0xsTAZheJpXoiAWoEjEzSQhAAAIQKCkBBKDtYBGAtvNDANrOj+4hEIMA++8Y1NMbEwGYXiaV6IgFqBIxM0kIQAACECgpAQSg7WARgLbzQwDazo/uIRCDAPvvGNTTGxMBmF4mleiIBagSMTNJCEAAAhAoKQEEoO1gEYC280MA2s6P7iEQgwD77xjU0xsTAZheJpXoiAWoEjEzSQhAAAIQKCkBBKDtYBGAtvNDANrOj+4hEIMA++8Y1NMbEwGYXiaV6IgFqBIxM0kIQAACECgpAQSg7WARgLbzQwDazo/uIRCDAPvvGNTTGxMBmF4mleiIBagSMTNJCEAAAhAoKQEEoO1gEYC280MA2s6P7iEQgwD77xjU0xsTAZheJpXoiAWoEjEzSQhAAAIQKCkBBKDtYBGAtvNDANrOj+4hEIMA++8Y1NMbEwGYXiaV6IgFqBIxM0kIQAACECgpAQSg7WARgLbzQwDazo/uIRCDAPvvGNTTGxMBmF4mleiIBagSMTNJCEAAAhAoKQEEoO1gEYC280MA2s6P7iEQgwD77xjU0xsTAZheJpXoiAWoEjEzSQhAAAIQKCkBBKDtYBGAtvNDANrOj+4hEIMA++8Y1NMbEwGYXiaV6IgFqBIxM0kIQAACECgpAQSg7WARgLbzQwDazo/uIRCDAPvvGNTTGxMBmF4mleiIBagSMTNJCEAAAhAoKQEEoO1gEYC280MA2s6P7iEQgwD77xjU0xsTAZheJpXoiAWoEjEzSQhAAAIQKCkBBKDtYBGAtvNDANrOj+4hEIMA++8Y1NMbEwGYXiaV6IgFqBIxM0kIQAACECgpAQSg7WARgLbzQwDazo/uIRCDAPvvGNTTGxMBmF4mleiIBagSMTNJCEAAAhAoKQEEoO1gEYC280MA2s6P7iEQgwD77xjU0xsTAZheJpXoiAWoEjEzSQhAAAIQKCkBBKDtYBGAtvNDANrOj+4hEIMA++8Y1NMbEwGYXiaV6IgFqBIxM0kIQAACECgpAQSg7WARgLbzQwDazo/uIRCDAPvvGNTTGxMBmF4mleiIBagSMTNJCEAAAhAoKQEEoO1gEYC280MA2s6P7iEQgwD77xjU0xsTAZheJpXoiAWoEjEzSQhAAAIQKCkBBKDtYBGAtvNDANrOj+4hEIMA++8Y1NMbszICcOXKlfL666/L9ttvn14KFeyIBaiCoTNlCEAAAhAoDQEEoO0oEYC280MA2s6P7iEQgwD77xjU0xszaQF40kknOWJ9+vSRa6+9NjO9YcOGyZIlS+RTn/qU3HfffZnrcKE/AixA/lhSCQIQgAAEIFA0AQRg0cT9jocA9Muz6GoIwKKJMx4E7BNg/20/Qx8zSFoA9uvXTzbYYAPZYYcd5KGHHso838GDB8trr70m3bt3lwULFmSuw4X+CLAA+WNJJQhAAAIQgEDRBBCARRP3Ox4C0C/PoqshAIsmzngQsE+A/bf9DH3MoPQC8OOPP5b99ttPPvzwQ+nSpYssWrTIBzdq5CTAApQTIJdDAAIQgAAEIhJAAEaE72FoBKAHiBFLIAAjwmdoCBglwP7baHCe244qAFetWiV/+ctfOpzS6NGj3ROAW2+9tVx33XVNT12l3+9+9zt59NFH3bVaZ86cOU3X4QL/BFiA/DOlIgQgAAEIQKAoAgjAokiHGQcBGIZrUVURgEWRZhwIlIcA++/yZJlnJlEFoDb+7W9/u0Mp19LS4uamEjDPoXW0xle+8hX52c9+lqcU13oiwALkCSRlIAABCEAAAhEIIAAjQPc4JALQI8wIpRCAEaAzJASME2D/bTxAT+1HF4CvvPKKfP3rX5cVK1ZIq/DzNLc2cah19fXfKVOmyIABA3yVp04OAixAOeBxKQQgAAEIQCAyAQRg5AByDo8AzAkw8uUIwMgBMDwEDBJg/20wtAAtRxeAOqef//zn8tOf/jTA9EQ23HBD0Y+JnH/++TJo0KAgY1C0eQIsQM0z4woIQAACEIBAKgQQgKkkka0PBGA2bqlchQBMJQn6gIAdAuy/7WQVstMkBODq1atFb8j2hz61N2TIEPcU33bbbSe/+c1vGuag13Tq1Em6desmm266ae5XiBsemBMbJsAC1DAqToQABCAAAQgkRwABmFwkTTWEAGwKV3InIwCTi4SGIJA8AfbfyUdUSINJCMCOZqpP7unxqU99Sh566KFCgDBIMQRYgIrhzCgQgAAEIACBEAQQgCGoFlcTAVgc6xAjIQBDUKUmBMpNgP13ufNtdHZJC8BLLrnEzaN3795ywQUXNDonzjNAgAXIQEi0CAEIQAACEOiAAALQ9q2BALSdHwLQdn50D4EYBNh/x6Ce3phJC8D0cNGRLwIsQL5IUgcCEIAABCBQPAEEYPHMfY6IAPRJs/haCMDimTMiBKwTYP9tPUE//SMA/XCkSpMEWICaBMbpEIAABCAAgYQIIAATCiNDKwjADNASugQBmFAYtAIBIwTYfxsJKnCb5gTgmjVr5L333pMVK1aI/rN+LKSZQz8owhGfAAtQ/AzoAAIQgAAEIJCVAAIwK7k0rkMAppFD1i4QgFnJcR0EqkuA/Xd1s28/cxMCcNWqVXLHHXfIvffeK4sXLxb9anCWQ78O/Nxzz2W5lGs8E2AB8gyUchCAAAQgAIECCSAAC4QdYCgEYACoBZZEABYIm6EgUBIC7L9LEmTOaSQvAN944w35xje+IUuXLnVTbfaJv7Vs5wYbyPPPP58TGZf7IMAC5IMiNSAAAQhAAAJxCCAA43D3NSoC0BfJOHUQgHG4MyoELBNg/205PX+9Jy8AjzvuOFm4cKGbsT7BhwD0F37MSixAMekzNgQgAAEIQCAfAQRgPn6xr0YAxk4g3/gIwHz8uBoCVSTA/ruKqa8756QF4EMPPSTf/e5328TfxhtvLMcee6zo/2jZcsstpWvXrk2nOHDgwKav4QL/BFiA/DOlIgQgAAEIQKAoAgjAokiHGQcBGIZrUVURgEWRZhwIlIcA++/yZJlnJkkLwHPPPVcefPBBN78+ffrI1KlThY945Ik7nWtZgNLJgk4gAAEIQAACzRJAADZLLK3zEYBp5dFsNwjAZolxPgQgwP6be0AJJC0ABw8eLK+99pp7AvCmm26SIUOGkFpJCLAAlSRIpgEBCEAAApUkgAC0HTsC0HZ+CEDb+dE9BGIQYP8dg3p6YyYtAPfYYw9ZsWKFe9X3r3/9qxOBHOUgwAJUjhyZBQQgAAEIVJMAAtB27ghA2/khAG3nR/cQiEGA/XcM6umNmbQA3H///UX/B6a+9jtr1qz06NFRZgIsQJnRcSEEIAABCEAgOgEEYPQIcjWAAMyFL/rFCMDoEdAABMwRYP9tLrIgDSctAI866ihZsmSJdO/eXRYsWBAEAEXjEGABisOdUSEAAQhAAAI+CCAAfVCMVwMBGI+9j5ERgD4oUgMC1SLA/rtaeXc026QF4HXXXSe33Xabe/VXPwCy5557klpJCLAAlSRIpgEBCEAAApUkgAC0HTsC0HZ+CEDb+dE9BGIQYP8dg3p6YyYtAJcuXSpHHnmkrF69Wg444ACZOHFiegTpKBMBFqBM2LgIAhCAAAQgkAQBBGASMWRuAgGYGV0SFyIAk4iBJiBgigD7b1NxBWs2aQGos77xxhvllltucU8Bjh49Wi655BI+BhLsdiiuMAtQcawZCQIQgAAEIOCbAALQN9Fi6yEAi+XtezQEoG+i1INA+Qmw/y5/xo3MMHkB2NLSIldeeaX89re/deKvb9++7qnAAQMGyDbbbCM9evSQzp07NzJXd45+UIQjPgEWoPgZ0AEEIAABCEAgKwEEYFZyaVyHAEwjh6xdIACzkuM6CFSXAPvv6mbffuZJC8ATTjihrdfFixfLqlWr3H9XEZjl0Ouee+65LJdyjWcCLECegVIOAhCAAAQgUCABBGCBsAMMhQAMALXAkgjAAmEzFARKQoD9d0mCzDmNpAVgv379OpR9+mRgs4cKwOeff77Zyzg/AAEWoABQKQkBCEAAAhAoiAACsCDQgYZBAAYCW1BZBGBBoBkGAiUiwP67RGHmmEryAjDH3Na5FAHok2a+WixA+fhxNQQgAAEIQCAmAQRgTPr5x0YA5mcYswICMCZ9xoaATQLsv23m5rvrpAXgs88+63u+MnDgQO81Kdg8ARag5plxBQQgAAEIQCAVAgjAVJLI1gcCMBu3VK5CAKaSBH1AwA4B9t92sgrZadICMOTEqR2XAAtQXP6MDgEIQAACEMhDAAGYh178axGA8TPI0wECMA89roVANQmw/65m7p+cNQKQ+yAKARagKNgZFAIQgAAEIOCFAALQC8ZoRRCA0dB7GRgB6AUjRSBQKQLsvysVd4eTRQByH0QhwAIUBTuDQgACEIAABLwQQAB6wRitCAIwGnovAyMAvWCkCAQqRYD9d6XiRgASd1oEWIDSyoNuIAABCEAAAs0QQAA2Qyu9cxGA6WXSTEcIwGZocS4EIKAE2H9zHyiBpJ8AnDBhgveUzj77bO81Kdg8ARag5plxBQQgAAEIQCAVAgjAVJLI1gcCMBu3VK5CAKaSBH1AwA4B9t92sgrZadICsF+/frLBBht4nf/zzz/vtR7FshFgAcrGjasgAAEIQAACKRBAAKaQQvYeEIDZ2aVwJQIwhRToAQK2CLD/tpVXqG5NCMCWlpaG5t9eFta6Rv+OAGwIZfCTWICCI2YACEAAAhCAQDACCMBgaAspjAAsBHOwQRCAwdBSGAKlJcD+u7TRNjWxpAXg4MGDG57MmjVr5N///rcsW7as7RoVfj169JCRI0dKp06d3L8/99xzG67JieEIsACFY0tlCEAAAhCAQGgCCMDQhMPWRwCG5Ru6OgIwNGHqQ6B8BNh/ly/TLDNKWgBmmZBKwL/97W8yefJkefjhh90rxAceeKDo7wl269YtS0muCUCABSgAVEpCAAIQgAAECiKAACwIdKBhEICBwBZUFgFYEGiGgUCJCLD/LlGYOaZSOgHYnsUdd9whl112mZOAw4cPl8svvzwHKi71SYAFyCdNakEAAhCAAASKJYAALJa379EQgL6JFlsPAVgsb0aDQBkIsP8uQ4r551BqAah4LrjgArn33nudBFQhuMcee+SnRoXcBFiAciOkAAQgAAEIQCAaAQRgNPReBkYAesEYrQgCMBp6BoaAWQLsv81G57Xx0gvAJUuWyFFHHcVTgF5vm/zFWIDyM6QCBCAAAQhAIBYBBGAs8n7GRQD64RirCgIwFnnGhYBdAuy/7Wbns/PSC0CF9YUvfEFWrFghn/nMZ+T+++/3yY9aGQmwAGUEx2UQgAAEIACBBAggABMIIUcLCMAc8BK4FAGYQAi0AAFjBNh/GwssULuVEIAHH3ywvPHGG+6LwPPnzw+EkrLNEGABaoYW50IAAhCAAATSIoAATCuPZrtBADZLLK3zEYBp5UE3ELBAgP23hZTC91h6AahfBd5rr72kpaVFevbsKf/3f/8Xnioj1CXAAlQXESdAAAIQgAAEkiWAAEw2moYaQwA2hCnZkxCAyUZDYxBIlgD772SjKbSx0gvASZMmydVXX+1+A3CnnXaSGTNmFAqYwWoTYAHizoAABCAAAQjYJYAAtJuddo4AtJ0fAtB2fnQPgRgE2H/HoJ7emKUWgA8++KBcdNFFsnLlSkd+9OjR8r3vfS+9FCrYEQtQBUNnyhCAAAQgUBoCCEDbUSIAbeeHALSdH91DIAYB9t8xqKc3ZtICcMKECU0R09d89WMf7777rvz5z3+Wl156yb36q0enTp1k+vTp0q9fv6ZqcnIYAixAYbhSFQIQgAAEIFAEAQRgEZTDjYEADMe2iMoIwCIoMwYEykWA/Xe58sw6m6QFoMo6fXU3y9Eq/vR6/ecRI0bIuHHjspTimgAEWIACQKUkBCAAAQhAoCACCMCCQAcaBgEYCGxBZRGABYFmGAiUiAD77xKFmWMqJgRgq8zLMk8VgMOHD5fLLrvMPQXIkQYBFqA0cqALCEAAAhCAQBYCCMAs1NK5BgGYThZZOkEAZqHGNRCoNgH239XOv3X2SQvAwYMHN51S586dpVu3brL11lvLF77wBfnqV78qO++8c9N1uCAsARagsHypDgEIQAACEAhJAAEYkm742gjA8IxDjoAADEmX2hAoJwH23+XMtdlZJS0Am50M59shwAJkJys6hQAEIAABCHySAALQ9j2BALSdHwLQdn50D4EYBNh/x6Ce3pgIwPQyqURHLECViJlJQgACEIBASQkgAG0HiwC0nR8C0HZ+dA+BGATYf8egnt6YCMD0MqlERyxAlYiZSUIAAhCAQEkJIABtB4sAtJ0fAtB2fnQPgRgE2H/HoJ7emKYF4Jo1a0T/B+jy5cvd7/5tuummor8ByJE+ARag9DOiQwhAAAIQgEBHBBCAtu8NBKDt/BCAtvOjewjEIMD+Owb19MY0JwDnzp0r9913n8ybN0/+8Y9/rEVU5d92220ne+21lxx66KGiHxHRrwBzpEeABSi9TOgIAhCAAAQg0CgBBGCjpNI8DwGYZi6NdoUAbJQU50EAAq0E2H9zLygBMwLwpZdekosvvlgWLlzokmtpaekwwVbpt9NOO8mVV14pAwYMIO3ECLAAJRYI7UAAAhCAAASaIIAAbAJWgqciABMMpYmWEIBNwOJUCEDAEWD/zY1gRgA+9dRT8t3vflc+/PBDJ/5U8NUTgK1/79q1q1x//fUyZMgQEk+IAAtQQmHQCgQgAAEIQKBJAgjAJoEldjoCMLFAmmwHAdgkME6HAAQQgNwDjkDyTwC++OKLcvzxxzv51yr+unTpIgMHDhT9Hy+9e/eWjTfe2P39zTfflL/97W8yf/58+fjjj9vO32ijjeTOO++Ufv36EXsiBBCAiQRBGxCAAAQgAIEMBBCAGaAldAkCMKEwMrSCAMwAjUsgUHEC7L8rfgP8/9NPXgCecMIJ8pe//KXtt/xGjRolZ555pmyxxRYdJvjWW2/JrbfeKlOnTnXn6NOAe+yxh5OAHGkQYAFKIwe6gAAEIAABCGQhgADMQi2daxCA6WSRpRMEYBZqXAOBahNg/13t/Ftnn7QAfPLJJ+Wb3/ymk3/6f1dccYUcc8wxDSc3ffp0+f73v9/22vCvf/1rGTRoUMPXc2I4AixA4dhSGQIQgAAEIBCaAAIwNOGw9RGAYfmGro4ADE2Y+hAoHwH23+XLNMuMkhaA48aNc0/tqfw7+uij5aqrrmp6jt/73vdERaDWGD58uFx++eVN1+AC/wRYgPwzpSIEIAABCECgKAIIwKJIhxkHARiGa1FVEYBFkWYcCJSHAPvv8mSZZyZJC8AjjjhC9DcAVd7NmDFD9Ku+zR5Lly6Vww8/3NXQ67UOR3wCLEDxM6ADCEAAAhCAQFYCCMCs5NK4DgGYRg5Zu0AAZiXHdRCoLgH239XNvv3MkxaA++23nyxbtkw22WQTefbZZzMnph8Mee+996R79+6yYMGCzHW40B8BFiB/LKkEAQhAAAIQKJoAArBo4n7HQwD65Vl0NQRg0cQZDwL2CbD/tp+hjxkkLQB333139zXfPn36yGOPPZZ5vl/60pfcZ6/168GLFi3KXIcL/RFgAfLHkkoQgAAEIACBogkgAIsm7nc8BKBfnkVXQwAWTZzxIGCfAPtv+xn6mEHSAvCLX/yi6Bd9u3btKvPnz3cCr9lj1apVstdeezmRuOWWW8oTTzzRbAnOD0CABSgAVEpCAAIQgAAECiKAACwIdKBhEICBwBZUFgFYEGiGgUCJCLD/LlGYOaaStAAcPXq0zJs3z/1+36233ir6JF+zx6xZs+TMM890Nfbcc0+ZOnVqsyU4PwABFqAAUCkJAQhAAAIQKIgAArAg0IGGQQAGAltQWQRgQaAZBgIlIsD+u0Rh5phK0gJwwoQJov+n8m7nnXeWu+66yz0N2OixcuVKOfbYY+Xvf/+7q3HWWWfJ2Wef3ejlnBeQAAtQQLiUhgAEIAABCAQmgAAMDDhweQRgYMCByyMAAwOmPARKSID9dwlDzTClpAWg3qRDhgyR1atXu6npE4DXXXed9OjRo+5UP/jgAzn//PPl8ccfd+duuOGG8sADD8j2229f91pOCE+ABSg8Y0aAAAQgAAEIhCKAAAxFtpi6CMBiOIcaBQEYiix1IVBeAuy/y5ttMzNLWgDqRK688kqZPHmye4JPj2233VbGjBkjX/nKV2SbbbZZZ656Yz/44IMyadIkef3116WlpcVde8IJJ8i4ceOaYcO5AQmwAAWES2kIQAACEIBAYAIIwMCAA5dHAAYGHLg8AjAwYMpDoIQE2H+XMNQMU0peAOprvCrvnnvuOSfyWoWeznWLLbZwH/bYeOON5d///re8+eab8u677zoMrefpf+r/yJkyZYpstNFGGRBxSQgCLEAhqFITAhCAAAQgUAwBBGAxnEONggAMRbaYugjAYjgzCgTKRID9d5nSzD6X5AWgTk1f59UPeTz77LNtTwKq2NOj9cnAVunX/t/pOYMGDZKf/OQnThZypEOABSidLOgEAhCAAAQg0CwBBGCzxNI6HwGYVh7NdoMAbJYY50MAAuy/uQecK2tpNWmJ89DfAZw+fbr7GvBrr71Wt9sddthBTjnlFBkxYsRakrDuhZxQCAEWoEIwMwgEIAABCEAgCAEEYBCshRVFABaGOshACMAgWCkKgVITYP9d6ngbnpwZAdg6I/WVzz//vDz99NPy8ssvi/4PUH1CsHv37rLpppvKTjvtJHvvvbfsvvvuiL+Gb4PiT2QBKp45I0IAAhCAAAR8EUAA+iIZpw4CMA53X6MiAH2RpA4EqkOA/Xd1sl7fTM0JQGIrBwEWoHLkyCwgAAEIQKCaBBCAtnNHANrODwFoOz+6h0AMAuy/Y1BPb8zSCEB9MvBPf/qT+82/Tp06pUeajtYiwALEDQEBCEAAAhCwSwABaDc77RwBaDs/BKDt/OgeAjEIsP+OQT29MZMUgO+//75MmzZN5s6dK7fffntD1PS14KOPPlo233xzOe644+Qb3/iGeyWYI00CLEBp5kJXEIAABCAAgUYIIAAboZTuOQjAdLNppDMEYCOUOAcCEGhPgP0394MSSE4A6oc+xo8f737bT4/Zs2fLNttsUzetX//613Lttde68/TLwD179pRx48bJEUccUfdaTiieAAtQ8cwZEQIQgAAEIOCLAALQF8k4dRCAcfRc5YIAACAASURBVLj7GhUB6IskdSBQHQLsv6uT9fpmmpQA/NGPfiRTp06V1g8Tq8i77rrr5PDDD6+b1re+9S2ZM2dO24c/tIZeP2bMGLnwwgvrXs8JxRJgASqWN6NBAAIQgAAEfBJAAPqkWXwtBGDxzH2OiAD0SZNaEKgGAfbf1ci53iyTEYA33HCD/OIXv3D9qrhTgde5c2e5+OKLZfTo0fXmIQ8++KDMnDlTHnnkEVmxYkVbDa313e9+V04//fS6NTihOAIsQMWxZiQIQAACEICAbwIIQN9Ei62HACyWt+/REIC+iVIPAuUnwP67/Bk3MsMkBOC8efOc5FNZp4d+xOP444+Xb3/72w29/tt+ou+8845MmDDB/YagHq0i8c4773Q/eMyRBgEWoDRyoAsIQAACEIBAFgIIwCzU0rkGAZhOFlk6QQBmocY1EKg2Afbf1c6/dfZJCMCjjjpKlixZ4gRgr1695KabbpL99tsvV0L6NOB5550nH3/8sZOAe+65Z5sUzFWYi70QYAHygpEiEIAABCAAgSgEEIBRsHsbFAHoDWWUQgjAKNgZFAKmCbD/Nh2ft+ajC8A///nPMmLECDchffJv0qRJMnDgQC8T/N3vfidjx451tVQu/v73v5f+/ft7qU2RfARYgPLx42oIQAACEIBATAIIwJj084+NAMzPMGYFBGBM+owNAZsE2H/bzM1319EF4DXXXCO33367E3RDhw4V/e8+j5EjR8qCBQtcff1QyH/913/5LE+tjARYgDKC4zIIQAACEIBAAgQQgAmEkKMFBGAOeAlcigBMIARagIAxAuy/jQUWqN3oAnDUqFEyf/58J+gmT54s++yzj9ep3n///e5VYK2/7777ym9+8xuv9SmWjQALUDZuXAUBCEAAAhBIgQACMIUUsveAAMzOLoUrEYAppEAPELBFgP23rbxCdRtdAB500EHy5ptvSpcuXdyTevqfPo9ly5bJ/vvv70puvfXW8vjjj/ssT62MBFiAMoLjMghAAAIQgEACBBCACYSQowUEYA54CVyKAEwgBFqAgDEC7L+NBRao3egCcI899pCVK1fKVlttJXPmzAkyTRWA+j9UN954Y9HfHOSIT4AFKH4GdAABCEAAAhDISgABmJVcGtchANPIIWsXCMCs5LgOAtUlwP67utm3n3l0AThgwABZtWqVbLvttjJr1qwgqQwePFhee+0193ThokWLgoxRq+gVV1zhXmvW/xw+fPh6x1UG06ZNkz/+8Y+ydOlS9+Xivn37ypAhQ2TMmDGy2Wabrff6F154QW677TZ55pln5J133nHn6/+4099APPjgg4OOnQUoC1AWalwDAQhAAAIQSIMAAjCNHLJ2gQDMSi6N6xCAaeRAFxCwRID9t6W0wvUaXQAeeOCB8vbbb0v37t3dK8AhDv2q8Hvvveek2NNPPx1iiHVqPvroo3L22WfLmjVr6grAFStWyKmnnirz5s2r2Zu+ujxx4kTZZZddav79kUcekXPPPdeJ1FrH6NGj5dJLL635t7xjZ4XJApSVHNdBAAIQgAAE4hNAAMbPIE8HCMA89OJfiwCMnwEdQMAaAfbf1hIL0290AThixAj3Wq5+pGPmzJmi/w/N5/H666/Lf/zHf7j6O+64o9x7770+y9es9dhjj8l3vvMd92qzHvWeAFR598ADD7gnFFUaHnHEEdK1a1eZPXu2jB8/3slLfRpQe1dR2v5YvHixKEMVebvvvrtceOGFsvPOO8s///lPufXWW0VFpB4/+MEPRD+48skjz9h5QLIA5aHHtRCAAAQgAIG4BBCAcfnnHR0BmJdg3OsRgHH5MzoELBJg/20xNf89RxeAP/rRj2TKlClO0F122WVy/PHHe53lHXfc4epq/cMOO0x++tOfeq3fvpg+7XfzzTfLLbfc4p78az3WJwAXLlzY9nqw9qkyr/2hryzrv9On+1TWnXHGGWv9/bTTTnO/nbjDDjvIH/7wB+nRo0fb3/U14nPOOceJVX36UWVgz5492/6ed+w8IFmA8tDjWghAAAIQgEBcAgjAuPzzjo4AzEsw7vUIwLj8GR0CFgmw/7aYmv+eowtAlVff+ta3nKDTV1zvueceb7NUATZ06FD5+9//7upfcsklctJJJ3mr377Qk08+Kddee63ob/Hp8fnPf1706Tw91icAW5/A0yf8VNR17tx5nf607+nTp7unANv/TqL+VuDXvva19Y6hTwLq7wgqi6uuukqOPfbYtvp5xs4LkQUoL0GuhwAEIAABCMQjgACMx97HyAhAHxTj1UAAxmPPyBCwSoD9t9Xk/PYdXQDqk236kY4333zTu6T77W9/6+SbHp06dXJPwOnHRkIcn/vc51xZfY339NNPd+Lx0EMPXa+cUym37777yvvvv+8+1jFu3Liarelv/J111lnub/qU36677ur++fbbb5err77acXvqqaekd+/eNa8/8sgjZcmSJfLlL3/ZPZ2oR96x8zJkAcpLkOshAAEIQAAC8QggAOOx9zEyAtAHxXg1EIDx2DMyBKwSYP9tNTm/fUcXgDqdX/7yl3L99de7mW244YZy0003ySGHHJJrpvpkof6eXuuHMb7yla/Iz372s1w113dxv379nGA777zz3G8N6pN3+t/16OgJwFdeecU9nafHlVdeKcOGDas5xKuvvuok6Sdr6e/96ROTKjX19wI7OlqfIOzTp488/vjj7rS8Y+cFyQKUlyDXQwACEIAABOIRQADGY+9jZASgD4rxaiAA47FnZAhYJcD+22pyfvtOQgDqxzK+/vWvyz/+8Q/3ZJpKwDPPPNO9Gqz/3MyhtfSLufqk28cff+zqbbzxxu7JuU996lPNlGrq3Jdeekk+85nPtF3TiADULxKffPLJ7ppJkybJoEGDao6p8xgwYICsXr3a/Qagvrqrx4knnui+HLzPPvu431Hs6FChOmHCBPekoP6moD6lmHfspuDUOJkFKC9BrocABCAAAQjEI4AAjMfex8gIQB8U49VAAMZjz8gQsEqA/bfV5Pz2nYQA1Cn99a9/dTJMv2ar0k5l1dZbb+1+s+6AAw6QPfbYw4mrWod+cENfcdVXZe+66y73OnFrDT1fX5PV12CLPBoRgPrl31aZd/fdd0v//v07bHHvvfeWDz74wH3JV7/oq8fhhx8uL774ons6UL/429GhcvHHP/6x+/PcuXNliy22cF8dzjN2PZa6wKzveOONN9o+fqJPJerTiRwQgAAEIAABCNgggAC0kVNHXSIAbeeHALSdH91DIAYBBGAM6umNmYwAVDT6G336Cq0+xacCTw8VgXp069bNPWGn8mrzzTd3f//oo49Eb2R9+m758uXuvFbxp/+pv/unsuyEE04onHwjAlCfSrzoootcb/fff797dbij48ADD5S33nrLCVH9mIce+vqwvsqrHwK54YYbOrx22rRp7kvIeuirwvrKcN6x6wFt/U3Eeufp3xGAjVDiHAhAAAIQgEA6BBCA6WSRpRMEYBZq6VyDAEwnCzqBgBUCCEArSYXtMykBqFNduHChk4Aq0FrlX6sM1L+3/rtWLLX+pv9uu+22k2uuucZ9ZCPG0YgAnDFjhlxwwQWuPX0i77Of/WyHrepTkG+//bZ7aq71wyaHHXaYvPzyy+5JwNbfUKxVYOrUqfLDH/7Q/Ul/G3GbbbaRvGPXY4oArEeIv0MAAhCAAATsEkAA2s1OO0cA2s4PAWg7P7qHQAwCCMAY1NMbMzkBqIj0NeDbbrvN/a7dO++846h9Uvy1R9leAu6www4yevRoOf7446Vr167RiDciAPWJR/2tQz3af923VtOtrwDr7/6NHTvWnXL00UfLc889t9bXfWtd2/4VYP3tP32CMu/Y9cDyCnA9QvwdAhCAAAQgYJcAAtBudghA29lp9whA+xkyAwgUTQABWDTxNMdLUgC2otJXgfX1UP0/fTJQn3bTf9f+UJm10047iQqygw46yP1nCkcjAvDZZ591slKPyZMny8CBA2u23v4jIOecc477urEeeq3W0Ov0+o6OG2+8UW6++Wb3SvTixYvdf+YdOy9jFqC8BLkeAhCAAAQgEI8AAjAeex8j8wSgD4rxaiAA47FnZAhYJcD+22pyfvtOWgB+cqr6pJ9+CEN/+69z587Ss2dP99uAKR6NCED9EIZKSz30deWjjjqq5lReffVV96EPPfRjHsccc4z7Z/19wzvvvFO233579wGUjo5LLrlEpk+fLn379pVZs2a50/KOnZc5C1BeglwPAQhAAAIQiEcAARiPvY+REYA+KMargQCMx56RIWCVAPtvq8n57duUAPQ79bDVGhGA2sH+++8v7777rpxyyimioq7WMXPmzLan/tq/KqyvSF9++eXuib5nnnlGNtlkk5rXDx06VF544YV1XhXOM3ZeeixAeQlyPQQgAAEIQCAeAQRgPPY+RkYA+qAYrwYCMB57RoaAVQLsv60m57dvBKBfnm3VGhWA+hVglXqf/vSn3YdAVOZ98rj44ovl7rvvlq222kqeeOKJtt9D1C8A65eA9Rg/fryo6Pvkoecceuih7uvI+iXgESNGtJ2SZ+y82FiA8hLkeghAAAIQgEA8AgjAeOx9jIwA9EExXg0EYDz2jAwBqwTYf1tNzm/fCEC/PJsWgHPnznVP/+mhr/SOGjVqrY70tw9V2unvAOoXg0877bS1/j5y5EiZP3++E4h33XWX9OrVq+3vKv309wL19WD9rUR9/bd79+5tf887dh50LEB56HEtBCAAAQhAIC4BBGBc/nlHRwDmJRj3egRgXP6MDgGLBNh/W0zNf88IQP9MXcVGnwDUc8844wwn5/R3DVXwDRs2zP224ezZs92TfcuWLXNf+7rnnnvc7x62PxYtWiTHHXecrFmzRnbZZRfRp/r69+8v//rXv9yHP/Rrvx3Jxbxj50HHApSHHtdCAAIQgAAE4hJAAMbln3d0BGBegnGvRwDG5c/oELBIgP23xdT894wA9M+0aQGogu/UU08VlXm1ji233FL09/70Kb9ah37gY+zYse4pwVrHmDFjRF8jrnXkHTsrPhagrOS4DgIQgAAEIBCfAAIwfgZ5OkAA5qEX/1oEYPwM6AAC1giw/7aWWJh+EYBhuDb1BKC2sGrVKpk2bZrMmDFDli5dKitXrnRf7T3kkEPcU4G9e/deb6f6kY+JEye6j4G8/fbb7lVf/R93+opw6+8EdlQg79hZELIAZaHGNRCAAAQgAIE0CCAA08ghaxcIwKzk0rgOAZhGDnQBAUsE2H9bSitcrwjAcGypvB4CLEDcHhCAAAQgAAG7BBCAdrPTzhGAtvNDANrOj+4hEIMA++8Y1NMbEwGYXiaV6IgFqBIxM0kIQAACECgpAQSg7WARgLbzQwDazo/uIRCDAPvvGNTTGxMBmF4mleiIBagSMTNJCEAAAhAoKQEEoO1gEYC280MA2s6P7iEQgwD77xjU0xsTAZheJpXoiAWoEjEzSQhAAAIQKCkBBKDtYBGAtvNDANrOj+4hEIMA++8Y1NMbEwGYXiaV6IgFqBIxM0kIQAACECgpAQSg7WARgLbzQwDazo/uIRCDAPvvGNTTGxMBmF4mleiIBagSMTNJCEAAAhAoKQEEoO1gEYC280MA2s6P7iEQgwD77xjU0xsTAZheJpXoiAWoEjEzSQhAAAIQKCkBBKDtYBGAtvNDANrOj+4hEIMA++8Y1NMbEwGYXiaV6IgFqBIxM0kIQAACECgpAQSg7WARgLbzQwDazo/uIRCDAPvvGNTTGxMBmF4mleiIBagSMTNJCEAAAhAoKQEEoO1gEYC280MA2s6P7iEQgwD77xjU0xsTAZheJpXoiAWoEjEzSQhAAAIQKCkBBKDtYBGAtvNDANrOj+4hEIMA++8Y1NMbEwGYXiaV6IgFqBIxM0kIQAACECgpAQSg7WARgLbzQwDazo/uIRCDAPvvGNTTGxMBmF4mleiIBagSMTNJCEAAAhAoKQEEoO1gEYC280MA2s6P7iEQgwD77xjU0xsTAZheJpXoiAWoEjEzSQhAAAIQKCkBBKDtYBGAtvNDANrOj+4hEIMA++8Y1NMbEwGYXiaV6IgFqBIxM0kIQAACECgpAQSg7WARgLbzQwDazo/uIRCDAPvvGNTTGxMBmF4mleiIBagSMTNJCEAAAhAoKQEEoO1gEYC280MA2s6P7iEQgwD77xjU0xsTAZheJpXoiAWoEjEzSQhAAAIQKCkBBKDtYBGAtvNDANrOj+4hEIMA++8Y1NMbEwGYXiaV6IgFqBIxM0kIQAACECgpAQSg7WARgLbzQwDazo/uIRCDAPvvGNTTGxMBmF4mleiIBagSMTNJCEAAAhAoKQEEoO1gEYC280MA2s6P7iEQgwD77xjU0xsTAZheJpXoiAWoEjEzSQhAAAIQKCkBBKDtYBGAtvNDANrOj+4hEIMA++8Y1NMbEwGYXiaV6IgFqBIxM0kIQAACECgpAQSg7WARgLbzQwDazo/uIRCDAPvvGNTTGxMBmF4mleiIBagSMTNJCEAAAhAoKQEEoO1gEYC280MA2s6P7iEQgwD77xjU0xsTAZheJpXoiAWoEjEzSQhAAAIQKCkBBKDtYBGAtvNDANrOj+4hEIMA++8Y1NMbEwGYXiaV6IgFqBIxM0kIQAACECgpAQSg7WARgLbzQwDazo/uIRCDAPvvGNTTGxMBmF4mleiIBagSMTNJCEAAAhAoKQEEoO1gEYC280MA2s6P7iEQgwD77xjU0xsTAZheJpXoiAWoEjEzSQhAAAIQKCkBBKDtYBGAtvNDANrOj+4hEIMA++8Y1NMbEwGYXiaV6IgFqBIxM0kIQAACECgpAQSg7WARgLbzQwDazo/uIRCDAPvvGNTTGxMBmF4mleiIBagSMTNJCEAAAhAoKQEEoO1gEYC280MA2s6P7iEQgwD77xjU0xsTAZheJpXoiAWoEjEzSQhAAAIQKCkBBKDtYBGAtvNDANrOj+4hEIMA++8Y1NMbEwGYXiaV6IgFqBIxM0kIQAACECgpAQSg7WARgLbz69+/v/Tq1Us23nhj2xOhewhAoDAC7L8LQ530QAjApOMpb3MsQOXNlplBAAIQgED5CSAAbWeMALSfX5cuXaSlpcX2RCrefbdu3UT/jwMCRRBg/10E5fTHQACmn1EpO2QBKmWsTAoCEIAABCpCAAFoO2gEYDny+/DDD2X16tW2J1PR7jt37iybb765bLbZZhUlwLSLJsD+u2jiaY6HAEwzl9J3xQJU+oiZIAQgAAEIlJgAAtB2uAhA8rNNwH73/I6j/QytzYD9t7XEwvSLAAzDlap1CLAAcYtAAAIQgAAE7BJAANrNTjtHAJKfbQL2u0cA2s/Q2gzYf1tLLEy/CMAwXKmKAOQegAAEIAABCJSWAALQdrQIQPKzTcB+9whA+xlamwEC0FpiYfpFAIbhSlUEIPcABCAAAQhAoLQEEIC2o0UAkp9tAva7RwDaz9DaDBCA1hIL0y8CMAxXqiIAuQcgAAEIQAACpSWAALQdLQKQ/GwTsN89AtB+htZmgAC0lliYfhGAYbhSFQHIPQABCEAAAhAoLQEEoO1oEYDkZ5uA/e4RgPYztDYDBKC1xML0iwAMw5WqCEDuAQhAAAIQgEBpCSAAbUeLACQ/2wTsd48AtJ+htRkgAK0lFqZfBGAYrlRFAHIPQAACEIAABEpLAAFoO1oEIPnZJmC/ewSg/QytzQABaC2xMP0iAMNwpSoCkHsAAhCAAAQgUFoCCEDb0SIAyc82AfvdIwDtZ2htBghAa4mF6RcBGIYrVRGA3AMQgAAEIACB0hJAANqOFgFIfrYJ2O8eAWg/Q2szQABaSyxMvwjAMFypigDkHoAABCAAAQiUlgAC0Ha0CEDys03AfvcIQPsZWpsBAtBaYmH6RQCG4UpVBCD3AAQgAAEIQKC0BBCAtqNFAJKfbQL2u0cA2s/Q2gwQgNYSC9MvAjAMV6oiALkHIAABCEAAAqUlgAC0HS0CkPxsE7DfPQLQfobWZoAAtJZYmH4RgGG4UhUByD0AAQhAAAIQKC0BBKDtaBGA5GebgP3uEYD2M7Q2AwSgtcTC9IsADMOVqghA7gEIQAACEIBAaQkgAG1HiwAkP9sE7HePALSfobUZIACtJRamXwRgGK5URQByD0AAAhCAAARKSwABaDtaBCD52SZgv3sEoP0Mrc0AAWgtsTD9IgDDcKUqApB7AAIQgAAEIFBaAghA29EiAMnPNgH73SMA7WdobQYIQGuJhekXARiGK1URgNwDEIAABCAAgdISQADajhYBSH62CdjvHgFoP0NrM0AAWkssTL8IwDBcqYoA5B6AAAQgAAEIlJYAAtB2tAhA8rNNwH73CED7GVqbAQLQWmJh+kUAhuFKVQQg9wAEIAABCECgtAQQgLajRQCSn20C9rtHANrP0NoMEIDWEgvTLwIwDFeqIgC5ByAAAQhAAAKlJYAAtB0tApD8bBOw3z0C0H6G1maAALSWWJh+EYBhuFIVAcg9AAEIQAACECgtAQSg7WgRgORnm4D97hGA9jO0NgMEoLXEwvSLAAzDlaoIQO4BCEAAAhCAQGkJIABtR4sAJD/bBOx3jwC0n6G1GSAArSUWpl8EYBiuVEUAcg9AAAIQgAAESksAAWg7WgQg+dkmYL97BKD9DK3NAAFoLbEw/SIAw3ClKgKQewACEIAABCBQWgIIQNvRIgDJzzYB+90jAO1naG0GCEBriYXpFwEYhitVEYDcAxCAAAQgAIHSEkAA2o4WAUh+tgnY7x4BaD9DazNAAFpLLEy/CMAwXKmKAOQegAAEIAABCJSWAALQdrQIQPKzTcB+9whA+xlamwEC0FpiYfpFAIbhSlUEIPcABCAAAQhAoLQEEIC2o0UAkp9tAva7RwDaz9DaDBCA1hIL0y8CMAxXqiIAuQcgAAEIQAACpSWAALQdLQKQ/GwTsN89AtB+htZmgAC0lliYfhGAYbhSFQHIPQABCEAAAhAoLQEEoO1oEYDkZ5uA/e4RgPYztDYDBKC1xML0iwAMw5WqCEDuAQhAAAIQgEBpCSAAbUeLACQ/2wTsd48AtJ+htRkgAK0lFqZfBGAYrlRFAHIPQAACEIAABEpLAAFoO1oEIPnZJmC/ewSg/QytzQABaC2xMP0iAMNwpSoCkHsAAhCAAAQgUFoCCEDb0SIAyc82AfvdIwDtZ2htBghAa4mF6RcBGIYrVRGA3AMQgAAEIACB0hJAANqOFgFIfrYJ2O8eAWg/Q2szQABaSyxMvwjAMFypigDkHoAABCAAAQiUlgAC0Ha0CEDys03AfvcIQPsZWpsBAtBaYmH6RQCG4UpVBCD3AAQgAAEIQKC0BBCAtqNFAJKfbQL2u0cA2s/Q2gwQgNYSC9MvAjAMV6oiALkHIAABCEAAAqUlgAC0HS0CkPxsE7DfPQLQfobWZoAAtJZYmH4RgGG4UhUByD0AAQhAAAIQKC0BBKDtaBGA5GebgP3uEYD2M7Q2AwSgtcTC9IsADMOVqghA7gEIQAACEIBAaQkgAG1HiwAkP9sE7HePALSfobUZIACtJRamXwRgGK5URQByD0AAAhCAAARKSwABaDtaBCD52SZgv3sEoP0Mrc0AAWgtsTD9IgDDcKUqApB7AAIQgAAEIFBaAghA29EiAMnPNgH73SMA7WdobQYIQGuJhekXARiGK1URgNwDEIAABCAAgdISQADajhYBSH62CdjvHgFoP0NrM0AAWkssTL8IwDBcqYoA5B6AAAQgAAEIlJYAAtB2tAhA8rNNwH73CED7GVqbAQLQWmJh+kUAhuFKVQQg9wAEIAABCECgtAQQgLajRQCSn20C9rtHANrP0NoMEIDWEgvTLwIwDFeqIgC5ByAAAQhAAAKlJYAAtB0tApD8bBOw3z0C0H6G1maAALSWWJh+EYBhuFIVAcg9AAEIQAACECgtAQSg7WgRgORnm4D97hGA9jO0NgMEoLXEwvSLAAzDlaoIQO4BCEAAAhCAQGkJIABtR4sAJD/bBOx3jwC0n6G1GSAArSUWpl8EYBiuVEUAcg9AAAIQgAAESksAAWg7WgQg+dkmYL97BKD9DK3NAAFoLbEw/SIAw3ClKgKQewACEIAABCBQWgIIQNvRIgDJzzYB+90jAO1naG0GCEBriYXpFwEYhitVEYDcAxCAAAQgAIHSEkAA2o4WAUh+tgnY7x4BaD9DazNAAFpLLEy/CMAwXKmKAOQegAAEIAABCJSWAALQdrQIQPKzTcB+9whA+xlamwEC0FpiYfpFAIbhSlUEIPcABCAAAQhAoLQEEIC2o0UAkp9tAva7RwDaz9DaDBCA1hIL0y8CMAxXqiIAuQcgAAEIQAACpSWAALQdLQKQ/GwTsN89AtB+htZmgAC0lliYfhGAYbhSFQHIPQABCEAAAhAoLQEEoO1oEYDkZ5uA/e4RgPYztDYDBKC1xML0iwAMw5WqCEDuAQhAAAIQgEBpCSAAbUeLACQ/2wTsd48AtJ+htRkgAK0lFqZfBGAYrlRFAHIPQAACEIAABEpLAAFoO1oEIPnZJmC/ewSg/QytzQABaC2xMP0iAMNwpSoCkHsAAhCAAAQgUFoCCEDb0SIAyc82AfvdIwDtZ2htBghAa4mF6RcBGIYrVRGA3AMQgAAEIACB0hJAANqOFgFIfrYJ2O8eAWg/Q2szQABaSyxMvwjAMFypigDkHoAABCAAAQiUlgAC0Ha0CEDys03AfvcIQPsZWpsBAtBaYmH6RQCG4UpVBCD3AAQgAAEIQKC0BBCAtqNFAJKfbQL2u0cA2s/Q2gwQgNYSC9MvAjAMV6oiALkHIAABCEAAAqUlsGrVKlm5cqUsX768tHMs88R69eolLS0tsmLFClmwYEGZp1rKuSFw7ceKALSfobUZIACtJRamXwRgGK5URQByD0AAAhCAAARKS2D1++/LmvffRvUYnQAAIABJREFUl9WrV5d2jmWeWJcuXaSle3dZ0bmzzJs3r8xTLeXcEID2Y0UA2s/Q2gwQgNYSC9MvAjAMV6oiALkHIAABCEAAAqUlsPr112WDN96QNe+8U9o5lnlinXr3lpYtt5TlvXohAA0GjQA0GNonWkYA2s/Q2gwQgNYSC9MvAjAMV6oiALkHIAABCEAAAqUloAJQ/t//k4+++c3SzrHME+sxcaK07LQTAtBoyAhAo8G1axsBaD9DazNAAFpLLEy/CMAwXKmKAOQegAAEIAABCJSWAALQdrQIQNv5IQBt56fdIwDtZ2htBghAa4mF6RcBGIYrVRGA3AMQgAAEIACB0hJAANqOFgFoOz8EoO38EID287M4AwSgxdT894wA9M+Uig0QYAFqABKnQAACEIAABBIlgABMNJgG20IANggq0dMQgIkG00RbPAHYBCxO9UKA/bcXjOaLIADNR2hzAixANnOjawhAAAIQgIASQADavg8QgLbzQwDazk+7RwDaz9DaDNh/W0ssTL8IwDBcqVqHAAsQtwgEIAABCEDALgEEoN3stHMEoO38EIC280MA2s/P4gzYf1tMzX/PCED/TKnYAAEWoAYgcQoEIAABCEAgUQIIwESDabAtBGCDoBI9DQGYaDBNtMUTgE3A4lQvBNh/e8FovggC0HyENifAAmQzN7qGAAQgAAEIKAEEoO37AAFoOz8EoO38tHsEoP0Mrc2A/be1xML0iwAMw5WqdQiwAHGLQAACEIAABOwSQADazU47RwDazg8BaDs/BKD9/CzOgP23xdT894wA9M+Uig0QYAFqABKnQAACEIAABBIlgABMNJgG20IANggq0dMQgIkG00RbPAHYBCxO9UKA/bcXjOaLIADNR2hzAixANnOjawhAAAIQgIASQADavg8QgLbzQwDazk+7RwDaz9DaDNh/W0ssTL8IwDBcqVqHAAsQtwgEIAABCEDALgEEoN3stPOeTzwhsummsrpzZ1m2bJntyVSw+169eklLS4usWLFCFixYUEEC9qeMALSfobUZsP+2lliYfhGAYbhSFQHIPQABCEAAAhAoLQEEoO1oe86dK9K5s7QsXy4rV660PZkKdt+lSxdp6d5dVnTuLPPmzasgAftTRgDaz9DaDBCA1hIL0y8CMAxXqiIAuQcgAAEIQAACpSWAALQdrROAKv7eektWv/227clUsPtOvXtLy5ZbyvJevRCARvNHABoNznDbCEDD4XlsHQHoESalGifAAtQ4K86EAAQgAAEIpEYAAZhaIs310yYAX3xRPjj11OYu5uzoBPgNx+gR5G4AAZgbIQWaJMD+u0lgJT0dAVjSYFOfFgtQ6gnRHwQgAAEIQKBjAghA23cHAtB2fghA2/lp9whA+xlamwH7b2uJhekXARiGK1XrEGAB4haBAAQgAAEI2CWAALSbnXaOALSdHwLQdn4IQPv5WZwB+2+LqfnvGQHonykVGyDAAtQAJE6BAAQgAAEIJEoAAZhoMA22hQBsEFSipyEAEw2mibZ4ArAJWJzqhQD7by8YzRdBAJqP0OYEWIBs5kbXEIAABCAAASWAALR9HyAAbeeHALSdn3aPALSfobUZsP+2lliYfhGAYbhStQ4BFiBuEQhAAAIQgIBdAghAu9lp5whA2/khAG3nhwC0n5/FGbD/tpia/54RgP6ZUrEBAixADUDiFAhAAAIQgECiBBCAiQbTYFsIwAZBJXoaAjDRYJpoiycAm4DFqV4IsP/2gtF8EQSg+QhtToAFyGZudA0BCEAAAhBQAghA2/cBAtB2fghA2/lp9whA+xlamwH7b2uJhekXARiGK1XrEGAB4haBAAQgAAEI2CWAALSbnXaOALSdHwLQdn4IQPv5WZwB+2+LqfnvGQHonykVGyDAAtQAJE6BAAQgAAEIJEoAAZhoMA22hQBsEFSipyEAEw2mibZ4ArAJWJzqhQD7by8YzRdBAJqP0OYEWIBs5kbXEIAABCAAASWAALR9HyAAbeeHALSdn3aPALSfobUZsP+2lliYfhGAYbhStQ4BFiBuEQhAAAIQgIBdAghAu9lp5whA2/khAG3nhwC0n5/FGbD/tpia/54RgP6ZUrEBAixADUDiFAhAAAIQgECiBBCAiQbTYFsIwAZBJXoaAjDRYJpoiycAm4DFqV4IsP/2gtF8EQSg+QhtToAFyGZudA0BCEAAAhBQAghA2/cBAtB2fghA2/lp9whA+xlamwH7b2uJhekXARiGK1XrEGAB4haBAAQgAAEI2CWAALSbnXaOALSdHwLQdn4IQPv5WZwB+2+LqfnvGQHonykVGyDAAtQAJE6BAAQgAAEIJEoAAZhoMA22hQBsEFSipyEAEw2mibZ4ArAJWJzqhQD7by8YzRdBAJqP0OYEWIBs5kbXEIAABCAAASWAALR9HyAAbeeHALSdn3aPALSfobUZsP+2lliYfhGAYbhStQ4BFiBuEQhAAAIQgIBdAghAu9lp5whA2/khAG3nhwC0n5/FGbD/tpia/54RgP6ZUrEBAixADUDiFAhAAAIQgECiBBCAiQbTYFsIwAZBJXoaAjDRYJpoiycAm4DFqV4IsP/2gtF8EQSg+QhtToAFyGZudA0BCEAAAhBQAghA2/cBAtB2fghA2/lp9whA+xlamwH7b2uJhekXARiGK1XrEGAB4haBAAQgAAEI2CWAALSbnXaOALSdHwLQdn4IQPv5WZwB+2+LqfnvGQHonykVGyDAAtQAJE6BAAQgAAEIJEoAAZhoMA22hQBsEFSipyEAEw2mibZ4ArAJWJzqhQD7by8YzRdBAJqP0OYEWIBs5kbXEIAABCAAASWAALR9HyAAbeeHALSdn3aPALSfobUZsP+2lliYfhGAYbhStQ4BFiBuEQhAAAIQgIBdAghAu9lp5whA2/khAG3nhwC0n5/FGbD/tpia/54RgP6ZUrEBAixADUDiFAhAAAIQgECiBBCAiQbTYFsIwAZBJXoaAjDRYJpoiycAm4DFqV4IsP/2gtF8EQSg+QhtToAFyGZudA0BCEAAAhBQAghA2/cBAtB2fghA2/lp9whA+xlamwH7b2uJhekXARiGK1XrEGAB4haBAAQgAAEI2CWAALSbnXaOALSdHwLQdn4IQPv5WZwB+2+LqfnvGQHonykVGyDAAtQAJE6BAAQgAAEIJEoAAZhoMA22hQBsEFSipyEAEw2mibZ4ArAJWJzqhQD7by8YzRdBAJqP0OYEWIBs5kbXEIAABCAAASWAALR9HyAAbeeHALSdn3aPALSfobUZsP+2lliYfhGAYbhStQ4BFiBuEQhAAAIQgIBdAghAu9lp5whA2/khAG3nhwC0n5/FGbD/tpia/54RgP6ZUrEBAixADUDiFAhAAAIQgECiBBCAiQbTYFsIwAZBJXoaAjDRYJpoiycAm4DFqV4IsP/2gtF8EQSg+QhtToAFyGZudA0BCEAAAhBQAghA2/cBAtB2fghA2/lp9whA+xlamwH7b2uJhekXARiGa1NVL7vsMpk2bVrda8aOHSsnnnjiWuetWrXKXfvHP/5Rli5dKi0tLdK3b18ZMmSIjBkzRjbbbLP11n3hhRfktttuk2eeeUbeeecdd/5uu+0mI0eOlIMPPrhuT1lPYAHKSo7rIAABCEAAAvEJIADjZ5CnAwRgHnrxr0UAxs8gbwcIwLwEub5ZAuy/myVWzvMRgAnketxxx8lf//rXup18UgCuWLFCTj31VJk3b17Na7feemuZOHGi7LLLLjX//sgjj8i5554rKhFrHaNHj5ZLL720bl9ZTmABykKNayAAAQhAAAJpEEAAppFD1i4QgFnJpXEdAjCNHPJ0gQDMQ49rsxBg/52FWvmuQQBGznT16tWy1157yfLly+Xyyy+XI444osOOunbtKl26dGn7u8q7Bx54wP27s88+212r58yePVvGjx8v7733nnsa8N5775Xu3buvVXfx4sUyYsQIUYm4++67y4UXXig777yz/POf/5Rbb71VHn30UXf+D37wAxk1apR3SixA3pFSEAIQgAAEIFAYAQRgYaiDDIQADIK1sKIIwMJQBxsIARgMLYU7IMD+m1tDCSAAI98H+gru0KFDXRf33Xef7LTTTg11tHDhQhk+fLg7V18hVpnX/li0aJH7d/p0n4rCM844Y62/n3baaTJnzhzZYYcd5A9/+IP06NGj7e/6GvE555wjM2fOdK8Eqwzs2bNnQ301ehILUKOkOA8CEIAABCCQHgEEYHqZNNMRArAZWumdiwBML5NmO0IANkuM8/MSYP+dl2A5rkcARs7x7rvvlosvvtg9oTd//nzp1KlTQx21Pv2nT/ipqOvcufM6111yySUyffp09xTgrFmz2v6uvxX4ta99zf33K664ok0kti+gTwLq7wiqDLzqqqvk2GOPbaivRk9iAWqUFOdBAAIQgAAE0iOAAEwvk2Y6QgA2Qyu9cxGA6WXSbEcIwGaJcX5eAuy/8xIsx/UIwMg5qoCbPHmyDBw40P1nI4dKuX333Vfef/9997GOcePG1bxMf+PvrLPOcn/Tp/x23XVX98+33367XH311bLBBhvIU089Jb179655/ZFHHilLliyRL3/5y3LLLbc00lrD57AANYyKEyEAAQhAAALJEUAAJhdJUw0hAJvCldzJCMDkImm6IQRg08i4ICcB9t85AZbkcgRg5CD1Nd0FCxbISSed5H6DT7/m+/zzz7tXd/XJPZVv+qGPzTffvK3TV155xT2dp8eVV14pw4YNqzmLV199VQYPHuz+1v5JP/29v3vuuUe23XZb93uBHR2tTxD26dNHHn/8ca+kWIC84qQYBCAAAQhAoFACCMBCcXsfDAHoHWmhBRGAheIOMhgCMAhWiq6HAPtvbg8lgACMeB+sWbNG9t57b/noo4/chzw6+hrvFlts4T7M8YUvfMF1+/TTT8vJJ5/s/nnSpEkyaNCgmrP4+OOPZcCAAaIfGtHfANTXhvU48cQT3ZeD99lnH5kyZUqHBG666SaZMGGCe1JQf1Ow/QdI8mJjAcpLkOshAAEIQAAC8QggAOOx9zEyAtAHxXg1EIDx2PsaGQHoiyR1GiXA/rtRUuU+DwEYMd/2v8Wnkk2fBtSn+bbbbjt58803ZcaMGfLrX/9aVORtuumm8vvf/16233579+XfVpmnvyHYv3//DmehgvGDDz5wX/LVL/rqcfjhh8uLL77ong5UsdjRoXLxxz/+sfvz3LlzRUVko4cuMOs73njjjbbfHtSnC/UpQw4IQAACEIAABGwQQADayKmjLhGAtvNDANrOT7tHANrP0NoMEIDWEgvTLwIwDNeGqqpU09dsVYZdc8018vWvf32d6x5++GH3RV49DjvsMLnxxhvd7/lddNFF7t/df//9suOOO3Y43oEHHihvvfWW+4iHfsxDD319WF8j1g+B3HDDDR1eO23aNPeFYT30VWF9ZbjR43Of+1yjp7rXixGADePiRAhAAAIQgEB0AgjA6BHkagABmAtf9IsRgNEjyN0AAjA3Qgo0SQAB2CSwkp6OAEwgWH3Cb8MNN+ywk9NPP10ee+wx94Vgff13zpw5csEFF7jz9WnAz372sx1ee8ABB8jbb7/tnrbT3wHUQ0Xiyy+/7J4EvP766zu8durUqfLDH/7Q/V3H3GabbRqmhQBsGBUnQgACEIAABMwRQACai2ythhGAtvNDANrOT7tHANrP0NoMEIDWEgvTLwIwDFevVX/3u9/JpZde6mrqK8HLly+XM8880/339l/3rTVo6yvA+rt/Y8eOdaccffTR8txzz9X9um/7V4BVPLb/EEm9CfIKcD1C/B0CEIAABCBglwAC0G522jkC0HZ+CEDb+SEA7edncQYIQIup+e8ZAeifqfeKTz75pPsSsB7XXXedexJv9OjR7r9PnjxZBg4cWHPM9h8B0deIzz77bHeeXvvss8+66/T6jg593fjmm292Tx4uXrzY/aevgwXIF0nqQAACEIAABIongAAsnrnPERGAPmkWXwsBWDxz3yPyBKBvotSrR4D9dz1C1fg7AjCBnFtaWtyXdjs69PVffQ1YDxVy+mXfgw46yP13/e3Ao446qualr776qvvQhx76MY9jjjnG/bN+DOTOO+90HxR55JFHOhxXf59w+vTp0rdvX5k1a5ZXUixAXnFSDAIQgAAEIFAoAQRgobi9D4YA9I600IIIwEJxBxkMARgEK0XXQ4D9N7eHEkAARrwPzj//fHnqqafcF34feuihDjv51a9+5Z7806P1ox/777+/vPvuu3LKKae4D4nUOmbOnNn21F/7V4WnTJkil19+uXui75lnnpFNNtmk5vVDhw6VF154oe6rwlkQsgBlocY1EIAABCAAgTQIIADTyCFrFwjArOTSuA4BmEYOebpAAOahx7VZCLD/zkKtfNcgACNmOm7cOLnjjjtcByoAP/3pT6/TjT4dqL/Z9/zzz7sn8R599FH3tKB+BVilnl6jHwKp9XruxRdfLHfffbdstdVW8sQTT7Q9ZahfANYvAesxfvx4UdH3yUPPOfTQQ0XH1y8BjxgxwispFiCvOCkGAQhAAAIQKJQAArBQ3N4HQwB6R1poQQRgobiDDIYADIKVoushwP6b20MJIAAj3gfz58+XkSNHug6++MUvysSJE9fp5pe//KX85Cc/cf9eX90dNWqU++e5c+e6p/8++e9bCyxcuNBJO/0dQP1i8GmnnbZWbR1Xx1eBeNddd0mvXr3a/q7ST38vUF8P1g9/6Ou/3bt390qKBcgrTopBAAIQgAAECiWAACwUt/fBEIDekRZaEAFYKO4ggyEAg2Cl6HoIsP/m9lACCMDI98F5550n9913n+ti0KBBctZZZ8mOO+4ob7zxhuiruv/7v//r/qYf7Pif//mftZ70O+OMM5yc69y5sxN8w4YNk27dusns2bPdk33Lli1zn5i/5557pGfPnmvNdNGiRXLcccfJmjVrZJdddnFPFPbv31/+9a9/ud8Z1CcNO5KLPpCxAPmgSA0IQAACEIBAHAIIwDjcfY2KAPRFMk4dBGAc7j5HRQD6pEmtRgiw/26EUvnPQQBGznj58uVy7rnnin7oo6PjgAMOkJtuumkdiaeCT78OrDKv1rHllls6iVjr1WI9Xz/wMXbsWPeUYK1jzJgxoq8RhzhYgEJQpSYEIAABCECgGAIIwGI4hxoFARiKbDF1EYDFcA45CgIwJF1q1yLA/pv7QgkgABO4D/SV24cfflh+//vfO5n3/vvvuw+D9OvXz/3+3+GHH97hV4JXrVol06ZNkxkzZsjSpUtl5cqV7rcCDznkEPdUYO/evdc7Q/3Ih756rB8Defvtt92rvrvttpt7Nbn1dwJDIGIBCkGVmhCAAAQgAIFiCCAAi+EcahQEYCiyxdRFABbDOeQoCMCQdKmNAOQe6IgAApB7IwoBBGAU7AwKAQhAAAIQ8EIAAegFY7QiCMBo6L0MjAD0gjFqEQRgVPyVHJz9dyVjX2fSCEDugygEWICiYGdQCEAAAhCAgBcCCEAvGKMVQQBGQ+9lYASgF4xRiyAAo+Kv5ODsvysZOwKQ2NMgwAKURg50AQEIQAACEMhCAAGYhVo61yAA08kiSycIwCzU0roGAZhWHlXohv13FVKuP0eeAKzPiDMCEGABCgCVkhCAAAQgAIGCCCAACwIdaBgEYCCwBZVFABYEOuAwCMCAcCldkwD7b24MJYAA5D6IQoAFKAp2BoUABCAAAQh4IYAA9IIxWhEEYDT0XgZGAHrBGLUIAjAq/koOzv67krGvM2kEIPdBFAIsQFGwMygEIAABCEDACwEEoBeM0YogAKOh9zIwAtALxqhFEIBR8VdycPbflYwdAUjsaRBgAUojB7qAAAQgAAEIZCGAAMxCLZ1rEIDpZJGlEwRgFmppXYMATCuPKnTD/rsKKdefI08A1mfEGQEIsAAFgEpJCEAAAhCAQEEEEIAFgQ40DAIwENiCyiIACwIdcBgEYEC4lK5JgP03N4YSQAByH0QhwAIUBTuDQgACEIAABLwQQAB6wRitCAIwGnovAyMAvWCMWgQBGBV/JQdn/13J2NeZNAKQ+yAKARagKNgZFAIQgAAEIOCFAALQC8ZoRRCA0dB7GRgB6AVj1CIIwKj4Kzk4++9Kxo4AJPY0CLAApZEDXUAAAhCAAASyEEAAZqGWzjUIwHSyyNIJAjALtbSuQQCmlUcVumH/XYWU68+RJwDrM+KMAARYgAJApSQEIAABCECgIAIIwIJABxoGARgIbEFlEYAFgQ44DAIwIFxK1yTA/psbQwkgALkPohBgAYqCnUEhAAEIQAACXgggAL1gjFYEARgNvZeBEYBeMEYtggCMir+Sg7P/rmTs60waAch9EIUAC1AU7AwKAQhAAAIQ8EIAAegFY7QiCMBo6L0MjAD0gjFqEQRgVPyVHJz9dyVjRwASexoEWIDSyIEuIAABCEAAAlkIIACzUEvnGgRgOllk6QQBmIVaWtcgANPKowrdsP+uQsr158gTgPUZcUYAAixAAaBSEgIQgAAEIFAQAQRgQaADDYMADAS2oLIIwIJABxwGARgQLqVrEmD/zY2hBBCA3AdRCLAARcHOoBCAAAQgAAEvBBCAXjBGK4IAjIbey8AIQC8YoxZBAEbFX8nB2X9XMvZ1Jo0A5D6IQoAFKAp2BoUABCAAAQh4IYAA9IIxWhEEYDT0XgZGAHrBGLUIAjAq/koOzv67krEjAIk9DQIsQGnkQBcQgAAEIACBLAQQgFmopXMNAjCdLLJ0ggDMQi2taxCAaeVRhW7Yf1ch5fpz5AnA+ow4IwABFqAAUCkJAQhAAAIQKIgAArAg0IGGQQAGAltQWQRgQaADDoMADAiX0jUJsP/mxlACCEDugygEWICiYGdQCEAAAhCAgBcCCEAvGKMVQQBGQ+9lYASgF4xRiyAAo+Kv5ODsvysZ+zqTRgByH0QhwAIUBTuDQgACEIAABLwQQAB6wRitCAIwGnovAyMAvWCMWgQBGBV/JQdn/13J2BGAxJ4GARagNHKgCwhAAAIQgEAWAgjALNTSuQYBmE4WWTpBAGahltY1CMC08qhCN+y/q5By/TnyBGB9RpwRgAALUAColIQABCAAAQgURAABWBDoQMMgAAOBLagsArAg0AGHQQAGhEvpmgTYf3NjKAEEIPdBFAIsQFGwMygEIAABCEDACwEEoBeM0YogAKOh9zIwAtALxqhFEIBR8VdycPbflYx9nUkjALkPohBgAYqCnUEhAAEIQAACXgggAL1gjFYEARgNvZeBEYBeMEYtggCMir+Sg7P/rmTsCEBiT4MAC1AaOdAFBCAAAQhAIAsBBGAWaulcgwBMJ4ssnSAAs1BL6xoEYFp5VKEb9t9VSLn+HHkCsD4jzghAgAUoAFRKQgACEIAABAoigAAsCHSgYRCAgcAWVBYBWBDogMMgAAPCpXRNAuy/uTGUAAKQ+yAKARagKNgZFAIQgAAEIOCFAALQC8ZoRRCA0dB7GRgB6AVj1CIIwKj4Kzk4++9Kxr7OpBGA3AdRCLAARcHOoBCAAAQgAAEvBBCAXjBGK4IAjIbey8AIQC8YoxZBAEbFX8nB2X9XMnYEILGnQYAFKI0c6AICEIAABCCQhQACMAu1dK5BAKaTRZZOEIBZqKV1DQIwrTyq0A377yqkXH+OPAFYnxFnBCDAAhQAKiUhAAEIQAACBRFAABYEOtAwCMBAYAsqiwAsCHTAYRCAAeFSuiYB9t/cGEoAAch9EIUAC1AU7AwKAQhAAAIQ8EIAAegFY7QiCMBo6L0MjAD0gjFqEQRgVPyVHJz9dyVjX2fSCEDugygEWICiYGdQCEAAAhCAgBcCCEAvGKMVQQBGQ+9lYASgF4xRiyAAo+Kv5ODsvysZOwKQ2NMgwAKURg50AQEIQAACEMhCAAGYhVo61yAA08kiSycIwCzU0roGAZhWHlXohv13FVKuP0eeAKzPiDMCEGABCgCVkhCAAAQgAIGCCCAACwIdaBgEYCCwBZVFABYEOuAwCMCAcCldkwD7b24MJYAA5D6IQoAFKAp2BoUABCAAAQh4IYAA9IIxWhEEYDT0XgZGAHrBGLUIAjAq/koOzv67krGvM2kEIPdBFAIsQFGwMygEIAABCEDACwEEoBeM0YogAKOh9zIwAtALxqhFEIBR8VdycPbflYwdAUjsaRBgAUojB7qAAAQgAAEIZCGAAMxCLZ1rEIDpZJGlEwRgFmppXYMATCuPKnTD/rsKKdefI08A1mfEGQEIsAAFgEpJCEAAAhCAQEEEEIAFgQ40DAIwENiCyiIACwIdcBgEYEC4lK5JgP03N4YSQAByH0QhwAIUBTuDQgACEIAABLwQQAB6wRitCAIwGnovAyMAvWCMWgQBGBV/JQdn/13J2NeZNAKQ+yAKARagKNgZFAIQgAAEIOCFAALQC8ZoRRCA0dB7GRgB6AVj1CIIwKj4Kzk4++9Kxo4AJPY0CLAApZEDXUAAAhCAAASyEEAAZqGWzjUIwHSyyNIJAjALtbSuQQCmlUcVumH/XYWU68+RJwDrM+KMAARYgAJApSQEIAABCECgIAIIwIJABxoGARgIbEFlEYAFgQ44DAIwIFxK1yTA/psbQwkgALkPohBgAYqCnUEhAAEIQAACXgggAL1gjFYEARgNvZeBEYBeMEYtggCMir+Sg7P/rmTs60waAch9EIUAC1AU7AwKAQhAAAIQ8EIAAegFY7QiCMBo6L0MjAD0gjFqEQRgVPyVHJz9dyVjRwASexoEWIDSyIEuIAABCEAAAlkIIACzUEvnGgRgOllk6QQBmIVaWtcgANPKowrdsP+uQsr158gTgPUZcUYAAixAAaBSEgIQgAAEIFAQAQRgQaADDYMADAS2oLIIwIJABxwGARgQLqVrEmD/zY2hBBCA3AdRCLAARcHOoBCAAAQgAAEvBBDcPa11AAAgAElEQVSAXjBGK4IAjIbey8AIQC8YoxZBAEbFX8nB2X9XMvZ1Jo0A5D6IQoAFKAp2BoUABCAAAQh4IYAA9IIxWhEEYDT0XgZGAHrBGLUIAjAq/koOzv67krEjAIk9DQIsQGnkQBcQgAAEIACBLAQQgFmopXMNAjCdLLJ0ggDMQi2taxCAaeVRhW7Yf1ch5fpz5AnA+ow4IwABFqAAUCkJAQhAAAIQKIgAArAg0IGGQQAGAltQWQRgQaADDoMADAiX0jUJsP/mxlACCEDugygEWICiYGdQCEAAAhCAgBcCCEAvGKMVQQBGQ+9lYASgF4xRiyAAo+Kv5ODsvysZ+zqTRgByH0QhwAIUBTuDQgACEIAABLwQQAB6wRitCAIwGnovAyMAvWCMWgQBGBV/JQdn/13J2BGAxJ4GARagNHKgCwhAAAIQgEAWAgjALNTSuQYBmE4WWTpBAGahltY1CMC08qhCN+y/q5By/TnyBGB9RpwRgAALUAColIQABCAAAQgURAABWBDoQMMgAAOBLagsArAg0AGHQQAGhEvpmgTYf3NjKAEEIPdBFAIsQFGwMygEIAABCEDACwEEoBeM0YogAKOh9zIwAtALxqhFEIBR8VdycPbflYx9nUkjALkPohBgAYqCnUEhAAEIQAACXgggAL1gjFYEARgNvZeBEYBeMEYtggCMir+Sg7P/rmTsCEBiT4MAC1AaOdAFBCAAAQhAIAsBBGAWaulcgwBMJ4ssnSAAs1BL6xoEYFp5VKEb9t9VSLn+HHkCsD4jzghAgAUoAFRKQgACEIAABAoigAAsCHSgYRCAgcAWVBYBWBDogMMgAAPCpXRNAuy/uTGUAAKQ+yAKARagKNgZFAIQgAAEIOCFAALQC8ZoRRCA0dB7GRgB6AVj1CIIwKj4Kzk4++9Kxr7OpBGA3AdRCLAARcHOoBCAAAQgAAEvBBCAXjBGK4IAjIbey8AIQC8YoxZBAEbF//+1dx5QUhXZG78woEgSQcEcjoK6i64rRlxdV8W4mCPirq6Ys+6aI2bXnAOYFVlzTuiaMKCYUFcQzIoiIEgQUOR/vtLX/55menqm53VX1bzfPccjMO9V3fp9b3qmv75VN5OT8/47k7JjACJ7GAR4AQpDB7KAAAQgAAEIlEMAA7AcauHcgwEYjhblZIIBWA61sO7BAAxLjyxkw/vvLKhceo1UAJZmxBUVIMALUAWgMiQEIAABCECgSgQwAKsEukLTYABWCGyVhsUArBLoCk6DAVhBuAxdJwHef/NgiAAGIM+BFwK8AHnBzqQQgAAEIACBVAhgAKaC0dsgGIDe0KcyMQZgKhi9DoIB6BV/Jifn/XcmZZ9v0RiAPAdeCPAC5AU7k0IAAhCAAARSIYABmApGb4NgAHpDn8rEGICpYPQ6CAagV/yZnJz335mUHQMQ2cMgwAtQGDqQBQQgAAEIQKAcAhiA5VAL5x4MwHC0KCcTDMByqIV1DwZgWHpkIRvef2dB5dJrpAKwNCOuqAABXoAqAJUhIQABCEAAAlUigAFYJdAVmgYDsEJgqzQsBmCVQFdwGgzACsJl6DoJ8P6bB0MEMAB5DrwQ4AXIC3YmhQAEIAABCKRCAAMwFYzeBsEA9IY+lYkxAFPB6HUQDECv+DM5Oe+/Myn7fIvGAOQ58EKAFyAv2JkUAhCAAAQgkAoBDMBUMHobBAPQG/pUJsYATAWj10EwAL3iz+TkvP/OpOwYgMgeBgFegMLQgSwgAAEIQAAC5RDAACyHWjj3YACGo0U5mWAAlkMtrHswAMPSIwvZ8P47CyqXXiMVgKUZcUUFCPACVAGoDAkBCEAAAhCoEgEMwCqBrtA0GIAVAlulYTEAqwS6gtNgAFYQLkPXSYD33zwYIoAByHPghQAvQF6wMykEIAABCEAgFQIYgKlg9DYIBqA39KlMjAGYCkavg2AAesWfycl5/51J2edbNAYgz4EXArwAecHOpBCAAAQgAIFUCGAApoLR2yAYgN7QpzIxBmAqGL0OggHoFX8mJ+f9dyZlxwBE9jAI8AIUhg5kAQEIQAACECiHAAZgOdTCuQcDMBwtyskEA7AcamHdgwEYlh5ZyIb331lQufQaqQAszYgrKkCAF6AKQGVICEAAAhCAQJUIYABWCXSFpsEArBDYKg2LAVgl0BWcBgOwgnAZuk4CvP/mwRABDECeAy8EeAHygp1JIQABCEAAAqkQwABMBaO3QTAAvaFPZWIMwFQweh0EA9Ar/kxOzvvvTMo+36IxAHkOvBDgBcgLdiaFAAQgAAEIpEIAAzAVjN4GwQD0hj6ViTEAU8HodRAMQK/4Mzk5778zKTsGILKHQYAXoDB0IAsIQAACEIBAOQQwAMuhFs49GIDhaFFOJhiA5VAL6x4MwLD0yEI2vP/Ogsql10gFYGlGXFEBArwAVQAqQ0IAAhCAAASqRAADsEqgKzQNBmCFwFZpWAzAKoGu4DQYgBWEy9B1EuD9Nw+GCGAA8hx4IcALkBfsTAoBCEAAAhBIhQAGYCoYvQ2CAegNfSoTYwCmgtHrIBiAXvFncnLef2dS9vkWjQHIc+CFAC9AXrAzKQQgAAEIQCAVAhiAqWD0NggGoDf0qUyMAZgKRq+DYAB6xZ/JyXn/nUnZMQCRPQwCvACFoQNZQAACEIAABMohgAFYDrVw7sEADEeLcjLBACyHWlj3YACGpUcWsuH9dxZULr1GKgBLM+KKChDgBagCUBkSAhCAAAQgUCUCGIBVAl2haTAAKwS2SsNiAFYJdAWnwQCsIFyGrpMA7795MEQAA5DnwAsBXoC8YGdSCEAAAhCAQCoEMABTwehtEAxAb+hTmRgDMBWMXgfBAPSKP5OT8/47k7LPt2gMQJ4DLwR4AfKCnUkhAAEIQAACqRDAAEwFo7dBMAC9oU9lYgzAVDB6HQQD0Cv+TE7O++9Myo4BiOxhEOAFKAwdyAICEIAABCBQDgEMwHKohXMPBmA4WpSTSfsXXzRbeGGbW1NjU6dOLWcI7vFMoE2bNrbAAgtY69atPWfC9FkhwPvvrChd/zqpAOQ58EKAFyAv2JkUAhCAAAQgkAoBDMBUMHobBAPQG/pUJnb61dTYvFmzbM6cOamMySDVJVBTU2MtO3Swmg4dqjsxs2WWAO+/Myt9rYVjAPIceCHAC5AX7EwKAQhAAAIQSIUABmAqGL0NggHoDX0qE+f0mzjR5k6alMqYDFJdAi07d7Z5XbtaTbdu1Z2Y2TJLgPffmZUeAxDp/RPgBci/BmQAAQhAAAIQKJcABmC55MK4DwMwDB3KzQL9yiUXzn1tBw0y69EDAzAcSZp9Jrz/bvYSN2iBVAA2CBMXpU2AF6C0iTIeBCAAAQhAoHoEMACrx7oSM2EgVYJq9cZEv+qxrtRMGICVIsu4xQjw/ptnQwQwAHkOvBDgBcgLdiaFAAQgAAEIpEIAAzAVjN4GwUDyhj6VidEvFYxeB8EA9Io/k5Pz/juTss+3aAxAngMvBHgB8oKdSSEAAQhAAAKpEMAATAWjt0EwkLyhT2Vi9EsFo9dB2g0e7LYAt+za1WseTJ4dArz/zo7W9a0UA5DnwAsBXoC8YGdSCEAAAhCAQCoEMABTwehtEAwkb+hTmRj9UsHodRAZgPO6d7dfOne2GTNmeM2Fycsn0KZNG9N/MQTvv2NQqfI5YgBWnjEz1EGAFyAeCwhAAAIQgEC8BDAA49VOmWMgoV/cBOLP3hmAK61kszt2tK+//jr+BWVwBTU1NbbIIotYp06dolg977+jkKniSWIAVhwxE9RFgBcgngsIQAACEIBAvAQwAOPVDgMwbu3QL379tILEAJzVoYO9/vrrzWNRGVvF0ksvbYsuuigGYMZ0j325GICxKxhp/hiAkQpH2hCAAAQgAAEzwwCM+zGgAhD94iYQf/YYgPFriAEYv4ZZXAEGYBZVD2DNGIABiEAKEIAABCAAgTIJYACWCS6Q2zAAAxGizDTQr0xwAd2GARiQGGWmggFYJjhu80oAA9Ar/uxOjgGYXe1ZOQQgAIFZs2aZ/iPiJNChQwez774z++gjmzlgQJyLyHjWGEhxPwDoF7d+yh4DMH4NMQDj1zCLK8AAzKLqAawZAzAAEUgBAhCAgCcCU6ZMse+//97mzp3rKQOmbQqBZZdd1momT8YAbApEz/diIHkWoInTo18TAQZwOwZgACI0MQUMwCYC5HYvBDAAvWBnUgxAngEIQAAC2SUgA3DixIn25ZdfZhdCxCvv3bs3BmDE+il1DKS4BUS/uPVT9hiA8WuIARi/hllcAQZgFlUPYM0YgAGIQAoQgAAEPBHAAPQEPqVpMQBTAulxGAwkj/BTmBr9UoDoeQgMQM8CpDA9BmAKEBmi6gQwAKuOnAlFAAOQ5wACEIBAdglgAMatPQZg3PopewykuDVEv7j1U/YYgPFriAEYv4ZZXAEGYBZVD2DNGIABiEAKEIAABDwRwAD0BD6laTEAUwLpcRgMJI/wU5ga/VKA6HkIDEDPAqQwPQZgChAZouoEMACrjpwJRQADkOcAAhCAQHYJYADGrT0GYNz6KXsMpLg1RL+49VP2GIDxa4gBGL+GWVwBBmAWVQ9gzRiAAYhAChCAAAQ8EcAA9AQ+pWkxAFMC6XEYDCSP8FOYGv1SgOh5CAxAzwKkMD0GYAoQGaLqBDAAq46cCUUAA5DnAAIQgEB2CWAAxq09BmDc+il7DKS4NUS/uPVT9hiA8WuIARi/hllcAQZgFlUPYM0YgAGIQAoQgAAEPBHAAPQEPqVpMQBTAulxGAwkj/BTmBr9UoDoeQgMQM8CpDA9BmAKEBmi6gQwAKuOnAlFAAOQ5wACEIBAdglgAMatPQZg3PopewykuDVEv7j1U/YYgPFriAEYv4ZZXAEGYBZVD2DNGIABiEAKEIAABDwRwAD0BD6laTEAUwLpcRgMJI/wU5ga/VKA6HkIDEDPAqQwPQZgChAZouoEMACrjpwJRQADkOcAAhCAQHYJYADGrT0GYNz6KXsMpLg1RL+49VP2GIDxa4gBGL+GWVwBBmAWVQ9gzRiAAYhAChCAAAQ8EcAA9AQ+pWkxAFMC6XEYDCSP8FOYGv1SgOh5CAxAzwKkMD0GYAoQGaLqBDAAq46cCUUAA5DnAAIQgEB2CWAAxq09BmDc+il7DKS4NUS/uPVT9hiA8WuIARi/hllcAQZgFlUPYM0YgAGIQAoQgAAEPBHAAPQEPqVpMQBTAulxGAwkj/BTmBr9UoDoeQgMQM8CpDA9BmAKEBmi6gQwAKuOnAlFAAOQ5wACEIBAdglgAMatPQZg3PopewykuDVEv7j1U/YYgPFriAEYv4ZZXAEGYBZVD2DNGIABiEAKEIAABDwRwAD0BD6laTEAUwLpcRgMJI/wU5ga/VKA6HkIDEDPAqQwPQZgChAZouoEMACrjpwJRQADkOcAAhCAQHYJYADGrT0GYNz6KXsMpLg1RL+49VP2GIDxa4gBGL+GWVwBBmAWVQ9gzRiAAYhAChCAAAQ8EcAA9AQ+pWkxAFMC6XEYDCSP8FOYGv1SgOh5CAxAzwKkMD0GYAoQGaLqBDAAq46cCUUAA5DnAAIQgEB2CWAAxq09BmDc+il7DKS4NUS/uPVT9hiA8WuIARi/hllcAQZgFlUPYM0YgAGIQAoQgAAEPBHAAPQEPqVpMQBTAulxGAwkj/BTmBr9UoDoeQgMQM8CpDA9BmAKEBmi6gQwAKuOnAlFAAOQ5wACEIBAdglgAMatPQZg3PopewykuDVEv7j1U/YYgPFriAEYv4ZZXAEGYBZVD2DNGIABiEAKEIAABDwRwAD0BD6laTEAUwLpcRgMJI/wU5ga/VKA6HkIDEDPAqQwPQZgChAZouoEMACrjpwJRQADkOcAAhCAQHYJYADGrT0GYNz6KXsMpLg1RL+49VP2GIDxa4gBGL+GWVwBBmAWVQ9gzRiAAYhAChCAAAQ8EcAA9AQ+pWkxAFMC6XEYDCSP8FOYGv1SgOh5CAxAzwKkMD0GYAoQGaLqBDAAq46cCUUAA5DnAAIQgEB2CWAAxq09BmDc+il7DKS4NUS/uPVT9hiA8WuIARi/hllcAQZgFlUPYM0YgAGIQAoQgAAEPBHAAPQEPqVpMQBTAulxGAwkj/BTmBr9UoDoeQgMQM8CpDA9BmAKEBmi6gQwAKuOnAlFAAOQ5wACEIBAdglgAMatPQZg3PopewykuDVEv7j1U/YYgPFriAEYv4ZZXAEGYBZVD2DNGIABiEAKEIAABDwRwAD0BD6laTEAUwLpcRgMJI/wU5ga/VKA6HkIDEDPAqQwPQZgChAZouoEMACrjpwJRQADkOcAAhCAQHYJYADGrT0GYNz6KXsMpLg1RL+49VP2GIDxa4gBGL+GWVwBBmAWVQ9gzRiAAYhAChCAAAQ8EcAA9AQ+pWkxAFMC6XEYDCSP8FOYGv1SgOh5CAxAzwKkMD0GYAoQGaLqBDAAq46cCUUAA5DnAAIQgEB2CWAAxq09BmDc+il7DKS4NUS/uPVT9hiA8WuIARi/hllcAQZgFlUPYM0YgAGIQAoQgAAEPBHAAPQEPqVpMQBTAulxGAwkj/BTmBr9UoDoeQgMQM8CpDA9BmAKEBmi6gQwAKuOnAlFAAOQ5wACEIBAdgn89NNPNmfOHJs1a1Z2IUS88kUWWcRs4kRrMWaMTd9334hXkt3UMZDi1h794tZP2WMAxq8hBmD8GmZxBRiAWVQ9gDVjAAYgAilAAAIQ8ERg7rRp9su0aTZ37lxPGTBtUwgs2LWr2ZQpZh99hAHYFJAe78VA8gg/hanRLwWInofAAPQsQArTYwCmAJEhqk4AA7DqyJlQBDAAeQ4gAAEIZJfA3G+/tRYTJtgvkydnF0LEK69Zc02zGTPMxo7FAIxURwykSIX7LW30i1s/ZY8BGL+GGIDxa5jFFWAAZlH1ANaMARiACKQAAQhAwBMBGYA2ZozNHDDAUwZM2xQCmA9NoRfGvWgYhg7lZoF+5ZIL5z4MwHC0KDcTDMByyXGfTwIYgD7pZ3huDMAMi8/SIQCBzBPAAIz7EcB8iFs/ZY+GcWuIfnHrp+wxAOPXEAMwfg2zuAIMwCyqHsCaMQADEIEUIAABCHgigAHoCXxK02I+pATS4zBo6BF+ClOjXwoQPQ+BAehZgBSmxwBMASJDVJ0ABmDVkTOhCGAA8hxAAAIQyC4BDMC4tcd8iFs/ZY+GcWuIfnHrp+wxAOPXEAMwfg2zuAIMwCyqHsCaMQADEIEUIAABCHgigAHoCXxK02I+pATS4zBo6BF+ClOjXwoQPQ+BAehZgBSmxwBMASJDVJ0ABmDVkYc34ejRo23QoEH22muv2eTJk61Tp07Ws2dP69evn2200UYVSRgDsCJYGRQCEIBAFAQwAKOQqWiSmA9x66fs0TBuDdEvbv2UPQZg/BpiAMavYRZXgAGYRdXz1jxs2DA78sgj7aeffqqTxF577WUnn3xy6pQwAFNHyoAQgAAEoiGAARiNVHUmivkQt34YgOgXP4H4V4ABGL+GGIDxa5jFFWAAZlH139b8/vvv2x577GGzZ8+21VZbzY499ljr3r27ffnll3bNNdfYM88846489dRTbc8990yVFAZgqjgZDAIQgEBUBDAAo5JrvmQxAOPWDwMQ/eInEP8KMADj1xADMH4Ns7gCDMAsqv7bmvfbbz974YUXbNlll7UHHnjA2rVrl6Mxb948O+yww+zpp592W4JlBrZv3z41WhiAqaFkIAhAAALREcAAjE6yWgljAMatHwYg+sVPIP4VYADGryEGYPwaZnEFGIBZVN3Mxo0bZ1tvvbVb/VlnnWW77LLLfCRUCbjZZpuZzMBzzjnHdtppp9RoYQCmhpKBIJBJArNmzTL9R8RHoEOHDmbffWf20Uc2c8CA+BZAxpwf1wyeAUzcuEVEv7j1cyb8iy+aLbywza2psalTp8a/oAyuoE2bNrbAAgtY69ato1g977+jkKniSWIAVhxxmBPcdNNNdt5551mLFi1s+PDh1qVLlzoT3W677ezDDz+0TTfd1K6++urUFsMLUGooGQgCmSQwZcoU+/77723u3LmZXH/Mi1bVec3kyRiAEYuI+RCxeL+ljoZxa4h+cevnDMBXXjGrqbF5s2bZnDlz4l9QBldQU1NjLTt0sBp9sBlB8P47ApGqkCIGYBUghziFzvt78MEHbYkllrDnnnuuaIonnHCC3Xfffbb44ovb888/n9pSeAFKDSUDQSCTBNS4SL8wUwUYn/yLLLKI2cSJ1mLMGJu+777xLYCMqQBsBs8ABlLcIqJf3PrlDEAZfxMn2txJk+JfUAZX0LJzZ5vXtavVdOsWxep5/x2FTBVPEgOw4ojDnKB///72+uuv21prrWV33HFH0SSvuOIKu/LKK12l4KhRo1IrceYFKMzngqwgEAuBudOm2S/TplEBGItgeXku2LWr2ZQprgIQAzBCAZPKFb1xHTsWDeOUEBM3Ut2StDEAIxeQ19H4BTSztoMGmfXogQHYLNTMziIwALOjda2VbrPNNjZ27FjbZJNNXMffYnHzzTfbueee6778yiuvWOfOnRtETAZffTF+/Hjbfffd3SV33323ddUbQgICEIBAAwiogqzlpEnWcuJE+0VbSYmoCLTq1cts+nSbN26cTd1776hyJ9lfCXQaMcJs9mw0jPiBQMOIxeN7MG7xfsue78H4Zexw4402b6WV7JcuXdyxNKHHhAkTcuf+q8GnmpgQ2SOAAZg9zd2K1dzjiy++cI1ALrnkkqIUhgwZYqeffrr7urYKa8twQ2LllVduyGVRXtO3b1/Tf0S8BNTghh968erXs2dPazFpkrWZOpVtMxHK2Ha99WzejBlOw5lffx3hCkgZDeN/BtAwbg3RL279lD0axq9hjYy/1q1t7NSptv/++0e1IBXgrL766lHlTLLpEMAATIdjdKNsscUW9umnn5oqAS+++OKi+d955512xhlnuK+/8MIL1q2BZxw0ZwMwOrFJGAIQgAAEIAABCEAAAhCAAAQg8NsOPAzAbD4KGIDZ1N122GEH++CDD0p2983fAvzqq6+aO7y9AVFqC/Ds2bPt448/dt2Hta24VatWDRjV7yX5ZdNsW/arRbmzo2G55MK5Dw3D0aKcTNCvHGph3YOGYelRTjZoWA61cO5Bv3C0KDcTNCyXXDj3xajhzz//bJN/OzqnR48e1qZNm3CAkknVCGAAVg11WBPttddeNmLECFtnnXXstttuK5rc5ZdfbldddZW1bNnS3n//fff/rAaNS+JXHg3RMH4Cca+A78G49VP2aIiG8ROIewV8D8atH6+j8euHhs1Dw6yuAgMwo8qfeuqpNnToUFtmmWVs2LBhRSmccMIJdt9999lSSy1lzz77bEZp/bpsfuGKX340RMP4CcS9Ar4H49aPn4Xx64eG8WvI6ygaxk8g/hXwfRi/hlldAQZgRpW/4447bODAga6i77XXXrOOHTvWSWLbbbe10aNHl9wqnAWMvNDHrzIaomH8BOJeAd+DceuHeRS/fmgYv4a8jqJh/ATiXwHfh/FrmNUVYABmVHl1AFYnYMW///1vk9FXGLqmT58+Nm/ePNcJeI899sgorV+XzQt9/PKjIRrGTyDuFfA9GLd+/CyMXz80jF9DXkfRMH4C8a+A78P4NczqCjAAs6q8mfXr189Gjhxpyy+/vN1zzz3WoUOHHA2ZfoceeqjbHqzGH9r+27Zt2wzTwgBsDuLzwzp+FdEwbg3RL279MI/i1w8N49eQ11E0jJ9A/Cvg+zB+DbO6AgzArCpvZqNGjbJdd93VfvnlF1MnoOOOO85+97vf2fjx413jj2eeecbR0XmBe+65Z4ZJ/bp0XujjfwTQEA3jJxD3CvgejFs/fhbGrx8axq8hr6NoGD+B+FfA92H8GmZ1BRiAWVX+t3Wrwccpp5xiagteV+yzzz52/PHHZ5wSBmBzeQD4YR2/kmgYt4boF7d+mEfx64eG8WvI6ygaxk8g/hXwfRi/hlldAQZgVpXPW7eafAwePNg1A5k0aZLb6tuzZ0+3RTg5JxBMVAA2h2eAH9bxq4iGcWuIfnHrh3kUv35oGL+GvI6iYfwE4l8B34fxa5jVFWAAZlV51g0BCEAAAhCAAAQgAAEIQAACEIAABCCQCQIYgJmQmUVCAAIQgAAEIAABCEAAAhCAAAQgAAEIZJUABmBWlWfdEIAABCAAAQhAAAIQgAAEIAABCEAAApkggAGYCZlZJAQgAAEIQAACEIAABCAAAQhAAAIQgEBWCWAAZlV51g0BCEAAAhCAAAQgAAEIQAACEIAABCCQCQIYgJmQmUVCAAIQgAAEIAABCEAAAhCAAAQgAAEIZJUABmBWlWfdEIAABCAAAQhAAAIQgAAEIAABCEAAApkggAGYCZlZJAQgAAEIQAACEIAABCAAAQhAAAIQgEBWCWAAZlV51g0BCEAAAhCAAAQgAAEIQAACEIAABCCQCQIYgJmQmUVCAAIQgAAEIAABCEAAAhCAAAQgAAEIZJUABmBWlWfdZRM466yz7LbbbjP9f5dddil7HG6sLoHnn3/e7r33Xnv77bdt8uTJtsACC9hyyy1nf/7zn+1vf/ubde7cuboJMVujCDzxxBN2991323vvvWczZsywRRdd1P74xz/arrvuauuvv36jxuLiMAj8+OOPtv3229unn35qhx56qB122GFhJEYW8xE4/fTTbciQISXJnHLKKda/f/+S13GBHwLTp0+3W265xZ555hn7/PPPbfbs2bbkkku6n4P77ruvdevWzU9izFovgeOPP97uv//+RlG69dZbbd11123UPVxcHQKvvPKK3X777fbOO+/YlClTrF27drbKKqu4n4fbbbedtWzZsjqJMEtZBJ5++mn3++ioUaNs2rRp7v3D2muv7d5L/OEPfyhrTG6CQDUJYABWkzZzRU9AvzTrjeovv0GnTY0AACAASURBVPyCARiJmj///LPpl+eHH364aMZdunSxq666yhlKRFgE5syZY//85z/tySefLJrYbrvtZmeccYa1aNEirOTJpl4Cp556qg0dOtRdgwEY9sMio11vVksFBmApQv6+/sEHH9j+++9v3333XZ1JdOrUyW644QZbffXV/SXJzHUSKMcA1AeePXv2hGhgBC644AIbPHhw0ax69+5tV199tS200EKBZU46s2bNsmOPPbbe30cPP/xwO+SQQ4AFgaAJYAAGLQ/JhUTgv//9r+mFXYaEggrAkNQpnsv5559vN954o7tg0003tQEDBtgKK6xgEyZMMFUF6hctVSLpzc9DDz1EBURgsiYVt0pryy23tH/84x+29NJL21dffeV+iVZloOLII4+0gw46KLDsSacYgeeee84OOOCA3JcxAMN9VubOnWtrrrmm6c3PwIED7a9//WvRZFVZ3bp163AXk9HM9PNOuk2dOtU6duxoRx11lKv6a9WqlasGvPDCC11lddeuXe3xxx+39u3bZ5RUmMvW750//fRTvcm98cYbduCBB7oPqPVz8rjjjgtzMRnOSlVjJ598siOgD5yPOOII6969u33zzTd200032SOPPOK+pkpA/e5KhEVA5t+DDz7oklpjjTXc752q3Jw0aZLdddddbneYAhMwLN3IZn4CGIA8FRAoQUC/TKk6TEaR/pwEBmD4j863335rm2yyiakKsG/fvu5NTmG8++67tscee7hr9txzT1NVEhEGgfHjx9tmm23mtNGb14suumi+xGT6Pfvss9ahQwd78cUX+dQ8DOnqzUJb8PX9OHHixNx1GIDhCjd69GjbdtttXYKPPvqorbTSSuEmS2Z1Ejj66KOddm3btnVbD3//+9/Xuk4fcMo8UuhnoH4WEvEQ0DZSbR2VkSRjSRrL3CXCItCnTx+39V6voarQbNOmTa0EjznmmJwJqN9rllpqqbAWkOFs3nrrLdt9990dAVVpXnfdde4oofy4/vrr3e+p+nftOlp++eUzTIylh0wAAzBkdcjNO4GXXnrJVK6vN0AK/dL8/vvvuz9jAHqXp2QCd9xxh6tYUdT3y5TMB53poV+2dB0RBoF8/R577DFbccUV50tM1Sr6FFZx3333zffGNoyVkEU+gYMPPthVHe24445OMwUGYLjPiM4e0xZEmUcjR47kfKpwpaozMxntG220kamSU5V/idFXeLEqrGVOyEg699xzI1tlttNNfoeRoaSdDDrfmAiLgEza5EzGYt+HquJMzPdLL73Uttpqq7AWkeFsknNwa2pq7KmnnnI7UQpDRSIyeb/88ktXWKB7CAiESAADMERVyCkYAiuvvLLLRVua9EuzqiD04q7AAAxGpqKJXHLJJXbzzTe77UzDhw8vel1yJot0VpMJIhwCqgJUk4hijT7yDUBtzdB2DCJcAskWKJntMpbWWWcdlywGYLiaJdvwpVWyxSncbMmskEDyQcqCCy5oL7/8ctHtvdrirWs4SzWuZ0gfVKuBi0IVZDrnkQiPgJpFrLXWWi4xNbzSz7zC0DmrOm9VccUVV9jmm28e3kIympGaPmrHkJp8/Oc//ylKQefg6usUFGT0QYlk2RiAkQhFmn4IyEzQuXHaPqPqI32qo78rMAD9aFLOrOp8WN+ZRjqwd9iwYa6zbH1GYTlzc0/lCOhMJJ11NGLECFtiiSVcFSfnj1WOd1NH/uKLL9yHKDIa1KFSW9WSrYgYgE2lW7n7Vcnw5ptvug6HOq9KFUb/+9//3JlkepOjn4kyIBZZZJHKJcHIZRPQWXAPPPCA9erVy+68885a40hDXjPLRuv9Rh2PodfUcePG2TLLLGOqlC/clug9SRLIEdhiiy3cB5p6P6EPwGS450dSZabvSf1Ouvjii0MvEAKJdqrKVHVmsVDhwbXXXuu+rIp5zlMNREDSqEUAA5AHAgL1EPjkk09cw4gkMACb3+OiCjNVdeqNkD5t1aeuRLgEZs6c6Rq4yJBQdae25+uXZZ3TqUPtiTAJaPuhtjbpHJ199tnHbSnVm1cMwDD1SrLSliYZR/q+0/dZsUYEnTt3tmuuucYdjE6ERUBb7XV0if6vrb06709nxOk1VLoutthizsTV1vxu3bqFlTzZ1Esg/5gMnXGss1WJcAlo66gaf+h1VY2VkiYg6sw9ZMgQ10hCwQdi4Wm4ww47mDqp6zgFdUsvFomJq68XO7omvNWRUdYIYABmTXHW2yQCGIBNwhfczfolTNtl1DxCIUOp2FbT4JLPaEI6hFkmUhKq/NMnrqomI8IloCZKl112mTv8XOf+qfIBAzBcvZLMVFm09dZbu79qa6iqAXfeeWdbcsklTW9addC5uqxLy4UXXtgdbK9KJCIcAn/605+cVqqWVvVtYRVgkmmnTp1c5QqvpeFoV18m+v1FH1qqslrfc08++aTpfDIibAI6/1bHzqgSsDD0+4zONFYXYCIsAkkHYHVR13uGwgYuSbbbbLONjR071v1VW4G1ZZiAQGgEMABDU4R8giaAARi0PI1OLjnbSjfqh/bFF1/c6DG4oboENt54Y1PVZn6oikznrvDGtbpaNHQ2nasp43bevHk2dOhQ69mzp7sVA7ChBP1d98orr9gJJ5zgqm7PP//8OiuMVNWiM60U2iZ1+eWX+0uYmecjoNfFpNJPRqDOIVMTgtVWW81mzJhhOkdV1WO6Rtu4dZYqlYDhP0gy/A4//HCXqKqOZM4T4RPQ95c+bFY1WWFo+7YqzWQCqqqaCIdAfqf0vffe2/1cLIx77rnHTjrppNw/q0I3OfcxnJWQCQTMMAB5CiDQCAIYgI2AFfClMiLOOeccdw6ZokePHm7rRbt27QLOmtRE4OOPP3bd13Suoz5J1xtXdddbaKGF3C/VbEEM6zlRxZHe0Ei3woPPMQDD0qq+bKRVq1atil6iJll6g9SyZUt79dVXXTUgEQaBVVdd1W05VKiRiyo2C8/9e/31190Zj7pOW/VPPfXUMJIni6IEkrM5u3Tp4r73Cs+TA114BPI/dJZ+e+21l6ve/P77711nWZ0tp99tdEagfj/VudREOARk/OlDMYUq43WciTpuq9O6zlkdPHiw0+zbb79111ABGI52ZFKbAAYgTwQEGkEAA7ARsAK9dM6cOe6Tu0ceecRlqF+0brnlFncOEhEfgTFjxrgtibNnz3Zn6ugcHSIcAgMHDjR9Cq5qI5ns+SYSBmA4OjU1k6S7s8aRwbTBBhs0dUjuT4lAUgGo4bT9Pjl3s3D4xMTVz0J1liXCJfDVV1/ZJpts4hKUiXTyySeHmyyZOQLqwC3DSFGsW7OaK6laXh+c7bTTTu6DaiIcAjJqDzrooFrH0ORnpw+gddRCUpmr9xlqnEVAIDQCGIChKUI+QRPAAAxanpLJTZ482dTxV4efK/RGaNCgQWy1KEku7Av05kcGhEKfzrJ1Jgy9dE7OgAEDXGWKOh7KbM8PDMAwdEojCxlG6gSsoBlBGkTTGyM5A7BDhw72xhtvFB1Y1Ss6m0zx2muvmc4EJMIkoGp3NXRR6IMVjr8IU6f8rLStV9vttb1eFZvFzmuU6acPpfVhmb5ftbuBCIeAGmGpsk8VfzrrT1XvOttY5zbuuuuu7ixOHbHA62g4mpHJ/AQwAHkqINAIAhiAjYAV2KU6cFkNPz777DOX2YYbbuiaErDtNzChykhHVX86A0khI3D11VcvYxRuSZuAOv3K+GtsaGu3tnkT4RDQsQlqAlIs8s9HUkfuzTbbLJzkM55J0jhJW9OGDx9elIbe1OosVcULL7zAOYABPzf9+vWzkSNH2lJLLeWOwqjvezPgZWQqNRlEqvDr06ePXXnllUXX/vTTT7suwIqHHnrIVl555Uxxin2xakqnZko6T1XHYRAQCJEABmCIqpBTsAQwAIOVpt7EPvzwQ9PZHSrfV+hTutNOO63eM63iXGnzyvq6666z559/3lX01fcLc341hLqS6kxHwj8BDED/GjQ1A21Vk2mkM/1U2VAsbrjhBlf5p3jsscfmq/Zsah7cXz6BM844w3X+VaWKzvpr3759nYMlnbpVmTRq1Cg6ypaPvKJ36oy4tdde253XyPbfiqJOdfCkO6wamel3m2IxbNgwt1NFoa7qSdOsVJNhsLII6Hvuhx9+qLc6Wlu31fjsL3/5izMCCQiESAADMERVyClYAhiAwUpTNDFV/Omw5UmTJrlrjjjiCDv44IPjW0gGM04OzNZWmGeffbZoRYq2HmoLoqo59YmrOukR/gnovE1tlykW+mU66ZB3wAEHmP5TtG3blooW//K5DPRBibYYKmQALr/88vNlpupANXpRdQsVSYEIl5eGPkRR9bvi7LPPdmem1hVq/qEthzrHSt26iTAJyJDXOWMKVRupGQERPgE1wVKjD32Yot9Xiv2eom7rOkdVv/foSJOOHTuGv7gMZCgzVhXSSaOruj5IUbHBdtttV/K1NgO4WGLgBDAAAxeI9MIigAEYlh6lspEBoe1P77//vrtUzT9UCUjEQeDtt9+23XbbzSWrX6qS86nys3/00Uft6KOPdv/Uv3//3Ba2OFaY7Sw5AzB8/bXNUNsNFTpLTufEFcb1119vF110kftndY+VkUSEQ0DfZ5tvvrmpcYQafGhbfmHTqyeeeMJ9OKZQxaB+bhJhEsj/ftMHYzLdifAJ5H+PycA97rjj5kt69OjR7ntv5syZrsnLNddcE/7CMpLhuHHjcma7tEtM+GT5atyiTurvvPOOde3a1VTJSWfujDwcES4TAzBC0UjZHwEMQH/sy5n59ttvtzPPPNPduuWWWzaooxpnApZDunL3HHvssfbggw+6CbSlYr/99rMVVljBVXTqjay2/86dO9eWW245dzAzB9dXTou0R8YATJtoZcaTwS6jXbH++uu77Wlq6DJhwgTX4Vnfd4p11lnHHV6vCgkiLAKqONJrp6pul1hiCVNDAmmp70Edm6AjFlStq/NTVfFZrEFBWKvKZjYyH9SAQJXSb731VjYhRLhqVUprt0JyDqdMeRlGei2dMWOG2+Wg70NtMVXDHp1nrN91iHAIaJfCc88956o3VdG5xRZbuJ0n7777rl1++eWuCl4//3Scgn5fJSAQKgEMwFCVIa8gCWAABilL0aT0C1bS9KOhmesTWCIcAqri1Dlk2jpTLFZddVX3izONI8LRrSGZYAA2hJL/a1TZIMNIjT6KRe/eve2KK64oer6c/1WQgUzcE0880aRnXaHXUVUcySAkwiWgc/9GjBjhjCOdt0nEQ2DatGnutVSGfLFQsx6ZSb169YpnYRnJVB88y7RV99+6QhV/AwcOdB2BCQiETAADMGR1yC04AhiAwUlSNCE1/FhvvfUanTAGYKORVeUGbafQJ+L6pFWfkOv8Fb1h1cHa+mWrdevWVcmDSdIjgAGYHstKj6TqFZnwOgdJDSL0RlZnWa2yyiru/D99H9KJtNIqNH38r7/+2lVNq8vv+PHj3RY1nevYt29fdzbgQgst1PRJGKGiBJJushtssIE7K46Ii0DyWqoqTr2WTpkyxdq0aeO+D7XtV0co6LWVCJPAjz/+aLfeeqs9/vjj9sknn7gdKNqGryMydMTQMsssE2biZAWBPAIYgDwOEIAABCAAAQhAAAIQgAAEIAABCEAAAhBoxgQwAJuxuCwNAhCAAAQgAAEIQAACEIAABCAAAQhAAAIYgDwDEIAABCAAAQhAAAIQgAAEIAABCEAAAhBoxgQwAJuxuCwNAhCAAAQgAAEIQAACEIAABCAAAQhAAAIYgDwDEIAABCAAAQhAAAIQgAAEIAABCEAAAhBoxgQwAJuxuCwNAhCAAAQgAAEIQAACEIAABCAAAQhAAAIYgDwDEIAABCAAAQhAAAIQgAAEIAABCEAAAhBoxgQwAJuxuCwNAhCAAAQgAAEIQAACEIAABCAAAQhAAAIYgDwDEIAABCAAAQhAAAIQgAAEIAABCEAAAhBoxgQwAJuxuCwNAhCAAAQgAAEIQAACEIAABCAAAQhAAAIYgDwDEIAABCAAAQhAAAIQgAAEIAABCEAAAhBoxgQwAJuxuCwNAhCAAAQgAAEIQAACEIAABCAAAQhAAAIYgDwDEIAABCAAAQhAAAIQgAAEIAABCEAAAhBoxgQwAJuxuCwNAhCAAAQgAAEIQAACEIAABCAAAQhAAAIYgDwDEIAABCAAAQhAAAIQgAAEIAABCEAAAhBoxgQwAJuxuCwNAhCAAAQgAAEIQAACEIAABCAAAQhAAAIYgDwDEIAABCAAAQhAAAIQCIDAnDlzbIEFFgggE1KAAAQgAAEIQKC5EcAAbG6Ksh4IQAACEIBARATuuusuO+2003IZn3/++bb99ts3aAXz5s2z3r172+TJk3PX9+zZ0+69994G3a+Lzj77bLv11ltz1z/zzDO29NJLu78ff/zxdv/997s/r7POOnbbbbc1eNzmeqGYv/XWW/bss8/ae++9Zx9//LFNmzbNfvrpJ2vfvr0tscQStsoqq9iGG25oG2+8sbVt27a5orC99trLRowY4da3ww472HnnnTffWldeeeXcv5177rm244471sljxowZdvnll9vCCy9sBx98cLNlxsIgAAEIQAACEPBHAAPQH3tmhgAEIAABCGSewOeff259+vTJcdhtt91s4MCBDeIyatQo23nnnWtd26JFC3v55Zetc+fODRpDxs0HH3zgrl1uueXsqaeeyt2HAfj/CGX8Pfjgg3b99dfbuHHjGsS2Xbt21r9/f9t3332dsdXcIi0DcNiwYXbmmWfaN998Y4ceeqgddthhzQ0V64EABCAAAQhAIAACGIABiEAKEIAABCAAgSwT2GSTTeyrr75yCHr06GEPP/xwg3BcffXVdtlll8137b///W/bdtttS44xffp0V9k3d+5cd22/fv1qVSNiAP6KcPz48Xbsscfmqt3ywcpwlbm30EIL2dSpU23mzJnzcV9sscVcpeWf//znkprEdEFaBmD+848BGNMTQK4QgAAEIACBuAhgAMalF9lCAAIQgAAEmh2Bk046ye655x63LhlK2lbZsWPHkuuUYTdy5Eh33aKLLmoTJ050f5b5JxOwVDz//PO2//775y676qqrbLPNNsv9HQPQ7KOPPnIVfN9++22Oi8y+XXfd1TbddFNbc801rXXr1rmvqaJT24OHDBlin376ae7fW7ZsaaeccoozWZtLYAA2FyVZBwQgAAEIQCAbBDAAs6Ezq4QABCAAAQgES+DRRx+1o48+OpeftpmWqhbTuXPrrbee/fzzz+6+4447znR+oKJLly42fPhwZybWFxdeeKHdcMMN7pJWrVrZa6+95s6xI34lIENVW6xVAZiEtmufeuqp1rVr13oxSZebb77ZLr30Unc+YBIXX3yxbbPNNs0CcUMMwIYslArAhlDiGghAAAIQgAAEmkoAA7CpBLkfAhCAAAQgAIEmEZg0aZJtsMEGpnPmFAceeKAdddRR9Y755JNP2uGHH+6u6d69uw0ePNg22mij3D1qBKKGIPXF7rvv7hpaKFTJpqo14v8JqPLvpZdeyv3DP/7xD7cVuJSxms9Q96upxezZs90/q3rwoYcesmWXXTZ61BiA0UvIAiAAAQhAAAKZIoABmCm5WSwEIAABCEAgTALatjt69GiXXEM67p588sl29913u+tlxOjvffv2tTFjxrh/O/LII+2ggw4quthZs2bZWmutlatOU+MFnb9G/Erg6aefrsXjL3/5i11zzTWNMv8SltrerW3eSWisa6+9NnrUGIDRS8gCIAABCEAAApkigAGYKblZLAQgAAEIQCBMAueee67bMqpQldgbb7zhtuUWi4033ji3NfW6664z/f28886zm266yd3Sq1cvu/POO4ve/8orr9jee++d+/rQoUNtjTXWqHV9qTMAv/zyS3cOnkJnEGrbseLrr7+2++67z/773/+6HLVdWV2JV1llFdt8883dGYX55+aVUkQNUlQ19+KLL9oXX3xh33//vanDbrdu3ZxZuvXWW7sKxjRjp512svfeey+nh871a2hn5bryyDfL9HV1FBaPwlh55ZVz/6RnYscddyy5rMbe8+6779pzzz1nr7/+ums+M2XKFJszZ447d1Lbx//4xz+650lGZX3Vjg0xAIvlpufjhBNOKLk2meJ6pvVsJ6HnWs93Q+Lvf/+7vfrqq+7SLbbYwi6//PKG3MY1EIAABCAAAQg0QwIYgM1QVJYEAQhAAAIQiI1AYUMOVfetvvrqdS5j7NixuXPkZKSpaUjbtm2dQTZgwAB3j8xDGR8dOnSoc4wrrrjCrrzySvc1GT+6tqampta15RiAd9xxh2tA8uOPPxaVYIUVVjDNr63L9YXOzrvkkkvstttucwZVfSGz6qyzznJGZFNj1KhR7uy/JPbYYw87/fTTmzRsoeFabMzGmnlKqqH3jBs3zs4880xTLg0JjSvDbPnll6/z8moZgN999507EzPpVr3nnnu6cxhLxYQJE9x9v/zyi7u0sMlNqfv5OgQgAAEIQAACzYsABmDz0pPVQAACEIAABKIkMHPmTFfNljSMUHVUfoVe/qLyK6LWXXddu/XWW92Xta1XYyTnzcm8UdVTXfG3v/3NNf1QqCpPhlxhNNYA1Bl5F1xwQW6YBRdc0FXNqWJPueWHjLqHH364aFXd9OnT7ZBDDslVbyX3JmOK19SpU2uNueSSS9qgQYNsxRVXbNIzcNlll9nVV1+dG+Ouu+5yVXFNCZ3vKDMq6Sa8+OKLm0zfwmiomZd/X0Pukakpc1jVfvmx8MILu8Yv0mfy5Mm5cyiTaxZbbDFTkxpdVxhNMQCfeuqpXKdqVYwmzWw0T/5c2oqtyD+PUc/OCy+8MJ9hXZifKmpVRano1KmTO8+xMZWnTdGbeyEAAQhAAAIQCI8ABmB4mpARBCAAAQhAIJME+vXrZyNHjnRrr2+7Yr4Zcswxx9j++++f4yUTLtmKu8suu7iquMKQybj22mvnqvTOOOMMU0OQwmiMAaiKQ1Voyej6/e9/b0cccYT17t07Z7io6uzss8+2jz76KDeNtmeeeOKJdWqtMwwff/zx3NdkbKqZhvJOtkZ/9tlnpopD/ZcYSKouVAMUbREuN1Rhpi3YigUWWMBpov83NdSp+YEHHsgNI3OrsBlIQ8y8wjxK3SO9te36448/zq1J5z1uv/32bht1Ej/88IM7+1Cdi1U9l4SM2KThTP7cTTEA88dpSBdgbQH/17/+lbtNJrier/oifxt3Q6sGm6ox90MAAhCAAAQgEC4BDMBwtSEzCEAAAhCAQKYIaEtuUomnyqv8DrQJiMIqPxlKq666ao6TugEnVXhLLLGEO+utMN58803TFtQkhg0bZssss8x81zXGAExu7tOnj9u2W1ellc4C3GabbXJVcFqjti0XnjP32GOP1eqCLKNQFZHFzqNTJZ1MqqR6UiaozLZyQ2ZjUl0oM1Pn1aURN954o51//vm5oVRlmJyhmPxjKTOvrjxK3VN43t7FF1+c20Je13g62/Gvf/1rziDW85VvXCb3VNMA1JZyGX6q/FRoi7YM5WIhc1iVrUnUt6U+DW0ZAwIQgAAEIACB8AlgAIavERlCAAIQgAAEMkFAVWeqVEqiLmMu/6xAbYWUSZhvjH344Ye23Xbb5cZ45JFH5jtr7/rrr7eLLrrIXaMKtGSbZSHkxhqAOodQWzOLnTuo8QtNsGeeecaWXnrpWlOr8cX777/v/k1bb4cMGVKy+66q1tSlV6HqP3GqL49iD9SMGTNqNRT505/+ZDJV04gnn3yyViWdzrHL11tzlDLz6sqj1D0HHniga8ii6Nmzp6uQLBWq4HziiSdyPGUaF0Y1DUDNnV9BqW3CevaLVWbmm+mqCk3WUmrdfB0CEIAABCAAgeZLAAOw+WrLyiAAAQhAAAJREdA2Vm1xTaqcVMmXb+ZpMdrSq6YYCn0t/8y9ZLEyrdQ4ITFNVBGXH/vtt58z6hT1NbhorAFYLJ/8udV5tn///rl/uueee2y11VbL/X3MmDHWt2/f3N8b2rhBZ+tttNFGufvqO/+wvodCW1833HDD3CXqMKyKxjRCW7PztSjcvq05Spl5deVR6h51/dX2X3VQVkWjttyWChnEMooVMphlLBdGtQ3AQn4yfIutZcstt7RPPvnEpazt5AcddFCpJfN1CEAAAhCAAASaOQEMwGYuMMuDAAQgAAEIxERA5/klzSF0Lp/O58uPfGND3XZ1tlth5FdKFVawqSOqtrhqO66iPoOtsQZgXRVthbnJiNpqq61y/6zz+9Zaa63c3++8885aa5ZhqC7FDQl1AlZDCYWanJx00kkNua3WNYVGorYsa8tsGlHY6fmoo44yVeflRykzr648yrmnvvXoLEdtr5U2Sfzvf/+zli1b1rqt2gagnl01UknOJ9Q25aSSNT+x9957z3T+n0LmpapMl1pqqTQkZAwIQAACEIAABCImgAEYsXikDgEIQAACEGhuBPI7l/bo0cN1yk1CZ7MlZ8bJ2FBFVJcuXeZDkN8wQdtyR4wYkTuTT1trtcVWoWYar776atGtso01ABtSrZe/BuWgakYZkknIRBw6dGju74VNMurT+5tvvrE5c+a4S2QGXnvttY1+PCq5BVjn6OWfTSiDUkZlfpRj5pVzTzKnugKrMvDzzz+3sWPH2gcffGBvvfXWfB2W9dwkzVeSe6ttAGpenaGobeQKPdtqLtOmTZtaDM877zxTkxCFnq2kYrbRDwM3QAACEIAABCDQrAhgADYrOVkMBCAAAQhAIG4Co0ePzlX1qeJK5l1ylp3Owjv99NPdAn/3u9/Z/fffX+diJ02aZBtssIHryKvQfWuuuab7c77BqPP17rrrrqLAGmsAauz111+/XgEKDcBbb73V1l133dw96jars/KaGlqv1l1OaBu2OuKW4tzYsfPZ6966timXkqVCrQAADW9JREFUY+Y15h6Ze+qurG3B48aNy62z1FpCMQALz7jU2Y/5FaV65lUlqEpOhSoZ1TCEgAAEIAABCEAAAhiAPAMQgAAEIAABCARDQAaGtu1OnDjR5XTDDTfkzrY7+OCD3XZGhbYK6wy5YrHDDju4ai5F/lbTww47zJ566in37/rzoYceWnSMxhqAhWZeXQOXMgD32Wcfe/nll5usR7HOtQ0ZuF+/fjZy5Eh3qboZ688LLrhgQ26t9xrppaYsSdTVoKUxZl4yTkPuUYWfKg5lKNcXaqohA1TbgFUdmkQoBqDy0bZ3GeUKdfpNOmfr76+99lquqlKVgaqSbd++fZO1YwAIQAACEIAABOIngAEYv4asAAIQgAAEINCsCOQbRTL91JFVDUK0nVFbVBWlzLYLL7zQmYeK3r1757ZEqkJv8uTJ7t/zKwPrAujDAMzvWLviiivaY489VnVt1fQjf/tw4TblchPKb86iLrYy2ArP1WuImZc/v4w6VYMmce655+a2eCf/9umnn7pmL4nuyb8vtthittJKK5m65Or/Mk3VJERmp0w1ddJNIiQDUF2Zk+Y3ylWGcWLynXLKKfaf//zHpZ3m+Y3las59EIAABCAAAQiEQwADMBwtyAQCEIAABCAAATO7++677eSTT3YskiYeb775pjNxFDr7TJVOqtYqFjobbe+993ZfXmihhUz3qyuqutoqtK1YY9TU1BQdw4cBeMIJJ9h9992XW6eq7wpNsko/JNoeu8suu+SmUTWlzpVrSuRXpmmc7bff3p1nVxj5BmBDtq9Onz7devXqlRumLgNQzWS09TeJ3XbbzXUjXn755YsuKd9A1kUhGYDa3rvxxhubmoIolKs6R8sMldmtcw0V6mKs7cAEBCAAAQhAAAIQEAEMQJ4DCEAAAhCAAASCIvDVV1/ZJpts4nLq1KmTM+pkZiQdTxvS4ELNMHS23syZM904OvdNHXXVZEPRp0+fWhVedQHwYQDmr1M5yQxUVVpDQtumF1lkkXpNzYaMo2vUKEWml0LbgIcNG2aLL7540dtlPmlbts5elGGoPPKjf//+jn8St99+u9tqWxiqwkuMrYZ0VVbjDlW6JVFoAI4aNarWGXgy/wYOHFgSw7/+9S9TM5kk1FlXHPLDRxOQZP78reJJN2CZxdq+rVh00UXthRdeSOVZKAmLCyAAAQhAAAIQiIIABmAUMpEkBCAAAQhAIFsEZNDp3DaFzCeZNjI0FNrmKEOpVMiQev75591l2taqP6sTrULNRJKKwmLj+DAA800c5aVKtfzOucVynTBhguv8q5BRp7UNGDCgFKKiXxfzQw45JPd1bb++5ZZbilYj5ldc6uy5Pffc07R9W1tT8ys6NaCMPxmAdYUasySmbakzGnW/GsFIpyQKDcA77rijluF37733Ws+ePUtykQEtIzoJGYmFFac+DcD8jsraTq1twJdddpkzyhWqflU1KQEBCEAAAhCAAAQSAhiAPAsQgAAEIAABCARHQNVfQ4cOdXlpi+MZZ5xh06ZNc39Xl9z6tm8mi5Fhdc4557i/6my9J554wnQenOLpp5+2ZZddtt51+zAAVUkn8zMxn7TdWZVoyyyzTL25is+dd96Zu0Zn+CWGYLniHnDAAfbcc8/lblf13GmnnVZnVZm289544421plp66aWdEaWv/fTTT+5rMtFkwvXo0aPOtLbYYoucRsn272L5q1JQOWnLchKFBmBhReWDDz5oq6yySr1IxFE880NbyNu1a1fr39IyADfbbDP74osv3NhqSiPjs1ToLExVW/7444/uUp3TeOaZZ9qYMWPc32WM5p+NWGo8vg4BCEAAAhCAQPMngAHY/DVmhRCAAAQgAIHoCMisU/MPhbbyahuwQqZS0gm41KLGjRuXO/NPlWVvv/22qcuwzDRVuJUKHwagclJ1nMycJLQtVuZa586d60xZXY0PP/xwtzZF9+7dnWnY1LMDv//+e3cWYGJOaWydKadqzMLtwJpbJpkaUGjuZBtvYcJnnXVWrfMFC7+uasekSrNFixZ211132RprrDHfujWfqjqvu+66Wl8rNAAffvhh++c//5m7plRlnJ4LXZ8Ya8mNqnAs5J+WAajz+xLjTlt78ysa63tGlafWp9DZlknDGJmryb+Xesb5OgQgAAEIQAAC2SGAAZgdrVkpBCAAAQhAIBoCMp/U0KDQSFJDh8LqrPoWpSq4r7/+utYlDR3DlwGoKkAZVSNGjMjlLcNNhujmm2+e6/iqZhCq/Lrppptcl2SFmpqoQ/Jaa62Vitbahq1tyPkmoLb4yhhUpaKM1WRrrEw5VViq6i5pZJKfxK677lrL2KwrQW3T1tbtJHQGpExBnXOnefQ8yGhUheOLL77oLlNlXtIdutAA1HOkZyDf0NP2cc3RrVs3d7/YqUmIzMZHHnmkTm4yBgurMNMyAP/+97+7jsiKpZZaypmoOsOvVGj9dW3z1vmFTdn+XWpevg4BCEAAAhCAQJwEMADj1I2sIQABCEAAAs2eQH4jimSxV111lWnLZEPjpJNOsnvuuafW5VdccYUz0kqFLwNQeamhx3777WcffPBBrTRbtWplXbp0cR1fdU1+qOJPZxtqW2yaoXlOPPHE3HmK+WOrSk9n0MkUnDRpUm6rb13zKz/ldtRRR7l7isW+++5rL730Uq0vy9iUKTZ58uRac+y0006mhi9JxVtdXYBvuOEGt428MGQc6j+tr9Bo1jmBavyRRF1NS9IyAAu3T6vZSNeuXZ2pqao+6V1X6BlQReZ3332X+7IYa9t2Ym6m+RwwFgQgAAEIQAACcRPAAIxbP7KHAAQgAAEINFsCF1xwgQ0ePDi3Pplf2gqsxhINDRkoMpySkJGkaquOHTuWHMKnAajk1AzjvPPOc2fmJRV+xZKW4aNtwzKEKhXqpHz11VfntquWmkdGlqoEx48f7yrsklCHYJln6lhb2C04Wbeq/rS1uVhIRxmkOi9POtVnAGqMZLtwsk262Lg6c1HbqdVEpVevXjnuRx55pB100EG1bkvLAJQBuf3229cy8pKJtPVbZ/0VCxmeN998c+7LurbwLMZSOvF1CEAAAhCAAASyQQADMBs6s0oIQAACEIBAdARUBaZqsCRkyOQ3umjIgqZMmWLrr79+rsJLW1a11bMh4dsATHLUNlwZXDqHTn/WtlYZYDqTTo0e1LFWZ8CpCq8a8c4777gzFNV84+OPP7YffvjBGWUyZmVE6gzC9dZbz229VdWeKtV0Vp+27c6ePTuX4gorrOAasxSL119/3Z0H+MYbb5i2O8sA1lZobQ3feeedc41E8s/Cq6sCMBn/ww8/dI1lNJ62hWtbsAw/VdgpZ22b3m677XKmZH4TlOWWW87lmn+uYloGoPLT+q655hq3rTmpSBS7Y4891rbaaquijFQhusMOO+S+rmpCmYkEBCAAAQhAAAIQKCSAAcgzAQEIQAACEIAABCBQcQI6R/DSSy9121q15fboo482mWxE+QRUXbnxxhu7AWRmDh8+3P2fgAAEIAABCEAAAhiAPAMQgAAEIAABCEAAAt4IfPbZZ67Rhao7i3U29pZcZBPnn2+oMzNVAUlAAAIQgAAEIACBughQAchzAQEIQAACEIAABCAAgQgJ9O3bN3cm45AhQ2zNNdeMcBWkDAEIQAACEIBANQhgAFaDMnNAAAIQgAAEIAABCEAgRQIvv/yy7bPPPm7EVVdd1Z2XSEAAAhCAAAQgAIFiBDAAeTYgAAEIQAACEIAABCAQMIE5c+aYOhgvuOCCLks1hFHzEzUMUehsxfqahQS8NFKDAAQgAAEIQKBKBDAAqwSaaSAAAQhAAAIQgAAEIFAOATVQkcGnzsAzZsxwnZeT2HDDDW3QoEHlDMs9EIAABCAAAQhkiAAGYIbEZqkQgAAEIAABCEAAAvER+Pnnn+0Pf/iD6f/50b17d7vppptsscUWi29RZAwBCEAAAhCAQFUJYABWFTeTQQACEIAABCAAAQhAoPEEjjnmGBs+fLirAFxyySVtyy23dJ2UO3bs2PjBuAMCEIAABCAAgcwRwADMnOQsGAIQgAAEIAABCEAAAhCAAAQgAAEIQCBLBDAAs6Q2a4UABCAAAQhAAAIQgAAEIAABCEAAAhDIHAEMwMxJzoIhAAEIQAACEIAABCAAAQhAAAIQgAAEskQAAzBLarNWCEAAAhCAAAQgAAEIQAACEIAABCAAgcwRwADMnOQsGAIQgAAEIAABCEAAAhCAAAQgAAEIQCBLBDAAs6Q2a4UABCAAAQhAAAIQgAAEIAABCEAAAhDIHAEMwMxJzoIhAAEIQAACEIAABCAAAQhAAAIQgAAEskQAAzBLarNWCEAAAhCAAAQgAAEIQAACEIAABCAAgcwRwADMnOQsGAIQgAAEIAABCEAAAhCAAAQgAAEIQCBLBDAAs6Q2a4UABCAAAQhAAAIQgAAEIAABCEAAAhDIHAEMwMxJzoIhAAEIQAACEIAABCAAAQhAAAIQgAAEskQAAzBLarNWCEAAAhCAAAQgAAEIQAACEIAABCAAgcwRwADMnOQsGAIQgAAEIAABCEAAAhCAAAQgAAEIQCBLBP4PTEgt1c+AF9sAAAAASUVORK5CYII=\" width=\"640\">"
      ],
      "text/plain": [
       "<IPython.core.display.HTML object>"
      ]
     },
     "metadata": {},
     "output_type": "display_data"
    }
   ],
   "source": [
    "# response distribution\n",
    "plt.hist(red.quality.values, bins = np.arange(1,10), color = 'r', alpha = 0.8, zorder = 5,  label = 'red')\n",
    "plt.title('Wine Quality Distribution', fontsize=14)\n",
    "plt.hist(white.quality.values, bins = np.arange(1,10), color = 'grey', alpha = 0.5, label = 'white')\n",
    "plt.legend()\n",
    "plt.xlabel('Wine Quality', fontsize=14)\n",
    "plt.ylabel('Count', fontsize=14);"
   ]
  },
  {
   "cell_type": "markdown",
   "id": "424479b5",
   "metadata": {
    "id": "424479b5"
   },
   "source": [
    "### Data preparation\n",
    "*By Amy Wang*\n",
    "\n",
    "The following data preparation steps helped us to prepare our data for implementing various modeling / validation techniques:\n",
    "\n",
    "1. Since we need to predict house price, we derived some new predictors *(from existing predictors)* that intuitively seem to be helpuful to predict house price. \n",
    "\n",
    "2. We have created a standardized version of the dataset, as we will use it to develop Lasso / Ridge regression models."
   ]
  },
  {
   "cell_type": "code",
   "execution_count": null,
   "id": "bde6859d",
   "metadata": {
    "id": "bde6859d"
   },
   "outputs": [],
   "source": [
    "######---------------Creating new predictors----------------#########\n",
    "\n",
    "#Creating number of bedrooms per unit floor area\n",
    "\n",
    "#Creating ratio of bathrooms to bedrooms\n",
    "\n",
    "#Creating ratio of carpet area to floor area"
   ]
  },
  {
   "cell_type": "code",
   "execution_count": null,
   "id": "edf0986d",
   "metadata": {
    "id": "edf0986d"
   },
   "outputs": [],
   "source": [
    "######-----Standardizing the dataset for Lasso / Ridge-------#########"
   ]
  },
  {
   "cell_type": "markdown",
   "id": "fbb11c9b",
   "metadata": {
    "id": "fbb11c9b"
   },
   "source": [
    "## Exploratory data analysis\n",
    "*By Kaitlyn Hung*"
   ]
  },
  {
   "cell_type": "markdown",
   "id": "e4bd74a9",
   "metadata": {
    "id": "e4bd74a9"
   },
   "source": [
    "Put code with comments. The comments should explain the code such that it can be easily understood. You may put text *(in a markdown cell)* before a large chunk of code to explain the overall purpose of the code, if it is not intuitive. **Put the name of the person / persons who contributed to each code chunk / set of code chunks.**"
   ]
  },
  {
   "cell_type": "markdown",
   "id": "acab331a",
   "metadata": {
    "id": "acab331a"
   },
   "source": [
    "## Developing the model: Hyperparameter tuning"
   ]
  },
  {
   "cell_type": "markdown",
   "id": "ae5ec4c9",
   "metadata": {
    "id": "ae5ec4c9"
   },
   "source": [
    "Put code with comments. The comments should explain the code such that it can be easily understood. You may put text *(in a markdown cell)* before a large chunk of code to explain the overall purpose of the code, if it is not intuitive. **Put the name of the person / persons who contributed to each code chunk / set of code chunks.**\n",
    "\n",
    "Put each model in a section of its name and mention the name of the team-member tuning the model. Below is an example:"
   ]
  },
  {
   "cell_type": "markdown",
   "id": "26706de1",
   "metadata": {
    "id": "26706de1"
   },
   "source": [
    "### Intercept Base Model\n",
    "*By Anastasia Wei*"
   ]
  },
  {
   "cell_type": "code",
   "execution_count": null,
   "id": "bcfd7460",
   "metadata": {
    "id": "bcfd7460"
   },
   "outputs": [],
   "source": [
    "# predicting the response as the mean of the train response \n",
    "pred = [np.around(np.mean(y_train))]*len(y_test)"
   ]
  },
  {
   "cell_type": "code",
   "execution_count": null,
   "id": "c16cb337",
   "metadata": {
    "id": "c16cb337",
    "outputId": "429becfc-bdd5-4bac-bee7-dfdc2ac98a9d"
   },
   "outputs": [
    {
     "data": {
      "text/plain": [
       "0.9327379053088815"
      ]
     },
     "execution_count": 38,
     "metadata": {},
     "output_type": "execute_result"
    }
   ],
   "source": [
    "# test RMSE\n",
    "np.sqrt(mean_squared_error(y_test, pred))"
   ]
  },
  {
   "cell_type": "markdown",
   "id": "6837d263",
   "metadata": {
    "id": "6837d263"
   },
   "source": [
    "### Ridge and Lasso Regression\n",
    "*By Anastasia Wei*"
   ]
  },
  {
   "cell_type": "code",
   "execution_count": null,
   "id": "215e3e73",
   "metadata": {
    "id": "215e3e73",
    "outputId": "50472ebe-aaf4-4607-f37b-163ba855dd17"
   },
   "outputs": [
    {
     "name": "stdout",
     "output_type": "stream",
     "text": [
      "Optimal alpha =  0.01636987568069109\n",
      "Train RMSE =  0.7892143827427598\n",
      "Test RMSE =  0.8166535844059444\n"
     ]
    }
   ],
   "source": [
    "### Ridge Regression\n",
    "# defining regulization parameter space\n",
    "alphas = 10**np.linspace(1.5,-3,200)*0.5\n",
    "ridgecv = RidgeCV(alphas = alphas, scoring = 'neg_mean_squared_error', store_cv_values = True)\n",
    "ridgecv.fit(X_train, y_train)\n",
    "print(\"Optimal alpha = \", ridgecv.alpha_)\n",
    "\n",
    "# using the developed ridge regression model to predict on test & train data\n",
    "ridge = Ridge(alpha = ridgecv.alpha_)\n",
    "ridge.fit(X_train, y_train)\n",
    "pred = ridge.predict(X_test)\n",
    "\n",
    "print('Train RMSE = ', np.sqrt(mean_squared_error(y_train, np.around(ridge.predict(X_train)))))\n",
    "print('Test RMSE = ', np.sqrt(mean_squared_error(y_test, np.around(pred))))"
   ]
  },
  {
   "cell_type": "code",
   "execution_count": 16,
   "id": "9455d6d4",
   "metadata": {
    "id": "9455d6d4"
   },
   "outputs": [],
   "source": [
    "#### Lasso Regression\n",
    "# searching through regularizatio parameter space \n",
    "alphas = 10**np.linspace(2,-5,200)*0.5\n",
    "rmses = []\n",
    "for a in alphas:\n",
    "    lasso = Lasso(alpha = a)\n",
    "    lasso.fit(X_train, y_train)\n",
    "    pred = lasso.predict(X_train)\n",
    "    rmse = np.sqrt(mean_squared_error(y_train, np.around(pred)))\n",
    "    rmses.append(rmse)"
   ]
  },
  {
   "cell_type": "code",
   "execution_count": 17,
   "id": "930fbf2f",
   "metadata": {
    "colab": {
     "base_uri": "https://localhost:8080/",
     "height": 454
    },
    "id": "930fbf2f",
    "outputId": "335d2b35-58d3-4b60-8c3f-c3fe9efece7e"
   },
   "outputs": [
    {
     "data": {
      "image/png": "[encoded data removed]",
      "text/plain": [
       "<Figure size 640x480 with 1 Axes>"
      ]
     },
     "metadata": {},
     "output_type": "display_data"
    }
   ],
   "source": [
    "# visualizing rmsev vs alpha\n",
    "plt.scatter(alphas, rmses, s = 3)\n",
    "plt.ylabel('RMSE')\n",
    "plt.xlabel('alpha')\n",
    "plt.xscale('log')"
   ]
  },
  {
   "cell_type": "code",
   "execution_count": 18,
   "id": "f4d6f668",
   "metadata": {
    "colab": {
     "base_uri": "https://localhost:8080/"
    },
    "id": "f4d6f668",
    "outputId": "29ef239b-5c25-4938-a1d2-0bcadec230ca"
   },
   "outputs": [
    {
     "name": "stdout",
     "output_type": "stream",
     "text": [
      "Optimal alpha = 0.0004301732208342255\n",
      "Optimal train RMSE =  0.7806343783815696\n"
     ]
    }
   ],
   "source": [
    "print('Optimal alpha =', alphas[np.array(rmses).argmin()])\n",
    "print('Optimal train RMSE = ', rmses[np.array(rmses).argmin()])"
   ]
  },
  {
   "cell_type": "code",
   "execution_count": 21,
   "id": "sfn39WFc7d11",
   "metadata": {
    "colab": {
     "base_uri": "https://localhost:8080/"
    },
    "id": "sfn39WFc7d11",
    "outputId": "dbce494f-eaf0-4e9b-faff-20e27cbb7775"
   },
   "outputs": [
    {
     "name": "stdout",
     "output_type": "stream",
     "text": [
      "Test RMSE =  0.8138228875545909\n"
     ]
    }
   ],
   "source": [
    "lasso = Lasso(alpha = 0.0004301732208342255)\n",
    "pred = lasso.fit(X_train, y_train).predict(X_test)\n",
    "print('Test RMSE = ', np.sqrt(mean_squared_error(y_test, np.around(pred))))"
   ]
  },
  {
   "cell_type": "markdown",
   "id": "05087379",
   "metadata": {
    "id": "05087379"
   },
   "source": [
    "### MARS\n",
    "*By Lila Wells*"
   ]
  },
  {
   "cell_type": "markdown",
   "id": "9a896238",
   "metadata": {
    "id": "9a896238"
   },
   "source": [
    "### Decision Tree\n",
    "*By Kaitlyn Hung*"
   ]
  },
  {
   "cell_type": "markdown",
   "id": "0ae3fe63",
   "metadata": {
    "id": "0ae3fe63"
   },
   "source": [
    "### Bagging Decision Tree\n",
    "*By Lila Wells*"
   ]
  },
  {
   "cell_type": "markdown",
   "id": "d80c67e6",
   "metadata": {
    "id": "d80c67e6"
   },
   "source": [
    "### Random Forest\n",
    "*By Amy Wang*"
   ]
  },
  {
   "cell_type": "markdown",
   "id": "3e24245a",
   "metadata": {
    "id": "3e24245a"
   },
   "source": [
    "### AdaBoost\n",
    "*By Kaitlyn Hung*"
   ]
  },
  {
   "cell_type": "markdown",
   "id": "d08e47ac",
   "metadata": {
    "id": "d08e47ac"
   },
   "source": [
    "### Gradient Boosting\n",
    "*By Anastasia Wei*"
   ]
  },
  {
   "cell_type": "code",
   "execution_count": 3,
   "id": "d2171741",
   "metadata": {
    "colab": {
     "base_uri": "https://localhost:8080/",
     "height": 616
    },
    "id": "d2171741",
    "outputId": "7110eac6-5087-4f73-e53e-305264573ec0"
   },
   "outputs": [
    {
     "name": "stdout",
     "output_type": "stream",
     "text": [
      ">5 0.793 (0.021)\n",
      ">10 0.753 (0.020)\n",
      ">50 0.694 (0.014)\n",
      ">100 0.680 (0.013)\n",
      ">500 0.662 (0.010)\n",
      ">1000 0.660 (0.009)\n",
      ">1500 0.660 (0.008)\n",
      ">2000 0.662 (0.007)\n",
      ">2500 0.662 (0.009)\n"
     ]
    },
    {
     "data": {
      "image/png": "[encoded data removed]",
      "text/plain": [
       "<Figure size 640x480 with 1 Axes>"
      ]
     },
     "metadata": {},
     "output_type": "display_data"
    }
   ],
   "source": [
    "# define the range of n_estimators\n",
    "def get_models():\n",
    "    models = dict()\n",
    "    n_trees = [5, 10, 50, 100, 500, 1000, 1500, 2000, 2500]\n",
    "    for n in n_trees:\n",
    "        models[str(n)] = GradientBoostingRegressor(n_estimators=n,random_state=1,loss='huber')\n",
    "    return models\n",
    "\n",
    "# evaluate the model using cross-validation\n",
    "def evaluate_model(model, X, y):\n",
    "    cv = KFold(n_splits=5, shuffle=True, random_state=1)\n",
    "    scores = np.sqrt(-cross_val_score(model, X, y, scoring='neg_mean_squared_error', cv=cv, n_jobs=-1))\n",
    "    return scores\n",
    "\n",
    "# get the models to evaluate\n",
    "models = get_models()\n",
    "results, names = list(), list()\n",
    "for name, model in models.items():\n",
    "    scores = evaluate_model(model, X_train, y_train)\n",
    "    results.append(scores)\n",
    "    names.append(name)\n",
    "    print('>%s %.3f (%.3f)' % (name, np.mean(scores), np.std(scores)))\n",
    "\n",
    "# plot model performance for comparison\n",
    "plt.boxplot(results, labels=names, showmeans=True)\n",
    "plt.ylabel('Cross validation error',fontsize=15)\n",
    "plt.xlabel('Number of trees',fontsize=15);"
   ]
  },
  {
   "cell_type": "code",
   "execution_count": 6,
   "id": "u-OC4kB5vVvy",
   "metadata": {
    "colab": {
     "base_uri": "https://localhost:8080/"
    },
    "id": "u-OC4kB5vVvy",
    "outputId": "5520817b-42a9-450f-d8d6-5b271249b0bf"
   },
   "outputs": [
    {
     "name": "stdout",
     "output_type": "stream",
     "text": [
      "Fitting 4 folds for each of 50 candidates, totalling 200 fits\n",
      "Best: 0.623735 using {'subsample': 0.8, 'n_estimators': 1200, 'max_depth': 8, 'learning_rate': 0.1}\n",
      "Time taken =  24.304628153642017  minutes\n"
     ]
    }
   ],
   "source": [
    "# 4 fold cv coarse grid search based on previous search\n",
    "start_time = time.time()\n",
    "model = GradientBoostingRegressor(random_state = 1, loss='huber')\n",
    "grid = dict()\n",
    "grid['n_estimators'] = [1200, 1400, 1600, 1800]\n",
    "grid['learning_rate'] = [0.1, 0.2, 0.3]\n",
    "grid['max_depth'] = [8, 10, 12, 14]\n",
    "grid['subsample'] = [0.4, 0.6, 0.8, 1]\n",
    "\n",
    "cv = KFold(n_splits = 4, shuffle=True, random_state=1)\n",
    "grid_search = RandomizedSearchCV(estimator = model, \n",
    "                                 param_distributions = grid, \n",
    "                                 n_jobs = -1, cv = cv, \n",
    "                                 n_iter = 50,\n",
    "                                 scoring = 'neg_mean_squared_error',\n",
    "                                 verbose = True)\n",
    "grid_result = grid_search.fit(X_train, y_train)\n",
    "print(\"Best: %f using %s\" % (np.sqrt(-grid_result.best_score_), grid_result.best_params_))\n",
    "\n",
    "print(\"Time taken = \",(time.time()-start_time)/60,\" minutes\")"
   ]
  },
  {
   "cell_type": "code",
   "execution_count": 8,
   "id": "Z1xbRj0Ovm3f",
   "metadata": {
    "colab": {
     "base_uri": "https://localhost:8080/",
     "height": 194
    },
    "id": "Z1xbRj0Ovm3f",
    "outputId": "bf4d8e2f-acdf-47f6-feef-864e17cc407c"
   },
   "outputs": [
    {
     "data": {
      "image/png": "[encoded data removed]",
      "text/plain": [
       "<Figure size 1600x400 with 4 Axes>"
      ]
     },
     "metadata": {},
     "output_type": "display_data"
    }
   ],
   "source": [
    "# visualize cv results\n",
    "cv_results = pd.DataFrame(grid_result.cv_results_)\n",
    "\n",
    "fig, axes = plt.subplots(1, 4, figsize = (16, 4))\n",
    "plt.subplots_adjust(wspace = 0.3)\n",
    "axes[0].plot(cv_results.param_n_estimators, np.sqrt(-cv_results.mean_test_score), 'o')\n",
    "axes[0].set_xlabel('param_n_estimators')\n",
    "axes[0].set_ylabel('K-fold RMSE')\n",
    "axes[1].plot(cv_results.param_learning_rate, np.sqrt(-cv_results.mean_test_score), 'o')\n",
    "axes[1].set_xlabel('Learning Rate')\n",
    "axes[1].set_ylabel('K-fold RMSE')\n",
    "axes[2].plot(cv_results.param_subsample, np.sqrt(-cv_results.mean_test_score), 'o')\n",
    "axes[2].set_xlabel('Subsample')\n",
    "axes[2].set_ylabel('K-fold RMSE');\n",
    "axes[3].plot(cv_results.param_max_depth, np.sqrt(-cv_results.mean_test_score), 'o')\n",
    "axes[3].set_xlabel('max_depth')\n",
    "axes[3].set_ylabel('K-fold RMSE');"
   ]
  },
  {
   "cell_type": "code",
   "execution_count": 11,
   "id": "ZoO7d0Sy1hoy",
   "metadata": {
    "colab": {
     "base_uri": "https://localhost:8080/"
    },
    "id": "ZoO7d0Sy1hoy",
    "outputId": "0b830f74-0803-470f-d39f-2652296dbd22"
   },
   "outputs": [
    {
     "name": "stdout",
     "output_type": "stream",
     "text": [
      "The test RMSE is 0.6782329983125268\n"
     ]
    }
   ],
   "source": [
    "# computing train and test rmse based on initial optimization\n",
    "model = GradientBoostingRegressor(n_estimators = 1200, loss = 'huber', max_depth = 8, \n",
    "                                  learning_rate = 0.1, subsample = 0.8, \n",
    "                                  random_state = 45).fit(X_train,y_train)\n",
    "pred = model.predict(X_test)\n",
    "print('The test RMSE is', np.sqrt(mean_squared_error(y_test, np.around(pred))))"
   ]
  },
  {
   "cell_type": "code",
   "execution_count": 12,
   "id": "9ey80DEovwnj",
   "metadata": {
    "colab": {
     "base_uri": "https://localhost:8080/"
    },
    "id": "9ey80DEovwnj",
    "outputId": "05684e99-ca41-4c42-e136-958fb2e65891"
   },
   "outputs": [
    {
     "name": "stdout",
     "output_type": "stream",
     "text": [
      "The test RMSE is 0.6776656765919086\n"
     ]
    }
   ],
   "source": [
    "# computing train and test rmse based on initial optimization\n",
    "model = GradientBoostingRegressor(n_estimators = 1400, loss = 'huber', max_depth = 8, \n",
    "                                  learning_rate = 0.1, subsample = 0.8, \n",
    "                                  random_state = 45).fit(X_train,y_train)\n",
    "pred = model.predict(X_test)\n",
    "print('The test RMSE is', np.sqrt(mean_squared_error(y_test, np.around(pred))))"
   ]
  },
  {
   "cell_type": "code",
   "execution_count": 13,
   "id": "h_T6AfIBv_bW",
   "metadata": {
    "colab": {
     "base_uri": "https://localhost:8080/"
    },
    "id": "h_T6AfIBv_bW",
    "outputId": "b604a9b4-d2ba-4fdb-ef5e-fd14ca9b22a5"
   },
   "outputs": [
    {
     "name": "stdout",
     "output_type": "stream",
     "text": [
      "Fitting 4 folds for each of 50 candidates, totalling 200 fits\n",
      "Best: 0.620413 using {'subsample': 0.8, 'n_estimators': 1300, 'max_depth': 9, 'learning_rate': 0.1}\n",
      "Time taken =  18.446675260861713  minutes\n"
     ]
    }
   ],
   "source": [
    "# finer grid search based on previous optimization\n",
    "start_time = time.time()\n",
    "model = GradientBoostingRegressor(random_state = 1, loss='huber')\n",
    "grid = dict()\n",
    "grid['n_estimators'] = [1300, 1350, 1400, 1450, 1500]\n",
    "grid['learning_rate'] = [0.8, 0.1, 0.15]\n",
    "grid['max_depth'] = [8, 9, 10]\n",
    "grid['subsample'] = [0.7, 0.8, 0.9, 1]\n",
    "\n",
    "cv = KFold(n_splits = 4, shuffle=True, random_state=1)\n",
    "grid_search = RandomizedSearchCV(estimator = model, \n",
    "                                 param_distributions = grid, \n",
    "                                 n_jobs = -1, cv = cv, \n",
    "                                 n_iter = 50,\n",
    "                                 scoring = 'neg_mean_squared_error',\n",
    "                                 verbose = True)\n",
    "grid_result = grid_search.fit(X_train, y_train)\n",
    "print(\"Best: %f using %s\" % (np.sqrt(-grid_result.best_score_), grid_result.best_params_))\n",
    "\n",
    "print(\"Time taken = \",(time.time()-start_time)/60,\" minutes\")"
   ]
  },
  {
   "cell_type": "code",
   "execution_count": 14,
   "id": "cO_0kKPBwPLL",
   "metadata": {
    "colab": {
     "base_uri": "https://localhost:8080/",
     "height": 193
    },
    "id": "cO_0kKPBwPLL",
    "outputId": "a569a092-810a-4dfa-ca49-f36edb479666"
   },
   "outputs": [
    {
     "data": {
      "image/png": "[encoded data removed]",
      "text/plain": [
       "<Figure size 1600x400 with 4 Axes>"
      ]
     },
     "metadata": {},
     "output_type": "display_data"
    }
   ],
   "source": [
    "# visualize finer grid search results\n",
    "cv_results = pd.DataFrame(grid_result.cv_results_)\n",
    "\n",
    "fig, axes = plt.subplots(1, 4, figsize = (16, 4))\n",
    "plt.subplots_adjust(wspace = 0.3)\n",
    "axes[0].plot(cv_results.param_n_estimators, np.sqrt(-cv_results.mean_test_score), 'o')\n",
    "axes[0].set_xlabel('param_n_estimators')\n",
    "axes[0].set_ylabel('K-fold RMSE')\n",
    "axes[1].plot(cv_results.param_learning_rate, np.sqrt(-cv_results.mean_test_score), 'o')\n",
    "axes[1].set_xlabel('Learning Rate')\n",
    "axes[1].set_ylabel('K-fold RMSE')\n",
    "axes[2].plot(cv_results.param_subsample, np.sqrt(-cv_results.mean_test_score), 'o')\n",
    "axes[2].set_xlabel('Subsample')\n",
    "axes[2].set_ylabel('K-fold RMSE');\n",
    "axes[3].plot(cv_results.param_max_depth, np.sqrt(-cv_results.mean_test_score), 'o')\n",
    "axes[3].set_xlabel('max_depth')\n",
    "axes[3].set_ylabel('K-fold RMSE');"
   ]
  },
  {
   "cell_type": "code",
   "execution_count": 15,
   "id": "poqnprSKwXHO",
   "metadata": {
    "colab": {
     "base_uri": "https://localhost:8080/"
    },
    "id": "poqnprSKwXHO",
    "outputId": "76c0b739-753f-4724-fc37-7abf16e29496"
   },
   "outputs": [
    {
     "name": "stdout",
     "output_type": "stream",
     "text": [
      "The test RMSE is 0.6713934992009014\n"
     ]
    }
   ],
   "source": [
    "# model with optimized parameter\n",
    "model = GradientBoostingRegressor(n_estimators = 1300, loss = 'huber', max_depth = 9, \n",
    "                                  learning_rate = 0.1, subsample = 0.8, \n",
    "                                  random_state = 1).fit(X_train, y_train)\n",
    "pred = model.predict(X_test)\n",
    "# rounded rmse\n",
    "print('The test RMSE is', np.sqrt(mean_squared_error(y_test, np.around(pred))))"
   ]
  },
  {
   "cell_type": "markdown",
   "id": "itG4fB6lwzvz",
   "metadata": {
    "id": "itG4fB6lwzvz"
   },
   "source": [
    "Manual Tunning & Testing"
   ]
  },
  {
   "cell_type": "code",
   "execution_count": 22,
   "id": "TDdD9syIwtnL",
   "metadata": {
    "colab": {
     "base_uri": "https://localhost:8080/"
    },
    "id": "TDdD9syIwtnL",
    "outputId": "ea6673ad-babf-4fba-a4fc-f9f5cb8d956a"
   },
   "outputs": [
    {
     "name": "stdout",
     "output_type": "stream",
     "text": [
      "The test RMSE is 0.6586699885725429\n"
     ]
    }
   ],
   "source": [
    "# best model\n",
    "model = GradientBoostingRegressor(n_estimators = 1300, loss = 'huber', max_depth = 9, \n",
    "                                  learning_rate = 0.08, subsample = 0.85, \n",
    "                                  random_state = 1).fit(X_train, y_train)\n",
    "pred = model.predict(X_test)\n",
    "\n",
    "# rounded rmse\n",
    "print('The test RMSE is', np.sqrt(mean_squared_error(y_test, np.around(pred))))"
   ]
  },
  {
   "cell_type": "code",
   "execution_count": 23,
   "id": "xhAwfPvmxIKI",
   "metadata": {
    "colab": {
     "base_uri": "https://localhost:8080/",
     "height": 457
    },
    "id": "xhAwfPvmxIKI",
    "outputId": "189583fb-3add-4b5d-e878-e84cee287469"
   },
   "outputs": [
    {
     "data": {
      "text/html": [
       "\n",
       "  <div id=\"df-fbefa2ac-a3a3-4e9f-8ab2-107c9bb79330\">\n",
       "    <div class=\"colab-df-container\">\n",
       "      <div>\n",
       "<style scoped>\n",
       "    .dataframe tbody tr th:only-of-type {\n",
       "        vertical-align: middle;\n",
       "    }\n",
       "\n",
       "    .dataframe tbody tr th {\n",
       "        vertical-align: top;\n",
       "    }\n",
       "\n",
       "    .dataframe thead th {\n",
       "        text-align: right;\n",
       "    }\n",
       "</style>\n",
       "<table border=\"1\" class=\"dataframe\">\n",
       "  <thead>\n",
       "    <tr style=\"text-align: right;\">\n",
       "      <th></th>\n",
       "      <th>Predictor</th>\n",
       "      <th>Importance</th>\n",
       "    </tr>\n",
       "  </thead>\n",
       "  <tbody>\n",
       "    <tr>\n",
       "      <th>10</th>\n",
       "      <td>alcohol</td>\n",
       "      <td>0.250846</td>\n",
       "    </tr>\n",
       "    <tr>\n",
       "      <th>1</th>\n",
       "      <td>volatile acidity</td>\n",
       "      <td>0.124307</td>\n",
       "    </tr>\n",
       "    <tr>\n",
       "      <th>5</th>\n",
       "      <td>free sulfur dioxide</td>\n",
       "      <td>0.080374</td>\n",
       "    </tr>\n",
       "    <tr>\n",
       "      <th>9</th>\n",
       "      <td>sulphates</td>\n",
       "      <td>0.078176</td>\n",
       "    </tr>\n",
       "    <tr>\n",
       "      <th>6</th>\n",
       "      <td>total sulfur dioxide</td>\n",
       "      <td>0.077565</td>\n",
       "    </tr>\n",
       "    <tr>\n",
       "      <th>3</th>\n",
       "      <td>residual sugar</td>\n",
       "      <td>0.072411</td>\n",
       "    </tr>\n",
       "    <tr>\n",
       "      <th>8</th>\n",
       "      <td>pH</td>\n",
       "      <td>0.069419</td>\n",
       "    </tr>\n",
       "    <tr>\n",
       "      <th>4</th>\n",
       "      <td>chlorides</td>\n",
       "      <td>0.067845</td>\n",
       "    </tr>\n",
       "    <tr>\n",
       "      <th>7</th>\n",
       "      <td>density</td>\n",
       "      <td>0.066263</td>\n",
       "    </tr>\n",
       "    <tr>\n",
       "      <th>2</th>\n",
       "      <td>citric acid</td>\n",
       "      <td>0.058864</td>\n",
       "    </tr>\n",
       "    <tr>\n",
       "      <th>0</th>\n",
       "      <td>fixed acidity</td>\n",
       "      <td>0.053085</td>\n",
       "    </tr>\n",
       "    <tr>\n",
       "      <th>12</th>\n",
       "      <td>type_white</td>\n",
       "      <td>0.000499</td>\n",
       "    </tr>\n",
       "    <tr>\n",
       "      <th>11</th>\n",
       "      <td>type_red</td>\n",
       "      <td>0.000347</td>\n",
       "    </tr>\n",
       "  </tbody>\n",
       "</table>\n",
       "</div>\n",
       "      <button class=\"colab-df-convert\" onclick=\"convertToInteractive('df-fbefa2ac-a3a3-4e9f-8ab2-107c9bb79330')\"\n",
       "              title=\"Convert this dataframe to an interactive table.\"\n",
       "              style=\"display:none;\">\n",
       "        \n",
       "  <svg xmlns=\"http://www.w3.org/2000/svg\" height=\"24px\"viewBox=\"0 0 24 24\"\n",
       "       width=\"24px\">\n",
       "    <path d=\"M0 0h24v24H0V0z\" fill=\"none\"/>\n",
       "    <path d=\"M18.56 5.44l.94 2.06.94-2.06 2.06-.94-2.06-.94-.94-2.06-.94 2.06-2.06.94zm-11 1L8.5 8.5l.94-2.06 2.06-.94-2.06-.94L8.5 2.5l-.94 2.06-2.06.94zm10 10l.94 2.06.94-2.06 2.06-.94-2.06-.94-.94-2.06-.94 2.06-2.06.94z\"/><path d=\"M17.41 7.96l-1.37-1.37c-.4-.4-.92-.59-1.43-.59-.52 0-1.04.2-1.43.59L10.3 9.45l-7.72 7.72c-.78.78-.78 2.05 0 2.83L4 21.41c.39.39.9.59 1.41.59.51 0 1.02-.2 1.41-.59l7.78-7.78 2.81-2.81c.8-.78.8-2.07 0-2.86zM5.41 20L4 18.59l7.72-7.72 1.47 1.35L5.41 20z\"/>\n",
       "  </svg>\n",
       "      </button>\n",
       "      \n",
       "  <style>\n",
       "    .colab-df-container {\n",
       "      display:flex;\n",
       "      flex-wrap:wrap;\n",
       "      gap: 12px;\n",
       "    }\n",
       "\n",
       "    .colab-df-convert {\n",
       "      background-color: #E8F0FE;\n",
       "      border: none;\n",
       "      border-radius: 50%;\n",
       "      cursor: pointer;\n",
       "      display: none;\n",
       "      fill: #1967D2;\n",
       "      height: 32px;\n",
       "      padding: 0 0 0 0;\n",
       "      width: 32px;\n",
       "    }\n",
       "\n",
       "    .colab-df-convert:hover {\n",
       "      background-color: #E2EBFA;\n",
       "      box-shadow: 0px 1px 2px rgba(60, 64, 67, 0.3), 0px 1px 3px 1px rgba(60, 64, 67, 0.15);\n",
       "      fill: #174EA6;\n",
       "    }\n",
       "\n",
       "    [theme=dark] .colab-df-convert {\n",
       "      background-color: #3B4455;\n",
       "      fill: #D2E3FC;\n",
       "    }\n",
       "\n",
       "    [theme=dark] .colab-df-convert:hover {\n",
       "      background-color: #434B5C;\n",
       "      box-shadow: 0px 1px 3px 1px rgba(0, 0, 0, 0.15);\n",
       "      filter: drop-shadow(0px 1px 2px rgba(0, 0, 0, 0.3));\n",
       "      fill: #FFFFFF;\n",
       "    }\n",
       "  </style>\n",
       "\n",
       "      <script>\n",
       "        const buttonEl =\n",
       "          document.querySelector('#df-fbefa2ac-a3a3-4e9f-8ab2-107c9bb79330 button.colab-df-convert');\n",
       "        buttonEl.style.display =\n",
       "          google.colab.kernel.accessAllowed ? 'block' : 'none';\n",
       "\n",
       "        async function convertToInteractive(key) {\n",
       "          const element = document.querySelector('#df-fbefa2ac-a3a3-4e9f-8ab2-107c9bb79330');\n",
       "          const dataTable =\n",
       "            await google.colab.kernel.invokeFunction('convertToInteractive',\n",
       "                                                     [key], {});\n",
       "          if (!dataTable) return;\n",
       "\n",
       "          const docLinkHtml = 'Like what you see? Visit the ' +\n",
       "            '<a target=\"_blank\" href=https://colab.research.google.com/notebooks/data_table.ipynb>data table notebook</a>'\n",
       "            + ' to learn more about interactive tables.';\n",
       "          element.innerHTML = '';\n",
       "          dataTable['output_type'] = 'display_data';\n",
       "          await google.colab.output.renderOutput(dataTable, element);\n",
       "          const docLink = document.createElement('div');\n",
       "          docLink.innerHTML = docLinkHtml;\n",
       "          element.appendChild(docLink);\n",
       "        }\n",
       "      </script>\n",
       "    </div>\n",
       "  </div>\n",
       "  "
      ],
      "text/plain": [
       "               Predictor  Importance\n",
       "10               alcohol    0.250846\n",
       "1       volatile acidity    0.124307\n",
       "5    free sulfur dioxide    0.080374\n",
       "9              sulphates    0.078176\n",
       "6   total sulfur dioxide    0.077565\n",
       "3         residual sugar    0.072411\n",
       "8                     pH    0.069419\n",
       "4              chlorides    0.067845\n",
       "7                density    0.066263\n",
       "2            citric acid    0.058864\n",
       "0          fixed acidity    0.053085\n",
       "12            type_white    0.000499\n",
       "11              type_red    0.000347"
      ]
     },
     "execution_count": 23,
     "metadata": {},
     "output_type": "execute_result"
    }
   ],
   "source": [
    "# feature importance\n",
    "features_df = pd.DataFrame(zip(X_train.columns, list(model.feature_importances_)),\n",
    "                           columns =['Predictor', 'Importance'])\n",
    "features_df.sort_values(by = 'Importance', ascending = False)"
   ]
  },
  {
   "cell_type": "markdown",
   "id": "Y9jHSc5u7Sl7",
   "metadata": {
    "id": "Y9jHSc5u7Sl7"
   },
   "source": [
    "Other attemps"
   ]
  },
  {
   "cell_type": "code",
   "execution_count": 24,
   "id": "XbLKr27zw3Nj",
   "metadata": {
    "colab": {
     "base_uri": "https://localhost:8080/"
    },
    "id": "XbLKr27zw3Nj",
    "outputId": "c313435c-9340-4519-b2e8-4796d88057ad"
   },
   "outputs": [
    {
     "name": "stdout",
     "output_type": "stream",
     "text": [
      "The test RMSE is 0.6713934992009014\n"
     ]
    }
   ],
   "source": [
    "model = GradientBoostingRegressor(n_estimators = 1300, loss = 'huber', max_depth = 7, \n",
    "                                  learning_rate = 0.08, subsample = 0.85, \n",
    "                                  random_state = 1).fit(X_train, y_train)\n",
    "pred = model.predict(X_test)\n",
    "\n",
    "# rounded rmse\n",
    "print('The test RMSE is', np.sqrt(mean_squared_error(y_test, np.around(pred))))"
   ]
  },
  {
   "cell_type": "code",
   "execution_count": 25,
   "id": "4ltSWHASw6SL",
   "metadata": {
    "colab": {
     "base_uri": "https://localhost:8080/"
    },
    "id": "4ltSWHASw6SL",
    "outputId": "433010eb-27bd-4fa6-ac41-eb4b2715a493"
   },
   "outputs": [
    {
     "name": "stdout",
     "output_type": "stream",
     "text": [
      "The test RMSE is 0.6719661163618754\n"
     ]
    }
   ],
   "source": [
    "model = GradientBoostingRegressor(n_estimators = 1400, loss = 'huber', max_depth = 9, \n",
    "                                  learning_rate = 0.07, subsample = 0.8, \n",
    "                                  random_state = 1).fit(X_train, y_train)\n",
    "pred = model.predict(X_test)\n",
    "\n",
    "# rounded rmse\n",
    "print('The test RMSE is', np.sqrt(mean_squared_error(y_test, np.around(pred))))"
   ]
  },
  {
   "cell_type": "markdown",
   "id": "85da8b9e",
   "metadata": {
    "id": "85da8b9e"
   },
   "source": [
    "### CatBoost, and LightGBM\n",
    "*By Anastasia Wei*"
   ]
  },
  {
   "cell_type": "code",
   "execution_count": 26,
   "id": "Rzk9kdTPvVMy",
   "metadata": {
    "colab": {
     "base_uri": "https://localhost:8080/"
    },
    "id": "Rzk9kdTPvVMy",
    "outputId": "f83c87af-4121-4156-fd4a-a7b6fc3ccf81"
   },
   "outputs": [
    {
     "name": "stdout",
     "output_type": "stream",
     "text": [
      "Train RMSE = 0.4760979229626765\n",
      "Test RMSE = 0.7130648907789097\n"
     ]
    }
   ],
   "source": [
    "# untuned catboost model with default parameters\n",
    "model_cat = CatBoostRegressor(verbose = False).fit(X_train, y_train)\n",
    "print('Train RMSE =', np.sqrt(mean_squared_error(np.around(model_cat.predict(X_train)),y_train)))\n",
    "print('Test RMSE =', np.sqrt(mean_squared_error(np.around(model_cat.predict(X_test)),y_test)))"
   ]
  },
  {
   "cell_type": "code",
   "execution_count": 27,
   "id": "1d6f85e8",
   "metadata": {
    "colab": {
     "base_uri": "https://localhost:8080/"
    },
    "id": "1d6f85e8",
    "outputId": "f95b2a50-480c-4c29-c061-ae4a0d5a214f"
   },
   "outputs": [
    {
     "name": "stdout",
     "output_type": "stream",
     "text": [
      "Train RMSE = 0.5210592961182009\n",
      "Test RMSE = 0.7258946734362203\n"
     ]
    }
   ],
   "source": [
    "# untuned LGBM model with default parameters\n",
    "model_lgbm = LGBMRegressor().fit(X_train, y_train)\n",
    "print('Train RMSE =', np.sqrt(mean_squared_error(np.around(model_lgbm.predict(X_train)),y_train)))\n",
    "print('Test RMSE =', np.sqrt(mean_squared_error(np.around(model_lgbm.predict(X_test)),y_test)))"
   ]
  },
  {
   "cell_type": "markdown",
   "id": "a221dcc6",
   "metadata": {
    "id": "a221dcc6"
   },
   "source": [
    "## Model Ensemble \n",
    "*By Anastasia Wei*"
   ]
  },
  {
   "cell_type": "markdown",
   "id": "9dc8b3d9",
   "metadata": {
    "id": "9dc8b3d9"
   },
   "source": [
    "Put code with comments. The comments should explain the code such that it can be easily understood. You may put text *(in a markdown cell)* before a large chunk of code to explain the overall purpose of the code, if it is not intuitive. **Put the name of the person / persons who contributed to each code chunk / set of code chunks.**\n"
   ]
  },
  {
   "cell_type": "markdown",
   "id": "fPmOY8Cj0q-2",
   "metadata": {
    "id": "fPmOY8Cj0q-2"
   },
   "source": [
    "Loading and predicting using each of the individual models from previous model section"
   ]
  },
  {
   "cell_type": "code",
   "execution_count": 28,
   "id": "szi2Gd760IBM",
   "metadata": {
    "colab": {
     "base_uri": "https://localhost:8080/"
    },
    "id": "szi2Gd760IBM",
    "outputId": "fdb2d48d-1e49-415b-9881-4e540446ce99"
   },
   "outputs": [
    {
     "name": "stdout",
     "output_type": "stream",
     "text": [
      "lasso train RMSE = 0.7818658578951756\n",
      "lasso test RMSE = 0.808131748588634\n"
     ]
    }
   ],
   "source": [
    "model_lasso = Lasso(alpha = 0.00036584035717135963).fit(X_train, y_train)\n",
    "lasso_pred_train = model_lasso.predict(X_train)\n",
    "lasso_pred_test = model_lasso.predict(X_test)\n",
    "print(\"lasso train RMSE =\", np.sqrt(mean_squared_error(y_train, np.around(lasso_pred_train))))\n",
    "print(\"lasso test RMSE =\", np.sqrt(mean_squared_error(y_test, np.around(lasso_pred_test))))"
   ]
  },
  {
   "cell_type": "code",
   "execution_count": 29,
   "id": "2JWvkvYM0Qbf",
   "metadata": {
    "colab": {
     "base_uri": "https://localhost:8080/"
    },
    "id": "2JWvkvYM0Qbf",
    "outputId": "11952381-5ba3-4ffc-f2cc-7abe3ebd9469"
   },
   "outputs": [
    {
     "name": "stdout",
     "output_type": "stream",
     "text": [
      "ridge train RMSE = 0.7892143827427598\n",
      "ridge test RMSE = 0.8166535844059444\n"
     ]
    }
   ],
   "source": [
    "model_ridge = Ridge(alpha = 0.01636987568069109).fit(X_train, y_train)\n",
    "ridge_pred_train = model_ridge.predict(X_train)\n",
    "ridge_pred_test = model_ridge.predict(X_test)\n",
    "print(\"ridge train RMSE =\", np.sqrt(mean_squared_error(y_train, np.around(ridge_pred_train))))\n",
    "print(\"ridge test RMSE =\", np.sqrt(mean_squared_error(y_test, np.around(ridge_pred_test))))"
   ]
  },
  {
   "cell_type": "code",
   "execution_count": 30,
   "id": "KqDUY8Ehz4un",
   "metadata": {
    "colab": {
     "base_uri": "https://localhost:8080/"
    },
    "id": "KqDUY8Ehz4un",
    "outputId": "727c3118-74ab-40c2-9af6-ecd459e557c7"
   },
   "outputs": [
    {
     "name": "stdout",
     "output_type": "stream",
     "text": [
      "Gradient boost train RMSE = 0.02402615469220623\n",
      "Gradient boost test RMSE = 0.6586699885725429\n"
     ]
    }
   ],
   "source": [
    "model_gb = GradientBoostingRegressor(n_estimators = 1300, loss = 'huber', max_depth = 9, \n",
    "                                     learning_rate = 0.08, subsample = 0.85, \n",
    "                                     random_state = 1).fit(X_train, y_train)\n",
    "gb_pred_train = model_gb.predict(X_train)\n",
    "gb_pred_test = model_gb.predict(X_test)\n",
    "print(\"Gradient boost train RMSE =\", np.sqrt(mean_squared_error(np.around(gb_pred_train), y_train)))\n",
    "print(\"Gradient boost test RMSE =\", np.sqrt(mean_squared_error(np.around(gb_pred_test), y_test)))"
   ]
  },
  {
   "cell_type": "code",
   "execution_count": 31,
   "id": "1aEMX_7O0Enx",
   "metadata": {
    "colab": {
     "base_uri": "https://localhost:8080/"
    },
    "id": "1aEMX_7O0Enx",
    "outputId": "38a22064-c7d2-4303-8562-a4dbc40bf6d6"
   },
   "outputs": [
    {
     "name": "stdout",
     "output_type": "stream",
     "text": [
      "xgb train RMSE = 0.16587909616044325\n",
      "xgb test RMSE = 0.6753916242846414\n"
     ]
    }
   ],
   "source": [
    "model_xgb = XGBRegressor(n_estimators = 4050, max_depth = 7, \n",
    "                         learning_rate = 0.01, subsample = 0.5, \n",
    "                         reg_lambda = 10, gamma = 0, colsample_bytree = 0.6,\n",
    "                         random_state = 1).fit(X_train, y_train)\n",
    "xgb_pred_train = model_xgb.predict(X_train)\n",
    "xgb_pred_test = model_xgb.predict(X_test)\n",
    "print(\"xgb train RMSE =\", np.sqrt(mean_squared_error(np.around(xgb_pred_train), y_train)))\n",
    "print(\"xgb test RMSE =\", np.sqrt(mean_squared_error(np.around(xgb_pred_test), y_test)))"
   ]
  },
  {
   "cell_type": "code",
   "execution_count": 32,
   "id": "tiiIIEYq0Xqs",
   "metadata": {
    "colab": {
     "base_uri": "https://localhost:8080/"
    },
    "id": "tiiIIEYq0Xqs",
    "outputId": "7e5d6959-102e-4250-cc93-f2c50f9a128e"
   },
   "outputs": [
    {
     "name": "stdout",
     "output_type": "stream",
     "text": [
      "Adaboost train RMSE = 0.0\n",
      "Adaboost test RMSE = 0.6604194471348085\n"
     ]
    }
   ],
   "source": [
    "model_ada = AdaBoostRegressor(estimator = DecisionTreeRegressor(max_depth=13),\n",
    "                              n_estimators = 1500, \n",
    "                              learning_rate = 1.5, \n",
    "                              random_state = 45).fit(X_train,y_train)   \n",
    "ada_pred_train = model_ada.predict(X_train)\n",
    "ada_pred_test = model_ada.predict(X_test)\n",
    "print(\"Adaboost train RMSE =\", np.sqrt(mean_squared_error(np.around(ada_pred_train), y_train)))\n",
    "print(\"Adaboost test RMSE =\", np.sqrt(mean_squared_error(np.around(ada_pred_test), y_test)))"
   ]
  },
  {
   "cell_type": "code",
   "execution_count": 33,
   "id": "1FCRKlqj0cFV",
   "metadata": {
    "colab": {
     "base_uri": "https://localhost:8080/"
    },
    "id": "1FCRKlqj0cFV",
    "outputId": "8063cf77-35f2-4d33-fa4a-ebedf0600d0e"
   },
   "outputs": [
    {
     "name": "stdout",
     "output_type": "stream",
     "text": [
      "Random forest train RMSE = 0.2029226514289605\n",
      "Random forest test RMSE = 0.6690981300917733\n"
     ]
    }
   ],
   "source": [
    "model_rf = RandomForestRegressor(n_estimators= 3000, \n",
    "                                 max_features = 7, \n",
    "                                 max_samples = 5000, \n",
    "                                 max_depth = 50, \n",
    "                                 random_state = 1, \n",
    "                                 n_jobs = -1).fit(X_train, y_train)\n",
    "rf_pred_train = model_rf.predict(X_train)\n",
    "rf_pred_test = model_rf.predict(X_test)\n",
    "print(\"Random forest train RMSE =\", np.sqrt(mean_squared_error(np.around(rf_pred_train), y_train)))\n",
    "print(\"Random forest test RMSE =\", np.sqrt(mean_squared_error(np.around(rf_pred_test), y_test)))"
   ]
  },
  {
   "cell_type": "code",
   "execution_count": 34,
   "id": "wBIZMBrP0cy0",
   "metadata": {
    "colab": {
     "base_uri": "https://localhost:8080/"
    },
    "id": "wBIZMBrP0cy0",
    "outputId": "e51baef3-c307-45d8-d4f8-85d2c5f85f0a"
   },
   "outputs": [
    {
     "name": "stdout",
     "output_type": "stream",
     "text": [
      "Decision tree train RMSE = 0.7266339665201115\n",
      "Decision tree test RMSE = 0.8043152845265822\n"
     ]
    }
   ],
   "source": [
    "model_dt = DecisionTreeRegressor(max_leaf_nodes = 52,\n",
    "                                 max_depth = 6, \n",
    "                                 min_samples_leaf = 8, \n",
    "                                 random_state = 45).fit(X_train, y_train)\n",
    "dt_pred_train = model_dt.predict(X_train)\n",
    "dt_pred_test = model_dt.predict(X_test)\n",
    "print(\"Decision tree train RMSE =\", np.sqrt(mean_squared_error(np.around(dt_pred_train), y_train)))\n",
    "print(\"Decision tree test RMSE =\", np.sqrt(mean_squared_error(np.around(dt_pred_test), y_test)))"
   ]
  },
  {
   "cell_type": "code",
   "execution_count": 35,
   "id": "3lBW4Wrq0f_Q",
   "metadata": {
    "colab": {
     "base_uri": "https://localhost:8080/"
    },
    "id": "3lBW4Wrq0f_Q",
    "outputId": "33638586-c09f-4314-c92e-2f39fbbb8f14"
   },
   "outputs": [
    {
     "name": "stdout",
     "output_type": "stream",
     "text": [
      "Catboost train RMSE = 0.4760979229626765\n",
      "Catboost test RMSE = 0.7130648907789097\n"
     ]
    }
   ],
   "source": [
    "model_cat = CatBoostRegressor(verbose = False).fit(X_train, y_train)\n",
    "cat_pred_train = model_cat.predict(X_train)\n",
    "cat_pred_test = model_cat.predict(X_test)\n",
    "print(\"Catboost train RMSE =\", np.sqrt(mean_squared_error(np.around(cat_pred_train), y_train)))\n",
    "print(\"Catboost test RMSE =\", np.sqrt(mean_squared_error(np.around(cat_pred_test), y_test)))"
   ]
  },
  {
   "cell_type": "code",
   "execution_count": 36,
   "id": "-jpz1nzP0kmO",
   "metadata": {
    "colab": {
     "base_uri": "https://localhost:8080/"
    },
    "id": "-jpz1nzP0kmO",
    "outputId": "9ea6982f-8e6e-4b63-f182-ea9a07ca1161"
   },
   "outputs": [
    {
     "name": "stdout",
     "output_type": "stream",
     "text": [
      "lgbm train RMSE = 0.5210592961182009\n",
      "lgbm test RMSE = 0.7258946734362203\n"
     ]
    }
   ],
   "source": [
    "model_lgbm = LGBMRegressor().fit(X_train, y_train)\n",
    "lgbm_pred_train = model_lgbm.predict(X_train)\n",
    "lgbm_pred_test = model_lgbm.predict(X_test)\n",
    "print(\"lgbm train RMSE =\", np.sqrt(mean_squared_error(np.around(lgbm_pred_train), y_train)))\n",
    "print(\"lgbm test RMSE =\", np.sqrt(mean_squared_error(np.around(lgbm_pred_test), y_test)))"
   ]
  },
  {
   "cell_type": "code",
   "execution_count": 37,
   "id": "AOXIAdEY07IX",
   "metadata": {
    "colab": {
     "base_uri": "https://localhost:8080/"
    },
    "id": "AOXIAdEY07IX",
    "outputId": "4b83f2a8-2df8-482f-a113-805f7affcfc8"
   },
   "outputs": [
    {
     "name": "stdout",
     "output_type": "stream",
     "text": [
      "bagging train RMSE = 0.08773111263353295\n",
      "bagging test RMSE = 0.6673714223613529\n"
     ]
    }
   ],
   "source": [
    "model_bag = BaggingRegressor(random_state = 1, \n",
    "                             n_jobs = -1,\n",
    "                             estimator = DecisionTreeRegressor(random_state = 1),\n",
    "                             n_estimators = 1100, \n",
    "                             max_samples = 0.75, \n",
    "                             max_features = 1.0,\n",
    "                             bootstrap_features = True, \n",
    "                             bootstrap = False).fit(X_train, y_train)\n",
    "\n",
    "bag_pred_train = model_bag.predict(X_train)\n",
    "bag_pred_test = model_bag.predict(X_test)\n",
    "print(\"bagging train RMSE =\", np.sqrt(mean_squared_error(y_train, np.around(bag_pred_train))))\n",
    "print(\"bagging test RMSE =\", np.sqrt(mean_squared_error(y_test, np.around(bag_pred_test))))"
   ]
  },
  {
   "cell_type": "code",
   "execution_count": 43,
   "id": "4iNbuIgA0mW1",
   "metadata": {
    "colab": {
     "base_uri": "https://localhost:8080/"
    },
    "id": "4iNbuIgA0mW1",
    "outputId": "c39033ae-ec56-4e05-bfaf-56ee4586e183"
   },
   "outputs": [
    {
     "name": "stdout",
     "output_type": "stream",
     "text": [
      "MARS train RMSE = 0.7600269381410235\n",
      "MARS test RMSE = 0.7745966692414834\n"
     ]
    }
   ],
   "source": [
    "# MARS model \n",
    "mars_model = Earth(max_terms = 800, max_degree = 7)\n",
    "mars_model.fit(X_train, y_train)\n",
    "pred_opt = mars_model.predict(X_test)\n",
    "rounded_pred_opt = [round(p) for p in pred_opt]\n",
    "rounded_pred_opt = pd.Series(rounded_pred_opt, name='quality')\n",
    "rounded_pred_opt = rounded_pred_opt.to_frame().rename(columns={'quality': 'quality'})\n",
    "residuals = y_test.quality - rounded_pred_opt.quality.values\n",
    "residual_model = Earth()\n",
    "residual_model.fit(rounded_pred_opt, residuals)\n",
    "residuals_pred_unrounded = residual_model.predict(rounded_pred_opt)\n",
    "residuals_pred = [round(p) for p in residuals_pred_unrounded]\n",
    "residuals_pred_series = pd.Series(residuals_pred, name='quality')\n",
    "\n",
    "pred_opt_train = mars_model.predict(X_train)\n",
    "rounded_opt_train = pd.DataFrame(np.around(pred_opt_train), columns = ['quality'])\n",
    "residuals_train = y_train.quality - rounded_opt_train.quality.values\n",
    "residual_model.fit(rounded_opt_train, residuals_train)\n",
    "residuals_pred_train = np.around(residual_model.predict(rounded_opt_train))\n",
    "residuals_pred_series_train = pd.Series(residuals_pred_train, name='quality')\n",
    "\n",
    "mars_pred_train = pd.concat([rounded_opt_train, residuals_pred_series_train], axis=1).sum(axis=1)\n",
    "mars_pred_test = pd.concat([rounded_pred_opt, residuals_pred_series], axis=1).sum(axis=1)\n",
    "print(\"MARS train RMSE =\", np.sqrt(mean_squared_error(y_train, mars_pred_train)))\n",
    "print(\"MARS test RMSE =\", np.sqrt(mean_squared_error(y_test, mars_pred_test)))"
   ]
  },
  {
   "cell_type": "markdown",
   "id": "rzhm7Q0g24Pj",
   "metadata": {
    "id": "rzhm7Q0g24Pj"
   },
   "source": [
    "Casting the train and test predicted responses into data frame for ensemble model training."
   ]
  },
  {
   "cell_type": "code",
   "execution_count": 65,
   "id": "EQ4mbait0yGk",
   "metadata": {
    "id": "EQ4mbait0yGk"
   },
   "outputs": [],
   "source": [
    "train_df = pd.DataFrame(np.array([gb_pred_train, xgb_pred_train, ada_pred_train, \n",
    "                                  rf_pred_train, mars_pred_train, dt_pred_train, \n",
    "                                  cat_pred_train, lgbm_pred_train, bag_pred_train,\n",
    "                                  ridge_pred_train, lasso_pred_train]).transpose(),\n",
    "                        columns = ['gb', 'xgb', 'ada', 'rf', 'mars', 'dt', \n",
    "                                    'cat', 'lgbm', 'bag', 'ridge', 'lasso'])"
   ]
  },
  {
   "cell_type": "code",
   "execution_count": 69,
   "id": "OwI6jZII1EHi",
   "metadata": {
    "id": "OwI6jZII1EHi"
   },
   "outputs": [],
   "source": [
    "test_df = pd.DataFrame(np.array([gb_pred_test, xgb_pred_test, ada_pred_test, \n",
    "                                 rf_pred_test, mars_pred_test, dt_pred_test, \n",
    "                                 cat_pred_test, lgbm_pred_test, bag_pred_test,\n",
    "                                 ridge_pred_test, lasso_pred_test]).transpose(),\n",
    "                        columns = ['gb', 'xgb', 'ada', 'rf', 'mars', 'dt', \n",
    "                                    'cat', 'lgbm', 'bag','ridge', 'lasso'])"
   ]
  },
  {
   "cell_type": "markdown",
   "id": "961bcb1d",
   "metadata": {
    "id": "961bcb1d"
   },
   "source": [
    "### Voting ensemble"
   ]
  },
  {
   "cell_type": "code",
   "execution_count": 71,
   "id": "gd3skNwP0xvj",
   "metadata": {
    "colab": {
     "base_uri": "https://localhost:8080/"
    },
    "id": "gd3skNwP0xvj",
    "outputId": "1a2ee08e-5a0e-424f-a239-2b88925fcda9"
   },
   "outputs": [
    {
     "name": "stdout",
     "output_type": "stream",
     "text": [
      "Train RMSE =  0.043865556316766474\n",
      "Test RMSE =  0.6510346794496848\n"
     ]
    }
   ],
   "source": [
    "# average predited response as voting ensemble\n",
    "# only using the modesl with rmse < 0.7\n",
    "pred_train = train_df[['xgb','ada','rf','gb','bag']].sum(axis = 1)/5\n",
    "pred_test = test_df[['xgb','ada','rf','gb','bag']].sum(axis = 1)/5\n",
    "print(\"Train RMSE = \", np.sqrt(mean_squared_error(np.around(pred_train), y_train)))\n",
    "print(\"Test RMSE = \", np.sqrt(mean_squared_error(np.around(pred_test), y_test)))"
   ]
  },
  {
   "cell_type": "code",
   "execution_count": 72,
   "id": "kvt22E363K7-",
   "metadata": {
    "colab": {
     "base_uri": "https://localhost:8080/",
     "height": 478
    },
    "id": "kvt22E363K7-",
    "outputId": "b961598d-d059-45dc-fe0e-4be95c670aca"
   },
   "outputs": [
    {
     "data": {
      "image/png": "[encoded data removed]",
      "text/plain": [
       "<Figure size 640x480 with 1 Axes>"
      ]
     },
     "metadata": {},
     "output_type": "display_data"
    }
   ],
   "source": [
    "# making actual vs predicted plots\n",
    "jitter_amount = 0.5\n",
    "jittered_pred = pred_test + np.random.uniform(low=-jitter_amount, high=jitter_amount, size=len(pred_test))\n",
    "\n",
    "x = np.linspace(3,9,1000)\n",
    "plt.scatter(jittered_pred, y_test, alpha = 0.5)\n",
    "plt.xlabel('Predicted Response', fontsize = 14)\n",
    "plt.ylabel('Actual Response', fontsize = 14)\n",
    "plt.title('Actual vs Predicted Response', fontsize = 14)\n",
    "plt.plot(x, x, c = 'k');"
   ]
  },
  {
   "cell_type": "markdown",
   "id": "ca651ba0",
   "metadata": {
    "id": "ca651ba0"
   },
   "source": [
    "### Stacking ensemble(s)"
   ]
  },
  {
   "cell_type": "code",
   "execution_count": 73,
   "id": "zUpsLDqQ3hxQ",
   "metadata": {
    "colab": {
     "base_uri": "https://localhost:8080/"
    },
    "id": "zUpsLDqQ3hxQ",
    "outputId": "3141dff6-3084-4082-e17a-41ca4027b69b"
   },
   "outputs": [
    {
     "name": "stdout",
     "output_type": "stream",
     "text": [
      "RMSE for the linreg stacking ensemble = 0.6713934992009014\n"
     ]
    }
   ],
   "source": [
    "# linear regression model\n",
    "linreg = LinearRegression().fit(train_df, y_train)\n",
    "pred = linreg.predict(test_df)\n",
    "print('RMSE for the linreg stacking ensemble =', np.sqrt(mean_squared_error(y_test, np.around(pred))))"
   ]
  },
  {
   "cell_type": "code",
   "execution_count": 74,
   "id": "BDTLTCPP3kve",
   "metadata": {
    "colab": {
     "base_uri": "https://localhost:8080/"
    },
    "id": "BDTLTCPP3kve",
    "outputId": "3b7eab53-4120-41ca-91f2-5456fc767eeb"
   },
   "outputs": [
    {
     "name": "stdout",
     "output_type": "stream",
     "text": [
      "opt alpha =  0.0005\n",
      "RMSE for the lasso stacking ensemble = 0.6598368096617643\n"
     ]
    }
   ],
   "source": [
    "# lasso model\n",
    "alphas = 10**np.linspace(0, -3, 300)*0.5\n",
    "lassocv = LassoCV(alphas = alphas, cv = 5, max_iter = 100000)\n",
    "lassocv.fit(train_df, y_train)\n",
    "print('opt alpha = ', lassocv.alpha_)\n",
    "\n",
    "lasso = Lasso(alpha = lassocv.alpha_)\n",
    "lasso.fit(train_df, y_train)\n",
    "pred = lasso.predict(test_df)\n",
    "print('RMSE for the lasso stacking ensemble =', np.sqrt(mean_squared_error(y_test, np.around(pred))))"
   ]
  },
  {
   "cell_type": "code",
   "execution_count": 75,
   "id": "8ibG_ooM3rSM",
   "metadata": {
    "colab": {
     "base_uri": "https://localhost:8080/"
    },
    "id": "8ibG_ooM3rSM",
    "outputId": "e7fb020a-af6a-4603-fd88-455c01a30ae1"
   },
   "outputs": [
    {
     "name": "stdout",
     "output_type": "stream",
     "text": [
      "RMSE for the mars stacking ensemble 0.6592536572635639\n"
     ]
    }
   ],
   "source": [
    "# Mars model\n",
    "mars_model = Earth(max_degree=1)\n",
    "mars_model.fit(train_df, y_train)\n",
    "pred = mars_model.predict(test_df)\n",
    "print('RMSE for the mars stacking ensemble', np.sqrt(mean_squared_error(y_test, np.around(pred))))"
   ]
  },
  {
   "cell_type": "code",
   "execution_count": 76,
   "id": "PbW6AIxs3yOG",
   "metadata": {
    "colab": {
     "base_uri": "https://localhost:8080/"
    },
    "id": "PbW6AIxs3yOG",
    "outputId": "2ab61c4b-3c6a-4bfb-e6ba-73777bca3dac"
   },
   "outputs": [
    {
     "name": "stdout",
     "output_type": "stream",
     "text": [
      "Fitting 4 folds for each of 100 candidates, totalling 400 fits\n",
      "Optimal parameter values = {'n_estimators': 100, 'max_samples': 3000, 'max_leaf_nodes': 1000, 'max_features': 8, 'max_depth': 12}\n",
      "Optimal cross validation mse =  0.0003126043406170428\n",
      "Time taken =  0  minutes\n"
     ]
    }
   ],
   "source": [
    "# random forest model\n",
    "start_time = time.time()\n",
    "param_grid = {'n_estimators': [100],\n",
    "              'max_depth': [8, 10, 12, 14],\n",
    "              'max_leaf_nodes':[100, 500, 1000],\n",
    "              'max_features': [2, 4, 6, 8],\n",
    "              'max_samples': [1000, 2000, 3000]}\n",
    "\n",
    "cv = KFold(n_splits = 4, shuffle=True, random_state=1)\n",
    "optimal_params = RandomizedSearchCV(estimator = RandomForestRegressor(random_state=1),                                                       \n",
    "                                    param_distributions = param_grid, n_iter = 100,\n",
    "                                    scoring = 'neg_mean_squared_error',\n",
    "                                    n_jobs=-1, verbose = 1, cv = cv)\n",
    "optimal_params.fit(train_df, y_train)\n",
    "print(\"Optimal parameter values =\", optimal_params.best_params_)\n",
    "print(\"Optimal cross validation mse = \", -optimal_params.best_score_)\n",
    "print(\"Time taken = \", round((time.time()-start_time)/60), \" minutes\")"
   ]
  },
  {
   "cell_type": "code",
   "execution_count": 77,
   "id": "HOVdW_lA30hR",
   "metadata": {
    "colab": {
     "base_uri": "https://localhost:8080/"
    },
    "id": "HOVdW_lA30hR",
    "outputId": "7a2576c5-34ab-4a3e-ad73-659ddc42bdcc"
   },
   "outputs": [
    {
     "name": "stdout",
     "output_type": "stream",
     "text": [
      "Test RMSE 0.6492599337233598\n"
     ]
    }
   ],
   "source": [
    "rf_model = RandomForestRegressor(n_estimators = 100, max_samples = 3000, \n",
    "                                 max_leaf_nodes = 1000, max_features = 8,\n",
    "                                 verbose = False, max_depth = 12,\n",
    "                                 n_jobs= -1).fit(train_df, y_train)\n",
    "\n",
    "print('Test RMSE', np.sqrt(mean_squared_error(y_test, np.around(rf_model.predict(test_df)))))"
   ]
  },
  {
   "cell_type": "code",
   "execution_count": 78,
   "id": "Oh3J5W-S32Za",
   "metadata": {
    "colab": {
     "base_uri": "https://localhost:8080/"
    },
    "id": "Oh3J5W-S32Za",
    "outputId": "dc556bc7-3ec7-494e-b071-3f44be434120"
   },
   "outputs": [
    {
     "name": "stdout",
     "output_type": "stream",
     "text": [
      "Fitting 4 folds for each of 100 candidates, totalling 400 fits\n",
      "Optimal parameter values = {'subsample': 0.75, 'reg_lambda': 0, 'n_estimators': 1000, 'max_depth': 6, 'learning_rate': 0.008, 'gamma': 0, 'colsample_bytree': 1.0}\n",
      "Optimal cross validation mse =  3.4230875375944506e-06\n",
      "Time taken =  1  minutes\n"
     ]
    }
   ],
   "source": [
    "# xgboost model\n",
    "start_time = time.time()\n",
    "param_grid = {'max_depth': [3, 4, 5, 6],\n",
    "              'learning_rate': [0.008, 0.01, 0.025, 0.05],\n",
    "              'reg_lambda':[0, 1, 5],\n",
    "              'n_estimators':[500, 600, 800, 1000],\n",
    "              'gamma': [0, 3, 5, 10],\n",
    "              'subsample': [0.5, 0.75, 1.0],\n",
    "              'colsample_bytree': [0.5, 0.75, 1.0]}\n",
    "\n",
    "cv = KFold(n_splits = 4, shuffle = True, random_state=1)\n",
    "optimal_params = RandomizedSearchCV(estimator= XGBRegressor(random_state=1),                                                       \n",
    "                                    param_distributions = param_grid, n_iter = 100,\n",
    "                                    scoring = 'neg_mean_squared_error',\n",
    "                                    n_jobs=-1, verbose = 1, cv = cv)\n",
    "optimal_params.fit(train_df,y_train)\n",
    "print(\"Optimal parameter values =\", optimal_params.best_params_)\n",
    "print(\"Optimal cross validation mse = \", -optimal_params.best_score_)\n",
    "print(\"Time taken = \", round((time.time()-start_time)/60), \" minutes\")"
   ]
  },
  {
   "cell_type": "code",
   "execution_count": 79,
   "id": "Mhto1ur-36R0",
   "metadata": {
    "colab": {
     "base_uri": "https://localhost:8080/"
    },
    "id": "Mhto1ur-36R0",
    "outputId": "9bd43419-caf7-45ec-d27b-5e1cd8694f6d"
   },
   "outputs": [
    {
     "name": "stdout",
     "output_type": "stream",
     "text": [
      "Test RMSE 0.6753916242846414\n"
     ]
    }
   ],
   "source": [
    "xgb_model = XGBRegressor(subsample = 0.75, reg_lambda = 0, n_estimators = 1000, \n",
    "                         max_depth = 6, learning_rate = 0.008, gamma = 0,\n",
    "                         colsample_bytree = 1, random_state = 1).fit(train_df, y_train)\n",
    "print('Test RMSE', np.sqrt(mean_squared_error(y_test, np.around(xgb_model.predict(test_df)))))"
   ]
  },
  {
   "cell_type": "markdown",
   "id": "ddff3adf",
   "metadata": {
    "id": "ddff3adf"
   },
   "source": [
    "### Ensemble of ensembled models"
   ]
  },
  {
   "cell_type": "code",
   "execution_count": 93,
   "id": "Yk-ZM3wr37JO",
   "metadata": {
    "colab": {
     "base_uri": "https://localhost:8080/"
    },
    "id": "Yk-ZM3wr37JO",
    "outputId": "988dbe53-24a4-4697-fb85-0c5f37cdab02"
   },
   "outputs": [
    {
     "name": "stdout",
     "output_type": "stream",
     "text": [
      "rmse for the voting ensemble model: 0.6610015710443334\n"
     ]
    }
   ],
   "source": [
    "# use a voting ensemble to ensemble the metalmodels\n",
    "pred = (linreg.predict(test_df).flatten() + lasso.predict(test_df) \n",
    "        + rf_model.predict(test_df)+ mars_model.predict(test_df)\n",
    "         + xgb_model.predict(test_df))/5\n",
    "print('rmse for the voting ensemble model:', np.sqrt(mean_squared_error(y_test, np.around(pred))))"
   ]
  },
  {
   "cell_type": "code",
   "execution_count": 94,
   "id": "Fu20YTo_4CW-",
   "metadata": {
    "id": "Fu20YTo_4CW-"
   },
   "outputs": [],
   "source": [
    "# tuning thee rounding threshold\n",
    "p = np.linspace(0, 1, 100)\n",
    "rmses = []\n",
    "for i in p:\n",
    "  base = np.floor(pred)\n",
    "  diff = pred - base\n",
    "  # cast to a list\n",
    "  new_pred = base + np.array([int(x == True) for x in (diff > i)])\n",
    "  rmse = np.sqrt(mean_squared_error(y_test, np.around(new_pred)))\n",
    "  rmses.append(rmse)"
   ]
  },
  {
   "cell_type": "code",
   "execution_count": 95,
   "id": "d7vFb2gN4GQ6",
   "metadata": {
    "colab": {
     "base_uri": "https://localhost:8080/",
     "height": 449
    },
    "id": "d7vFb2gN4GQ6",
    "outputId": "49ba82db-df4a-4378-84e1-51651b320059"
   },
   "outputs": [
    {
     "data": {
      "image/png": "[encoded data removed]",
      "text/plain": [
       "<Figure size 640x480 with 1 Axes>"
      ]
     },
     "metadata": {},
     "output_type": "display_data"
    }
   ],
   "source": [
    "plt.scatter(p, rmses)\n",
    "plt.axvline(p[np.array(rmses).argmin()], ls = '--', c = 'r')\n",
    "plt.xlabel('Threshold')\n",
    "plt.ylabel('Test RMSE');"
   ]
  },
  {
   "cell_type": "code",
   "execution_count": 99,
   "id": "OvXVhHYh4G2k",
   "metadata": {
    "colab": {
     "base_uri": "https://localhost:8080/"
    },
    "id": "OvXVhHYh4G2k",
    "outputId": "7d937c93-97c2-42b8-c0d4-f190d0518fad"
   },
   "outputs": [
    {
     "name": "stdout",
     "output_type": "stream",
     "text": [
      "opt_thresh 0.686868686868687\n",
      "rmse for the voting ensemble model: 0.6421119001448987\n"
     ]
    }
   ],
   "source": [
    "# making new predictions based on the optimal threshold\n",
    "opt_thresh = p[np.array(rmses).argmin()]\n",
    "print('opt_thresh', opt_thresh)\n",
    "new_pred = base + np.array([int(x == True) for x in (diff > opt_thresh)])\n",
    "print('rmse for the voting ensemble model:', np.sqrt(mean_squared_error(y_test, np.around(new_pred))))"
   ]
  },
  {
   "cell_type": "code",
   "execution_count": 100,
   "id": "pSHSgyTx4Lsg",
   "metadata": {
    "colab": {
     "base_uri": "https://localhost:8080/",
     "height": 478
    },
    "id": "pSHSgyTx4Lsg",
    "outputId": "98828aa1-346a-44e9-da96-640290f8b64d"
   },
   "outputs": [
    {
     "data": {
      "image/png": "[encoded data removed]",
      "text/plain": [
       "<Figure size 640x480 with 1 Axes>"
      ]
     },
     "metadata": {},
     "output_type": "display_data"
    }
   ],
   "source": [
    "jitter_amount = 0.5\n",
    "jittered_pred = new_pred + np.random.uniform(low=-jitter_amount, high=jitter_amount, size=len(new_pred))\n",
    "x = np.linspace(3,9,1000)\n",
    "\n",
    "plt.scatter(jittered_pred, y_test, alpha = 0.4)\n",
    "plt.xlabel('Predicted Response', fontsize = 14)\n",
    "plt.ylabel('Actual Response', fontsize = 14)\n",
    "plt.title('Actual vs Predicted Response', fontsize = 14)\n",
    "plt.plot(x, x, c = 'k');"
   ]
  },
  {
   "cell_type": "markdown",
   "id": "3668faab",
   "metadata": {
    "id": "3668faab"
   },
   "source": [
    "### Innovative ensembling methods\n",
    "*(Optional)*"
   ]
  },
  {
   "cell_type": "markdown",
   "id": "62a185cb",
   "metadata": {
    "id": "62a185cb"
   },
   "source": [
    "## Conclusions and Recommendations to stakeholder(s)\n",
    "\n",
    "You may or may not have code to put in this section. Delete this section if it is irrelevant."
   ]
  }
 ],
 "metadata": {
  "colab": {
   "provenance": []
  },
  "kernelspec": {
   "display_name": "Python 3 (ipykernel)",
   "language": "python",
   "name": "python3"
  },
  "language_info": {
   "codemirror_mode": {
    "name": "ipython",
    "version": 3
   },
   "file_extension": ".py",
   "mimetype": "text/x-python",
   "name": "python",
   "nbconvert_exporter": "python",
   "pygments_lexer": "ipython3",
   "version": "3.8.13"
  },
  "varInspector": {
   "cols": {
    "lenName": 16,
    "lenType": 16,
    "lenVar": 40
   },
   "kernels_config": {
    "python": {
     "delete_cmd_postfix": "",
     "delete_cmd_prefix": "del ",
     "library": "var_list.py",
     "varRefreshCmd": "print(var_dic_list())"
    },
    "r": {
     "delete_cmd_postfix": ") ",
     "delete_cmd_prefix": "rm(",
     "library": "var_list.r",
     "varRefreshCmd": "cat(var_dic_list()) "
    }
   },
   "types_to_exclude": [
    "module",
    "function",
    "builtin_function_or_method",
    "instance",
    "_Feature"
   ],
   "window_display": false
  }
 },
 "nbformat": 4,
 "nbformat_minor": 5
}
