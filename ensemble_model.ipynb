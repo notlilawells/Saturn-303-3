{
  "cells": [
    {
      "cell_type": "code",
      "execution_count": 1,
      "metadata": {
        "id": "qeB3IQJl0Wma"
      },
      "outputs": [],
      "source": [
        "%%capture\n",
        "!git clone --single-branch --branch v0.2dev https://github.com/scikit-learn-contrib/py-earth.git\n",
        "%cd py-earth\n",
        "!python setup.py install --cythonize\n",
        "!pip install catboost"
      ]
    },
    {
      "cell_type": "code",
      "execution_count": 1,
      "metadata": {
        "id": "YcD0hWJ6QTSz"
      },
      "outputs": [],
      "source": [
        "import pandas as pd\n",
        "import numpy as np\n",
        "import seaborn as sns\n",
        "import matplotlib.pyplot as plt\n",
        "from sklearn.metrics import mean_squared_error\n",
        "from sklearn.linear_model import LinearRegression, Lasso, LassoCV, LogisticRegression, LogisticRegression\n",
        "from sklearn.linear_model import Ridge, RidgeCV\n",
        "from sklearn.tree import DecisionTreeRegressor\n",
        "from sklearn.model_selection import KFold, cross_val_score,train_test_split, GridSearchCV, ParameterGrid, StratifiedKFold, RandomizedSearchCV\n",
        "from sklearn.ensemble import VotingRegressor, GradientBoostingRegressor, BaggingRegressor, RandomForestRegressor ,AdaBoostRegressor\n",
        "import itertools as it\n",
        "import time as time\n",
        "from xgboost import XGBRegressor\n",
        "from lightgbm import LGBMRegressor\n",
        "from catboost import CatBoostRegressor\n",
        "from pyearth import Earth"
      ]
    },
    {
      "cell_type": "code",
      "execution_count": 2,
      "metadata": {
        "id": "PooacnAEQSVd"
      },
      "outputs": [],
      "source": [
        "X_train = pd.read_csv(\"X_train.csv\")\n",
        "y_train = pd.read_csv(\"y_train.csv\")\n",
        "y_train = y_train.quality.values\n",
        "X_test = pd.read_csv(\"X_test.csv\")\n",
        "y_test = pd.read_csv(\"y_test.csv\")\n",
        "y_test = y_test.quality.values"
      ]
    },
    {
      "cell_type": "code",
      "execution_count": null,
      "metadata": {
        "colab": {
          "base_uri": "https://localhost:8080/"
        },
        "id": "AM2nqfGhNjow",
        "outputId": "9be7deb0-a843-48cd-e44f-4a2596d55625"
      },
      "outputs": [
        {
          "output_type": "stream",
          "name": "stdout",
          "text": [
            "Gradient boost train RMSE = 0.02402615469220623\n",
            "Gradient boost test RMSE = 0.6586699885725429\n"
          ]
        }
      ],
      "source": [
        "model_gb = GradientBoostingRegressor(n_estimators = 1300, loss = 'huber', max_depth = 9, \n",
        "                                     learning_rate = 0.08, subsample = 0.85, \n",
        "                                     random_state = 1).fit(X_train, y_train)\n",
        "gb_pred_train = model_gb.predict(X_train)\n",
        "gb_pred_test = model_gb.predict(X_test)\n",
        "print(\"Gradient boost train RMSE =\", np.sqrt(mean_squared_error(np.around(gb_pred_train), y_train)))\n",
        "print(\"Gradient boost test RMSE =\", np.sqrt(mean_squared_error(np.around(gb_pred_test), y_test)))"
      ]
    },
    {
      "cell_type": "code",
      "source": [
        "model_xgb = XGBRegressor(n_estimators = 4050, max_depth = 7, \n",
        "                         learning_rate = 0.01, subsample = 0.5, \n",
        "                         reg_lambda = 10, gamma = 0, colsample_bytree = 0.6,\n",
        "                         random_state = 1).fit(X_train, y_train)\n",
        "xgb_pred_train = model_xgb.predict(X_train)\n",
        "xgb_pred_test = model_xgb.predict(X_test)\n",
        "print(\"xgb train RMSE =\", np.sqrt(mean_squared_error(np.around(xgb_pred_train), y_train)))\n",
        "print(\"xgb test RMSE =\", np.sqrt(mean_squared_error(np.around(xgb_pred_test), y_test)))"
      ],
      "metadata": {
        "colab": {
          "base_uri": "https://localhost:8080/"
        },
        "id": "ujVgKXbkYJJG",
        "outputId": "f9cb43a5-fe48-4cd8-c3c5-976e082c4f2c"
      },
      "execution_count": null,
      "outputs": [
        {
          "output_type": "stream",
          "name": "stdout",
          "text": [
            "xgb train RMSE = 0.16587909616044325\n",
            "xgb test RMSE = 0.6753916242846414\n"
          ]
        }
      ]
    },
    {
      "cell_type": "code",
      "source": [
        "model_ada = AdaBoostRegressor(estimator = DecisionTreeRegressor(max_depth=13),\n",
        "                              n_estimators = 1500, \n",
        "                              learning_rate = 1.5, \n",
        "                              random_state = 45).fit(X_train,y_train)   \n",
        "ada_pred_train = model_ada.predict(X_train)\n",
        "ada_pred_test = model_ada.predict(X_test)\n",
        "print(\"Adaboost train RMSE =\", np.sqrt(mean_squared_error(np.around(ada_pred_train), y_train)))\n",
        "print(\"Adaboost test RMSE =\", np.sqrt(mean_squared_error(np.around(ada_pred_test), y_test)))"
      ],
      "metadata": {
        "colab": {
          "base_uri": "https://localhost:8080/"
        },
        "id": "pqaVNDY5YNzt",
        "outputId": "dedf679f-c697-4cc6-8b46-c6a2ec60bb2b"
      },
      "execution_count": null,
      "outputs": [
        {
          "output_type": "stream",
          "name": "stdout",
          "text": [
            "Adaboost train RMSE = 0.0\n",
            "Adaboost test RMSE = 0.6604194471348085\n"
          ]
        }
      ]
    },
    {
      "cell_type": "code",
      "source": [
        "model_rf = RandomForestRegressor(n_estimators= 3000, \n",
        "                                 max_features = 7, \n",
        "                                 max_samples = 5000, \n",
        "                                 max_depth = 50, \n",
        "                                 random_state = 1, \n",
        "                                 n_jobs = -1).fit(X_train, y_train)\n",
        "rf_pred_train = model_rf.predict(X_train)\n",
        "rf_pred_test = model_rf.predict(X_test)\n",
        "print(\"Random forest train RMSE =\", np.sqrt(mean_squared_error(np.around(rf_pred_train), y_train)))\n",
        "print(\"Random forest test RMSE =\", np.sqrt(mean_squared_error(np.around(rf_pred_test), y_test)))"
      ],
      "metadata": {
        "colab": {
          "base_uri": "https://localhost:8080/"
        },
        "id": "iSur9UJGamaD",
        "outputId": "aaf9f484-d0ce-4579-c5b2-0c0060b345ac"
      },
      "execution_count": null,
      "outputs": [
        {
          "output_type": "stream",
          "name": "stdout",
          "text": [
            "Random forest train RMSE = 0.2029226514289605\n",
            "Random forest test RMSE = 0.6690981300917733\n"
          ]
        }
      ]
    },
    {
      "cell_type": "code",
      "source": [
        "model_dt = DecisionTreeRegressor(max_leaf_nodes = 52,\n",
        "                                 max_depth = 6, \n",
        "                                 min_samples_leaf = 8, \n",
        "                                 random_state = 45).fit(X_train, y_train)\n",
        "dt_pred_train = model_dt.predict(X_train)\n",
        "dt_pred_test = model_dt.predict(X_test)\n",
        "print(\"Decision tree train RMSE =\", np.sqrt(mean_squared_error(np.around(dt_pred_train), y_train)))\n",
        "print(\"Decision tree test RMSE =\", np.sqrt(mean_squared_error(np.around(dt_pred_test), y_test)))"
      ],
      "metadata": {
        "colab": {
          "base_uri": "https://localhost:8080/"
        },
        "id": "P_2T6mogdVF_",
        "outputId": "f3f9d0ff-cde4-41af-8cdb-72f5890e1018"
      },
      "execution_count": null,
      "outputs": [
        {
          "output_type": "stream",
          "name": "stdout",
          "text": [
            "Decision tree train RMSE = 0.7266339665201115\n",
            "Decision tree test RMSE = 0.8043152845265822\n"
          ]
        }
      ]
    },
    {
      "cell_type": "code",
      "source": [
        "model_cat = CatBoostRegressor(verbose = False).fit(X_train, y_train)\n",
        "cat_pred_train = model_cat.predict(X_train)\n",
        "cat_pred_test = model_cat.predict(X_test)\n",
        "print(\"Catboost train RMSE =\", np.sqrt(mean_squared_error(np.around(cat_pred_train), y_train)))\n",
        "print(\"Catboost test RMSE =\", np.sqrt(mean_squared_error(np.around(cat_pred_test), y_test)))"
      ],
      "metadata": {
        "colab": {
          "base_uri": "https://localhost:8080/"
        },
        "id": "-FetVUKEdlTS",
        "outputId": "16128014-44e2-4661-da2b-9981242763d1"
      },
      "execution_count": null,
      "outputs": [
        {
          "output_type": "stream",
          "name": "stdout",
          "text": [
            "Catboost train RMSE = 0.4760979229626765\n",
            "Catboost test RMSE = 0.7130648907789097\n"
          ]
        }
      ]
    },
    {
      "cell_type": "code",
      "source": [
        "model_lgbm = LGBMRegressor().fit(X_train, y_train)\n",
        "lgbm_pred_train = model_lgbm.predict(X_train)\n",
        "lgbm_pred_test = model_lgbm.predict(X_test)\n",
        "print(\"lgbm train RMSE =\", np.sqrt(mean_squared_error(np.around(lgbm_pred_train), y_train)))\n",
        "print(\"lgbm test RMSE =\", np.sqrt(mean_squared_error(np.around(lgbm_pred_test), y_test)))"
      ],
      "metadata": {
        "colab": {
          "base_uri": "https://localhost:8080/"
        },
        "id": "vo7y1r1Zd0Pw",
        "outputId": "6069b3e1-d8f4-4584-881d-18332095f876"
      },
      "execution_count": null,
      "outputs": [
        {
          "output_type": "stream",
          "name": "stdout",
          "text": [
            "lgbm train RMSE = 0.5210592961182009\n",
            "lgbm test RMSE = 0.7258946734362203\n"
          ]
        }
      ]
    },
    {
      "cell_type": "code",
      "source": [
        "# MARS model \n",
        "mars_model = Earth(max_terms = 800, max_degree = 7)\n",
        "mars_model.fit(X_train, y_train)\n",
        "pred_opt = mars_model.predict(X_test)\n",
        "rounded_pred_opt = [round(p) for p in pred_opt]\n",
        "rounded_pred_opt = pd.Series(rounded_pred_opt, name='quality')\n",
        "rounded_pred_opt = rounded_pred_opt.to_frame().rename(columns={'quality': 'quality'})\n",
        "residuals = y_test - rounded_pred_opt.quality.values\n",
        "residual_model = Earth()\n",
        "residual_model.fit(rounded_pred_opt, residuals)\n",
        "residuals_pred_unrounded = residual_model.predict(rounded_pred_opt)\n",
        "residuals_pred = [round(p) for p in residuals_pred_unrounded]\n",
        "residuals_pred_series = pd.Series(residuals_pred, name='quality')\n",
        "\n",
        "pred_opt_train = mars_model.predict(X_train)\n",
        "rounded_opt_train = pd.DataFrame(np.around(pred_opt_train), columns = ['quality'])\n",
        "residuals_train = y_train - rounded_opt_train.quality.values\n",
        "residual_model.fit(rounded_opt_train, residuals_train)\n",
        "residuals_pred_train = np.around(residual_model.predict(rounded_opt_train))\n",
        "residuals_pred_series_train = pd.Series(residuals_pred_train, name='quality')\n",
        "\n",
        "mars_pred_train = pd.concat([rounded_opt_train, residuals_pred_series_train], axis=1).sum(axis=1)\n",
        "mars_pred_test = pd.concat([rounded_pred_opt, residuals_pred_series], axis=1).sum(axis=1)\n",
        "print(\"MARS train RMSE =\", np.sqrt(mean_squared_error(y_train, mars_pred_train)))\n",
        "print(\"MARS test RMSE =\", np.sqrt(mean_squared_error(y_test, mars_pred_test)))"
      ],
      "metadata": {
        "colab": {
          "base_uri": "https://localhost:8080/"
        },
        "id": "r7zbEz8se7fj",
        "outputId": "c9913b44-9037-4801-ef5d-3c8c80597dd2"
      },
      "execution_count": null,
      "outputs": [
        {
          "output_type": "stream",
          "name": "stdout",
          "text": [
            "MARS train RMSE = 0.7600269381410235\n",
            "MARS test RMSE = 0.7745966692414834\n"
          ]
        }
      ]
    },
    {
      "cell_type": "code",
      "source": [
        "model_bag = BaggingRegressor(random_state = 1, \n",
        "                             n_jobs = -1,\n",
        "                             estimator = DecisionTreeRegressor(random_state = 1),\n",
        "                             n_estimators = 1100, \n",
        "                             max_samples = 0.75, \n",
        "                             max_features = 1.0,\n",
        "                             bootstrap_features = True, \n",
        "                             bootstrap = False).fit(X_train, y_train)\n",
        "\n",
        "bag_pred_train = model_bag.predict(X_train)\n",
        "bag_pred_test = model_bag.predict(X_test)\n",
        "print(\"bagging train RMSE =\", np.sqrt(mean_squared_error(y_train, np.around(bag_pred_train))))\n",
        "print(\"bagging test RMSE =\", np.sqrt(mean_squared_error(y_test, np.around(bag_pred_test))))"
      ],
      "metadata": {
        "id": "E__fDzZ4aT3p",
        "colab": {
          "base_uri": "https://localhost:8080/"
        },
        "outputId": "737dfbdd-bdee-4e49-8c18-4d7e19bf15dd"
      },
      "execution_count": null,
      "outputs": [
        {
          "output_type": "stream",
          "name": "stdout",
          "text": [
            "bagging train RMSE = 0.08773111263353295\n",
            "bagging test RMSE = 0.6673714223613529\n"
          ]
        }
      ]
    },
    {
      "cell_type": "code",
      "source": [
        "model_ridge = Ridge(alpha = 0.01636987568069109).fit(X_train, y_train)\n",
        "ridge_pred_train = model_ridge.predict(X_train)\n",
        "ridge_pred_test = model_ridge.predict(X_test)\n",
        "print(\"ridge train RMSE =\", np.sqrt(mean_squared_error(y_train, np.around(ridge_pred_train))))\n",
        "print(\"ridge test RMSE =\", np.sqrt(mean_squared_error(y_test, np.around(ridge_pred_test))))"
      ],
      "metadata": {
        "colab": {
          "base_uri": "https://localhost:8080/"
        },
        "id": "6B7rElhWniPd",
        "outputId": "8deb1303-0e8a-4784-a372-7d156c3cbd7d"
      },
      "execution_count": 3,
      "outputs": [
        {
          "output_type": "stream",
          "name": "stdout",
          "text": [
            "ridge train RMSE = 0.7892143827427598\n",
            "ridge test RMSE = 0.8166535844059444\n"
          ]
        }
      ]
    },
    {
      "cell_type": "code",
      "source": [
        "model_lasso = Lasso().fit(X_train, y_train)\n",
        "lasso_pred_train = model_lasso.predict(X_train)\n",
        "lasso_pred_test = model_lasso.predict(X_test)\n",
        "print(\"lasso train RMSE =\", np.sqrt(mean_squared_error(y_train, np.around(lasso_pred_train))))\n",
        "print(\"lasso test RMSE =\", np.sqrt(mean_squared_error(y_test, np.around(lasso_pred_test))))"
      ],
      "metadata": {
        "colab": {
          "base_uri": "https://localhost:8080/"
        },
        "id": "yh7ceTKJodQO",
        "outputId": "9d2d25b4-b722-46b6-f946-7493affa6e57"
      },
      "execution_count": 15,
      "outputs": [
        {
          "output_type": "stream",
          "name": "stdout",
          "text": [
            "lasso train RMSE = 0.881359350325614\n",
            "lasso test RMSE = 0.9327379053088815\n"
          ]
        }
      ]
    },
    {
      "cell_type": "code",
      "source": [
        "train_df = pd.DataFrame(np.array([gb_pred_train, xgb_pred_train, ada_pred_train, \n",
        "                                  rf_pred_train, mars_pred_train, dt_pred_train, \n",
        "                                  cat_pred_train, lgbm_pred_train, bag_pred_train]).transpose(),\n",
        "                        columns = ['gb', 'xgb', 'ada', 'rf', 'mars', 'dt', \n",
        "                                    'cat', 'lgbm', 'bag'])\n",
        "train_df.to_csv('train_df.csv')"
      ],
      "metadata": {
        "id": "KDvVTlVunGEC"
      },
      "execution_count": null,
      "outputs": []
    },
    {
      "cell_type": "code",
      "source": [
        "test_df = pd.DataFrame(np.array([gb_pred_test, xgb_pred_test, ada_pred_test, \n",
        "                                 rf_pred_test, mars_pred_test, dt_pred_test, \n",
        "                                 cat_pred_test, lgbm_pred_test, bag_pred_test]).transpose(),\n",
        "                        columns = ['gb', 'xgb', 'ada', 'rf', 'mars', 'dt', \n",
        "                                    'cat', 'lgbm', 'bag'])\n",
        "test_df.to_csv('test_df.csv')"
      ],
      "metadata": {
        "id": "yqHY05kSocZq"
      },
      "execution_count": null,
      "outputs": []
    },
    {
      "cell_type": "code",
      "source": [
        "train_df = pd.read_csv('train_df.csv', index_col = 0)\n",
        "test_df = pd.read_csv('test_df.csv', index_col = 0)"
      ],
      "metadata": {
        "id": "hpdGGWANpOSx"
      },
      "execution_count": 22,
      "outputs": []
    },
    {
      "cell_type": "code",
      "source": [
        "train_df = pd.concat([train_df, pd.DataFrame(ridge_pred_train, columns = ['ridge'])], axis =1)"
      ],
      "metadata": {
        "id": "CY_h8HogpK9v"
      },
      "execution_count": 24,
      "outputs": []
    },
    {
      "cell_type": "code",
      "source": [
        "test_df = pd.concat([test_df, pd.DataFrame(ridge_pred_test, columns = ['ridge'])], axis =1)"
      ],
      "metadata": {
        "id": "5zfBqL8HqvPA"
      },
      "execution_count": 25,
      "outputs": []
    },
    {
      "cell_type": "markdown",
      "source": [
        "## Voting ensemble"
      ],
      "metadata": {
        "id": "FvhaSCwyrnHY"
      }
    },
    {
      "cell_type": "code",
      "execution_count": null,
      "metadata": {
        "colab": {
          "base_uri": "https://localhost:8080/",
          "height": 241
        },
        "id": "20Lt1M6xRUMU",
        "outputId": "8c5e6bc2-d69d-46e2-eded-b3368b12045d"
      },
      "outputs": [
        {
          "output_type": "stream",
          "name": "stderr",
          "text": [
            "/usr/local/lib/python3.10/dist-packages/sklearn/ensemble/_voting.py:597: DataConversionWarning: A column-vector y was passed when a 1d array was expected. Please change the shape of y to (n_samples, ), for example using ravel().\n",
            "  y = column_or_1d(y, warn=True)\n"
          ]
        },
        {
          "output_type": "execute_result",
          "data": {
            "text/plain": [
              "VotingRegressor(estimators=[('xgb',\n",
              "                             XGBRegressor(base_score=None, booster=None,\n",
              "                                          callbacks=None,\n",
              "                                          colsample_bylevel=None,\n",
              "                                          colsample_bynode=None,\n",
              "                                          colsample_bytree=0.6,\n",
              "                                          early_stopping_rounds=None,\n",
              "                                          enable_categorical=False,\n",
              "                                          eval_metric=None, feature_types=None,\n",
              "                                          gamma=0, gpu_id=None,\n",
              "                                          grow_policy=None,\n",
              "                                          importance_type=None,\n",
              "                                          interaction_constraints=None,\n",
              "                                          learning_rate=0.0...\n",
              "                                                   max_samples=5000,\n",
              "                                                   n_estimators=3000, n_jobs=-1,\n",
              "                                                   random_state=1)),\n",
              "                            ('gb',\n",
              "                             GradientBoostingRegressor(learning_rate=0.08,\n",
              "                                                       loss='huber',\n",
              "                                                       max_depth=9,\n",
              "                                                       n_estimators=1300,\n",
              "                                                       random_state=1,\n",
              "                                                       subsample=0.85)),\n",
              "                            ('bag',\n",
              "                             BaggingRegressor(bootstrap=False,\n",
              "                                              bootstrap_features=True,\n",
              "                                              estimator=DecisionTreeRegressor(random_state=1),\n",
              "                                              max_samples=0.75,\n",
              "                                              n_estimators=1100, n_jobs=-1,\n",
              "                                              random_state=1))])"
            ],
            "text/html": [
              "<style>#sk-container-id-1 {color: black;background-color: white;}#sk-container-id-1 pre{padding: 0;}#sk-container-id-1 div.sk-toggleable {background-color: white;}#sk-container-id-1 label.sk-toggleable__label {cursor: pointer;display: block;width: 100%;margin-bottom: 0;padding: 0.3em;box-sizing: border-box;text-align: center;}#sk-container-id-1 label.sk-toggleable__label-arrow:before {content: \"▸\";float: left;margin-right: 0.25em;color: #696969;}#sk-container-id-1 label.sk-toggleable__label-arrow:hover:before {color: black;}#sk-container-id-1 div.sk-estimator:hover label.sk-toggleable__label-arrow:before {color: black;}#sk-container-id-1 div.sk-toggleable__content {max-height: 0;max-width: 0;overflow: hidden;text-align: left;background-color: #f0f8ff;}#sk-container-id-1 div.sk-toggleable__content pre {margin: 0.2em;color: black;border-radius: 0.25em;background-color: #f0f8ff;}#sk-container-id-1 input.sk-toggleable__control:checked~div.sk-toggleable__content {max-height: 200px;max-width: 100%;overflow: auto;}#sk-container-id-1 input.sk-toggleable__control:checked~label.sk-toggleable__label-arrow:before {content: \"▾\";}#sk-container-id-1 div.sk-estimator input.sk-toggleable__control:checked~label.sk-toggleable__label {background-color: #d4ebff;}#sk-container-id-1 div.sk-label input.sk-toggleable__control:checked~label.sk-toggleable__label {background-color: #d4ebff;}#sk-container-id-1 input.sk-hidden--visually {border: 0;clip: rect(1px 1px 1px 1px);clip: rect(1px, 1px, 1px, 1px);height: 1px;margin: -1px;overflow: hidden;padding: 0;position: absolute;width: 1px;}#sk-container-id-1 div.sk-estimator {font-family: monospace;background-color: #f0f8ff;border: 1px dotted black;border-radius: 0.25em;box-sizing: border-box;margin-bottom: 0.5em;}#sk-container-id-1 div.sk-estimator:hover {background-color: #d4ebff;}#sk-container-id-1 div.sk-parallel-item::after {content: \"\";width: 100%;border-bottom: 1px solid gray;flex-grow: 1;}#sk-container-id-1 div.sk-label:hover label.sk-toggleable__label {background-color: #d4ebff;}#sk-container-id-1 div.sk-serial::before {content: \"\";position: absolute;border-left: 1px solid gray;box-sizing: border-box;top: 0;bottom: 0;left: 50%;z-index: 0;}#sk-container-id-1 div.sk-serial {display: flex;flex-direction: column;align-items: center;background-color: white;padding-right: 0.2em;padding-left: 0.2em;position: relative;}#sk-container-id-1 div.sk-item {position: relative;z-index: 1;}#sk-container-id-1 div.sk-parallel {display: flex;align-items: stretch;justify-content: center;background-color: white;position: relative;}#sk-container-id-1 div.sk-item::before, #sk-container-id-1 div.sk-parallel-item::before {content: \"\";position: absolute;border-left: 1px solid gray;box-sizing: border-box;top: 0;bottom: 0;left: 50%;z-index: -1;}#sk-container-id-1 div.sk-parallel-item {display: flex;flex-direction: column;z-index: 1;position: relative;background-color: white;}#sk-container-id-1 div.sk-parallel-item:first-child::after {align-self: flex-end;width: 50%;}#sk-container-id-1 div.sk-parallel-item:last-child::after {align-self: flex-start;width: 50%;}#sk-container-id-1 div.sk-parallel-item:only-child::after {width: 0;}#sk-container-id-1 div.sk-dashed-wrapped {border: 1px dashed gray;margin: 0 0.4em 0.5em 0.4em;box-sizing: border-box;padding-bottom: 0.4em;background-color: white;}#sk-container-id-1 div.sk-label label {font-family: monospace;font-weight: bold;display: inline-block;line-height: 1.2em;}#sk-container-id-1 div.sk-label-container {text-align: center;}#sk-container-id-1 div.sk-container {/* jupyter's `normalize.less` sets `[hidden] { display: none; }` but bootstrap.min.css set `[hidden] { display: none !important; }` so we also need the `!important` here to be able to override the default hidden behavior on the sphinx rendered scikit-learn.org. See: https://github.com/scikit-learn/scikit-learn/issues/21755 */display: inline-block !important;position: relative;}#sk-container-id-1 div.sk-text-repr-fallback {display: none;}</style><div id=\"sk-container-id-1\" class=\"sk-top-container\"><div class=\"sk-text-repr-fallback\"><pre>VotingRegressor(estimators=[(&#x27;xgb&#x27;,\n",
              "                             XGBRegressor(base_score=None, booster=None,\n",
              "                                          callbacks=None,\n",
              "                                          colsample_bylevel=None,\n",
              "                                          colsample_bynode=None,\n",
              "                                          colsample_bytree=0.6,\n",
              "                                          early_stopping_rounds=None,\n",
              "                                          enable_categorical=False,\n",
              "                                          eval_metric=None, feature_types=None,\n",
              "                                          gamma=0, gpu_id=None,\n",
              "                                          grow_policy=None,\n",
              "                                          importance_type=None,\n",
              "                                          interaction_constraints=None,\n",
              "                                          learning_rate=0.0...\n",
              "                                                   max_samples=5000,\n",
              "                                                   n_estimators=3000, n_jobs=-1,\n",
              "                                                   random_state=1)),\n",
              "                            (&#x27;gb&#x27;,\n",
              "                             GradientBoostingRegressor(learning_rate=0.08,\n",
              "                                                       loss=&#x27;huber&#x27;,\n",
              "                                                       max_depth=9,\n",
              "                                                       n_estimators=1300,\n",
              "                                                       random_state=1,\n",
              "                                                       subsample=0.85)),\n",
              "                            (&#x27;bag&#x27;,\n",
              "                             BaggingRegressor(bootstrap=False,\n",
              "                                              bootstrap_features=True,\n",
              "                                              estimator=DecisionTreeRegressor(random_state=1),\n",
              "                                              max_samples=0.75,\n",
              "                                              n_estimators=1100, n_jobs=-1,\n",
              "                                              random_state=1))])</pre><b>In a Jupyter environment, please rerun this cell to show the HTML representation or trust the notebook. <br />On GitHub, the HTML representation is unable to render, please try loading this page with nbviewer.org.</b></div><div class=\"sk-container\" hidden><div class=\"sk-item sk-dashed-wrapped\"><div class=\"sk-label-container\"><div class=\"sk-label sk-toggleable\"><input class=\"sk-toggleable__control sk-hidden--visually\" id=\"sk-estimator-id-1\" type=\"checkbox\" ><label for=\"sk-estimator-id-1\" class=\"sk-toggleable__label sk-toggleable__label-arrow\">VotingRegressor</label><div class=\"sk-toggleable__content\"><pre>VotingRegressor(estimators=[(&#x27;xgb&#x27;,\n",
              "                             XGBRegressor(base_score=None, booster=None,\n",
              "                                          callbacks=None,\n",
              "                                          colsample_bylevel=None,\n",
              "                                          colsample_bynode=None,\n",
              "                                          colsample_bytree=0.6,\n",
              "                                          early_stopping_rounds=None,\n",
              "                                          enable_categorical=False,\n",
              "                                          eval_metric=None, feature_types=None,\n",
              "                                          gamma=0, gpu_id=None,\n",
              "                                          grow_policy=None,\n",
              "                                          importance_type=None,\n",
              "                                          interaction_constraints=None,\n",
              "                                          learning_rate=0.0...\n",
              "                                                   max_samples=5000,\n",
              "                                                   n_estimators=3000, n_jobs=-1,\n",
              "                                                   random_state=1)),\n",
              "                            (&#x27;gb&#x27;,\n",
              "                             GradientBoostingRegressor(learning_rate=0.08,\n",
              "                                                       loss=&#x27;huber&#x27;,\n",
              "                                                       max_depth=9,\n",
              "                                                       n_estimators=1300,\n",
              "                                                       random_state=1,\n",
              "                                                       subsample=0.85)),\n",
              "                            (&#x27;bag&#x27;,\n",
              "                             BaggingRegressor(bootstrap=False,\n",
              "                                              bootstrap_features=True,\n",
              "                                              estimator=DecisionTreeRegressor(random_state=1),\n",
              "                                              max_samples=0.75,\n",
              "                                              n_estimators=1100, n_jobs=-1,\n",
              "                                              random_state=1))])</pre></div></div></div><div class=\"sk-parallel\"><div class=\"sk-parallel-item\"><div class=\"sk-item\"><div class=\"sk-label-container\"><div class=\"sk-label sk-toggleable\"><label>xgb</label></div></div><div class=\"sk-serial\"><div class=\"sk-item\"><div class=\"sk-estimator sk-toggleable\"><input class=\"sk-toggleable__control sk-hidden--visually\" id=\"sk-estimator-id-2\" type=\"checkbox\" ><label for=\"sk-estimator-id-2\" class=\"sk-toggleable__label sk-toggleable__label-arrow\">XGBRegressor</label><div class=\"sk-toggleable__content\"><pre>XGBRegressor(base_score=None, booster=None, callbacks=None,\n",
              "             colsample_bylevel=None, colsample_bynode=None,\n",
              "             colsample_bytree=0.6, early_stopping_rounds=None,\n",
              "             enable_categorical=False, eval_metric=None, feature_types=None,\n",
              "             gamma=0, gpu_id=None, grow_policy=None, importance_type=None,\n",
              "             interaction_constraints=None, learning_rate=0.01, max_bin=None,\n",
              "             max_cat_threshold=None, max_cat_to_onehot=None,\n",
              "             max_delta_step=None, max_depth=7, max_leaves=None,\n",
              "             min_child_weight=None, missing=nan, monotone_constraints=None,\n",
              "             n_estimators=4050, n_jobs=None, num_parallel_tree=None,\n",
              "             predictor=None, random_state=1, ...)</pre></div></div></div></div></div></div><div class=\"sk-parallel-item\"><div class=\"sk-item\"><div class=\"sk-label-container\"><div class=\"sk-label sk-toggleable\"><label>ada</label></div></div><div class=\"sk-serial\"><div class=\"sk-item sk-dashed-wrapped\"><div class=\"sk-parallel\"><div class=\"sk-parallel-item\"><div class=\"sk-item\"><div class=\"sk-label-container\"><div class=\"sk-label sk-toggleable\"><input class=\"sk-toggleable__control sk-hidden--visually\" id=\"sk-estimator-id-3\" type=\"checkbox\" ><label for=\"sk-estimator-id-3\" class=\"sk-toggleable__label sk-toggleable__label-arrow\">estimator: DecisionTreeRegressor</label><div class=\"sk-toggleable__content\"><pre>DecisionTreeRegressor(max_depth=13)</pre></div></div></div><div class=\"sk-serial\"><div class=\"sk-item\"><div class=\"sk-estimator sk-toggleable\"><input class=\"sk-toggleable__control sk-hidden--visually\" id=\"sk-estimator-id-4\" type=\"checkbox\" ><label for=\"sk-estimator-id-4\" class=\"sk-toggleable__label sk-toggleable__label-arrow\">DecisionTreeRegressor</label><div class=\"sk-toggleable__content\"><pre>DecisionTreeRegressor(max_depth=13)</pre></div></div></div></div></div></div></div></div></div></div></div><div class=\"sk-parallel-item\"><div class=\"sk-item\"><div class=\"sk-label-container\"><div class=\"sk-label sk-toggleable\"><label>rf</label></div></div><div class=\"sk-serial\"><div class=\"sk-item\"><div class=\"sk-estimator sk-toggleable\"><input class=\"sk-toggleable__control sk-hidden--visually\" id=\"sk-estimator-id-5\" type=\"checkbox\" ><label for=\"sk-estimator-id-5\" class=\"sk-toggleable__label sk-toggleable__label-arrow\">RandomForestRegressor</label><div class=\"sk-toggleable__content\"><pre>RandomForestRegressor(max_depth=50, max_features=7, max_samples=5000,\n",
              "                      n_estimators=3000, n_jobs=-1, random_state=1)</pre></div></div></div></div></div></div><div class=\"sk-parallel-item\"><div class=\"sk-item\"><div class=\"sk-label-container\"><div class=\"sk-label sk-toggleable\"><label>gb</label></div></div><div class=\"sk-serial\"><div class=\"sk-item\"><div class=\"sk-estimator sk-toggleable\"><input class=\"sk-toggleable__control sk-hidden--visually\" id=\"sk-estimator-id-6\" type=\"checkbox\" ><label for=\"sk-estimator-id-6\" class=\"sk-toggleable__label sk-toggleable__label-arrow\">GradientBoostingRegressor</label><div class=\"sk-toggleable__content\"><pre>GradientBoostingRegressor(learning_rate=0.08, loss=&#x27;huber&#x27;, max_depth=9,\n",
              "                          n_estimators=1300, random_state=1, subsample=0.85)</pre></div></div></div></div></div></div><div class=\"sk-parallel-item\"><div class=\"sk-item\"><div class=\"sk-label-container\"><div class=\"sk-label sk-toggleable\"><label>bag</label></div></div><div class=\"sk-serial\"><div class=\"sk-item sk-dashed-wrapped\"><div class=\"sk-parallel\"><div class=\"sk-parallel-item\"><div class=\"sk-item\"><div class=\"sk-label-container\"><div class=\"sk-label sk-toggleable\"><input class=\"sk-toggleable__control sk-hidden--visually\" id=\"sk-estimator-id-7\" type=\"checkbox\" ><label for=\"sk-estimator-id-7\" class=\"sk-toggleable__label sk-toggleable__label-arrow\">estimator: DecisionTreeRegressor</label><div class=\"sk-toggleable__content\"><pre>DecisionTreeRegressor(random_state=1)</pre></div></div></div><div class=\"sk-serial\"><div class=\"sk-item\"><div class=\"sk-estimator sk-toggleable\"><input class=\"sk-toggleable__control sk-hidden--visually\" id=\"sk-estimator-id-8\" type=\"checkbox\" ><label for=\"sk-estimator-id-8\" class=\"sk-toggleable__label sk-toggleable__label-arrow\">DecisionTreeRegressor</label><div class=\"sk-toggleable__content\"><pre>DecisionTreeRegressor(random_state=1)</pre></div></div></div></div></div></div></div></div></div></div></div></div></div></div></div>"
            ]
          },
          "metadata": {},
          "execution_count": 6
        }
      ],
      "source": [
        "#Voting ensemble: Averaging the predictions of all models\n",
        "en = VotingRegressor(estimators = [('xgb', model_xgb), ('ada', model_ada),\n",
        "                                   ('rf', model_rf),\n",
        "                                   ('gb', model_gb), ('bag', model_bag)])\n",
        "en.fit(X_train,y_train)"
      ]
    },
    {
      "cell_type": "code",
      "execution_count": null,
      "metadata": {
        "colab": {
          "base_uri": "https://localhost:8080/"
        },
        "id": "apv3aGheR-Pg",
        "outputId": "1120786d-4c6d-4da3-b896-d83cc6dad9e8"
      },
      "outputs": [
        {
          "output_type": "stream",
          "name": "stdout",
          "text": [
            "Ensemble model RMSE =  0.6510346794496848\n"
          ]
        }
      ],
      "source": [
        "print(\"Ensemble model RMSE = \", np.sqrt(mean_squared_error(np.around(en.predict(X_test)), y_test)))"
      ]
    },
    {
      "cell_type": "code",
      "source": [
        "pred = np.around(en.predict(X_test))\n",
        "jitter_amount = 0.5\n",
        "jittered_pred = pred + np.random.uniform(low=-jitter_amount, high=jitter_amount, size=len(pred))"
      ],
      "metadata": {
        "id": "czT4NYv739WM"
      },
      "execution_count": null,
      "outputs": []
    },
    {
      "cell_type": "code",
      "source": [
        "x = np.linspace(3,9,1000)"
      ],
      "metadata": {
        "id": "Y6K8zs134r2H"
      },
      "execution_count": null,
      "outputs": []
    },
    {
      "cell_type": "code",
      "source": [
        "plt.scatter(jittered_pred, y_test, alpha = 0.5)\n",
        "plt.xlabel('Predicted Response', fontsize = 14)\n",
        "plt.ylabel('Actual Response', fontsize = 14)\n",
        "plt.title('Actual vs Predicted Response', fontsize = 14)\n",
        "plt.plot(x, x, c = 'k');"
      ],
      "metadata": {
        "colab": {
          "base_uri": "https://localhost:8080/",
          "height": 478
        },
        "id": "sbkIVtvC4JgH",
        "outputId": "458b93c9-cc86-4f92-fbd8-5928142b5f18"
      },
      "execution_count": null,
      "outputs": [
        {
          "output_type": "display_data",
          "data": {
            "text/plain": [
              "<Figure size 640x480 with 1 Axes>"
            ],
            "image/png": "[encoded data removed]"
          },
          "metadata": {}
        }
      ]
    },
    {
      "cell_type": "code",
      "execution_count": null,
      "metadata": {
        "colab": {
          "base_uri": "https://localhost:8080/",
          "height": 241
        },
        "id": "sV5ndXirYhdA",
        "outputId": "af604000-db00-4355-cfbf-db2cdfec0a6d"
      },
      "outputs": [
        {
          "name": "stderr",
          "output_type": "stream",
          "text": [
            "/usr/local/lib/python3.10/dist-packages/sklearn/ensemble/_voting.py:597: DataConversionWarning: A column-vector y was passed when a 1d array was expected. Please change the shape of y to (n_samples, ), for example using ravel().\n",
            "  y = column_or_1d(y, warn=True)\n"
          ]
        },
        {
          "data": {
            "text/html": [
              "<style>#sk-container-id-2 {color: black;background-color: white;}#sk-container-id-2 pre{padding: 0;}#sk-container-id-2 div.sk-toggleable {background-color: white;}#sk-container-id-2 label.sk-toggleable__label {cursor: pointer;display: block;width: 100%;margin-bottom: 0;padding: 0.3em;box-sizing: border-box;text-align: center;}#sk-container-id-2 label.sk-toggleable__label-arrow:before {content: \"▸\";float: left;margin-right: 0.25em;color: #696969;}#sk-container-id-2 label.sk-toggleable__label-arrow:hover:before {color: black;}#sk-container-id-2 div.sk-estimator:hover label.sk-toggleable__label-arrow:before {color: black;}#sk-container-id-2 div.sk-toggleable__content {max-height: 0;max-width: 0;overflow: hidden;text-align: left;background-color: #f0f8ff;}#sk-container-id-2 div.sk-toggleable__content pre {margin: 0.2em;color: black;border-radius: 0.25em;background-color: #f0f8ff;}#sk-container-id-2 input.sk-toggleable__control:checked~div.sk-toggleable__content {max-height: 200px;max-width: 100%;overflow: auto;}#sk-container-id-2 input.sk-toggleable__control:checked~label.sk-toggleable__label-arrow:before {content: \"▾\";}#sk-container-id-2 div.sk-estimator input.sk-toggleable__control:checked~label.sk-toggleable__label {background-color: #d4ebff;}#sk-container-id-2 div.sk-label input.sk-toggleable__control:checked~label.sk-toggleable__label {background-color: #d4ebff;}#sk-container-id-2 input.sk-hidden--visually {border: 0;clip: rect(1px 1px 1px 1px);clip: rect(1px, 1px, 1px, 1px);height: 1px;margin: -1px;overflow: hidden;padding: 0;position: absolute;width: 1px;}#sk-container-id-2 div.sk-estimator {font-family: monospace;background-color: #f0f8ff;border: 1px dotted black;border-radius: 0.25em;box-sizing: border-box;margin-bottom: 0.5em;}#sk-container-id-2 div.sk-estimator:hover {background-color: #d4ebff;}#sk-container-id-2 div.sk-parallel-item::after {content: \"\";width: 100%;border-bottom: 1px solid gray;flex-grow: 1;}#sk-container-id-2 div.sk-label:hover label.sk-toggleable__label {background-color: #d4ebff;}#sk-container-id-2 div.sk-serial::before {content: \"\";position: absolute;border-left: 1px solid gray;box-sizing: border-box;top: 0;bottom: 0;left: 50%;z-index: 0;}#sk-container-id-2 div.sk-serial {display: flex;flex-direction: column;align-items: center;background-color: white;padding-right: 0.2em;padding-left: 0.2em;position: relative;}#sk-container-id-2 div.sk-item {position: relative;z-index: 1;}#sk-container-id-2 div.sk-parallel {display: flex;align-items: stretch;justify-content: center;background-color: white;position: relative;}#sk-container-id-2 div.sk-item::before, #sk-container-id-2 div.sk-parallel-item::before {content: \"\";position: absolute;border-left: 1px solid gray;box-sizing: border-box;top: 0;bottom: 0;left: 50%;z-index: -1;}#sk-container-id-2 div.sk-parallel-item {display: flex;flex-direction: column;z-index: 1;position: relative;background-color: white;}#sk-container-id-2 div.sk-parallel-item:first-child::after {align-self: flex-end;width: 50%;}#sk-container-id-2 div.sk-parallel-item:last-child::after {align-self: flex-start;width: 50%;}#sk-container-id-2 div.sk-parallel-item:only-child::after {width: 0;}#sk-container-id-2 div.sk-dashed-wrapped {border: 1px dashed gray;margin: 0 0.4em 0.5em 0.4em;box-sizing: border-box;padding-bottom: 0.4em;background-color: white;}#sk-container-id-2 div.sk-label label {font-family: monospace;font-weight: bold;display: inline-block;line-height: 1.2em;}#sk-container-id-2 div.sk-label-container {text-align: center;}#sk-container-id-2 div.sk-container {/* jupyter's `normalize.less` sets `[hidden] { display: none; }` but bootstrap.min.css set `[hidden] { display: none !important; }` so we also need the `!important` here to be able to override the default hidden behavior on the sphinx rendered scikit-learn.org. See: https://github.com/scikit-learn/scikit-learn/issues/21755 */display: inline-block !important;position: relative;}#sk-container-id-2 div.sk-text-repr-fallback {display: none;}</style><div id=\"sk-container-id-2\" class=\"sk-top-container\"><div class=\"sk-text-repr-fallback\"><pre>VotingRegressor(estimators=[(&#x27;xgb&#x27;,\n",
              "                             XGBRegressor(base_score=None, booster=None,\n",
              "                                          callbacks=None,\n",
              "                                          colsample_bylevel=None,\n",
              "                                          colsample_bynode=None,\n",
              "                                          colsample_bytree=0.6,\n",
              "                                          early_stopping_rounds=None,\n",
              "                                          enable_categorical=False,\n",
              "                                          eval_metric=None, feature_types=None,\n",
              "                                          gamma=0, gpu_id=None,\n",
              "                                          grow_policy=None,\n",
              "                                          importance_type=None,\n",
              "                                          interaction_constraints=None,\n",
              "                                          learning_rate=0.0...\n",
              "                             &lt;catboost.core.CatBoostRegressor object at 0x7f4bc52c2e90&gt;),\n",
              "                            (&#x27;lgbm&#x27;, LGBMRegressor()),\n",
              "                            (&#x27;gb&#x27;,\n",
              "                             GradientBoostingRegressor(learning_rate=0.08,\n",
              "                                                       loss=&#x27;huber&#x27;,\n",
              "                                                       max_depth=9,\n",
              "                                                       n_estimators=1300,\n",
              "                                                       random_state=1,\n",
              "                                                       subsample=0.85)),\n",
              "                            (&#x27;bag&#x27;,\n",
              "                             BaggingRegressor(bootstrap=False,\n",
              "                                              bootstrap_features=True,\n",
              "                                              estimator=DecisionTreeRegressor(random_state=1),\n",
              "                                              max_samples=0.75,\n",
              "                                              n_estimators=1100, n_jobs=-1,\n",
              "                                              random_state=1))])</pre><b>In a Jupyter environment, please rerun this cell to show the HTML representation or trust the notebook. <br />On GitHub, the HTML representation is unable to render, please try loading this page with nbviewer.org.</b></div><div class=\"sk-container\" hidden><div class=\"sk-item sk-dashed-wrapped\"><div class=\"sk-label-container\"><div class=\"sk-label sk-toggleable\"><input class=\"sk-toggleable__control sk-hidden--visually\" id=\"sk-estimator-id-9\" type=\"checkbox\" ><label for=\"sk-estimator-id-9\" class=\"sk-toggleable__label sk-toggleable__label-arrow\">VotingRegressor</label><div class=\"sk-toggleable__content\"><pre>VotingRegressor(estimators=[(&#x27;xgb&#x27;,\n",
              "                             XGBRegressor(base_score=None, booster=None,\n",
              "                                          callbacks=None,\n",
              "                                          colsample_bylevel=None,\n",
              "                                          colsample_bynode=None,\n",
              "                                          colsample_bytree=0.6,\n",
              "                                          early_stopping_rounds=None,\n",
              "                                          enable_categorical=False,\n",
              "                                          eval_metric=None, feature_types=None,\n",
              "                                          gamma=0, gpu_id=None,\n",
              "                                          grow_policy=None,\n",
              "                                          importance_type=None,\n",
              "                                          interaction_constraints=None,\n",
              "                                          learning_rate=0.0...\n",
              "                             &lt;catboost.core.CatBoostRegressor object at 0x7f4bc52c2e90&gt;),\n",
              "                            (&#x27;lgbm&#x27;, LGBMRegressor()),\n",
              "                            (&#x27;gb&#x27;,\n",
              "                             GradientBoostingRegressor(learning_rate=0.08,\n",
              "                                                       loss=&#x27;huber&#x27;,\n",
              "                                                       max_depth=9,\n",
              "                                                       n_estimators=1300,\n",
              "                                                       random_state=1,\n",
              "                                                       subsample=0.85)),\n",
              "                            (&#x27;bag&#x27;,\n",
              "                             BaggingRegressor(bootstrap=False,\n",
              "                                              bootstrap_features=True,\n",
              "                                              estimator=DecisionTreeRegressor(random_state=1),\n",
              "                                              max_samples=0.75,\n",
              "                                              n_estimators=1100, n_jobs=-1,\n",
              "                                              random_state=1))])</pre></div></div></div><div class=\"sk-parallel\"><div class=\"sk-parallel-item\"><div class=\"sk-item\"><div class=\"sk-label-container\"><div class=\"sk-label sk-toggleable\"><label>xgb</label></div></div><div class=\"sk-serial\"><div class=\"sk-item\"><div class=\"sk-estimator sk-toggleable\"><input class=\"sk-toggleable__control sk-hidden--visually\" id=\"sk-estimator-id-10\" type=\"checkbox\" ><label for=\"sk-estimator-id-10\" class=\"sk-toggleable__label sk-toggleable__label-arrow\">XGBRegressor</label><div class=\"sk-toggleable__content\"><pre>XGBRegressor(base_score=None, booster=None, callbacks=None,\n",
              "             colsample_bylevel=None, colsample_bynode=None,\n",
              "             colsample_bytree=0.6, early_stopping_rounds=None,\n",
              "             enable_categorical=False, eval_metric=None, feature_types=None,\n",
              "             gamma=0, gpu_id=None, grow_policy=None, importance_type=None,\n",
              "             interaction_constraints=None, learning_rate=0.01, max_bin=None,\n",
              "             max_cat_threshold=None, max_cat_to_onehot=None,\n",
              "             max_delta_step=None, max_depth=7, max_leaves=None,\n",
              "             min_child_weight=None, missing=nan, monotone_constraints=None,\n",
              "             n_estimators=4050, n_jobs=None, num_parallel_tree=None,\n",
              "             predictor=None, random_state=1, ...)</pre></div></div></div></div></div></div><div class=\"sk-parallel-item\"><div class=\"sk-item\"><div class=\"sk-label-container\"><div class=\"sk-label sk-toggleable\"><label>ada</label></div></div><div class=\"sk-serial\"><div class=\"sk-item sk-dashed-wrapped\"><div class=\"sk-parallel\"><div class=\"sk-parallel-item\"><div class=\"sk-item\"><div class=\"sk-label-container\"><div class=\"sk-label sk-toggleable\"><input class=\"sk-toggleable__control sk-hidden--visually\" id=\"sk-estimator-id-11\" type=\"checkbox\" ><label for=\"sk-estimator-id-11\" class=\"sk-toggleable__label sk-toggleable__label-arrow\">estimator: DecisionTreeRegressor</label><div class=\"sk-toggleable__content\"><pre>DecisionTreeRegressor(max_depth=13)</pre></div></div></div><div class=\"sk-serial\"><div class=\"sk-item\"><div class=\"sk-estimator sk-toggleable\"><input class=\"sk-toggleable__control sk-hidden--visually\" id=\"sk-estimator-id-12\" type=\"checkbox\" ><label for=\"sk-estimator-id-12\" class=\"sk-toggleable__label sk-toggleable__label-arrow\">DecisionTreeRegressor</label><div class=\"sk-toggleable__content\"><pre>DecisionTreeRegressor(max_depth=13)</pre></div></div></div></div></div></div></div></div></div></div></div><div class=\"sk-parallel-item\"><div class=\"sk-item\"><div class=\"sk-label-container\"><div class=\"sk-label sk-toggleable\"><label>rf</label></div></div><div class=\"sk-serial\"><div class=\"sk-item\"><div class=\"sk-estimator sk-toggleable\"><input class=\"sk-toggleable__control sk-hidden--visually\" id=\"sk-estimator-id-13\" type=\"checkbox\" ><label for=\"sk-estimator-id-13\" class=\"sk-toggleable__label sk-toggleable__label-arrow\">RandomForestRegressor</label><div class=\"sk-toggleable__content\"><pre>RandomForestRegressor(max_depth=50, max_features=7, max_samples=5000,\n",
              "                      n_estimators=3000, n_jobs=-1, random_state=1)</pre></div></div></div></div></div></div><div class=\"sk-parallel-item\"><div class=\"sk-item\"><div class=\"sk-label-container\"><div class=\"sk-label sk-toggleable\"><label>cat</label></div></div><div class=\"sk-serial\"><div class=\"sk-item\"><div class=\"sk-estimator sk-toggleable\"><input class=\"sk-toggleable__control sk-hidden--visually\" id=\"sk-estimator-id-14\" type=\"checkbox\" ><label for=\"sk-estimator-id-14\" class=\"sk-toggleable__label sk-toggleable__label-arrow\">CatBoostRegressor</label><div class=\"sk-toggleable__content\"><pre>&lt;catboost.core.CatBoostRegressor object at 0x7f4bc52c2e90&gt;</pre></div></div></div></div></div></div><div class=\"sk-parallel-item\"><div class=\"sk-item\"><div class=\"sk-label-container\"><div class=\"sk-label sk-toggleable\"><label>lgbm</label></div></div><div class=\"sk-serial\"><div class=\"sk-item\"><div class=\"sk-estimator sk-toggleable\"><input class=\"sk-toggleable__control sk-hidden--visually\" id=\"sk-estimator-id-15\" type=\"checkbox\" ><label for=\"sk-estimator-id-15\" class=\"sk-toggleable__label sk-toggleable__label-arrow\">LGBMRegressor</label><div class=\"sk-toggleable__content\"><pre>LGBMRegressor()</pre></div></div></div></div></div></div><div class=\"sk-parallel-item\"><div class=\"sk-item\"><div class=\"sk-label-container\"><div class=\"sk-label sk-toggleable\"><label>gb</label></div></div><div class=\"sk-serial\"><div class=\"sk-item\"><div class=\"sk-estimator sk-toggleable\"><input class=\"sk-toggleable__control sk-hidden--visually\" id=\"sk-estimator-id-16\" type=\"checkbox\" ><label for=\"sk-estimator-id-16\" class=\"sk-toggleable__label sk-toggleable__label-arrow\">GradientBoostingRegressor</label><div class=\"sk-toggleable__content\"><pre>GradientBoostingRegressor(learning_rate=0.08, loss=&#x27;huber&#x27;, max_depth=9,\n",
              "                          n_estimators=1300, random_state=1, subsample=0.85)</pre></div></div></div></div></div></div><div class=\"sk-parallel-item\"><div class=\"sk-item\"><div class=\"sk-label-container\"><div class=\"sk-label sk-toggleable\"><label>bag</label></div></div><div class=\"sk-serial\"><div class=\"sk-item sk-dashed-wrapped\"><div class=\"sk-parallel\"><div class=\"sk-parallel-item\"><div class=\"sk-item\"><div class=\"sk-label-container\"><div class=\"sk-label sk-toggleable\"><input class=\"sk-toggleable__control sk-hidden--visually\" id=\"sk-estimator-id-17\" type=\"checkbox\" ><label for=\"sk-estimator-id-17\" class=\"sk-toggleable__label sk-toggleable__label-arrow\">estimator: DecisionTreeRegressor</label><div class=\"sk-toggleable__content\"><pre>DecisionTreeRegressor(random_state=1)</pre></div></div></div><div class=\"sk-serial\"><div class=\"sk-item\"><div class=\"sk-estimator sk-toggleable\"><input class=\"sk-toggleable__control sk-hidden--visually\" id=\"sk-estimator-id-18\" type=\"checkbox\" ><label for=\"sk-estimator-id-18\" class=\"sk-toggleable__label sk-toggleable__label-arrow\">DecisionTreeRegressor</label><div class=\"sk-toggleable__content\"><pre>DecisionTreeRegressor(random_state=1)</pre></div></div></div></div></div></div></div></div></div></div></div></div></div></div></div>"
            ],
            "text/plain": [
              "VotingRegressor(estimators=[('xgb',\n",
              "                             XGBRegressor(base_score=None, booster=None,\n",
              "                                          callbacks=None,\n",
              "                                          colsample_bylevel=None,\n",
              "                                          colsample_bynode=None,\n",
              "                                          colsample_bytree=0.6,\n",
              "                                          early_stopping_rounds=None,\n",
              "                                          enable_categorical=False,\n",
              "                                          eval_metric=None, feature_types=None,\n",
              "                                          gamma=0, gpu_id=None,\n",
              "                                          grow_policy=None,\n",
              "                                          importance_type=None,\n",
              "                                          interaction_constraints=None,\n",
              "                                          learning_rate=0.0...\n",
              "                             <catboost.core.CatBoostRegressor object at 0x7f4bc52c2e90>),\n",
              "                            ('lgbm', LGBMRegressor()),\n",
              "                            ('gb',\n",
              "                             GradientBoostingRegressor(learning_rate=0.08,\n",
              "                                                       loss='huber',\n",
              "                                                       max_depth=9,\n",
              "                                                       n_estimators=1300,\n",
              "                                                       random_state=1,\n",
              "                                                       subsample=0.85)),\n",
              "                            ('bag',\n",
              "                             BaggingRegressor(bootstrap=False,\n",
              "                                              bootstrap_features=True,\n",
              "                                              estimator=DecisionTreeRegressor(random_state=1),\n",
              "                                              max_samples=0.75,\n",
              "                                              n_estimators=1100, n_jobs=-1,\n",
              "                                              random_state=1))])"
            ]
          },
          "execution_count": 11,
          "metadata": {},
          "output_type": "execute_result"
        }
      ],
      "source": [
        "en2 = VotingRegressor(estimators = [('xgb', model_xgb), ('ada', model_ada),\n",
        "                                    ('rf', model_rf), ('cat', model_cat),\n",
        "                                    ('lgbm', model_lgbm), ('gb', model_gb),\n",
        "                                    ('bag', model_bag)])\n",
        "en2.fit(X_train,y_train)"
      ]
    },
    {
      "cell_type": "code",
      "execution_count": null,
      "metadata": {
        "colab": {
          "base_uri": "https://localhost:8080/"
        },
        "id": "EVtoJWQmY0uO",
        "outputId": "b7f69b44-c576-4197-8cb6-3d4c596c08e8"
      },
      "outputs": [
        {
          "name": "stdout",
          "output_type": "stream",
          "text": [
            "Ensemble model RMSE =  0.6510346794496848\n"
          ]
        }
      ],
      "source": [
        "print(\"Ensemble model RMSE = \", np.sqrt(mean_squared_error(np.around(en.predict(X_test)), y_test)))"
      ]
    },
    {
      "cell_type": "markdown",
      "source": [
        "## Stacking ensemble"
      ],
      "metadata": {
        "id": "7T9vHR27rtGN"
      }
    },
    {
      "cell_type": "code",
      "source": [
        "# linear regression\n",
        "linreg = LinearRegression().fit(train_df, y_train)\n",
        "pred = linreg.predict(test_df)\n",
        "print('RMSE for the linreg stacking ensemble =', np.sqrt(mean_squared_error(y_test, np.around(pred))))"
      ],
      "metadata": {
        "colab": {
          "base_uri": "https://localhost:8080/"
        },
        "id": "VJp7i7R7q4hk",
        "outputId": "2adf347a-c07c-496c-9581-73b31960451b"
      },
      "execution_count": 26,
      "outputs": [
        {
          "output_type": "stream",
          "name": "stdout",
          "text": [
            "RMSE for the linreg stacking ensemble = 0.6713934992009014\n"
          ]
        }
      ]
    },
    {
      "cell_type": "code",
      "source": [
        "# linear regression\n",
        "linreg = LinearRegression().fit(train_df, y_train)\n",
        "pred = linreg.predict(test_df)\n",
        "print('RMSE for the linreg stacking ensemble =', np.sqrt(mean_squared_error(y_test, np.around(pred))))"
      ],
      "metadata": {
        "colab": {
          "base_uri": "https://localhost:8080/"
        },
        "id": "b1q5Vla0rwI-",
        "outputId": "3de02998-82dc-490b-beaf-43cb14cdcece"
      },
      "execution_count": null,
      "outputs": [
        {
          "output_type": "stream",
          "name": "stdout",
          "text": [
            "RMSE for the linreg stacking ensemble = 0.6713934992009014\n"
          ]
        }
      ]
    },
    {
      "cell_type": "code",
      "source": [
        "# lasso\n",
        "alphas = 10**np.linspace(0, -3, 300)*0.5\n",
        "lassocv = LassoCV(alphas = alphas, cv = 5, max_iter = 100000)\n",
        "lassocv.fit(train_df, y_train)\n",
        "print('opt alpha = ', lassocv.alpha_)\n",
        "\n",
        "lasso = Lasso(alpha = lassocv.alpha_)\n",
        "lasso.fit(train_df, y_train)\n",
        "pred = lasso.predict(test_df)\n",
        "print('RMSE for the lasso stacking ensemble =', np.sqrt(mean_squared_error(y_test, np.around(pred))))"
      ],
      "metadata": {
        "colab": {
          "base_uri": "https://localhost:8080/"
        },
        "id": "opU8BEJiq-Ys",
        "outputId": "e9eb7a0c-9586-49a6-ccd2-5802f90766d8"
      },
      "execution_count": 27,
      "outputs": [
        {
          "output_type": "stream",
          "name": "stdout",
          "text": [
            "opt alpha =  0.0005\n",
            "RMSE for the lasso stacking ensemble = 0.6598368096617643\n"
          ]
        }
      ]
    },
    {
      "cell_type": "code",
      "source": [
        "# lasso\n",
        "alphas = 10**np.linspace(0, -3, 300)*0.5\n",
        "lassocv = LassoCV(alphas = alphas, cv = 5, max_iter = 100000)\n",
        "lassocv.fit(train_df, y_train)\n",
        "print('opt alpha = ', lassocv.alpha_)\n",
        "\n",
        "lasso = Lasso(alpha = lassocv.alpha_)\n",
        "lasso.fit(train_df, y_train)\n",
        "pred = lasso.predict(test_df)\n",
        "print('RMSE for the lasso stacking ensemble =', np.sqrt(mean_squared_error(y_test, np.around(pred))))"
      ],
      "metadata": {
        "colab": {
          "base_uri": "https://localhost:8080/"
        },
        "id": "nFylBgH0sbOO",
        "outputId": "5771817f-e3a5-433f-e080-0d15a407ea2b"
      },
      "execution_count": null,
      "outputs": [
        {
          "output_type": "stream",
          "name": "stdout",
          "text": [
            "opt alpha =  0.0005\n",
            "RMSE for the lasso stacking ensemble = 0.6598368096617643\n"
          ]
        }
      ]
    },
    {
      "cell_type": "code",
      "source": [
        "# mars\n",
        "mars_model = Earth(max_degree=1)\n",
        "mars_model.fit(train_df, y_train)\n",
        "pred = mars_model.predict(test_df)\n",
        "print('RMSE for the mars stacking ensemble', np.sqrt(mean_squared_error(y_test, np.around(pred))))"
      ],
      "metadata": {
        "colab": {
          "base_uri": "https://localhost:8080/"
        },
        "id": "KMdpAsQ7tkAj",
        "outputId": "49d714a9-5a20-4b81-e17c-90b1377fd9a5"
      },
      "execution_count": null,
      "outputs": [
        {
          "output_type": "stream",
          "name": "stdout",
          "text": [
            "RMSE for the mars stacking ensemble 0.6592536572635639\n"
          ]
        }
      ]
    },
    {
      "cell_type": "code",
      "source": [
        "# random forest\n",
        "start_time = time.time()\n",
        "param_grid = {'n_estimators': [100],\n",
        "              'max_depth': [8, 10, 12, 14],\n",
        "              'max_leaf_nodes':[100, 500, 1000],\n",
        "              'max_features': [2, 4, 6, 8],\n",
        "              'max_samples': [1000, 2000, 3000]}\n",
        "\n",
        "cv = KFold(n_splits = 4, shuffle=True, random_state=1)\n",
        "optimal_params = RandomizedSearchCV(estimator = RandomForestRegressor(random_state=1),                                                       \n",
        "                                    param_distributions = param_grid, n_iter = 100,\n",
        "                                    scoring = 'neg_mean_squared_error',\n",
        "                                    n_jobs=-1, verbose = 1, cv = cv)\n",
        "optimal_params.fit(train_df, y_train)\n",
        "print(\"Optimal parameter values =\", optimal_params.best_params_)\n",
        "print(\"Optimal cross validation mse = \", -optimal_params.best_score_)\n",
        "print(\"Time taken = \", round((time.time()-start_time)/60), \" minutes\")"
      ],
      "metadata": {
        "colab": {
          "base_uri": "https://localhost:8080/"
        },
        "id": "J7Y7lJDpuapb",
        "outputId": "5bb96c27-71cb-465a-c152-c556824e6145"
      },
      "execution_count": null,
      "outputs": [
        {
          "output_type": "stream",
          "name": "stdout",
          "text": [
            "Fitting 4 folds for each of 100 candidates, totalling 400 fits\n",
            "Optimal parameter values = {'n_estimators': 100, 'max_samples': 3000, 'max_leaf_nodes': 100, 'max_features': 6, 'max_depth': 14}\n",
            "Optimal cross validation mse =  0.0002974124474447799\n",
            "Time taken =  0  minutes\n"
          ]
        }
      ]
    },
    {
      "cell_type": "code",
      "source": [
        "rf_model = RandomForestRegressor(n_estimators = 100, max_samples = 3000, \n",
        "                                 max_leaf_nodes = 1000, max_features = 6,\n",
        "                                 verbose = False, max_depth = 10,\n",
        "                                 n_jobs= -1).fit(train_df, y_train)\n",
        "\n",
        "print('Test RMSE', np.sqrt(mean_squared_error(y_test, np.around(rf_model.predict(test_df)))))"
      ],
      "metadata": {
        "colab": {
          "base_uri": "https://localhost:8080/"
        },
        "id": "AAyUgQtvvACe",
        "outputId": "4f5b7258-c9f4-41f2-af5a-8757f785ff5d"
      },
      "execution_count": null,
      "outputs": [
        {
          "output_type": "stream",
          "name": "stdout",
          "text": [
            "Test RMSE 0.6486672727749033\n"
          ]
        }
      ]
    },
    {
      "cell_type": "code",
      "source": [
        "# xgboost\n",
        "start_time = time.time()\n",
        "param_grid = {'max_depth': [3, 4, 5, 6],\n",
        "              'learning_rate': [0.008, 0.01, 0.025, 0.05],\n",
        "              'reg_lambda':[0, 1, 5],\n",
        "              'n_estimators':[500, 600, 800, 1000],\n",
        "              'gamma': [0, 3, 5, 10],\n",
        "              'subsample': [0.5, 0.75, 1.0],\n",
        "              'colsample_bytree': [0.5, 0.75, 1.0]}\n",
        "\n",
        "cv = KFold(n_splits = 4, shuffle = True, random_state=1)\n",
        "optimal_params = RandomizedSearchCV(estimator= XGBRegressor(random_state=1),                                                       \n",
        "                                    param_distributions = param_grid, n_iter = 100,\n",
        "                                    scoring = 'neg_mean_squared_error',\n",
        "                                    n_jobs=-1, verbose = 1, cv = cv)\n",
        "optimal_params.fit(train_df,y_train)\n",
        "print(\"Optimal parameter values =\", optimal_params.best_params_)\n",
        "print(\"Optimal cross validation mse = \", -optimal_params.best_score_)\n",
        "print(\"Time taken = \", round((time.time()-start_time)/60), \" minutes\")"
      ],
      "metadata": {
        "colab": {
          "base_uri": "https://localhost:8080/"
        },
        "id": "yySHuIN0vclV",
        "outputId": "0ce7d8dd-b776-438c-8695-6d4db39cd8e5"
      },
      "execution_count": null,
      "outputs": [
        {
          "output_type": "stream",
          "name": "stdout",
          "text": [
            "Fitting 4 folds for each of 100 candidates, totalling 400 fits\n",
            "Optimal parameter values = {'subsample': 0.75, 'reg_lambda': 0, 'n_estimators': 600, 'max_depth': 3, 'learning_rate': 0.025, 'gamma': 0, 'colsample_bytree': 1.0}\n",
            "Optimal cross validation mse =  5.313397411774716e-07\n",
            "Time taken =  1  minutes\n"
          ]
        }
      ]
    },
    {
      "cell_type": "code",
      "source": [
        "xgb_model = XGBRegressor(subsample = 0.75, reg_lambda = 0, n_estimators = 600, \n",
        "                         max_depth = 3, learning_rate = 0.025, gamma = 0,\n",
        "                         colsample_bytree = 1, random_state = 1).fit(train_df, y_train)\n",
        "print('Test RMSE', np.sqrt(mean_squared_error(y_test, np.around(xgb_model.predict(test_df)))))"
      ],
      "metadata": {
        "colab": {
          "base_uri": "https://localhost:8080/"
        },
        "id": "pIG_vmmavyuk",
        "outputId": "5f998248-2f8e-4eb7-ff2c-d34114e6051f"
      },
      "execution_count": null,
      "outputs": [
        {
          "output_type": "stream",
          "name": "stdout",
          "text": [
            "Test RMSE 0.6753916242846414\n"
          ]
        }
      ]
    },
    {
      "cell_type": "markdown",
      "source": [
        "## Ensemble of ensembles"
      ],
      "metadata": {
        "id": "hbk62Exfw4L5"
      }
    },
    {
      "cell_type": "code",
      "source": [
        "pred = (linreg.predict(test_df) + lasso.predict(test_df) + rf_model.predict(test_df) \n",
        "        + mars_model.predict(test_df) + xgb_model.predict(test_df))/5\n",
        "print('rmse for the voting ensemble model:', np.sqrt(mean_squared_error(y_test, np.around(pred))))"
      ],
      "metadata": {
        "colab": {
          "base_uri": "https://localhost:8080/"
        },
        "id": "zUr6WJ0cwx2g",
        "outputId": "5540329f-be18-4c6f-d0e6-cb904b1e09d0"
      },
      "execution_count": null,
      "outputs": [
        {
          "output_type": "stream",
          "name": "stdout",
          "text": [
            "rmse for the voting ensemble model: 0.6615831827459853\n"
          ]
        }
      ]
    },
    {
      "cell_type": "code",
      "source": [
        "p = np.linspace(0, 1, 100)\n",
        "rmses = []\n",
        "for i in p:\n",
        "  base = np.floor(pred)\n",
        "  diff = pred - base\n",
        "  # cast to a list\n",
        "  new_pred = base + np.array([int(x == True) for x in (diff > i)])\n",
        "  rmse = np.sqrt(mean_squared_error(y_test, np.around(new_pred)))\n",
        "  rmses.append(rmse)"
      ],
      "metadata": {
        "id": "nwyy4yu8xH-a"
      },
      "execution_count": null,
      "outputs": []
    },
    {
      "cell_type": "code",
      "source": [
        "plt.scatter(p, rmses)\n",
        "plt.axvline(p[np.array(rmses).argmin()], ls = '--', c = 'r')\n",
        "plt.xlabel('Threshold')\n",
        "plt.ylabel('Test RMSE');"
      ],
      "metadata": {
        "colab": {
          "base_uri": "https://localhost:8080/",
          "height": 449
        },
        "id": "yHi_URAKxj65",
        "outputId": "e5c41b54-09b7-4423-df3e-2d7ebe372b6b"
      },
      "execution_count": null,
      "outputs": [
        {
          "output_type": "display_data",
          "data": {
            "text/plain": [
              "<Figure size 640x480 with 1 Axes>"
            ],
            "image/png": "[encoded data removed]"
          },
          "metadata": {}
        }
      ]
    },
    {
      "cell_type": "code",
      "source": [
        "# best test rmse after tunning the threshold\n",
        "np.array(rmses).min()"
      ],
      "metadata": {
        "colab": {
          "base_uri": "https://localhost:8080/"
        },
        "id": "2KAyZK11xpY-",
        "outputId": "f0393beb-07eb-4223-b771-52621b4f639b"
      },
      "execution_count": null,
      "outputs": [
        {
          "output_type": "execute_result",
          "data": {
            "text/plain": [
              "0.6433087546786177"
            ]
          },
          "metadata": {},
          "execution_count": 79
        }
      ]
    },
    {
      "cell_type": "code",
      "source": [
        "opt_thresh = p[np.array(rmses).argmin()]\n",
        "new_pred = base + np.array([int(x == True) for x in (diff > opt_thresh)])"
      ],
      "metadata": {
        "id": "XouGIgLzyCAH"
      },
      "execution_count": null,
      "outputs": []
    },
    {
      "cell_type": "code",
      "source": [
        "jitter_amount = 0.5\n",
        "jittered_pred = new_pred + np.random.uniform(low=-jitter_amount, high=jitter_amount, size=len(new_pred))\n",
        "x = np.linspace(3,9,1000)\n",
        "\n",
        "plt.scatter(jittered_pred, y_test, alpha = 0.4)\n",
        "plt.xlabel('Predicted Response', fontsize = 14)\n",
        "plt.ylabel('Actual Response', fontsize = 14)\n",
        "plt.title('Actual vs Predicted Response', fontsize = 14)\n",
        "plt.plot(x, x, c = 'k');"
      ],
      "metadata": {
        "colab": {
          "base_uri": "https://localhost:8080/",
          "height": 478
        },
        "id": "-gV_9y4TyNRR",
        "outputId": "08f6acbe-e5fe-4880-a2ec-8be336aafcdf"
      },
      "execution_count": null,
      "outputs": [
        {
          "output_type": "display_data",
          "data": {
            "text/plain": [
              "<Figure size 640x480 with 1 Axes>"
            ],
            "image/png": "[encoded data removed]"
          },
          "metadata": {}
        }
      ]
    }
  ],
  "metadata": {
    "colab": {
      "provenance": []
    },
    "kernelspec": {
      "display_name": "Python 3",
      "name": "python3"
    },
    "language_info": {
      "name": "python"
    }
  },
  "nbformat": 4,
  "nbformat_minor": 0
}