{
 "cells": [
  {
   "cell_type": "code",
   "execution_count": 1,
   "metadata": {},
   "outputs": [],
   "source": [
    "# Importing libraries \n",
    "import pandas as pd\n",
    "import numpy as np\n",
    "import matplotlib.pyplot as plt \n",
    "from sklearn.model_selection import cross_val_score,train_test_split, KFold, cross_val_predict\n",
    "from sklearn.linear_model import LogisticRegression, LinearRegression\n",
    "from sklearn.metrics import mean_squared_error, accuracy_score, recall_score\n",
    "from sklearn.utils import parallel_backend\n",
    "from pyearth import Earth\n",
    "from patsy import dmatrix\n",
    "from sklearn.model_selection import GridSearchCV\n",
    "import statsmodels.formula.api as smf\n",
    "from sklearn.preprocessing import PolynomialFeatures\n",
    "import warnings\n",
    "from pyearth import Earth\n",
    "from sklearn.model_selection import RandomizedSearchCV, KFold\n"
   ]
  },
  {
   "cell_type": "code",
   "execution_count": 2,
   "metadata": {},
   "outputs": [],
   "source": [
    "# Loading data\n",
    "X_test = pd.read_csv('data/X_test.csv')\n",
    "X_train = pd.read_csv('data/X_train.csv')\n",
    "y_test = pd.read_csv('data/y_test.csv')\n",
    "y_train = pd.read_csv('data/y_train.csv')"
   ]
  },
  {
   "cell_type": "code",
   "execution_count": null,
   "metadata": {},
   "outputs": [],
   "source": [
    "# Evaluating the model on the test set\n",
    "rmse_optimal = np.sqrt(mean_squared_error(y_test, model.predict(X_test)))\n",
    "print(\"Optimal degree:\", opt_degree)\n",
    "print(\"Optimal max_terms:\", opt_max_terms)"
   ]
  },
  {
   "cell_type": "code",
   "execution_count": null,
   "metadata": {},
   "outputs": [],
   "source": [
    "print(model.summary())"
   ]
  },
  {
   "cell_type": "markdown",
   "metadata": {},
   "source": [
    "Now trying to optimize the hyperparameters simultaneously"
   ]
  },
  {
   "cell_type": "markdown",
   "metadata": {},
   "source": [
    "### Coarse Grid Hyperparameter Optimization"
   ]
  },
  {
   "cell_type": "code",
   "execution_count": 14,
   "metadata": {},
   "outputs": [
    {
     "name": "stdout",
     "output_type": "stream",
     "text": [
      "Fitting models for degree =  1\n",
      "     Fitting models for degree =  1 and max_terms =  400\n",
      "     Fitting models for degree =  1 and max_terms =  600\n",
      "     Fitting models for degree =  1 and max_terms =  800\n",
      "     Fitting models for degree =  1 and max_terms =  1000\n",
      "     Fitting models for degree =  1 and max_terms =  1200\n",
      "Fitting models for degree =  3\n",
      "     Fitting models for degree =  3 and max_terms =  400\n",
      "     Fitting models for degree =  3 and max_terms =  600\n",
      "     Fitting models for degree =  3 and max_terms =  800\n",
      "     Fitting models for degree =  3 and max_terms =  1000\n",
      "     Fitting models for degree =  3 and max_terms =  1200\n",
      "Fitting models for degree =  5\n",
      "     Fitting models for degree =  5 and max_terms =  400\n",
      "     Fitting models for degree =  5 and max_terms =  600\n",
      "     Fitting models for degree =  5 and max_terms =  800\n",
      "     Fitting models for degree =  5 and max_terms =  1000\n",
      "     Fitting models for degree =  5 and max_terms =  1200\n",
      "Fitting models for degree =  7\n",
      "     Fitting models for degree =  7 and max_terms =  400\n",
      "     Fitting models for degree =  7 and max_terms =  600\n"
     ]
    }
   ],
   "source": [
    "warnings.filterwarnings(\"ignore\")\n",
    "warnings.simplefilter(action='ignore', category = FutureWarning)\n",
    "\n",
    "# Initializing optimal parameters & best score variables\n",
    "opt_degree = 1\n",
    "opt_max_terms = 500\n",
    "best_score = -float('inf')\n",
    "\n",
    "# Outer loop for degree\n",
    "for degree in range(1, 11, 2):\n",
    "    print('Fitting models for degree = ', degree)\n",
    "    # Creating a MARS model with the current degree and max_terms\n",
    "    model = Earth(max_terms = 500, max_degree = degree)\n",
    "    \n",
    "    # Inner loop for max_terms\n",
    "    for terms in range(400, 1201, 200):\n",
    "        print('     Fitting models for degree = ', degree, 'and max_terms = ', terms)\n",
    "        # Setting the current max_terms\n",
    "        model.max_terms = terms\n",
    "        \n",
    "        # 5-fold cross validation\n",
    "        scores = cross_val_score(model,\n",
    "                                 X_train,\n",
    "                                 y_train, \n",
    "                                 cv = 5, \n",
    "                                 scoring = 'neg_mean_squared_error')\n",
    "        \n",
    "        # Computing mean score\n",
    "        mean_score = scores.mean()\n",
    "        \n",
    "        # Checking if mean score is better than the current best score\n",
    "        if mean_score > best_score:\n",
    "            best_score = mean_score\n",
    "            opt_degree = degree\n",
    "            opt_max_terms = terms\n",
    "            \n",
    "# Training a new MARS model on the entire training set using the optimal parameters\n",
    "model = Earth(max_terms = opt_max_terms, max_degree = opt_degree)\n",
    "model.fit(X_train, y_train)"
   ]
  },
  {
   "cell_type": "code",
   "execution_count": null,
   "metadata": {},
   "outputs": [],
   "source": [
    "# Defining the initial base model \n",
    "mars_init = Earth(max_terms = 500, max_degree = 1)"
   ]
  },
  {
   "cell_type": "code",
   "execution_count": null,
   "metadata": {},
   "outputs": [],
   "source": [
    "# Making predictions\n",
    "pred = mars_init.predict(X_test)\n",
    "\n",
    "# Rounding predictions to the nearest integer \n",
    "rounded_pred = [round(p) for p in pred]"
   ]
  },
  {
   "cell_type": "code",
   "execution_count": null,
   "metadata": {},
   "outputs": [],
   "source": [
    "print(\"Coarse Grid Tuning MARS Model Test RMSE:\", np.sqrt(mean_squared_error(y_test, rounded_pred)))"
   ]
  },
  {
   "cell_type": "markdown",
   "metadata": {},
   "source": [
    "### Fine Grid Hyperparameter Optimization"
   ]
  },
  {
   "cell_type": "code",
   "execution_count": null,
   "metadata": {},
   "outputs": [],
   "source": [
    "warnings.filterwarnings(\"ignore\")\n",
    "warnings.simplefilter(action='ignore', category = FutureWarning)\n",
    "\n",
    "# Initializing optimal parameters & best score variables\n",
    "opt_degree = 1\n",
    "opt_max_terms = 500\n",
    "best_score = -float('inf')\n",
    "\n",
    "# Outer loop for degree\n",
    "for degree in range(1, 11, 2):\n",
    "    print('Fitting models for degree = ', degree)\n",
    "    # Creating a MARS model with the current degree and max_terms\n",
    "    model = Earth(max_terms = 500, max_degree = degree)\n",
    "    \n",
    "    # Inner loop for max_terms\n",
    "    for terms in range(400, 1201, 200):\n",
    "        print('     Fitting models for degree = ', degree, 'and max_terms = ', terms)\n",
    "        # Setting the current max_terms\n",
    "        model.max_terms = terms\n",
    "        \n",
    "        # 5-fold cross validation\n",
    "        scores = cross_val_score(model,\n",
    "                                 X_train,\n",
    "                                 y_train, \n",
    "                                 cv = 5, \n",
    "                                 scoring = 'neg_mean_squared_error')\n",
    "        \n",
    "        # Computing mean score\n",
    "        mean_score = scores.mean()\n",
    "        \n",
    "        # Checking if mean score is better than the current best score\n",
    "        if mean_score > best_score:\n",
    "            best_score = mean_score\n",
    "            opt_degree = degree\n",
    "            opt_max_terms = terms\n",
    "            \n",
    "# Training a new MARS model on the entire training set using the optimal parameters\n",
    "model = Earth(max_terms = opt_max_terms, max_degree = opt_degree)\n",
    "model.fit(X_train, y_train)"
   ]
  },
  {
   "cell_type": "code",
   "execution_count": null,
   "metadata": {},
   "outputs": [],
   "source": [
    "# Defining the initial base model \n",
    "mars_model = Earth(max_terms = 500, max_degree = 1)"
   ]
  },
  {
   "cell_type": "code",
   "execution_count": null,
   "metadata": {},
   "outputs": [],
   "source": [
    "# Making predictions\n",
    "pred_opt = mars_model.predict(X_test)\n",
    "\n",
    "# Rounding predictions to the nearest integer \n",
    "rounded_pred_opt = [round(p) for p in pred_opt]"
   ]
  },
  {
   "cell_type": "code",
   "execution_count": null,
   "metadata": {},
   "outputs": [],
   "source": [
    "# Printing the test RMSE of the fine grid tuning model\n",
    "print(\"Fine Grid Tuning MARS Model Test RMSE:\", np.sqrt(mean_squared_error(y_test, rounded_pred_opt)))\n"
   ]
  }
 ],
 "metadata": {
  "interpreter": {
   "hash": "32f5ec6d91cde40665c038dca6626e6d343a99d63b32541ba0cad7db730fa124"
  },
  "kernelspec": {
   "display_name": "Python 3.9.16 ('base')",
   "language": "python",
   "name": "python3"
  },
  "language_info": {
   "codemirror_mode": {
    "name": "ipython",
    "version": 3
   },
   "file_extension": ".py",
   "mimetype": "text/x-python",
   "name": "python",
   "nbconvert_exporter": "python",
   "pygments_lexer": "ipython3",
   "version": "3.9.16"
  },
  "orig_nbformat": 4
 },
 "nbformat": 4,
 "nbformat_minor": 2
}
