{
 "cells": [
  {
   "cell_type": "code",
   "execution_count": 1,
   "metadata": {},
   "outputs": [],
   "source": [
    "# Importing libraries \n",
    "import pandas as pd\n",
    "import numpy as np\n",
    "import matplotlib.pyplot as plt \n",
    "from sklearn.model_selection import cross_val_score,train_test_split, KFold, cross_val_predict\n",
    "from sklearn.linear_model import LogisticRegression, LinearRegression\n",
    "from sklearn.metrics import mean_squared_error, accuracy_score, recall_score\n",
    "from sklearn.utils import parallel_backend\n",
    "from pyearth import Earth\n",
    "from patsy import dmatrix\n",
    "from sklearn.model_selection import GridSearchCV\n",
    "import statsmodels.formula.api as smf\n",
    "from sklearn.preprocessing import PolynomialFeatures\n",
    "import warnings\n",
    "from pyearth import Earth"
   ]
  },
  {
   "cell_type": "code",
   "execution_count": 2,
   "metadata": {},
   "outputs": [],
   "source": [
    "# Loading data\n",
    "X_test = pd.read_csv('data/X_test.csv')\n",
    "X_train = pd.read_csv('data/X_train.csv')\n",
    "y_test = pd.read_csv('data/y_test.csv')\n",
    "y_train = pd.read_csv('data/y_train.csv')"
   ]
  },
  {
   "cell_type": "code",
   "execution_count": 3,
   "metadata": {},
   "outputs": [],
   "source": [
    "warnings.filterwarnings(\"ignore\")\n",
    "warnings.simplefilter(action='ignore', category=FutureWarning)\n",
    "\n",
    "# Initializing optimal parameters & best score variables\n",
    "opt_degree = 1\n",
    "opt_max_terms = 500\n",
    "best_score = -float('inf')\n",
    "\n",
    "# Outer loop for degree\n",
    "for degree in range(1, 10):\n",
    "    # Creating a MARS model with the current degree and max_terms\n",
    "    model = Earth(max_terms = 500, max_degree = degree)\n",
    "    \n",
    "    # Inner loop for max_terms\n",
    "    for max_terms in [500, 750, 1000, 1250, 1500]:\n",
    "        # Setting the current max_terms\n",
    "        model.max_terms = max_terms\n",
    "        \n",
    "        # 5-fold cross validation\n",
    "        scores = cross_val_score(model, X_train, y_train, cv = 5, scoring='neg_mean_squared_error')\n",
    "        \n",
    "        # Computing mean score\n",
    "        mean_score = scores.mean()\n",
    "        \n",
    "        # Checking if mean score is better than the current best score\n",
    "        if mean_score > best_score:\n",
    "            best_score = mean_score\n",
    "            opt_degree = degree\n",
    "            opt_max_terms = max_terms\n",
    "            \n",
    "# Training a new MARS model on the entire training set using the optimal parameters\n",
    "model = Earth(max_terms=opt_max_terms, max_degree=opt_degree)\n",
    "model.fit(X_train, y_train)\n",
    "\n",
    "# Evaluating the model on the test set\n",
    "rmse_optimal = np.sqrt(mean_squared_error(y_test, model.predict(X_test)))\n",
    "print(\"Optimal degree:\", opt_degree)\n",
    "print(\"Optimal max_terms:\", opt_max_terms)\n"
   ]
  },
  {
   "cell_type": "code",
   "execution_count": 20,
   "metadata": {},
   "outputs": [
    {
     "ename": "KeyboardInterrupt",
     "evalue": "",
     "output_type": "error",
     "traceback": [
      "\u001b[0;31m---------------------------------------------------------------------------\u001b[0m",
      "\u001b[0;31mKeyboardInterrupt\u001b[0m                         Traceback (most recent call last)",
      "Cell \u001b[0;32mIn[20], line 2\u001b[0m\n\u001b[1;32m      1\u001b[0m mars_model \u001b[38;5;241m=\u001b[39m Earth(max_terms \u001b[38;5;241m=\u001b[39m \u001b[38;5;241m22\u001b[39m, max_degree \u001b[38;5;241m=\u001b[39m \u001b[38;5;241m100\u001b[39m)\n\u001b[0;32m----> 2\u001b[0m \u001b[43mmars_model\u001b[49m\u001b[38;5;241;43m.\u001b[39;49m\u001b[43mfit\u001b[49m\u001b[43m(\u001b[49m\u001b[43mX_train\u001b[49m\u001b[43m,\u001b[49m\u001b[43m \u001b[49m\u001b[43my_train\u001b[49m\u001b[43m)\u001b[49m\n",
      "File \u001b[0;32m~/opt/anaconda3/lib/python3.9/site-packages/pyearth/earth.py:625\u001b[0m, in \u001b[0;36mEarth.fit\u001b[0;34m(self, X, y, sample_weight, output_weight, missing, xlabels, linvars)\u001b[0m\n\u001b[1;32m    <a href='file:///Users/lilawells/opt/anaconda3/lib/python3.9/site-packages/pyearth/earth.py?line=620'>621</a>\u001b[0m X, y, sample_weight, output_weight, missing \u001b[39m=\u001b[39m \u001b[39mself\u001b[39m\u001b[39m.\u001b[39m_scrub(\n\u001b[1;32m    <a href='file:///Users/lilawells/opt/anaconda3/lib/python3.9/site-packages/pyearth/earth.py?line=621'>622</a>\u001b[0m     X, y, sample_weight, output_weight, missing)\n\u001b[1;32m    <a href='file:///Users/lilawells/opt/anaconda3/lib/python3.9/site-packages/pyearth/earth.py?line=623'>624</a>\u001b[0m \u001b[39m# Do the actual work\u001b[39;00m\n\u001b[0;32m--> <a href='file:///Users/lilawells/opt/anaconda3/lib/python3.9/site-packages/pyearth/earth.py?line=624'>625</a>\u001b[0m \u001b[39mself\u001b[39;49m\u001b[39m.\u001b[39;49mforward_pass(X, y,\n\u001b[1;32m    <a href='file:///Users/lilawells/opt/anaconda3/lib/python3.9/site-packages/pyearth/earth.py?line=625'>626</a>\u001b[0m                   sample_weight, output_weight, missing,\n\u001b[1;32m    <a href='file:///Users/lilawells/opt/anaconda3/lib/python3.9/site-packages/pyearth/earth.py?line=626'>627</a>\u001b[0m                   \u001b[39mself\u001b[39;49m\u001b[39m.\u001b[39;49mxlabels_, linvars, skip_scrub\u001b[39m=\u001b[39;49m\u001b[39mTrue\u001b[39;49;00m)\n\u001b[1;32m    <a href='file:///Users/lilawells/opt/anaconda3/lib/python3.9/site-packages/pyearth/earth.py?line=627'>628</a>\u001b[0m \u001b[39mif\u001b[39;00m \u001b[39mself\u001b[39m\u001b[39m.\u001b[39menable_pruning \u001b[39mis\u001b[39;00m \u001b[39mTrue\u001b[39;00m:\n\u001b[1;32m    <a href='file:///Users/lilawells/opt/anaconda3/lib/python3.9/site-packages/pyearth/earth.py?line=628'>629</a>\u001b[0m     \u001b[39mself\u001b[39m\u001b[39m.\u001b[39mpruning_pass(X, y,\n\u001b[1;32m    <a href='file:///Users/lilawells/opt/anaconda3/lib/python3.9/site-packages/pyearth/earth.py?line=629'>630</a>\u001b[0m                       sample_weight, output_weight, missing,\n\u001b[1;32m    <a href='file:///Users/lilawells/opt/anaconda3/lib/python3.9/site-packages/pyearth/earth.py?line=630'>631</a>\u001b[0m                       skip_scrub\u001b[39m=\u001b[39m\u001b[39mTrue\u001b[39;00m)\n",
      "File \u001b[0;32m~/opt/anaconda3/lib/python3.9/site-packages/pyearth/earth.py:743\u001b[0m, in \u001b[0;36mEarth.forward_pass\u001b[0;34m(self, X, y, sample_weight, output_weight, missing, xlabels, linvars, skip_scrub)\u001b[0m\n\u001b[1;32m    <a href='file:///Users/lilawells/opt/anaconda3/lib/python3.9/site-packages/pyearth/earth.py?line=738'>739</a>\u001b[0m args \u001b[39m=\u001b[39m \u001b[39mself\u001b[39m\u001b[39m.\u001b[39m_pull_forward_args(\u001b[39m*\u001b[39m\u001b[39m*\u001b[39m\u001b[39mself\u001b[39m\u001b[39m.\u001b[39m\u001b[39m__dict__\u001b[39m)\n\u001b[1;32m    <a href='file:///Users/lilawells/opt/anaconda3/lib/python3.9/site-packages/pyearth/earth.py?line=739'>740</a>\u001b[0m forward_passer \u001b[39m=\u001b[39m ForwardPasser(\n\u001b[1;32m    <a href='file:///Users/lilawells/opt/anaconda3/lib/python3.9/site-packages/pyearth/earth.py?line=740'>741</a>\u001b[0m     X, missing, y, sample_weight,\n\u001b[1;32m    <a href='file:///Users/lilawells/opt/anaconda3/lib/python3.9/site-packages/pyearth/earth.py?line=741'>742</a>\u001b[0m     xlabels\u001b[39m=\u001b[39m\u001b[39mself\u001b[39m\u001b[39m.\u001b[39mxlabels_, linvars\u001b[39m=\u001b[39mlinvars, \u001b[39m*\u001b[39m\u001b[39m*\u001b[39margs)\n\u001b[0;32m--> <a href='file:///Users/lilawells/opt/anaconda3/lib/python3.9/site-packages/pyearth/earth.py?line=742'>743</a>\u001b[0m forward_passer\u001b[39m.\u001b[39;49mrun()\n\u001b[1;32m    <a href='file:///Users/lilawells/opt/anaconda3/lib/python3.9/site-packages/pyearth/earth.py?line=743'>744</a>\u001b[0m \u001b[39mself\u001b[39m\u001b[39m.\u001b[39mforward_pass_record_ \u001b[39m=\u001b[39m forward_passer\u001b[39m.\u001b[39mtrace()\n\u001b[1;32m    <a href='file:///Users/lilawells/opt/anaconda3/lib/python3.9/site-packages/pyearth/earth.py?line=744'>745</a>\u001b[0m \u001b[39mself\u001b[39m\u001b[39m.\u001b[39mbasis_ \u001b[39m=\u001b[39m forward_passer\u001b[39m.\u001b[39mget_basis()\n",
      "File \u001b[0;32mpyearth/_forward.pyx:185\u001b[0m, in \u001b[0;36mpyearth._forward.ForwardPasser.run\u001b[0;34m()\u001b[0m\n",
      "File \u001b[0;32mpyearth/_forward.pyx:191\u001b[0m, in \u001b[0;36mpyearth._forward.ForwardPasser.run\u001b[0;34m()\u001b[0m\n",
      "File \u001b[0;32mpyearth/_forward.pyx:391\u001b[0m, in \u001b[0;36mpyearth._forward.ForwardPasser.next_pair\u001b[0;34m()\u001b[0m\n",
      "File \u001b[0;32mpyearth/_forward.pyx:232\u001b[0m, in \u001b[0;36mpyearth._forward.ForwardPasser.orthonormal_update\u001b[0;34m()\u001b[0m\n",
      "File \u001b[0;32mpyearth/_knot_search.pyx:116\u001b[0m, in \u001b[0;36mpyearth._knot_search.MultipleOutcomeDependentData.update_from_array\u001b[0;34m()\u001b[0m\n",
      "File \u001b[0;32mpyearth/_knot_search.pyx:197\u001b[0m, in \u001b[0;36mpyearth._knot_search.SingleOutcomeDependentData.update\u001b[0;34m()\u001b[0m\n",
      "File \u001b[0;32m<__array_function__ internals>:177\u001b[0m, in \u001b[0;36mdot\u001b[0;34m(*args, **kwargs)\u001b[0m\n",
      "\u001b[0;31mKeyboardInterrupt\u001b[0m: "
     ]
    }
   ],
   "source": [
    "mars_model = Earth(max_terms = 22, max_degree = 100)\n",
    "mars_model.fit(X_train, y_train)"
   ]
  },
  {
   "cell_type": "code",
   "execution_count": null,
   "metadata": {},
   "outputs": [],
   "source": [
    "print(mars_model.summary())"
   ]
  },
  {
   "cell_type": "code",
   "execution_count": null,
   "metadata": {},
   "outputs": [],
   "source": [
    "print(\"Train RMSE:\", np.sqrt(mean_squared_error(y_train, mars_model.predict(X_train))))\n",
    "print(\"Test RMSE:\", np.sqrt(mean_squared_error(y_test, mars_model.predict(X_test))))"
   ]
  }
 ],
 "metadata": {
  "interpreter": {
   "hash": "32f5ec6d91cde40665c038dca6626e6d343a99d63b32541ba0cad7db730fa124"
  },
  "kernelspec": {
   "display_name": "Python 3.9.16 ('base')",
   "language": "python",
   "name": "python3"
  },
  "language_info": {
   "codemirror_mode": {
    "name": "ipython",
    "version": 3
   },
   "file_extension": ".py",
   "mimetype": "text/x-python",
   "name": "python",
   "nbconvert_exporter": "python",
   "pygments_lexer": "ipython3",
   "version": "3.9.16"
  },
  "orig_nbformat": 4
 },
 "nbformat": 4,
 "nbformat_minor": 2
}
