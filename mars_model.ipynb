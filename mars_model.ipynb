{
 "cells": [
  {
   "cell_type": "code",
   "execution_count": 1,
   "metadata": {},
   "outputs": [],
   "source": [
    "# Importing libraries \n",
    "import pandas as pd\n",
    "import numpy as np\n",
    "import matplotlib.pyplot as plt \n",
    "from sklearn.model_selection import cross_val_score,train_test_split, KFold, cross_val_predict\n",
    "from sklearn.linear_model import LogisticRegression, LinearRegression\n",
    "from sklearn.metrics import mean_squared_error, accuracy_score, recall_score\n",
    "from sklearn.utils import parallel_backend\n",
    "from pyearth import Earth\n",
    "from patsy import dmatrix\n",
    "from sklearn.model_selection import GridSearchCV\n",
    "import statsmodels.formula.api as smf\n",
    "from sklearn.preprocessing import PolynomialFeatures\n",
    "import warnings\n",
    "from pyearth import Earth\n",
    "from sklearn.model_selection import RandomizedSearchCV, KFold\n"
   ]
  },
  {
   "cell_type": "code",
   "execution_count": 2,
   "metadata": {},
   "outputs": [],
   "source": [
    "# Loading data\n",
    "X_test = pd.read_csv('data/X_test.csv')\n",
    "X_train = pd.read_csv('data/X_train.csv')\n",
    "y_test = pd.read_csv('data/y_test.csv')\n",
    "y_train = pd.read_csv('data/y_train.csv')"
   ]
  },
  {
   "cell_type": "markdown",
   "metadata": {},
   "source": [
    "### Coarse Grid Hyperparameter Optimization"
   ]
  },
  {
   "cell_type": "code",
   "execution_count": 4,
   "metadata": {},
   "outputs": [
    {
     "name": "stdout",
     "output_type": "stream",
     "text": [
      "Fitting models for degree =  1\n",
      "     Fitting models for degree =  1 and max_terms =  400\n",
      "     Fitting models for degree =  1 and max_terms =  600\n",
      "     Fitting models for degree =  1 and max_terms =  800\n",
      "     Fitting models for degree =  1 and max_terms =  1000\n",
      "     Fitting models for degree =  1 and max_terms =  1200\n",
      "Fitting models for degree =  3\n",
      "     Fitting models for degree =  3 and max_terms =  400\n",
      "     Fitting models for degree =  3 and max_terms =  600\n",
      "     Fitting models for degree =  3 and max_terms =  800\n",
      "     Fitting models for degree =  3 and max_terms =  1000\n",
      "     Fitting models for degree =  3 and max_terms =  1200\n",
      "Fitting models for degree =  5\n",
      "     Fitting models for degree =  5 and max_terms =  400\n",
      "     Fitting models for degree =  5 and max_terms =  600\n",
      "     Fitting models for degree =  5 and max_terms =  800\n",
      "     Fitting models for degree =  5 and max_terms =  1000\n",
      "     Fitting models for degree =  5 and max_terms =  1200\n",
      "Fitting models for degree =  7\n",
      "     Fitting models for degree =  7 and max_terms =  400\n",
      "     Fitting models for degree =  7 and max_terms =  600\n",
      "     Fitting models for degree =  7 and max_terms =  800\n",
      "     Fitting models for degree =  7 and max_terms =  1000\n",
      "     Fitting models for degree =  7 and max_terms =  1200\n",
      "Fitting models for degree =  9\n",
      "     Fitting models for degree =  9 and max_terms =  400\n",
      "     Fitting models for degree =  9 and max_terms =  600\n",
      "     Fitting models for degree =  9 and max_terms =  800\n",
      "     Fitting models for degree =  9 and max_terms =  1000\n",
      "     Fitting models for degree =  9 and max_terms =  1200\n"
     ]
    },
    {
     "data": {
      "text/html": [
       "<style>#sk-container-id-1 {color: black;background-color: white;}#sk-container-id-1 pre{padding: 0;}#sk-container-id-1 div.sk-toggleable {background-color: white;}#sk-container-id-1 label.sk-toggleable__label {cursor: pointer;display: block;width: 100%;margin-bottom: 0;padding: 0.3em;box-sizing: border-box;text-align: center;}#sk-container-id-1 label.sk-toggleable__label-arrow:before {content: \"▸\";float: left;margin-right: 0.25em;color: #696969;}#sk-container-id-1 label.sk-toggleable__label-arrow:hover:before {color: black;}#sk-container-id-1 div.sk-estimator:hover label.sk-toggleable__label-arrow:before {color: black;}#sk-container-id-1 div.sk-toggleable__content {max-height: 0;max-width: 0;overflow: hidden;text-align: left;background-color: #f0f8ff;}#sk-container-id-1 div.sk-toggleable__content pre {margin: 0.2em;color: black;border-radius: 0.25em;background-color: #f0f8ff;}#sk-container-id-1 input.sk-toggleable__control:checked~div.sk-toggleable__content {max-height: 200px;max-width: 100%;overflow: auto;}#sk-container-id-1 input.sk-toggleable__control:checked~label.sk-toggleable__label-arrow:before {content: \"▾\";}#sk-container-id-1 div.sk-estimator input.sk-toggleable__control:checked~label.sk-toggleable__label {background-color: #d4ebff;}#sk-container-id-1 div.sk-label input.sk-toggleable__control:checked~label.sk-toggleable__label {background-color: #d4ebff;}#sk-container-id-1 input.sk-hidden--visually {border: 0;clip: rect(1px 1px 1px 1px);clip: rect(1px, 1px, 1px, 1px);height: 1px;margin: -1px;overflow: hidden;padding: 0;position: absolute;width: 1px;}#sk-container-id-1 div.sk-estimator {font-family: monospace;background-color: #f0f8ff;border: 1px dotted black;border-radius: 0.25em;box-sizing: border-box;margin-bottom: 0.5em;}#sk-container-id-1 div.sk-estimator:hover {background-color: #d4ebff;}#sk-container-id-1 div.sk-parallel-item::after {content: \"\";width: 100%;border-bottom: 1px solid gray;flex-grow: 1;}#sk-container-id-1 div.sk-label:hover label.sk-toggleable__label {background-color: #d4ebff;}#sk-container-id-1 div.sk-serial::before {content: \"\";position: absolute;border-left: 1px solid gray;box-sizing: border-box;top: 0;bottom: 0;left: 50%;z-index: 0;}#sk-container-id-1 div.sk-serial {display: flex;flex-direction: column;align-items: center;background-color: white;padding-right: 0.2em;padding-left: 0.2em;position: relative;}#sk-container-id-1 div.sk-item {position: relative;z-index: 1;}#sk-container-id-1 div.sk-parallel {display: flex;align-items: stretch;justify-content: center;background-color: white;position: relative;}#sk-container-id-1 div.sk-item::before, #sk-container-id-1 div.sk-parallel-item::before {content: \"\";position: absolute;border-left: 1px solid gray;box-sizing: border-box;top: 0;bottom: 0;left: 50%;z-index: -1;}#sk-container-id-1 div.sk-parallel-item {display: flex;flex-direction: column;z-index: 1;position: relative;background-color: white;}#sk-container-id-1 div.sk-parallel-item:first-child::after {align-self: flex-end;width: 50%;}#sk-container-id-1 div.sk-parallel-item:last-child::after {align-self: flex-start;width: 50%;}#sk-container-id-1 div.sk-parallel-item:only-child::after {width: 0;}#sk-container-id-1 div.sk-dashed-wrapped {border: 1px dashed gray;margin: 0 0.4em 0.5em 0.4em;box-sizing: border-box;padding-bottom: 0.4em;background-color: white;}#sk-container-id-1 div.sk-label label {font-family: monospace;font-weight: bold;display: inline-block;line-height: 1.2em;}#sk-container-id-1 div.sk-label-container {text-align: center;}#sk-container-id-1 div.sk-container {/* jupyter's `normalize.less` sets `[hidden] { display: none; }` but bootstrap.min.css set `[hidden] { display: none !important; }` so we also need the `!important` here to be able to override the default hidden behavior on the sphinx rendered scikit-learn.org. See: https://github.com/scikit-learn/scikit-learn/issues/21755 */display: inline-block !important;position: relative;}#sk-container-id-1 div.sk-text-repr-fallback {display: none;}</style><div id=\"sk-container-id-1\" class=\"sk-top-container\"><div class=\"sk-text-repr-fallback\"><pre>Earth(max_degree=5, max_terms=400)</pre><b>In a Jupyter environment, please rerun this cell to show the HTML representation or trust the notebook. <br />On GitHub, the HTML representation is unable to render, please try loading this page with nbviewer.org.</b></div><div class=\"sk-container\" hidden><div class=\"sk-item\"><div class=\"sk-estimator sk-toggleable\"><input class=\"sk-toggleable__control sk-hidden--visually\" id=\"sk-estimator-id-1\" type=\"checkbox\" checked><label for=\"sk-estimator-id-1\" class=\"sk-toggleable__label sk-toggleable__label-arrow\">Earth</label><div class=\"sk-toggleable__content\"><pre>Earth(max_degree=5, max_terms=400)</pre></div></div></div></div></div>"
      ],
      "text/plain": [
       "Earth(max_degree=5, max_terms=400)"
      ]
     },
     "execution_count": 4,
     "metadata": {},
     "output_type": "execute_result"
    }
   ],
   "source": [
    "# Coarse grid search for hyperparameter optimization\n",
    "    # Note: I fit 25 models here and it took approximately an hour and a half (90 mins)\n",
    "\n",
    "warnings.filterwarnings(\"ignore\")\n",
    "warnings.simplefilter(action='ignore', category = FutureWarning)\n",
    "init_search_df = pd.DataFrame(columns = ['degree', 'max_terms', 'rmse'])\n",
    "\n",
    "\n",
    "# Lists to store the values for plotting\n",
    "degrees = []\n",
    "max_terms_values = []\n",
    "mean_scores = []\n",
    "\n",
    "# Initializing optimal parameters & best score variables\n",
    "opt_degree = 1\n",
    "opt_max_terms = 500\n",
    "best_score = -float('inf')\n",
    "\n",
    "# Outer loop for degree\n",
    "for degree in range(1, 11, 2):\n",
    "    print('Fitting models for degree = ', degree)\n",
    "\n",
    "    # Creating a MARS model with the current degree and max_terms\n",
    "    model = Earth(max_terms = 500, max_degree = degree)\n",
    "    \n",
    "    # Inner loop for max_terms\n",
    "    for terms in range(400, 1201, 200):\n",
    "        print('     Fitting models for degree = ', degree, 'and max_terms = ', terms)\n",
    "        # Setting the current max_terms\n",
    "        model.max_terms = terms\n",
    "        \n",
    "        # 5-fold cross validation\n",
    "        scores = cross_val_score(model,\n",
    "                                 X_train,\n",
    "                                 y_train, \n",
    "                                 cv = 5, \n",
    "                                 scoring = 'neg_root_mean_squared_error')\n",
    "        \n",
    "        # Computing mean score\n",
    "        mean_score = scores.mean()\n",
    "        \n",
    "        # Saving the values for plotting\n",
    "        degrees.append(degree)\n",
    "        max_terms_values.append(terms)\n",
    "        mean_scores.append(mean_score)\n",
    "        \n",
    "        # Checking if mean score is better than the current best score\n",
    "        if mean_score > best_score:\n",
    "            best_score = mean_score\n",
    "            opt_degree = degree\n",
    "            opt_max_terms = terms\n",
    "            \n",
    "# Training a new MARS model on the entire training set using the optimal parameters\n",
    "model = Earth(max_terms = opt_max_terms, max_degree = opt_degree)\n",
    "model.fit(X_train, y_train)"
   ]
  },
  {
   "cell_type": "code",
   "execution_count": 12,
   "metadata": {},
   "outputs": [
    {
     "name": "stderr",
     "output_type": "stream",
     "text": [
      "/Users/lilawells/opt/anaconda3/lib/python3.9/site-packages/pyearth/earth.py:813: FutureWarning: `rcond` parameter will change to the default of machine precision times ``max(M, N)`` where M and N are the input matrix dimensions.\n",
      "To use the future default and silence this warning we advise to pass `rcond=None`, to keep using the old, explicitly pass `rcond=-1`.\n",
      "  pruning_passer.run()\n"
     ]
    },
    {
     "name": "stdout",
     "output_type": "stream",
     "text": [
      "               predictor  importance\n",
      "0                alcohol    0.299499\n",
      "1                density    0.269187\n",
      "2    free sulfur dioxide    0.115497\n",
      "3         residual sugar    0.088609\n",
      "4              sulphates    0.079322\n",
      "5       volatile acidity    0.065634\n",
      "6   total sulfur dioxide    0.043120\n",
      "7                     pH    0.017919\n",
      "8               type_red    0.015335\n",
      "9          fixed acidity    0.005260\n",
      "10             chlorides    0.000618\n"
     ]
    },
    {
     "name": "stderr",
     "output_type": "stream",
     "text": [
      "/Users/lilawells/opt/anaconda3/lib/python3.9/site-packages/pyearth/earth.py:1066: FutureWarning: `rcond` parameter will change to the default of machine precision times ``max(M, N)`` where M and N are the input matrix dimensions.\n",
      "To use the future default and silence this warning we advise to pass `rcond=None`, to keep using the old, explicitly pass `rcond=-1`.\n",
      "  coef, resid = np.linalg.lstsq(B, weighted_y[:, i])[0:2]\n"
     ]
    }
   ],
   "source": [
    "# Fitting the model \n",
    "model = Earth(max_terms = 400, max_degree = 5, feature_importance_type = \"gcv\") # Using gcv here for feature importance \n",
    "model.fit(X_train, y_train) \n",
    "\n",
    "# Creating a dictionary of feature importances \n",
    "# Values = feature importance values \n",
    "importances = model.feature_importances_\n",
    "\n",
    "# Create dictionary with non-zero feature importances\n",
    "important_features = {feature: importances[i] for i, feature in enumerate(X_train.columns) if importances[i] != 0}\n",
    "\n",
    "# Creating a df from the important_features dictionary\n",
    "features_df = pd.DataFrame.from_dict(important_features, orient='index', columns=['importance'])\n",
    "\n",
    "# Sorting by desc importance / reset index / rename cols \n",
    "features_df = features_df.sort_values(by='importance', ascending=False)\n",
    "features_df = features_df.reset_index().rename(columns={'index': 'predictor'})\n",
    "\n",
    "# Print the resulting DataFrame\n",
    "print(features_df)"
   ]
  },
  {
   "cell_type": "code",
   "execution_count": null,
   "metadata": {},
   "outputs": [
    {
     "name": "stderr",
     "output_type": "stream",
     "text": [
      "/Users/lilawells/opt/anaconda3/lib/python3.9/site-packages/pyearth/earth.py:813: FutureWarning: `rcond` parameter will change to the default of machine precision times ``max(M, N)`` where M and N are the input matrix dimensions.\n",
      "To use the future default and silence this warning we advise to pass `rcond=None`, to keep using the old, explicitly pass `rcond=-1`.\n",
      "  pruning_passer.run()\n"
     ]
    },
    {
     "name": "stdout",
     "output_type": "stream",
     "text": [
      "Earth Model\n",
      "-------------------------------------------------------------------------------------------------------------------------------------\n",
      "Basis Function                                                                                                  Pruned  Coefficient  \n",
      "-------------------------------------------------------------------------------------------------------------------------------------\n",
      "(Intercept)                                                                                                     No      8.8923       \n",
      "h(alcohol-0.869565)                                                                                             No      -16.3262     \n",
      "h(0.869565-alcohol)                                                                                             Yes     None         \n",
      "volatile acidity                                                                                                Yes     None         \n",
      "h(density-0.0213997)*h(0.869565-alcohol)                                                                        Yes     None         \n",
      "h(0.0213997-density)*h(0.869565-alcohol)                                                                        Yes     None         \n",
      "h(free sulfur dioxide-0.361111)                                                                                 No      -153.509     \n",
      "h(0.361111-free sulfur dioxide)                                                                                 No      -7.67622     \n",
      "total sulfur dioxide*h(0.869565-alcohol)                                                                        No      -5.52412     \n",
      "free sulfur dioxide*h(0.361111-free sulfur dioxide)                                                             No      57           \n",
      "h(sulphates-0.539326)*h(0.361111-free sulfur dioxide)                                                           No      -22.8146     \n",
      "h(0.539326-sulphates)*h(0.361111-free sulfur dioxide)                                                           No      -5.95918     \n",
      "residual sugar*h(0.539326-sulphates)*h(0.361111-free sulfur dioxide)                                            No      72.8642      \n",
      "density*free sulfur dioxide*h(0.361111-free sulfur dioxide)                                                     Yes     None         \n",
      "type_red*volatile acidity                                                                                       Yes     None         \n",
      "h(total sulfur dioxide-0.585253)*residual sugar*h(0.539326-sulphates)*h(0.361111-free sulfur dioxide)           Yes     None         \n",
      "h(0.585253-total sulfur dioxide)*residual sugar*h(0.539326-sulphates)*h(0.361111-free sulfur dioxide)           No      -117.336     \n",
      "alcohol*total sulfur dioxide*h(0.869565-alcohol)                                                                Yes     None         \n",
      "density*alcohol*total sulfur dioxide*h(0.869565-alcohol)                                                        No      99.3943      \n",
      "h(residual sugar-0.303681)*residual sugar*h(0.539326-sulphates)*h(0.361111-free sulfur dioxide)                 Yes     None         \n",
      "h(0.303681-residual sugar)*residual sugar*h(0.539326-sulphates)*h(0.361111-free sulfur dioxide)                 No      161.169      \n",
      "pH*alcohol*total sulfur dioxide*h(0.869565-alcohol)                                                             Yes     None         \n",
      "pH*density*alcohol*total sulfur dioxide*h(0.869565-alcohol)                                                     No      -176.709     \n",
      "fixed acidity*pH*density*alcohol*total sulfur dioxide*h(0.869565-alcohol)                                       No      476.826      \n",
      "h(residual sugar-0.303681)*density*free sulfur dioxide*h(0.361111-free sulfur dioxide)                          Yes     None         \n",
      "h(0.303681-residual sugar)*density*free sulfur dioxide*h(0.361111-free sulfur dioxide)                          No      -1090.07     \n",
      "free sulfur dioxide*free sulfur dioxide*h(0.361111-free sulfur dioxide)                                         No      -365.723     \n",
      "h(free sulfur dioxide-0.361111)*density*alcohol*total sulfur dioxide*h(0.869565-alcohol)                        Yes     None         \n",
      "h(0.361111-free sulfur dioxide)*density*alcohol*total sulfur dioxide*h(0.869565-alcohol)                        No      -1070.18     \n",
      "h(free sulfur dioxide-0.361111)*h(density-0.0213997)*h(0.869565-alcohol)                                        Yes     None         \n",
      "h(0.361111-free sulfur dioxide)*h(density-0.0213997)*h(0.869565-alcohol)                                        No      11.8033      \n",
      "pH*residual sugar*h(0.539326-sulphates)*h(0.361111-free sulfur dioxide)                                         No      -103.823     \n",
      "h(sulphates-0.539326)*h(0.361111-free sulfur dioxide)*density*alcohol*total sulfur dioxide*h(0.869565-alcohol)  No      3014.35      \n",
      "h(0.539326-sulphates)*h(0.361111-free sulfur dioxide)*density*alcohol*total sulfur dioxide*h(0.869565-alcohol)  No      684.495      \n",
      "alcohol*pH*residual sugar*h(0.539326-sulphates)*h(0.361111-free sulfur dioxide)                                 No      437.843      \n",
      "volatile acidity*h(0.869565-alcohol)                                                                            Yes     None         \n",
      "pH*type_red*volatile acidity                                                                                    Yes     None         \n",
      "pH*volatile acidity*h(0.869565-alcohol)                                                                         Yes     None         \n",
      "h(free sulfur dioxide-0.361111)*total sulfur dioxide*h(0.869565-alcohol)                                        No      466.489      \n",
      "h(0.361111-free sulfur dioxide)*total sulfur dioxide*h(0.869565-alcohol)                                        No      28.1194      \n",
      "type_red*free sulfur dioxide*free sulfur dioxide*h(0.361111-free sulfur dioxide)                                No      -133.217     \n",
      "volatile acidity*alcohol*total sulfur dioxide*h(0.869565-alcohol)                                               Yes     None         \n",
      "sulphates*free sulfur dioxide*free sulfur dioxide*h(0.361111-free sulfur dioxide)                               No      241.724      \n",
      "free sulfur dioxide*h(0.303681-residual sugar)*density*free sulfur dioxide*h(0.361111-free sulfur dioxide)      No      5012.7       \n",
      "h(free sulfur dioxide-0.361111)*pH*alcohol*total sulfur dioxide*h(0.869565-alcohol)                             No      -829.743     \n",
      "h(0.361111-free sulfur dioxide)*pH*alcohol*total sulfur dioxide*h(0.869565-alcohol)                             No      217.074      \n",
      "type_red*h(0.361111-free sulfur dioxide)                                                                        No      2.22392      \n",
      "h(volatile acidity-0.64)*volatile acidity*h(0.869565-alcohol)                                                   Yes     None         \n",
      "h(0.64-volatile acidity)*volatile acidity*h(0.869565-alcohol)                                                   No      -31.2395     \n",
      "alcohol*h(0.64-volatile acidity)*volatile acidity*h(0.869565-alcohol)                                           No      67.0051      \n",
      "volatile acidity*h(0.64-volatile acidity)*volatile acidity*h(0.869565-alcohol)                                  No      24.7263      \n",
      "alcohol*volatile acidity*h(0.869565-alcohol)                                                                    No      -13.6423     \n",
      "chlorides*h(0.361111-free sulfur dioxide)*pH*alcohol*total sulfur dioxide*h(0.869565-alcohol)                   No      -710.588     \n",
      "h(chlorides-0.433555)*alcohol*total sulfur dioxide*h(0.869565-alcohol)                                          Yes     None         \n",
      "h(0.433555-chlorides)*alcohol*total sulfur dioxide*h(0.869565-alcohol)                                          No      -35.583      \n",
      "h(citric acid-0.518072)*alcohol*pH*residual sugar*h(0.539326-sulphates)*h(0.361111-free sulfur dioxide)         No      -2768.85     \n",
      "h(0.518072-citric acid)*alcohol*pH*residual sugar*h(0.539326-sulphates)*h(0.361111-free sulfur dioxide)         No      -797.759     \n",
      "citric acid*residual sugar*h(0.539326-sulphates)*h(0.361111-free sulfur dioxide)                                No      -77.9122     \n",
      "pH*h(0.539326-sulphates)*h(0.361111-free sulfur dioxide)                                                        No      -5.10931     \n",
      "-------------------------------------------------------------------------------------------------------------------------------------\n",
      "MSE: 0.4580, GCV: 0.4759, RSQ: 0.3860, GRSQ: 0.3622\n"
     ]
    },
    {
     "name": "stderr",
     "output_type": "stream",
     "text": [
      "/Users/lilawells/opt/anaconda3/lib/python3.9/site-packages/pyearth/earth.py:1066: FutureWarning: `rcond` parameter will change to the default of machine precision times ``max(M, N)`` where M and N are the input matrix dimensions.\n",
      "To use the future default and silence this warning we advise to pass `rcond=None`, to keep using the old, explicitly pass `rcond=-1`.\n",
      "  coef, resid = np.linalg.lstsq(B, weighted_y[:, i])[0:2]\n"
     ]
    }
   ],
   "source": [
    "# Defining the initial base model \n",
    "mars_init = Earth(max_terms = 600, max_degree = 6)\n",
    "mars_init.fit(X_train, y_train)\n",
    "print(mars_init.summary())"
   ]
  },
  {
   "cell_type": "code",
   "execution_count": null,
   "metadata": {},
   "outputs": [],
   "source": [
    "# Making predictions\n",
    "pred = mars_init.predict(X_test)\n",
    "\n",
    "# Rounding predictions to the nearest integer \n",
    "rounded_pred = [round(p) for p in pred]"
   ]
  },
  {
   "cell_type": "code",
   "execution_count": null,
   "metadata": {},
   "outputs": [
    {
     "name": "stdout",
     "output_type": "stream",
     "text": [
      "Coarse Grid Tuning MARS Model Test RMSE: 0.7922703501282297\n"
     ]
    }
   ],
   "source": [
    "print(\"Coarse Grid Tuning MARS Model Test RMSE:\", np.sqrt(mean_squared_error(y_test, rounded_pred)))"
   ]
  },
  {
   "cell_type": "markdown",
   "metadata": {},
   "source": [
    "### Fine Grid Hyperparameter Optimization"
   ]
  },
  {
   "cell_type": "code",
   "execution_count": null,
   "metadata": {},
   "outputs": [
    {
     "name": "stdout",
     "output_type": "stream",
     "text": [
      "Fitting models for degree =  6\n",
      "     Fitting models for degree =  6 and max_terms =  700\n"
     ]
    }
   ],
   "source": [
    "# Finer grid search - Thinking that this will take around 64 minutes if I timed it right\n",
    "    # 18 models here total (vs the 25 in the larger coarse grid search)\n",
    "warnings.filterwarnings(\"ignore\")\n",
    "warnings.simplefilter(action='ignore', category = FutureWarning) # Got 7 and 800\n",
    "\n",
    "# Initializing optimal parameters & best score variables\n",
    "opt_degree = 1\n",
    "opt_max_terms = 500\n",
    "best_score = -float('inf')\n",
    "\n",
    "# Outer loop for degree\n",
    "for degree in [6, 7]: \n",
    "    print('Fitting models for degree = ', degree)\n",
    "    # Creating a MARS model with the current degree and max_terms\n",
    "    model = Earth(max_terms = 500, max_degree = degree)\n",
    "    \n",
    "    # Inner loop for max_terms\n",
    "    for terms in range(700, 801, 50): # Now looking from 300 to 600 in steps of 50\n",
    "        print('     Fitting models for degree = ', degree, 'and max_terms = ', terms)\n",
    "        # Setting the current max_terms\n",
    "        model.max_terms = terms\n",
    "        \n",
    "        # 5-fold cross validation\n",
    "        scores = cross_val_score(model,\n",
    "                                 X_train,\n",
    "                                 y_train, \n",
    "                                 cv = 5, \n",
    "                                 scoring = 'neg_root_mean_squared_error')\n",
    "        \n",
    "        # Computing mean score\n",
    "        mean_score = scores.mean()\n",
    "        \n",
    "        # Checking if mean score is better than the current best score\n",
    "        if mean_score > best_score:\n",
    "            best_score = mean_score\n",
    "            opt_degree = degree\n",
    "            opt_max_terms = terms\n",
    "            \n",
    "print(\"Optimal degree in fine grid search = \", degree)\n",
    "print(\"Optimal max_terms in fine grid search = \", terms)"
   ]
  },
  {
   "cell_type": "code",
   "execution_count": 4,
   "metadata": {},
   "outputs": [
    {
     "name": "stderr",
     "output_type": "stream",
     "text": [
      "/Users/lilawells/opt/anaconda3/lib/python3.9/site-packages/pyearth/earth.py:813: FutureWarning: `rcond` parameter will change to the default of machine precision times ``max(M, N)`` where M and N are the input matrix dimensions.\n",
      "To use the future default and silence this warning we advise to pass `rcond=None`, to keep using the old, explicitly pass `rcond=-1`.\n",
      "  pruning_passer.run()\n",
      "/Users/lilawells/opt/anaconda3/lib/python3.9/site-packages/pyearth/earth.py:1066: FutureWarning: `rcond` parameter will change to the default of machine precision times ``max(M, N)`` where M and N are the input matrix dimensions.\n",
      "To use the future default and silence this warning we advise to pass `rcond=None`, to keep using the old, explicitly pass `rcond=-1`.\n",
      "  coef, resid = np.linalg.lstsq(B, weighted_y[:, i])[0:2]\n"
     ]
    },
    {
     "data": {
      "text/html": [
       "<style>#sk-container-id-1 {color: black;background-color: white;}#sk-container-id-1 pre{padding: 0;}#sk-container-id-1 div.sk-toggleable {background-color: white;}#sk-container-id-1 label.sk-toggleable__label {cursor: pointer;display: block;width: 100%;margin-bottom: 0;padding: 0.3em;box-sizing: border-box;text-align: center;}#sk-container-id-1 label.sk-toggleable__label-arrow:before {content: \"▸\";float: left;margin-right: 0.25em;color: #696969;}#sk-container-id-1 label.sk-toggleable__label-arrow:hover:before {color: black;}#sk-container-id-1 div.sk-estimator:hover label.sk-toggleable__label-arrow:before {color: black;}#sk-container-id-1 div.sk-toggleable__content {max-height: 0;max-width: 0;overflow: hidden;text-align: left;background-color: #f0f8ff;}#sk-container-id-1 div.sk-toggleable__content pre {margin: 0.2em;color: black;border-radius: 0.25em;background-color: #f0f8ff;}#sk-container-id-1 input.sk-toggleable__control:checked~div.sk-toggleable__content {max-height: 200px;max-width: 100%;overflow: auto;}#sk-container-id-1 input.sk-toggleable__control:checked~label.sk-toggleable__label-arrow:before {content: \"▾\";}#sk-container-id-1 div.sk-estimator input.sk-toggleable__control:checked~label.sk-toggleable__label {background-color: #d4ebff;}#sk-container-id-1 div.sk-label input.sk-toggleable__control:checked~label.sk-toggleable__label {background-color: #d4ebff;}#sk-container-id-1 input.sk-hidden--visually {border: 0;clip: rect(1px 1px 1px 1px);clip: rect(1px, 1px, 1px, 1px);height: 1px;margin: -1px;overflow: hidden;padding: 0;position: absolute;width: 1px;}#sk-container-id-1 div.sk-estimator {font-family: monospace;background-color: #f0f8ff;border: 1px dotted black;border-radius: 0.25em;box-sizing: border-box;margin-bottom: 0.5em;}#sk-container-id-1 div.sk-estimator:hover {background-color: #d4ebff;}#sk-container-id-1 div.sk-parallel-item::after {content: \"\";width: 100%;border-bottom: 1px solid gray;flex-grow: 1;}#sk-container-id-1 div.sk-label:hover label.sk-toggleable__label {background-color: #d4ebff;}#sk-container-id-1 div.sk-serial::before {content: \"\";position: absolute;border-left: 1px solid gray;box-sizing: border-box;top: 0;bottom: 0;left: 50%;z-index: 0;}#sk-container-id-1 div.sk-serial {display: flex;flex-direction: column;align-items: center;background-color: white;padding-right: 0.2em;padding-left: 0.2em;position: relative;}#sk-container-id-1 div.sk-item {position: relative;z-index: 1;}#sk-container-id-1 div.sk-parallel {display: flex;align-items: stretch;justify-content: center;background-color: white;position: relative;}#sk-container-id-1 div.sk-item::before, #sk-container-id-1 div.sk-parallel-item::before {content: \"\";position: absolute;border-left: 1px solid gray;box-sizing: border-box;top: 0;bottom: 0;left: 50%;z-index: -1;}#sk-container-id-1 div.sk-parallel-item {display: flex;flex-direction: column;z-index: 1;position: relative;background-color: white;}#sk-container-id-1 div.sk-parallel-item:first-child::after {align-self: flex-end;width: 50%;}#sk-container-id-1 div.sk-parallel-item:last-child::after {align-self: flex-start;width: 50%;}#sk-container-id-1 div.sk-parallel-item:only-child::after {width: 0;}#sk-container-id-1 div.sk-dashed-wrapped {border: 1px dashed gray;margin: 0 0.4em 0.5em 0.4em;box-sizing: border-box;padding-bottom: 0.4em;background-color: white;}#sk-container-id-1 div.sk-label label {font-family: monospace;font-weight: bold;display: inline-block;line-height: 1.2em;}#sk-container-id-1 div.sk-label-container {text-align: center;}#sk-container-id-1 div.sk-container {/* jupyter's `normalize.less` sets `[hidden] { display: none; }` but bootstrap.min.css set `[hidden] { display: none !important; }` so we also need the `!important` here to be able to override the default hidden behavior on the sphinx rendered scikit-learn.org. See: https://github.com/scikit-learn/scikit-learn/issues/21755 */display: inline-block !important;position: relative;}#sk-container-id-1 div.sk-text-repr-fallback {display: none;}</style><div id=\"sk-container-id-1\" class=\"sk-top-container\"><div class=\"sk-text-repr-fallback\"><pre>Earth(max_degree=7, max_terms=800)</pre><b>In a Jupyter environment, please rerun this cell to show the HTML representation or trust the notebook. <br />On GitHub, the HTML representation is unable to render, please try loading this page with nbviewer.org.</b></div><div class=\"sk-container\" hidden><div class=\"sk-item\"><div class=\"sk-estimator sk-toggleable\"><input class=\"sk-toggleable__control sk-hidden--visually\" id=\"sk-estimator-id-1\" type=\"checkbox\" checked><label for=\"sk-estimator-id-1\" class=\"sk-toggleable__label sk-toggleable__label-arrow\">Earth</label><div class=\"sk-toggleable__content\"><pre>Earth(max_degree=7, max_terms=800)</pre></div></div></div></div></div>"
      ],
      "text/plain": [
       "Earth(max_degree=7, max_terms=800)"
      ]
     },
     "execution_count": 4,
     "metadata": {},
     "output_type": "execute_result"
    }
   ],
   "source": [
    "# Defining the initial base model \n",
    "mars_model = Earth(max_terms = 800, max_degree = 7)\n",
    "mars_model.fit(X_train, y_train)"
   ]
  },
  {
   "cell_type": "code",
   "execution_count": 5,
   "metadata": {},
   "outputs": [],
   "source": [
    "# Making predictions\n",
    "pred_opt = mars_model.predict(X_test)\n",
    "\n",
    "# Rounding predictions to the nearest integer \n",
    "rounded_pred_opt = [round(p) for p in pred_opt]"
   ]
  },
  {
   "cell_type": "code",
   "execution_count": 6,
   "metadata": {},
   "outputs": [
    {
     "name": "stdout",
     "output_type": "stream",
     "text": [
      "Fine Grid Tuning MARS Model Test RMSE: 0.790326125479466\n"
     ]
    }
   ],
   "source": [
    "# Printing the test RMSE of the fine grid tuning model\n",
    "print(\"Fine Grid Tuning MARS Model Test RMSE:\", np.sqrt(mean_squared_error(y_test, rounded_pred_opt)))"
   ]
  },
  {
   "cell_type": "markdown",
   "metadata": {},
   "source": [
    "### Plotting Residuals & Actual vs Predicted Values"
   ]
  },
  {
   "cell_type": "code",
   "execution_count": 7,
   "metadata": {},
   "outputs": [],
   "source": [
    "# Converting rounded_pred_opt to a df\n",
    "rounded_pred_opt = pd.Series(rounded_pred_opt, name='quality')\n",
    "rounded_pred_opt = rounded_pred_opt.to_frame().rename(columns={'quality': 'quality'})\n",
    "\n",
    "\n",
    "# Calculate residuals\n",
    "residuals = y_test - rounded_pred_opt"
   ]
  },
  {
   "cell_type": "code",
   "execution_count": 8,
   "metadata": {},
   "outputs": [
    {
     "data": {
      "image/png": "[encoded data removed]",
      "text/plain": [
       "<Figure size 640x480 with 1 Axes>"
      ]
     },
     "metadata": {},
     "output_type": "display_data"
    }
   ],
   "source": [
    "# Plotting residuals \n",
    "df = pd.concat([rounded_pred_opt, residuals], axis=1)\n",
    "df.columns = ['quality', 'residuals']\n",
    "\n",
    "# Jittering the points\n",
    "jitter_amount = 0.3\n",
    "df['jittered_residuals'] = df['residuals'] + np.random.uniform(low=-jitter_amount, high=jitter_amount, size=len(df))\n",
    "\n",
    "# Plotting the points\n",
    "residual_mars_plt = df.plot(x='quality', y='jittered_residuals', kind='scatter')\n",
    "residual_mars_plt.axhline(y=0, color='red', linestyle='--')  # Add line y = 0\n",
    "residual_mars_plt.set_xlabel('Predicted Quality Values')\n",
    "residual_mars_plt.set_ylabel('Residuals')\n",
    "residual_mars_plt.set_title('Residual Plot')\n",
    "residual_mars_plt.set_xlim([0, 10])\n",
    "residual_mars_plt.set_ylim([-5, 5])\n",
    "residual_mars_plt.set_yticks([-5, 0, 5])\n",
    "\n",
    "# Saving the PNG\n",
    "residual_mars_plt.get_figure().savefig('residual_plot_MARS.png', dpi = 300)"
   ]
  },
  {
   "cell_type": "code",
   "execution_count": 9,
   "metadata": {},
   "outputs": [
    {
     "data": {
      "image/png": "[encoded data removed]",
      "text/plain": [
       "<Figure size 640x480 with 1 Axes>"
      ]
     },
     "metadata": {},
     "output_type": "display_data"
    }
   ],
   "source": [
    "# Plotting predicted vs actual y values\n",
    "plt.scatter(y_test, rounded_pred_opt)\n",
    "plt.xlabel('Actual Quality Values')\n",
    "plt.ylabel('Predicted Quality Values')\n",
    "plt.title('Predicted vs Actual Quality values')\n",
    "plt.ylim([0, 10])\n",
    "plt.plot([0, 10], [0, 10], color='red')\n",
    "plt.show()"
   ]
  },
  {
   "cell_type": "markdown",
   "metadata": {},
   "source": [
    "### Creating a Model to Predict Residuals"
   ]
  },
  {
   "cell_type": "code",
   "execution_count": 10,
   "metadata": {},
   "outputs": [
    {
     "name": "stdout",
     "output_type": "stream",
     "text": [
      "RMSE of Residual Model: 0.76\n"
     ]
    },
    {
     "name": "stderr",
     "output_type": "stream",
     "text": [
      "/Users/lilawells/opt/anaconda3/lib/python3.9/site-packages/pyearth/earth.py:813: FutureWarning: `rcond` parameter will change to the default of machine precision times ``max(M, N)`` where M and N are the input matrix dimensions.\n",
      "To use the future default and silence this warning we advise to pass `rcond=None`, to keep using the old, explicitly pass `rcond=-1`.\n",
      "  pruning_passer.run()\n",
      "/Users/lilawells/opt/anaconda3/lib/python3.9/site-packages/pyearth/earth.py:1066: FutureWarning: `rcond` parameter will change to the default of machine precision times ``max(M, N)`` where M and N are the input matrix dimensions.\n",
      "To use the future default and silence this warning we advise to pass `rcond=None`, to keep using the old, explicitly pass `rcond=-1`.\n",
      "  coef, resid = np.linalg.lstsq(B, weighted_y[:, i])[0:2]\n"
     ]
    }
   ],
   "source": [
    "# Fit a MARS model to predict residuals\n",
    "residual_model = Earth()\n",
    "residual_model.fit(rounded_pred_opt, residuals)\n",
    "\n",
    "# Make predictions on test set\n",
    "residuals_pred = residual_model.predict(rounded_pred_opt)\n",
    "\n",
    "# Calculate overall RMSE of the residual model\n",
    "residual_model_rmse = np.sqrt(mean_squared_error(residuals, residuals_pred))\n",
    "\n",
    "print(\"RMSE of Residual Model: {:.2f}\".format(residual_model_rmse))"
   ]
  },
  {
   "cell_type": "markdown",
   "metadata": {},
   "source": [
    "### Finalizing the Model & Predictions"
   ]
  },
  {
   "cell_type": "code",
   "execution_count": 11,
   "metadata": {},
   "outputs": [
    {
     "name": "stdout",
     "output_type": "stream",
     "text": [
      "Test RMSE of Fine Grid MARS Model & Residuals Model: 0.7760848486523186\n"
     ]
    }
   ],
   "source": [
    "# Making predictions using the optimized MARS model and the residuals model as well\n",
    "    # Optimized MARS model predictions held in 'rounded_pred_opt'\n",
    "\n",
    "# Making predictions with the residuals model\n",
    "residuals_pred_unrounded = residual_model.predict(rounded_pred_opt)\n",
    "\n",
    "# Rounding predictions to the nearest integer \n",
    "residuals_pred = [round(p) for p in residuals_pred_unrounded]\n",
    "residuals_pred_series = pd.Series(residuals_pred, name='quality') # Making residuals into a series\n",
    "\n",
    "# Add predicted residuals to y_pred to get final predictions\n",
    "y_pred_final = pd.concat([rounded_pred_opt, residuals_pred_series], axis=1).sum(axis=1)\n",
    "\n",
    "# Calculating the final MARS model RMSE \n",
    "print(\"Test RMSE of Fine Grid MARS Model & Residuals Model:\", np.sqrt(mean_squared_error(y_test, y_pred_final)))"
   ]
  }
 ],
 "metadata": {
  "interpreter": {
   "hash": "32f5ec6d91cde40665c038dca6626e6d343a99d63b32541ba0cad7db730fa124"
  },
  "kernelspec": {
   "display_name": "Python 3.9.16 ('base')",
   "language": "python",
   "name": "python3"
  },
  "language_info": {
   "codemirror_mode": {
    "name": "ipython",
    "version": 3
   },
   "file_extension": ".py",
   "mimetype": "text/x-python",
   "name": "python",
   "nbconvert_exporter": "python",
   "pygments_lexer": "ipython3",
   "version": "3.9.16"
  },
  "orig_nbformat": 4
 },
 "nbformat": 4,
 "nbformat_minor": 2
}
