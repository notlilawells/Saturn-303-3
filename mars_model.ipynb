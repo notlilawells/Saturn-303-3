{
 "cells": [
  {
   "cell_type": "code",
   "execution_count": 1,
   "metadata": {},
   "outputs": [],
   "source": [
    "# Importing libraries \n",
    "import pandas as pd\n",
    "import numpy as np\n",
    "import matplotlib.pyplot as plt \n",
    "from sklearn.model_selection import cross_val_score,train_test_split, KFold, cross_val_predict\n",
    "from sklearn.linear_model import LogisticRegression, LinearRegression\n",
    "from sklearn.metrics import mean_squared_error, accuracy_score, recall_score\n",
    "from sklearn.utils import parallel_backend\n",
    "from pyearth import Earth\n",
    "from patsy import dmatrix\n",
    "from sklearn.model_selection import GridSearchCV\n",
    "import statsmodels.formula.api as smf\n",
    "from sklearn.preprocessing import PolynomialFeatures\n",
    "import warnings\n",
    "from pyearth import Earth"
   ]
  },
  {
   "cell_type": "code",
   "execution_count": 2,
   "metadata": {},
   "outputs": [],
   "source": [
    "# Loading data\n",
    "X_test = pd.read_csv('data/X_test.csv')\n",
    "X_train = pd.read_csv('data/X_train.csv')\n",
    "y_test = pd.read_csv('data/y_test.csv')\n",
    "y_train = pd.read_csv('data/y_train.csv')"
   ]
  },
  {
   "cell_type": "code",
   "execution_count": 3,
   "metadata": {},
   "outputs": [],
   "source": [
    "warnings.filterwarnings(\"ignore\")\n",
    "warnings.simplefilter(action='ignore', category = FutureWarning)\n",
    "\n",
    "# Initializing optimal parameters & best score variables\n",
    "opt_degree = 1\n",
    "opt_max_terms = 500\n",
    "best_score = -float('inf')\n",
    "\n",
    "# Outer loop for degree\n",
    "for degree in range(1, 10):\n",
    "    # Creating a MARS model with the current degree and max_terms\n",
    "    model = Earth(max_terms = 500, max_degree = degree)\n",
    "    \n",
    "    # Inner loop for max_terms\n",
    "    for max_terms in [500, 750, 1000, 1250, 1500]:\n",
    "        # Setting the current max_terms\n",
    "        model.max_terms = max_terms\n",
    "        \n",
    "        # 5-fold cross validation\n",
    "        scores = cross_val_score(model, X_train, y_train, cv = 5, scoring='neg_mean_squared_error')\n",
    "        \n",
    "        # Computing mean score\n",
    "        mean_score = scores.mean()\n",
    "        \n",
    "        # Checking if mean score is better than the current best score\n",
    "        if mean_score > best_score:\n",
    "            best_score = mean_score\n",
    "            opt_degree = degree\n",
    "            opt_max_terms = max_terms\n",
    "            \n",
    "# Training a new MARS model on the entire training set using the optimal parameters\n",
    "model = Earth(max_terms = opt_max_terms, max_degree = opt_degree)\n",
    "model.fit(X_train, y_train)\n",
    "\n",
    "# Evaluating the model on the test set\n",
    "rmse_optimal = np.sqrt(mean_squared_error(y_test, model.predict(X_test)))\n",
    "print(\"Optimal degree:\", opt_degree)\n",
    "print(\"Optimal max_terms:\", opt_max_terms)\n"
   ]
  },
  {
   "cell_type": "code",
   "execution_count": null,
   "metadata": {},
   "outputs": [],
   "source": [
    "mars_model = Earth(max_terms = 22, max_degree = 100)\n",
    "mars_model.fit(X_train, y_train)"
   ]
  },
  {
   "cell_type": "code",
   "execution_count": null,
   "metadata": {},
   "outputs": [],
   "source": [
    "print(mars_model.summary())"
   ]
  },
  {
   "cell_type": "code",
   "execution_count": null,
   "metadata": {},
   "outputs": [],
   "source": [
    "print(\"Train RMSE:\", np.sqrt(mean_squared_error(y_train, mars_model.predict(X_train))))\n",
    "print(\"Test RMSE:\", np.sqrt(mean_squared_error(y_test, mars_model.predict(X_test))))"
   ]
  }
 ],
 "metadata": {
  "interpreter": {
   "hash": "32f5ec6d91cde40665c038dca6626e6d343a99d63b32541ba0cad7db730fa124"
  },
  "kernelspec": {
   "display_name": "Python 3.9.16 ('base')",
   "language": "python",
   "name": "python3"
  },
  "language_info": {
   "codemirror_mode": {
    "name": "ipython",
    "version": 3
   },
   "file_extension": ".py",
   "mimetype": "text/x-python",
   "name": "python",
   "nbconvert_exporter": "python",
   "pygments_lexer": "ipython3",
   "version": "3.9.16"
  },
  "orig_nbformat": 4
 },
 "nbformat": 4,
 "nbformat_minor": 2
}
