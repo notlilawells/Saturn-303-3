{
 "cells": [
  {
   "cell_type": "code",
   "execution_count": 1,
   "metadata": {},
   "outputs": [],
   "source": [
    "# Importing libraries \n",
    "import pandas as pd\n",
    "import numpy as np\n",
    "import matplotlib.pyplot as plt \n",
    "from sklearn.model_selection import cross_val_score,train_test_split, KFold, cross_val_predict\n",
    "from sklearn.linear_model import LogisticRegression, LinearRegression\n",
    "from sklearn.metrics import mean_squared_error, accuracy_score, recall_score\n",
    "from sklearn.utils import parallel_backend\n",
    "from pyearth import Earth\n",
    "from patsy import dmatrix\n",
    "from sklearn.model_selection import GridSearchCV\n",
    "import statsmodels.formula.api as smf\n",
    "from sklearn.preprocessing import PolynomialFeatures\n",
    "import warnings\n",
    "from pyearth import Earth\n",
    "from sklearn.model_selection import RandomizedSearchCV, KFold\n"
   ]
  },
  {
   "cell_type": "code",
   "execution_count": 2,
   "metadata": {},
   "outputs": [],
   "source": [
    "# Loading data\n",
    "X_test = pd.read_csv('data/X_test.csv')\n",
    "X_train = pd.read_csv('data/X_train.csv')\n",
    "y_test = pd.read_csv('data/y_test.csv')\n",
    "y_train = pd.read_csv('data/y_train.csv')"
   ]
  },
  {
   "cell_type": "markdown",
   "metadata": {},
   "source": [
    "### Coarse Grid Hyperparameter Optimization"
   ]
  },
  {
   "cell_type": "code",
   "execution_count": 14,
   "metadata": {},
   "outputs": [
    {
     "name": "stdout",
     "output_type": "stream",
     "text": [
      "Fitting models for degree =  1\n",
      "     Fitting models for degree =  1 and max_terms =  400\n",
      "     Fitting models for degree =  1 and max_terms =  600\n",
      "     Fitting models for degree =  1 and max_terms =  800\n",
      "     Fitting models for degree =  1 and max_terms =  1000\n",
      "     Fitting models for degree =  1 and max_terms =  1200\n",
      "Fitting models for degree =  3\n",
      "     Fitting models for degree =  3 and max_terms =  400\n",
      "     Fitting models for degree =  3 and max_terms =  600\n",
      "     Fitting models for degree =  3 and max_terms =  800\n",
      "     Fitting models for degree =  3 and max_terms =  1000\n",
      "     Fitting models for degree =  3 and max_terms =  1200\n",
      "Fitting models for degree =  5\n",
      "     Fitting models for degree =  5 and max_terms =  400\n",
      "     Fitting models for degree =  5 and max_terms =  600\n",
      "     Fitting models for degree =  5 and max_terms =  800\n",
      "     Fitting models for degree =  5 and max_terms =  1000\n",
      "     Fitting models for degree =  5 and max_terms =  1200\n",
      "Fitting models for degree =  7\n",
      "     Fitting models for degree =  7 and max_terms =  400\n",
      "     Fitting models for degree =  7 and max_terms =  600\n",
      "     Fitting models for degree =  7 and max_terms =  800\n",
      "     Fitting models for degree =  7 and max_terms =  1000\n",
      "     Fitting models for degree =  7 and max_terms =  1200\n",
      "Fitting models for degree =  9\n",
      "     Fitting models for degree =  9 and max_terms =  400\n",
      "     Fitting models for degree =  9 and max_terms =  600\n",
      "     Fitting models for degree =  9 and max_terms =  800\n",
      "     Fitting models for degree =  9 and max_terms =  1000\n",
      "     Fitting models for degree =  9 and max_terms =  1200\n"
     ]
    },
    {
     "data": {
      "text/html": [
       "<style>#sk-container-id-1 {color: black;background-color: white;}#sk-container-id-1 pre{padding: 0;}#sk-container-id-1 div.sk-toggleable {background-color: white;}#sk-container-id-1 label.sk-toggleable__label {cursor: pointer;display: block;width: 100%;margin-bottom: 0;padding: 0.3em;box-sizing: border-box;text-align: center;}#sk-container-id-1 label.sk-toggleable__label-arrow:before {content: \"▸\";float: left;margin-right: 0.25em;color: #696969;}#sk-container-id-1 label.sk-toggleable__label-arrow:hover:before {color: black;}#sk-container-id-1 div.sk-estimator:hover label.sk-toggleable__label-arrow:before {color: black;}#sk-container-id-1 div.sk-toggleable__content {max-height: 0;max-width: 0;overflow: hidden;text-align: left;background-color: #f0f8ff;}#sk-container-id-1 div.sk-toggleable__content pre {margin: 0.2em;color: black;border-radius: 0.25em;background-color: #f0f8ff;}#sk-container-id-1 input.sk-toggleable__control:checked~div.sk-toggleable__content {max-height: 200px;max-width: 100%;overflow: auto;}#sk-container-id-1 input.sk-toggleable__control:checked~label.sk-toggleable__label-arrow:before {content: \"▾\";}#sk-container-id-1 div.sk-estimator input.sk-toggleable__control:checked~label.sk-toggleable__label {background-color: #d4ebff;}#sk-container-id-1 div.sk-label input.sk-toggleable__control:checked~label.sk-toggleable__label {background-color: #d4ebff;}#sk-container-id-1 input.sk-hidden--visually {border: 0;clip: rect(1px 1px 1px 1px);clip: rect(1px, 1px, 1px, 1px);height: 1px;margin: -1px;overflow: hidden;padding: 0;position: absolute;width: 1px;}#sk-container-id-1 div.sk-estimator {font-family: monospace;background-color: #f0f8ff;border: 1px dotted black;border-radius: 0.25em;box-sizing: border-box;margin-bottom: 0.5em;}#sk-container-id-1 div.sk-estimator:hover {background-color: #d4ebff;}#sk-container-id-1 div.sk-parallel-item::after {content: \"\";width: 100%;border-bottom: 1px solid gray;flex-grow: 1;}#sk-container-id-1 div.sk-label:hover label.sk-toggleable__label {background-color: #d4ebff;}#sk-container-id-1 div.sk-serial::before {content: \"\";position: absolute;border-left: 1px solid gray;box-sizing: border-box;top: 0;bottom: 0;left: 50%;z-index: 0;}#sk-container-id-1 div.sk-serial {display: flex;flex-direction: column;align-items: center;background-color: white;padding-right: 0.2em;padding-left: 0.2em;position: relative;}#sk-container-id-1 div.sk-item {position: relative;z-index: 1;}#sk-container-id-1 div.sk-parallel {display: flex;align-items: stretch;justify-content: center;background-color: white;position: relative;}#sk-container-id-1 div.sk-item::before, #sk-container-id-1 div.sk-parallel-item::before {content: \"\";position: absolute;border-left: 1px solid gray;box-sizing: border-box;top: 0;bottom: 0;left: 50%;z-index: -1;}#sk-container-id-1 div.sk-parallel-item {display: flex;flex-direction: column;z-index: 1;position: relative;background-color: white;}#sk-container-id-1 div.sk-parallel-item:first-child::after {align-self: flex-end;width: 50%;}#sk-container-id-1 div.sk-parallel-item:last-child::after {align-self: flex-start;width: 50%;}#sk-container-id-1 div.sk-parallel-item:only-child::after {width: 0;}#sk-container-id-1 div.sk-dashed-wrapped {border: 1px dashed gray;margin: 0 0.4em 0.5em 0.4em;box-sizing: border-box;padding-bottom: 0.4em;background-color: white;}#sk-container-id-1 div.sk-label label {font-family: monospace;font-weight: bold;display: inline-block;line-height: 1.2em;}#sk-container-id-1 div.sk-label-container {text-align: center;}#sk-container-id-1 div.sk-container {/* jupyter's `normalize.less` sets `[hidden] { display: none; }` but bootstrap.min.css set `[hidden] { display: none !important; }` so we also need the `!important` here to be able to override the default hidden behavior on the sphinx rendered scikit-learn.org. See: https://github.com/scikit-learn/scikit-learn/issues/21755 */display: inline-block !important;position: relative;}#sk-container-id-1 div.sk-text-repr-fallback {display: none;}</style><div id=\"sk-container-id-1\" class=\"sk-top-container\"><div class=\"sk-text-repr-fallback\"><pre>Earth(max_degree=5, max_terms=400)</pre><b>In a Jupyter environment, please rerun this cell to show the HTML representation or trust the notebook. <br />On GitHub, the HTML representation is unable to render, please try loading this page with nbviewer.org.</b></div><div class=\"sk-container\" hidden><div class=\"sk-item\"><div class=\"sk-estimator sk-toggleable\"><input class=\"sk-toggleable__control sk-hidden--visually\" id=\"sk-estimator-id-1\" type=\"checkbox\" checked><label for=\"sk-estimator-id-1\" class=\"sk-toggleable__label sk-toggleable__label-arrow\">Earth</label><div class=\"sk-toggleable__content\"><pre>Earth(max_degree=5, max_terms=400)</pre></div></div></div></div></div>"
      ],
      "text/plain": [
       "Earth(max_degree=5, max_terms=400)"
      ]
     },
     "execution_count": 14,
     "metadata": {},
     "output_type": "execute_result"
    }
   ],
   "source": [
    "# Coarse grid search for hyperparameter optimization\n",
    "    # Note: I fit 25 models here and it took approximately an hour and a half (90 mins)\n",
    "\n",
    "warnings.filterwarnings(\"ignore\")\n",
    "warnings.simplefilter(action='ignore', category = FutureWarning)\n",
    "\n",
    "# Initializing optimal parameters & best score variables\n",
    "opt_degree = 1\n",
    "opt_max_terms = 500\n",
    "best_score = -float('inf')\n",
    "\n",
    "# Outer loop for degree\n",
    "for degree in range(1, 11, 2):\n",
    "    print('Fitting models for degree = ', degree)\n",
    "    # Creating a MARS model with the current degree and max_terms\n",
    "    model = Earth(max_terms = 500, max_degree = degree)\n",
    "    \n",
    "    # Inner loop for max_terms\n",
    "    for terms in range(400, 1201, 200):\n",
    "        print('     Fitting models for degree = ', degree, 'and max_terms = ', terms)\n",
    "        # Setting the current max_terms\n",
    "        model.max_terms = terms\n",
    "        \n",
    "        # 5-fold cross validation\n",
    "        scores = cross_val_score(model,\n",
    "                                 X_train,\n",
    "                                 y_train, \n",
    "                                 cv = 5, \n",
    "                                 scoring = 'neg_mean_squared_error')\n",
    "        \n",
    "        # Computing mean score\n",
    "        mean_score = scores.mean()\n",
    "        \n",
    "        # Checking if mean score is better than the current best score\n",
    "        if mean_score > best_score:\n",
    "            best_score = mean_score\n",
    "            opt_degree = degree\n",
    "            opt_max_terms = terms\n",
    "            \n",
    "# Training a new MARS model on the entire training set using the optimal parameters\n",
    "model = Earth(max_terms = opt_max_terms, max_degree = opt_degree)\n",
    "model.fit(X_train, y_train)"
   ]
  },
  {
   "cell_type": "code",
   "execution_count": 15,
   "metadata": {},
   "outputs": [
    {
     "name": "stdout",
     "output_type": "stream",
     "text": [
      "Optimal degree in coarse grid search =  5\n",
      "Optimal max_terms in coarse grid search =  400\n"
     ]
    }
   ],
   "source": [
    "print('Optimal degree in coarse grid search = ', opt_degree)\n",
    "print('Optimal max_terms in coarse grid search = ', opt_max_terms)"
   ]
  },
  {
   "cell_type": "code",
   "execution_count": 17,
   "metadata": {},
   "outputs": [
    {
     "name": "stdout",
     "output_type": "stream",
     "text": [
      "Earth Model\n",
      "------------------------------------------------------------------------------------------------------------------------------\n",
      "Basis Function                                                                                           Pruned  Coefficient  \n",
      "------------------------------------------------------------------------------------------------------------------------------\n",
      "(Intercept)                                                                                              No      9.45395      \n",
      "h(alcohol-0.869565)                                                                                      No      -14.0118     \n",
      "h(0.869565-alcohol)                                                                                      Yes     None         \n",
      "volatile acidity                                                                                         No      -3.94577     \n",
      "h(density-0.0213997)*h(0.869565-alcohol)                                                                 No      -22.2734     \n",
      "h(0.0213997-density)*h(0.869565-alcohol)                                                                 Yes     None         \n",
      "h(free sulfur dioxide-0.361111)                                                                          No      -170.985     \n",
      "h(0.361111-free sulfur dioxide)                                                                          No      -7.44648     \n",
      "total sulfur dioxide*h(0.869565-alcohol)                                                                 No      -5.16312     \n",
      "free sulfur dioxide*h(0.361111-free sulfur dioxide)                                                      No      18.7188      \n",
      "h(sulphates-0.539326)*h(0.361111-free sulfur dioxide)                                                    Yes     None         \n",
      "h(0.539326-sulphates)*h(0.361111-free sulfur dioxide)                                                    No      -6.91086     \n",
      "residual sugar*h(0.539326-sulphates)*h(0.361111-free sulfur dioxide)                                     No      89.8787      \n",
      "density*free sulfur dioxide*h(0.361111-free sulfur dioxide)                                              Yes     None         \n",
      "type_red*volatile acidity                                                                                Yes     None         \n",
      "h(total sulfur dioxide-0.585253)*residual sugar*h(0.539326-sulphates)*h(0.361111-free sulfur dioxide)    Yes     None         \n",
      "h(0.585253-total sulfur dioxide)*residual sugar*h(0.539326-sulphates)*h(0.361111-free sulfur dioxide)    No      -108.376     \n",
      "alcohol*total sulfur dioxide*h(0.869565-alcohol)                                                         No      -15.3459     \n",
      "density*alcohol*total sulfur dioxide*h(0.869565-alcohol)                                                 No      138.996      \n",
      "h(residual sugar-0.303681)*residual sugar*h(0.539326-sulphates)*h(0.361111-free sulfur dioxide)          No      1052.71      \n",
      "h(0.303681-residual sugar)*residual sugar*h(0.539326-sulphates)*h(0.361111-free sulfur dioxide)          No      190.029      \n",
      "pH*alcohol*total sulfur dioxide*h(0.869565-alcohol)                                                      Yes     None         \n",
      "pH*density*alcohol*total sulfur dioxide*h(0.869565-alcohol)                                              No      -188.617     \n",
      "fixed acidity*pH*alcohol*total sulfur dioxide*h(0.869565-alcohol)                                        No      87.743       \n",
      "h(residual sugar-0.303681)*density*free sulfur dioxide*h(0.361111-free sulfur dioxide)                   No      -4366.18     \n",
      "h(0.303681-residual sugar)*density*free sulfur dioxide*h(0.361111-free sulfur dioxide)                   Yes     None         \n",
      "free sulfur dioxide*free sulfur dioxide*h(0.361111-free sulfur dioxide)                                  No      -257.4       \n",
      "h(free sulfur dioxide-0.361111)*density*alcohol*total sulfur dioxide*h(0.869565-alcohol)                 Yes     None         \n",
      "h(0.361111-free sulfur dioxide)*density*alcohol*total sulfur dioxide*h(0.869565-alcohol)                 No      -857.272     \n",
      "h(free sulfur dioxide-0.361111)*h(density-0.0213997)*h(0.869565-alcohol)                                 Yes     None         \n",
      "h(0.361111-free sulfur dioxide)*h(density-0.0213997)*h(0.869565-alcohol)                                 Yes     None         \n",
      "pH*residual sugar*h(0.539326-sulphates)*h(0.361111-free sulfur dioxide)                                  No      -103.03      \n",
      "fixed acidity*type_red*volatile acidity                                                                  No      7.34443      \n",
      "volatile acidity*h(density-0.0213997)*h(0.869565-alcohol)                                                Yes     None         \n",
      "h(volatile acidity-0.64)*volatile acidity*h(density-0.0213997)*h(0.869565-alcohol)                       Yes     None         \n",
      "h(0.64-volatile acidity)*volatile acidity*h(density-0.0213997)*h(0.869565-alcohol)                       No      -78.9953     \n",
      "volatile acidity*type_red*volatile acidity                                                               Yes     None         \n",
      "type_red*free sulfur dioxide*h(0.361111-free sulfur dioxide)                                             No      -31.1459     \n",
      "free sulfur dioxide*density*free sulfur dioxide*h(0.361111-free sulfur dioxide)                          No      428.526      \n",
      "density*h(density-0.0213997)*h(0.869565-alcohol)                                                         No      76.985       \n",
      "fixed acidity*fixed acidity*type_red*volatile acidity                                                    No      -7.76624     \n",
      "chlorides*type_red*free sulfur dioxide*h(0.361111-free sulfur dioxide)                                   No      -53.0316     \n",
      "h(free sulfur dioxide-0.361111)*pH*alcohol*total sulfur dioxide*h(0.869565-alcohol)                      No      -1041.16     \n",
      "h(0.361111-free sulfur dioxide)*pH*alcohol*total sulfur dioxide*h(0.869565-alcohol)                      No      132.642      \n",
      "h(free sulfur dioxide-0.361111)*total sulfur dioxide*h(0.869565-alcohol)                                 No      540.745      \n",
      "h(0.361111-free sulfur dioxide)*total sulfur dioxide*h(0.869565-alcohol)                                 No      28.4529      \n",
      "type_red                                                                                                 No      0.94483      \n",
      "sulphates*pH*residual sugar*h(0.539326-sulphates)*h(0.361111-free sulfur dioxide)                        No      429.661      \n",
      "residual sugar*h(0.64-volatile acidity)*volatile acidity*h(density-0.0213997)*h(0.869565-alcohol)        No      -422.598     \n",
      "volatile acidity*free sulfur dioxide*h(0.361111-free sulfur dioxide)                                     No      142.219      \n",
      "volatile acidity*h(0.303681-residual sugar)*density*free sulfur dioxide*h(0.361111-free sulfur dioxide)  No      -2360.25     \n",
      "type_red*pH*residual sugar*h(0.539326-sulphates)*h(0.361111-free sulfur dioxide)                         No      -85.5439     \n",
      "alcohol*h(0.64-volatile acidity)*volatile acidity*h(density-0.0213997)*h(0.869565-alcohol)               No      134.705      \n",
      "volatile acidity*h(0.64-volatile acidity)*volatile acidity*h(density-0.0213997)*h(0.869565-alcohol)      No      146.924      \n",
      "------------------------------------------------------------------------------------------------------------------------------\n",
      "MSE: 0.4562, GCV: 0.4740, RSQ: 0.3884, GRSQ: 0.3648\n"
     ]
    }
   ],
   "source": [
    "# Defining the initial base model \n",
    "mars_init = Earth(max_terms = 400, max_degree = 5)\n",
    "mars_init.fit(X_train, y_train)\n",
    "print(mars_init.summary())"
   ]
  },
  {
   "cell_type": "code",
   "execution_count": 18,
   "metadata": {},
   "outputs": [],
   "source": [
    "# Making predictions\n",
    "pred = mars_init.predict(X_test)\n",
    "\n",
    "# Rounding predictions to the nearest integer \n",
    "rounded_pred = [round(p) for p in pred]"
   ]
  },
  {
   "cell_type": "code",
   "execution_count": 24,
   "metadata": {},
   "outputs": [
    {
     "name": "stdout",
     "output_type": "stream",
     "text": [
      "Coarse Grid Tuning MARS Model Test RMSE: 1.5657389506359167\n"
     ]
    }
   ],
   "source": [
    "print(\"Coarse Grid Tuning MARS Model Test RMSE:\", np.sqrt(mean_squared_error(y_test, rounded_pred)))"
   ]
  },
  {
   "cell_type": "markdown",
   "metadata": {},
   "source": [
    "### Fine Grid Hyperparameter Optimization"
   ]
  },
  {
   "cell_type": "code",
   "execution_count": 27,
   "metadata": {},
   "outputs": [
    {
     "name": "stdout",
     "output_type": "stream",
     "text": [
      "Fitting models for degree =  4\n",
      "     Fitting models for degree =  4 and max_terms =  300\n",
      "     Fitting models for degree =  4 and max_terms =  350\n",
      "     Fitting models for degree =  4 and max_terms =  400\n",
      "     Fitting models for degree =  4 and max_terms =  450\n",
      "     Fitting models for degree =  4 and max_terms =  500\n",
      "     Fitting models for degree =  4 and max_terms =  550\n",
      "     Fitting models for degree =  4 and max_terms =  600\n",
      "Fitting models for degree =  5\n",
      "     Fitting models for degree =  5 and max_terms =  300\n",
      "     Fitting models for degree =  5 and max_terms =  350\n",
      "     Fitting models for degree =  5 and max_terms =  400\n",
      "     Fitting models for degree =  5 and max_terms =  450\n",
      "     Fitting models for degree =  5 and max_terms =  500\n",
      "     Fitting models for degree =  5 and max_terms =  550\n",
      "     Fitting models for degree =  5 and max_terms =  600\n",
      "Optimal degree in fine grid search =  5\n",
      "Optimal max_terms in fine grid search =  600\n"
     ]
    }
   ],
   "source": [
    "# Finer grid search - Thinking that this will take around 64 minutes if I timed it right\n",
    "    # 18 models here total (vs the 25 in the larger coarse grid search)\n",
    "warnings.filterwarnings(\"ignore\")\n",
    "warnings.simplefilter(action='ignore', category = FutureWarning)\n",
    "\n",
    "# Initializing optimal parameters & best score variables\n",
    "opt_degree = 1\n",
    "opt_max_terms = 500\n",
    "best_score = -float('inf')\n",
    "\n",
    "# Outer loop for degree\n",
    "for degree in range(4, 7): # Now focusing in around 4, 5, 6\n",
    "    print('Fitting models for degree = ', degree)\n",
    "    # Creating a MARS model with the current degree and max_terms\n",
    "    model = Earth(max_terms = 500, max_degree = degree)\n",
    "    \n",
    "    # Inner loop for max_terms\n",
    "    for terms in range(300, 601, 50): # Now looking from 300 to 600 in steps of 50\n",
    "        print('     Fitting models for degree = ', degree, 'and max_terms = ', terms)\n",
    "        # Setting the current max_terms\n",
    "        model.max_terms = terms\n",
    "        \n",
    "        # 5-fold cross validation\n",
    "        scores = cross_val_score(model,\n",
    "                                 X_train,\n",
    "                                 y_train, \n",
    "                                 cv = 5, \n",
    "                                 scoring = 'neg_mean_squared_error')\n",
    "        \n",
    "        # Computing mean score\n",
    "        mean_score = scores.mean()\n",
    "        \n",
    "        # Checking if mean score is better than the current best score\n",
    "        if mean_score > best_score:\n",
    "            best_score = mean_score\n",
    "            opt_degree = degree\n",
    "            opt_max_terms = terms\n",
    "            \n",
    "print(\"Optimal degree in fine grid search = \", degree)\n",
    "print(\"Optimal max_terms in fine grid search = \", terms)"
   ]
  },
  {
   "cell_type": "code",
   "execution_count": 30,
   "metadata": {},
   "outputs": [
    {
     "data": {
      "text/html": [
       "<style>#sk-container-id-2 {color: black;background-color: white;}#sk-container-id-2 pre{padding: 0;}#sk-container-id-2 div.sk-toggleable {background-color: white;}#sk-container-id-2 label.sk-toggleable__label {cursor: pointer;display: block;width: 100%;margin-bottom: 0;padding: 0.3em;box-sizing: border-box;text-align: center;}#sk-container-id-2 label.sk-toggleable__label-arrow:before {content: \"▸\";float: left;margin-right: 0.25em;color: #696969;}#sk-container-id-2 label.sk-toggleable__label-arrow:hover:before {color: black;}#sk-container-id-2 div.sk-estimator:hover label.sk-toggleable__label-arrow:before {color: black;}#sk-container-id-2 div.sk-toggleable__content {max-height: 0;max-width: 0;overflow: hidden;text-align: left;background-color: #f0f8ff;}#sk-container-id-2 div.sk-toggleable__content pre {margin: 0.2em;color: black;border-radius: 0.25em;background-color: #f0f8ff;}#sk-container-id-2 input.sk-toggleable__control:checked~div.sk-toggleable__content {max-height: 200px;max-width: 100%;overflow: auto;}#sk-container-id-2 input.sk-toggleable__control:checked~label.sk-toggleable__label-arrow:before {content: \"▾\";}#sk-container-id-2 div.sk-estimator input.sk-toggleable__control:checked~label.sk-toggleable__label {background-color: #d4ebff;}#sk-container-id-2 div.sk-label input.sk-toggleable__control:checked~label.sk-toggleable__label {background-color: #d4ebff;}#sk-container-id-2 input.sk-hidden--visually {border: 0;clip: rect(1px 1px 1px 1px);clip: rect(1px, 1px, 1px, 1px);height: 1px;margin: -1px;overflow: hidden;padding: 0;position: absolute;width: 1px;}#sk-container-id-2 div.sk-estimator {font-family: monospace;background-color: #f0f8ff;border: 1px dotted black;border-radius: 0.25em;box-sizing: border-box;margin-bottom: 0.5em;}#sk-container-id-2 div.sk-estimator:hover {background-color: #d4ebff;}#sk-container-id-2 div.sk-parallel-item::after {content: \"\";width: 100%;border-bottom: 1px solid gray;flex-grow: 1;}#sk-container-id-2 div.sk-label:hover label.sk-toggleable__label {background-color: #d4ebff;}#sk-container-id-2 div.sk-serial::before {content: \"\";position: absolute;border-left: 1px solid gray;box-sizing: border-box;top: 0;bottom: 0;left: 50%;z-index: 0;}#sk-container-id-2 div.sk-serial {display: flex;flex-direction: column;align-items: center;background-color: white;padding-right: 0.2em;padding-left: 0.2em;position: relative;}#sk-container-id-2 div.sk-item {position: relative;z-index: 1;}#sk-container-id-2 div.sk-parallel {display: flex;align-items: stretch;justify-content: center;background-color: white;position: relative;}#sk-container-id-2 div.sk-item::before, #sk-container-id-2 div.sk-parallel-item::before {content: \"\";position: absolute;border-left: 1px solid gray;box-sizing: border-box;top: 0;bottom: 0;left: 50%;z-index: -1;}#sk-container-id-2 div.sk-parallel-item {display: flex;flex-direction: column;z-index: 1;position: relative;background-color: white;}#sk-container-id-2 div.sk-parallel-item:first-child::after {align-self: flex-end;width: 50%;}#sk-container-id-2 div.sk-parallel-item:last-child::after {align-self: flex-start;width: 50%;}#sk-container-id-2 div.sk-parallel-item:only-child::after {width: 0;}#sk-container-id-2 div.sk-dashed-wrapped {border: 1px dashed gray;margin: 0 0.4em 0.5em 0.4em;box-sizing: border-box;padding-bottom: 0.4em;background-color: white;}#sk-container-id-2 div.sk-label label {font-family: monospace;font-weight: bold;display: inline-block;line-height: 1.2em;}#sk-container-id-2 div.sk-label-container {text-align: center;}#sk-container-id-2 div.sk-container {/* jupyter's `normalize.less` sets `[hidden] { display: none; }` but bootstrap.min.css set `[hidden] { display: none !important; }` so we also need the `!important` here to be able to override the default hidden behavior on the sphinx rendered scikit-learn.org. See: https://github.com/scikit-learn/scikit-learn/issues/21755 */display: inline-block !important;position: relative;}#sk-container-id-2 div.sk-text-repr-fallback {display: none;}</style><div id=\"sk-container-id-2\" class=\"sk-top-container\"><div class=\"sk-text-repr-fallback\"><pre>Earth(max_degree=5, max_terms=600)</pre><b>In a Jupyter environment, please rerun this cell to show the HTML representation or trust the notebook. <br />On GitHub, the HTML representation is unable to render, please try loading this page with nbviewer.org.</b></div><div class=\"sk-container\" hidden><div class=\"sk-item\"><div class=\"sk-estimator sk-toggleable\"><input class=\"sk-toggleable__control sk-hidden--visually\" id=\"sk-estimator-id-2\" type=\"checkbox\" checked><label for=\"sk-estimator-id-2\" class=\"sk-toggleable__label sk-toggleable__label-arrow\">Earth</label><div class=\"sk-toggleable__content\"><pre>Earth(max_degree=5, max_terms=600)</pre></div></div></div></div></div>"
      ],
      "text/plain": [
       "Earth(max_degree=5, max_terms=600)"
      ]
     },
     "execution_count": 30,
     "metadata": {},
     "output_type": "execute_result"
    }
   ],
   "source": [
    "# Defining the initial base model \n",
    "mars_model = Earth(max_terms = 600, max_degree = 5)\n",
    "mars_model.fit(X_train, y_train)"
   ]
  },
  {
   "cell_type": "code",
   "execution_count": 32,
   "metadata": {},
   "outputs": [],
   "source": [
    "# Making predictions\n",
    "pred_opt = mars_model.predict(X_test)\n",
    "\n",
    "# Rounding predictions to the nearest integer \n",
    "rounded_pred_opt = [round(p) for p in pred_opt]"
   ]
  },
  {
   "cell_type": "code",
   "execution_count": 33,
   "metadata": {},
   "outputs": [
    {
     "name": "stdout",
     "output_type": "stream",
     "text": [
      "Fine Grid Tuning MARS Model Test RMSE: 1.5657389506359167\n"
     ]
    }
   ],
   "source": [
    "# Printing the test RMSE of the fine grid tuning model\n",
    "print(\"Fine Grid Tuning MARS Model Test RMSE:\", np.sqrt(mean_squared_error(y_test, rounded_pred_opt)))"
   ]
  },
  {
   "cell_type": "code",
   "execution_count": 49,
   "metadata": {},
   "outputs": [
    {
     "name": "stdout",
     "output_type": "stream",
     "text": [
      "RangeIndex(start=0, stop=1300, step=1)\n",
      "      quality   0   1   2   3   4   5   6   7   8  ...  1290  1291  1292  \\\n",
      "0         NaN NaN NaN NaN NaN NaN NaN NaN NaN NaN  ...   NaN   NaN   NaN   \n",
      "1         NaN NaN NaN NaN NaN NaN NaN NaN NaN NaN  ...   NaN   NaN   NaN   \n",
      "2         NaN NaN NaN NaN NaN NaN NaN NaN NaN NaN  ...   NaN   NaN   NaN   \n",
      "3         NaN NaN NaN NaN NaN NaN NaN NaN NaN NaN  ...   NaN   NaN   NaN   \n",
      "4         NaN NaN NaN NaN NaN NaN NaN NaN NaN NaN  ...   NaN   NaN   NaN   \n",
      "...       ...  ..  ..  ..  ..  ..  ..  ..  ..  ..  ...   ...   ...   ...   \n",
      "1295      NaN NaN NaN NaN NaN NaN NaN NaN NaN NaN  ...   NaN   NaN   NaN   \n",
      "1296      NaN NaN NaN NaN NaN NaN NaN NaN NaN NaN  ...   NaN   NaN   NaN   \n",
      "1297      NaN NaN NaN NaN NaN NaN NaN NaN NaN NaN  ...   NaN   NaN   NaN   \n",
      "1298      NaN NaN NaN NaN NaN NaN NaN NaN NaN NaN  ...   NaN   NaN   NaN   \n",
      "1299      NaN NaN NaN NaN NaN NaN NaN NaN NaN NaN  ...   NaN   NaN   NaN   \n",
      "\n",
      "      1293  1294  1295  1296  1297  1298  1299  \n",
      "0      NaN   NaN   NaN   NaN   NaN   NaN   NaN  \n",
      "1      NaN   NaN   NaN   NaN   NaN   NaN   NaN  \n",
      "2      NaN   NaN   NaN   NaN   NaN   NaN   NaN  \n",
      "3      NaN   NaN   NaN   NaN   NaN   NaN   NaN  \n",
      "4      NaN   NaN   NaN   NaN   NaN   NaN   NaN  \n",
      "...    ...   ...   ...   ...   ...   ...   ...  \n",
      "1295   NaN   NaN   NaN   NaN   NaN   NaN   NaN  \n",
      "1296   NaN   NaN   NaN   NaN   NaN   NaN   NaN  \n",
      "1297   NaN   NaN   NaN   NaN   NaN   NaN   NaN  \n",
      "1298   NaN   NaN   NaN   NaN   NaN   NaN   NaN  \n",
      "1299   NaN   NaN   NaN   NaN   NaN   NaN   NaN  \n",
      "\n",
      "[1300 rows x 1301 columns]\n"
     ]
    }
   ],
   "source": [
    "print(rounded_pred_opt.index)\n",
    "print(residuals)\n"
   ]
  },
  {
   "cell_type": "markdown",
   "metadata": {},
   "source": [
    "### Plotting Residuals & Actual vs Predicted Values"
   ]
  },
  {
   "cell_type": "code",
   "execution_count": 56,
   "metadata": {},
   "outputs": [],
   "source": [
    "# Converting rounded_pred_opt to a df\n",
    "rounded_pred_opt = pd.Series(rounded_pred_opt, name='quality')\n",
    "rounded_pred_opt = rounded_pred_opt.to_frame().rename(columns={'quality': 'quality'})\n",
    "\n",
    "\n",
    "# Calculate residuals\n",
    "residuals = y_test - rounded_pred_opt"
   ]
  },
  {
   "cell_type": "code",
   "execution_count": 79,
   "metadata": {},
   "outputs": [
    {
     "ename": "AttributeError",
     "evalue": "'Axes' object has no attribute 'savefig'",
     "output_type": "error",
     "traceback": [
      "\u001b[0;31m---------------------------------------------------------------------------\u001b[0m",
      "\u001b[0;31mAttributeError\u001b[0m                            Traceback (most recent call last)",
      "Cell \u001b[0;32mIn[79], line 12\u001b[0m\n\u001b[1;32m      9\u001b[0m residual_mars_plt\u001b[38;5;241m.\u001b[39mset_xlim([\u001b[38;5;241m0\u001b[39m, \u001b[38;5;241m10\u001b[39m])\n\u001b[1;32m     11\u001b[0m \u001b[38;5;66;03m# Saving the PNG\u001b[39;00m\n\u001b[0;32m---> 12\u001b[0m \u001b[43mresidual_mars_plt\u001b[49m\u001b[38;5;241;43m.\u001b[39;49m\u001b[43msavefig\u001b[49m(\u001b[38;5;124m'\u001b[39m\u001b[38;5;124mresidual_plot_MARS.png\u001b[39m\u001b[38;5;124m'\u001b[39m, dpi \u001b[38;5;241m=\u001b[39m \u001b[38;5;241m300\u001b[39m)\n",
      "\u001b[0;31mAttributeError\u001b[0m: 'Axes' object has no attribute 'savefig'"
     ]
    },
    {
     "data": {
      "image/png": "[encoded data removed]",
      "text/plain": [
       "<Figure size 640x480 with 1 Axes>"
      ]
     },
     "metadata": {},
     "output_type": "display_data"
    }
   ],
   "source": [
    "# Plotting residuals \n",
    "df = pd.concat([rounded_pred_opt, residuals], axis=1)\n",
    "df.columns = ['quality', 'residuals']\n",
    "\n",
    "residual_mars_plt = df.plot(x='quality', y='residuals', kind='scatter')\n",
    "residual_mars_plt.set_xlabel('Predicted Quality Values')\n",
    "residual_mars_plt.set_ylabel('Residuals')\n",
    "residual_mars_plt.set_title('Residual Plot')\n",
    "residual_mars_plt.set_xlim([0, 10])\n",
    "\n",
    "# Saving the PNG\n",
    "residual_mars_plt.savefig('residual_plot_MARS.png', dpi = 300)"
   ]
  },
  {
   "cell_type": "code",
   "execution_count": 74,
   "metadata": {},
   "outputs": [
    {
     "data": {
      "image/png": "[encoded data removed]",
      "text/plain": [
       "<Figure size 640x480 with 1 Axes>"
      ]
     },
     "metadata": {},
     "output_type": "display_data"
    }
   ],
   "source": [
    "# Plotting predicted vs actual y values\n",
    "plt.scatter(y_test, rounded_pred_opt)\n",
    "plt.xlabel('Actual Quality Values')\n",
    "plt.ylabel('Predicted Quality Values')\n",
    "plt.title('Predicted vs Actual Quality values')\n",
    "plt.ylim([0, 10])\n",
    "plt.plot([0, 10], [0, 10], color='red')\n",
    "plt.show()"
   ]
  },
  {
   "cell_type": "markdown",
   "metadata": {},
   "source": [
    "### Creating a Model to Predict Residuals"
   ]
  },
  {
   "cell_type": "code",
   "execution_count": 71,
   "metadata": {},
   "outputs": [
    {
     "name": "stdout",
     "output_type": "stream",
     "text": [
      "RMSE of Residual Model: 0.75\n"
     ]
    }
   ],
   "source": [
    "# Fit a MARS model to predict residuals\n",
    "residual_model = Earth()\n",
    "residual_model.fit(rounded_pred_opt, residuals)\n",
    "\n",
    "# Make predictions on test set\n",
    "residuals_pred = residual_model.predict(rounded_pred_opt)\n",
    "\n",
    "# Calculate overall RMSE of the residual model\n",
    "residual_model_rmse = np.sqrt(mean_squared_error(residuals, residuals_pred))\n",
    "\n",
    "print(\"RMSE of Residual Model: {:.2f}\".format(residual_model_rmse))"
   ]
  },
  {
   "cell_type": "markdown",
   "metadata": {},
   "source": [
    "### Finalizing the Model & Predictions"
   ]
  },
  {
   "cell_type": "code",
   "execution_count": 73,
   "metadata": {},
   "outputs": [
    {
     "ename": "ValueError",
     "evalue": "Unable to coerce to Series, length must be 1: given 1300",
     "output_type": "error",
     "traceback": [
      "\u001b[0;31m---------------------------------------------------------------------------\u001b[0m",
      "\u001b[0;31mValueError\u001b[0m                                Traceback (most recent call last)",
      "Cell \u001b[0;32mIn[73], line 11\u001b[0m\n\u001b[1;32m      8\u001b[0m residuals_pred \u001b[38;5;241m=\u001b[39m [\u001b[38;5;28mround\u001b[39m(p) \u001b[38;5;28;01mfor\u001b[39;00m p \u001b[38;5;129;01min\u001b[39;00m residuals_pred_unrounded]\n\u001b[1;32m     10\u001b[0m \u001b[38;5;66;03m# Add predicted residuals to y_pred to get final predictions\u001b[39;00m\n\u001b[0;32m---> 11\u001b[0m y_pred_final \u001b[38;5;241m=\u001b[39m \u001b[43mrounded_pred_opt\u001b[49m\u001b[43m \u001b[49m\u001b[38;5;241;43m+\u001b[39;49m\u001b[43m \u001b[49m\u001b[43mresiduals_pred\u001b[49m\n\u001b[1;32m     13\u001b[0m \u001b[38;5;66;03m# Calculating the final MARS model RMSE \u001b[39;00m\n\u001b[1;32m     14\u001b[0m \u001b[38;5;28mprint\u001b[39m(\u001b[38;5;124m\"\u001b[39m\u001b[38;5;124mTest RMSE of Fine Grid MARS Model & Residuals Model:\u001b[39m\u001b[38;5;124m\"\u001b[39m, np\u001b[38;5;241m.\u001b[39msqrt(mean_squared_error(y_test, y_pred_final)))\n",
      "File \u001b[0;32m~/opt/anaconda3/lib/python3.9/site-packages/pandas/core/ops/common.py:72\u001b[0m, in \u001b[0;36m_unpack_zerodim_and_defer.<locals>.new_method\u001b[0;34m(self, other)\u001b[0m\n\u001b[1;32m     <a href='file:///Users/lilawells/opt/anaconda3/lib/python3.9/site-packages/pandas/core/ops/common.py?line=67'>68</a>\u001b[0m             \u001b[39mreturn\u001b[39;00m \u001b[39mNotImplemented\u001b[39m\n\u001b[1;32m     <a href='file:///Users/lilawells/opt/anaconda3/lib/python3.9/site-packages/pandas/core/ops/common.py?line=69'>70</a>\u001b[0m other \u001b[39m=\u001b[39m item_from_zerodim(other)\n\u001b[0;32m---> <a href='file:///Users/lilawells/opt/anaconda3/lib/python3.9/site-packages/pandas/core/ops/common.py?line=71'>72</a>\u001b[0m \u001b[39mreturn\u001b[39;00m method(\u001b[39mself\u001b[39;49m, other)\n",
      "File \u001b[0;32m~/opt/anaconda3/lib/python3.9/site-packages/pandas/core/arraylike.py:102\u001b[0m, in \u001b[0;36mOpsMixin.__add__\u001b[0;34m(self, other)\u001b[0m\n\u001b[1;32m    <a href='file:///Users/lilawells/opt/anaconda3/lib/python3.9/site-packages/pandas/core/arraylike.py?line=99'>100</a>\u001b[0m \u001b[39m@unpack_zerodim_and_defer\u001b[39m(\u001b[39m\"\u001b[39m\u001b[39m__add__\u001b[39m\u001b[39m\"\u001b[39m)\n\u001b[1;32m    <a href='file:///Users/lilawells/opt/anaconda3/lib/python3.9/site-packages/pandas/core/arraylike.py?line=100'>101</a>\u001b[0m \u001b[39mdef\u001b[39;00m \u001b[39m__add__\u001b[39m(\u001b[39mself\u001b[39m, other):\n\u001b[0;32m--> <a href='file:///Users/lilawells/opt/anaconda3/lib/python3.9/site-packages/pandas/core/arraylike.py?line=101'>102</a>\u001b[0m     \u001b[39mreturn\u001b[39;00m \u001b[39mself\u001b[39;49m\u001b[39m.\u001b[39;49m_arith_method(other, operator\u001b[39m.\u001b[39;49madd)\n",
      "File \u001b[0;32m~/opt/anaconda3/lib/python3.9/site-packages/pandas/core/frame.py:7592\u001b[0m, in \u001b[0;36mDataFrame._arith_method\u001b[0;34m(self, other, op)\u001b[0m\n\u001b[1;32m   <a href='file:///Users/lilawells/opt/anaconda3/lib/python3.9/site-packages/pandas/core/frame.py?line=7588'>7589</a>\u001b[0m axis \u001b[39m=\u001b[39m \u001b[39m1\u001b[39m  \u001b[39m# only relevant for Series other case\u001b[39;00m\n\u001b[1;32m   <a href='file:///Users/lilawells/opt/anaconda3/lib/python3.9/site-packages/pandas/core/frame.py?line=7589'>7590</a>\u001b[0m other \u001b[39m=\u001b[39m ops\u001b[39m.\u001b[39mmaybe_prepare_scalar_for_op(other, (\u001b[39mself\u001b[39m\u001b[39m.\u001b[39mshape[axis],))\n\u001b[0;32m-> <a href='file:///Users/lilawells/opt/anaconda3/lib/python3.9/site-packages/pandas/core/frame.py?line=7591'>7592</a>\u001b[0m \u001b[39mself\u001b[39m, other \u001b[39m=\u001b[39m ops\u001b[39m.\u001b[39;49malign_method_FRAME(\u001b[39mself\u001b[39;49m, other, axis, flex\u001b[39m=\u001b[39;49m\u001b[39mTrue\u001b[39;49;00m, level\u001b[39m=\u001b[39;49m\u001b[39mNone\u001b[39;49;00m)\n\u001b[1;32m   <a href='file:///Users/lilawells/opt/anaconda3/lib/python3.9/site-packages/pandas/core/frame.py?line=7593'>7594</a>\u001b[0m new_data \u001b[39m=\u001b[39m \u001b[39mself\u001b[39m\u001b[39m.\u001b[39m_dispatch_frame_op(other, op, axis\u001b[39m=\u001b[39maxis)\n\u001b[1;32m   <a href='file:///Users/lilawells/opt/anaconda3/lib/python3.9/site-packages/pandas/core/frame.py?line=7594'>7595</a>\u001b[0m \u001b[39mreturn\u001b[39;00m \u001b[39mself\u001b[39m\u001b[39m.\u001b[39m_construct_result(new_data)\n",
      "File \u001b[0;32m~/opt/anaconda3/lib/python3.9/site-packages/pandas/core/ops/__init__.py:282\u001b[0m, in \u001b[0;36malign_method_FRAME\u001b[0;34m(left, right, axis, flex, level)\u001b[0m\n\u001b[1;32m    <a href='file:///Users/lilawells/opt/anaconda3/lib/python3.9/site-packages/pandas/core/ops/__init__.py?line=277'>278</a>\u001b[0m         \u001b[39mraise\u001b[39;00m \u001b[39mValueError\u001b[39;00m(\n\u001b[1;32m    <a href='file:///Users/lilawells/opt/anaconda3/lib/python3.9/site-packages/pandas/core/ops/__init__.py?line=278'>279</a>\u001b[0m             \u001b[39mf\u001b[39m\u001b[39m\"\u001b[39m\u001b[39mUnable to coerce list of \u001b[39m\u001b[39m{\u001b[39;00m\u001b[39mtype\u001b[39m(right[\u001b[39m0\u001b[39m])\u001b[39m}\u001b[39;00m\u001b[39m to Series/DataFrame\u001b[39m\u001b[39m\"\u001b[39m\n\u001b[1;32m    <a href='file:///Users/lilawells/opt/anaconda3/lib/python3.9/site-packages/pandas/core/ops/__init__.py?line=279'>280</a>\u001b[0m         )\n\u001b[1;32m    <a href='file:///Users/lilawells/opt/anaconda3/lib/python3.9/site-packages/pandas/core/ops/__init__.py?line=280'>281</a>\u001b[0m     \u001b[39m# GH17901\u001b[39;00m\n\u001b[0;32m--> <a href='file:///Users/lilawells/opt/anaconda3/lib/python3.9/site-packages/pandas/core/ops/__init__.py?line=281'>282</a>\u001b[0m     right \u001b[39m=\u001b[39m to_series(right)\n\u001b[1;32m    <a href='file:///Users/lilawells/opt/anaconda3/lib/python3.9/site-packages/pandas/core/ops/__init__.py?line=283'>284</a>\u001b[0m \u001b[39mif\u001b[39;00m flex \u001b[39mis\u001b[39;00m \u001b[39mnot\u001b[39;00m \u001b[39mNone\u001b[39;00m \u001b[39mand\u001b[39;00m \u001b[39misinstance\u001b[39m(right, ABCDataFrame):\n\u001b[1;32m    <a href='file:///Users/lilawells/opt/anaconda3/lib/python3.9/site-packages/pandas/core/ops/__init__.py?line=284'>285</a>\u001b[0m     \u001b[39mif\u001b[39;00m \u001b[39mnot\u001b[39;00m left\u001b[39m.\u001b[39m_indexed_same(right):\n",
      "File \u001b[0;32m~/opt/anaconda3/lib/python3.9/site-packages/pandas/core/ops/__init__.py:239\u001b[0m, in \u001b[0;36malign_method_FRAME.<locals>.to_series\u001b[0;34m(right)\u001b[0m\n\u001b[1;32m    <a href='file:///Users/lilawells/opt/anaconda3/lib/python3.9/site-packages/pandas/core/ops/__init__.py?line=236'>237</a>\u001b[0m \u001b[39melse\u001b[39;00m:\n\u001b[1;32m    <a href='file:///Users/lilawells/opt/anaconda3/lib/python3.9/site-packages/pandas/core/ops/__init__.py?line=237'>238</a>\u001b[0m     \u001b[39mif\u001b[39;00m \u001b[39mlen\u001b[39m(left\u001b[39m.\u001b[39mcolumns) \u001b[39m!=\u001b[39m \u001b[39mlen\u001b[39m(right):\n\u001b[0;32m--> <a href='file:///Users/lilawells/opt/anaconda3/lib/python3.9/site-packages/pandas/core/ops/__init__.py?line=238'>239</a>\u001b[0m         \u001b[39mraise\u001b[39;00m \u001b[39mValueError\u001b[39;00m(\n\u001b[1;32m    <a href='file:///Users/lilawells/opt/anaconda3/lib/python3.9/site-packages/pandas/core/ops/__init__.py?line=239'>240</a>\u001b[0m             msg\u001b[39m.\u001b[39mformat(req_len\u001b[39m=\u001b[39m\u001b[39mlen\u001b[39m(left\u001b[39m.\u001b[39mcolumns), given_len\u001b[39m=\u001b[39m\u001b[39mlen\u001b[39m(right))\n\u001b[1;32m    <a href='file:///Users/lilawells/opt/anaconda3/lib/python3.9/site-packages/pandas/core/ops/__init__.py?line=240'>241</a>\u001b[0m         )\n\u001b[1;32m    <a href='file:///Users/lilawells/opt/anaconda3/lib/python3.9/site-packages/pandas/core/ops/__init__.py?line=241'>242</a>\u001b[0m     right \u001b[39m=\u001b[39m left\u001b[39m.\u001b[39m_constructor_sliced(right, index\u001b[39m=\u001b[39mleft\u001b[39m.\u001b[39mcolumns)\n\u001b[1;32m    <a href='file:///Users/lilawells/opt/anaconda3/lib/python3.9/site-packages/pandas/core/ops/__init__.py?line=242'>243</a>\u001b[0m \u001b[39mreturn\u001b[39;00m right\n",
      "\u001b[0;31mValueError\u001b[0m: Unable to coerce to Series, length must be 1: given 1300"
     ]
    }
   ],
   "source": [
    "# Making predictions using the optimized MARS model and the residuals model as well\n",
    "    # Optimized MARS model predictions held in 'rounded_pred_opt'\n",
    "\n",
    "# Making predictions with the residuals model\n",
    "residuals_pred_unrounded = residual_model.predict(rounded_pred_opt)\n",
    "\n",
    "# Rounding predictions to the nearest integer \n",
    "residuals_pred = [round(p) for p in residuals_pred_unrounded]\n",
    "\n",
    "# Add predicted residuals to y_pred to get final predictions\n",
    "y_pred_final = rounded_pred_opt + residuals_pred\n",
    "\n",
    "# Calculating the final MARS model RMSE \n",
    "print(\"Test RMSE of Fine Grid MARS Model & Residuals Model:\", np.sqrt(mean_squared_error(y_test, y_pred_final)))"
   ]
  },
  {
   "cell_type": "code",
   "execution_count": null,
   "metadata": {},
   "outputs": [],
   "source": []
  }
 ],
 "metadata": {
  "interpreter": {
   "hash": "32f5ec6d91cde40665c038dca6626e6d343a99d63b32541ba0cad7db730fa124"
  },
  "kernelspec": {
   "display_name": "Python 3.9.16 ('base')",
   "language": "python",
   "name": "python3"
  },
  "language_info": {
   "codemirror_mode": {
    "name": "ipython",
    "version": 3
   },
   "file_extension": ".py",
   "mimetype": "text/x-python",
   "name": "python",
   "nbconvert_exporter": "python",
   "pygments_lexer": "ipython3",
   "version": "3.9.16"
  },
  "orig_nbformat": 4
 },
 "nbformat": 4,
 "nbformat_minor": 2
}
