{
 "cells": [
  {
   "cell_type": "code",
   "execution_count": 18,
   "metadata": {},
   "outputs": [],
   "source": [
    "import pandas as pd\n",
    "import numpy as np\n",
    "import matplotlib.pyplot as plt\n",
    "\n",
    "from sklearn.model_selection import GridSearchCV, train_test_split, RandomizedSearchCV\n",
    "from sklearn.ensemble import RandomForestRegressor\n",
    "from sklearn.metrics import mean_squared_error\n",
    "from sklearn.preprocessing import MinMaxScaler\n",
    "\n",
    "import statsmodels.api as sm"
   ]
  },
  {
   "cell_type": "code",
   "execution_count": 12,
   "metadata": {},
   "outputs": [],
   "source": [
    "X_train = pd.read_csv(\"Data/X_train.csv\")\n",
    "y_train = pd.read_csv(\"Data/y_train.csv\")\n",
    "\n",
    "X_test = pd.read_csv(\"Data/X_test.csv\")\n",
    "y_test = pd.read_csv(\"Data/y_test.csv\")"
   ]
  },
  {
   "cell_type": "code",
   "execution_count": 13,
   "metadata": {},
   "outputs": [
    {
     "data": {
      "text/html": [
       "<div>\n",
       "<style scoped>\n",
       "    .dataframe tbody tr th:only-of-type {\n",
       "        vertical-align: middle;\n",
       "    }\n",
       "\n",
       "    .dataframe tbody tr th {\n",
       "        vertical-align: top;\n",
       "    }\n",
       "\n",
       "    .dataframe thead th {\n",
       "        text-align: right;\n",
       "    }\n",
       "</style>\n",
       "<table border=\"1\" class=\"dataframe\">\n",
       "  <thead>\n",
       "    <tr style=\"text-align: right;\">\n",
       "      <th></th>\n",
       "      <th>fixed acidity</th>\n",
       "      <th>volatile acidity</th>\n",
       "      <th>citric acid</th>\n",
       "      <th>residual sugar</th>\n",
       "      <th>chlorides</th>\n",
       "      <th>free sulfur dioxide</th>\n",
       "      <th>total sulfur dioxide</th>\n",
       "      <th>density</th>\n",
       "      <th>pH</th>\n",
       "      <th>sulphates</th>\n",
       "      <th>alcohol</th>\n",
       "      <th>type_red</th>\n",
       "      <th>type_white</th>\n",
       "    </tr>\n",
       "  </thead>\n",
       "  <tbody>\n",
       "    <tr>\n",
       "      <th>0</th>\n",
       "      <td>0.371901</td>\n",
       "      <td>0.220000</td>\n",
       "      <td>0.307229</td>\n",
       "      <td>0.021472</td>\n",
       "      <td>0.061462</td>\n",
       "      <td>0.034722</td>\n",
       "      <td>0.463134</td>\n",
       "      <td>0.113553</td>\n",
       "      <td>0.232558</td>\n",
       "      <td>0.185393</td>\n",
       "      <td>0.492754</td>\n",
       "      <td>0.0</td>\n",
       "      <td>1.0</td>\n",
       "    </tr>\n",
       "    <tr>\n",
       "      <th>1</th>\n",
       "      <td>0.305785</td>\n",
       "      <td>0.166667</td>\n",
       "      <td>0.168675</td>\n",
       "      <td>0.065951</td>\n",
       "      <td>0.054817</td>\n",
       "      <td>0.069444</td>\n",
       "      <td>0.343318</td>\n",
       "      <td>0.129940</td>\n",
       "      <td>0.496124</td>\n",
       "      <td>0.196629</td>\n",
       "      <td>0.420290</td>\n",
       "      <td>0.0</td>\n",
       "      <td>1.0</td>\n",
       "    </tr>\n",
       "    <tr>\n",
       "      <th>2</th>\n",
       "      <td>0.239669</td>\n",
       "      <td>0.126667</td>\n",
       "      <td>0.198795</td>\n",
       "      <td>0.046012</td>\n",
       "      <td>0.041528</td>\n",
       "      <td>0.027778</td>\n",
       "      <td>0.089862</td>\n",
       "      <td>0.083478</td>\n",
       "      <td>0.279070</td>\n",
       "      <td>0.101124</td>\n",
       "      <td>0.362319</td>\n",
       "      <td>0.0</td>\n",
       "      <td>1.0</td>\n",
       "    </tr>\n",
       "    <tr>\n",
       "      <th>3</th>\n",
       "      <td>0.181818</td>\n",
       "      <td>0.173333</td>\n",
       "      <td>0.192771</td>\n",
       "      <td>0.049080</td>\n",
       "      <td>0.058140</td>\n",
       "      <td>0.041667</td>\n",
       "      <td>0.253456</td>\n",
       "      <td>0.076537</td>\n",
       "      <td>0.519380</td>\n",
       "      <td>0.123596</td>\n",
       "      <td>0.550725</td>\n",
       "      <td>0.0</td>\n",
       "      <td>1.0</td>\n",
       "    </tr>\n",
       "    <tr>\n",
       "      <th>4</th>\n",
       "      <td>0.165289</td>\n",
       "      <td>0.186667</td>\n",
       "      <td>0.228916</td>\n",
       "      <td>0.004601</td>\n",
       "      <td>0.046512</td>\n",
       "      <td>0.006944</td>\n",
       "      <td>0.158986</td>\n",
       "      <td>0.063428</td>\n",
       "      <td>0.434109</td>\n",
       "      <td>0.067416</td>\n",
       "      <td>0.492754</td>\n",
       "      <td>0.0</td>\n",
       "      <td>1.0</td>\n",
       "    </tr>\n",
       "  </tbody>\n",
       "</table>\n",
       "</div>"
      ],
      "text/plain": [
       "   fixed acidity  volatile acidity  citric acid  residual sugar  chlorides  \\\n",
       "0       0.371901          0.220000     0.307229        0.021472   0.061462   \n",
       "1       0.305785          0.166667     0.168675        0.065951   0.054817   \n",
       "2       0.239669          0.126667     0.198795        0.046012   0.041528   \n",
       "3       0.181818          0.173333     0.192771        0.049080   0.058140   \n",
       "4       0.165289          0.186667     0.228916        0.004601   0.046512   \n",
       "\n",
       "   free sulfur dioxide  total sulfur dioxide   density        pH  sulphates  \\\n",
       "0             0.034722              0.463134  0.113553  0.232558   0.185393   \n",
       "1             0.069444              0.343318  0.129940  0.496124   0.196629   \n",
       "2             0.027778              0.089862  0.083478  0.279070   0.101124   \n",
       "3             0.041667              0.253456  0.076537  0.519380   0.123596   \n",
       "4             0.006944              0.158986  0.063428  0.434109   0.067416   \n",
       "\n",
       "    alcohol  type_red  type_white  \n",
       "0  0.492754       0.0         1.0  \n",
       "1  0.420290       0.0         1.0  \n",
       "2  0.362319       0.0         1.0  \n",
       "3  0.550725       0.0         1.0  \n",
       "4  0.492754       0.0         1.0  "
      ]
     },
     "execution_count": 13,
     "metadata": {},
     "output_type": "execute_result"
    }
   ],
   "source": [
    "X_train.head()"
   ]
  },
  {
   "cell_type": "code",
   "execution_count": 16,
   "metadata": {},
   "outputs": [
    {
     "name": "stdout",
     "output_type": "stream",
     "text": [
      "Fitting 5 folds for each of 54 candidates, totalling 270 fits\n"
     ]
    },
    {
     "data": {
      "text/plain": [
       "{'max_features': 3, 'n_estimators': 900}"
      ]
     },
     "execution_count": 16,
     "metadata": {},
     "output_type": "execute_result"
    }
   ],
   "source": [
    "params = {'n_estimators': range(100, 1000, 100),\n",
    "          'max_features': range(1, 13, 2)}\n",
    "\n",
    "rfr_grid = GridSearchCV(RandomForestRegressor(random_state = 1), \n",
    "                                                params, \n",
    "                                                n_jobs = -1, \n",
    "                                                scoring = \"neg_mean_squared_error\", \n",
    "                                                verbose = 1)\n",
    "rfr_grid.fit(X_train, y_train.quality)\n",
    "rfr_grid.best_params_"
   ]
  },
  {
   "cell_type": "code",
   "execution_count": 17,
   "metadata": {},
   "outputs": [
    {
     "data": {
      "text/plain": [
       "Text(0, 0.5, 'K-fold RMSE')"
      ]
     },
     "execution_count": 17,
     "metadata": {},
     "output_type": "execute_result"
    },
    {
     "data": {
      "image/png": "[encoded data removed]",
      "text/plain": [
       "<Figure size 1008x360 with 2 Axes>"
      ]
     },
     "metadata": {
      "needs_background": "light"
     },
     "output_type": "display_data"
    }
   ],
   "source": [
    "cv_results_rf = pd.DataFrame(rfr_grid.cv_results_)\n",
    "\n",
    "fig, axes = plt.subplots(1, 2, figsize = (14,5))\n",
    "plt.subplots_adjust(wspace = 0.2)\n",
    "axes[0].plot(cv_results_rf.param_n_estimators, -cv_results_rf.mean_test_score, 'o')\n",
    "axes[0].set_xlabel('Estimators')\n",
    "axes[0].set_ylabel('K-fold RMSE')\n",
    "\n",
    "axes[1].plot(cv_results_rf.param_max_features, -cv_results_rf.mean_test_score, 'o')\n",
    "axes[1].set_xlabel('Features')\n",
    "axes[1].set_ylabel('K-fold RMSE')"
   ]
  },
  {
   "cell_type": "code",
   "execution_count": 14,
   "metadata": {},
   "outputs": [
    {
     "name": "stderr",
     "output_type": "stream",
     "text": [
      "/var/folders/_x/qn4xkmz55j1g75w_xy65m99m0000gn/T/ipykernel_99576/3428752590.py:1: DataConversionWarning: A column-vector y was passed when a 1d array was expected. Please change the shape of y to (n_samples,), for example using ravel().\n",
      "  rfr_model_coarse = RandomForestRegressor(n_estimators= 900, max_features = 3, random_state = 1, n_jobs = -1).fit(X_train, y_train)\n"
     ]
    },
    {
     "name": "stdout",
     "output_type": "stream",
     "text": [
      "Training RMSE: 0.2170179369194643\n",
      "Test RMSE: 0.625485949733757\n"
     ]
    }
   ],
   "source": [
    "rfr_model_coarse = RandomForestRegressor(n_estimators= 900, max_features = 3, random_state = 1, n_jobs = -1).fit(X_train, y_train)\n",
    "train_rmse = mean_squared_error(y_train, rfr_model_coarse.predict(X_train), squared = False)\n",
    "test_rmse = mean_squared_error(y_test, rfr_model_coarse.predict(X_test), squared = False)\n",
    "\n",
    "print(\"Training RMSE: {}\".format(train_rmse))\n",
    "print(\"Test RMSE: {}\".format(test_rmse))"
   ]
  },
  {
   "cell_type": "code",
   "execution_count": 17,
   "metadata": {},
   "outputs": [
    {
     "data": {
      "text/html": [
       "<div>\n",
       "<style scoped>\n",
       "    .dataframe tbody tr th:only-of-type {\n",
       "        vertical-align: middle;\n",
       "    }\n",
       "\n",
       "    .dataframe tbody tr th {\n",
       "        vertical-align: top;\n",
       "    }\n",
       "\n",
       "    .dataframe thead th {\n",
       "        text-align: right;\n",
       "    }\n",
       "</style>\n",
       "<table border=\"1\" class=\"dataframe\">\n",
       "  <thead>\n",
       "    <tr style=\"text-align: right;\">\n",
       "      <th></th>\n",
       "      <th>Feature_name</th>\n",
       "      <th>Importance</th>\n",
       "    </tr>\n",
       "  </thead>\n",
       "  <tbody>\n",
       "    <tr>\n",
       "      <th>0</th>\n",
       "      <td>alcohol</td>\n",
       "      <td>0.171949</td>\n",
       "    </tr>\n",
       "    <tr>\n",
       "      <th>1</th>\n",
       "      <td>density</td>\n",
       "      <td>0.107906</td>\n",
       "    </tr>\n",
       "    <tr>\n",
       "      <th>2</th>\n",
       "      <td>volatile acidity</td>\n",
       "      <td>0.104454</td>\n",
       "    </tr>\n",
       "    <tr>\n",
       "      <th>3</th>\n",
       "      <td>free sulfur dioxide</td>\n",
       "      <td>0.085070</td>\n",
       "    </tr>\n",
       "    <tr>\n",
       "      <th>4</th>\n",
       "      <td>chlorides</td>\n",
       "      <td>0.084446</td>\n",
       "    </tr>\n",
       "    <tr>\n",
       "      <th>5</th>\n",
       "      <td>total sulfur dioxide</td>\n",
       "      <td>0.080741</td>\n",
       "    </tr>\n",
       "    <tr>\n",
       "      <th>6</th>\n",
       "      <td>residual sugar</td>\n",
       "      <td>0.075423</td>\n",
       "    </tr>\n",
       "    <tr>\n",
       "      <th>7</th>\n",
       "      <td>sulphates</td>\n",
       "      <td>0.075087</td>\n",
       "    </tr>\n",
       "    <tr>\n",
       "      <th>8</th>\n",
       "      <td>citric acid</td>\n",
       "      <td>0.074750</td>\n",
       "    </tr>\n",
       "    <tr>\n",
       "      <th>9</th>\n",
       "      <td>pH</td>\n",
       "      <td>0.070702</td>\n",
       "    </tr>\n",
       "    <tr>\n",
       "      <th>10</th>\n",
       "      <td>fixed acidity</td>\n",
       "      <td>0.062476</td>\n",
       "    </tr>\n",
       "    <tr>\n",
       "      <th>11</th>\n",
       "      <td>type_red</td>\n",
       "      <td>0.003524</td>\n",
       "    </tr>\n",
       "    <tr>\n",
       "      <th>12</th>\n",
       "      <td>type_white</td>\n",
       "      <td>0.003474</td>\n",
       "    </tr>\n",
       "  </tbody>\n",
       "</table>\n",
       "</div>"
      ],
      "text/plain": [
       "            Feature_name  Importance\n",
       "0                alcohol    0.171949\n",
       "1                density    0.107906\n",
       "2       volatile acidity    0.104454\n",
       "3    free sulfur dioxide    0.085070\n",
       "4              chlorides    0.084446\n",
       "5   total sulfur dioxide    0.080741\n",
       "6         residual sugar    0.075423\n",
       "7              sulphates    0.075087\n",
       "8            citric acid    0.074750\n",
       "9                     pH    0.070702\n",
       "10         fixed acidity    0.062476\n",
       "11              type_red    0.003524\n",
       "12            type_white    0.003474"
      ]
     },
     "execution_count": 17,
     "metadata": {},
     "output_type": "execute_result"
    }
   ],
   "source": [
    "features = pd.DataFrame(list(zip(rfr_model_coarse.feature_names_in_, rfr_model_coarse.feature_importances_)), columns =['Feature_name', 'Importance'])\n",
    "features = features.sort_values(\"Importance\", ascending = False)\n",
    "features.reset_index().drop(columns = \"index\")"
   ]
  },
  {
   "attachments": {},
   "cell_type": "markdown",
   "metadata": {},
   "source": [
    "Tuning more parameters"
   ]
  },
  {
   "cell_type": "code",
   "execution_count": 20,
   "metadata": {},
   "outputs": [
    {
     "name": "stdout",
     "output_type": "stream",
     "text": [
      "Fitting 5 folds for each of 10 candidates, totalling 50 fits\n"
     ]
    },
    {
     "name": "stderr",
     "output_type": "stream",
     "text": [
      "/Users/amywang/opt/anaconda3/lib/python3.9/site-packages/sklearn/model_selection/_validation.py:372: FitFailedWarning: \n",
      "5 fits failed out of a total of 50.\n",
      "The score on these train-test partitions for these parameters will be set to nan.\n",
      "If these failures are not expected, you can try to debug them by setting error_score='raise'.\n",
      "\n",
      "Below are more details about the failures:\n",
      "--------------------------------------------------------------------------------\n",
      "2 fits failed with the following error:\n",
      "Traceback (most recent call last):\n",
      "  File \"/Users/amywang/opt/anaconda3/lib/python3.9/site-packages/sklearn/model_selection/_validation.py\", line 680, in _fit_and_score\n",
      "    estimator.fit(X_train, y_train, **fit_params)\n",
      "  File \"/Users/amywang/opt/anaconda3/lib/python3.9/site-packages/sklearn/ensemble/_forest.py\", line 385, in fit\n",
      "    n_samples_bootstrap = _get_n_samples_bootstrap(\n",
      "  File \"/Users/amywang/opt/anaconda3/lib/python3.9/site-packages/sklearn/ensemble/_forest.py\", line 111, in _get_n_samples_bootstrap\n",
      "    raise ValueError(msg.format(n_samples, max_samples))\n",
      "ValueError: `max_samples` must be in range 1 to 4157 but got value 5001\n",
      "\n",
      "--------------------------------------------------------------------------------\n",
      "3 fits failed with the following error:\n",
      "Traceback (most recent call last):\n",
      "  File \"/Users/amywang/opt/anaconda3/lib/python3.9/site-packages/sklearn/model_selection/_validation.py\", line 680, in _fit_and_score\n",
      "    estimator.fit(X_train, y_train, **fit_params)\n",
      "  File \"/Users/amywang/opt/anaconda3/lib/python3.9/site-packages/sklearn/ensemble/_forest.py\", line 385, in fit\n",
      "    n_samples_bootstrap = _get_n_samples_bootstrap(\n",
      "  File \"/Users/amywang/opt/anaconda3/lib/python3.9/site-packages/sklearn/ensemble/_forest.py\", line 111, in _get_n_samples_bootstrap\n",
      "    raise ValueError(msg.format(n_samples, max_samples))\n",
      "ValueError: `max_samples` must be in range 1 to 4158 but got value 5001\n",
      "\n",
      "  warnings.warn(some_fits_failed_message, FitFailedWarning)\n",
      "/Users/amywang/opt/anaconda3/lib/python3.9/site-packages/sklearn/model_selection/_search.py:969: UserWarning: One or more of the test scores are non-finite: [        nan -0.36637835 -0.56089685 -0.41236771 -0.44823767 -0.74651801\n",
      " -0.39174279 -0.40644589 -0.74552423 -0.37359576]\n",
      "  warnings.warn(\n"
     ]
    },
    {
     "data": {
      "text/plain": [
       "{'n_estimators': 3000, 'max_samples': 4001, 'max_features': 3, 'max_depth': 29}"
      ]
     },
     "execution_count": 20,
     "metadata": {},
     "output_type": "execute_result"
    }
   ],
   "source": [
    "params = {'n_estimators': range(100, 5000, 100),\n",
    "          'max_features': range(1, 14, 2),\n",
    "          'max_depth': range(2,30, 3),\n",
    "          'max_samples': range(1, X_train.shape[0], 500)}\n",
    "\n",
    "rfr_grid_broad = RandomizedSearchCV(RandomForestRegressor(random_state = 1), \n",
    "                                                params, \n",
    "                                                n_jobs = -1, \n",
    "                                                scoring = \"neg_mean_squared_error\", \n",
    "                                                verbose = 1)\n",
    "rfr_grid_broad.fit(X_train, y_train.quality)\n",
    "rfr_grid_broad.best_params_"
   ]
  },
  {
   "cell_type": "code",
   "execution_count": 21,
   "metadata": {},
   "outputs": [
    {
     "data": {
      "text/plain": [
       "Text(0, 0.5, 'K-fold RMSE')"
      ]
     },
     "execution_count": 21,
     "metadata": {},
     "output_type": "execute_result"
    },
    {
     "data": {
      "image/png": "[encoded data removed]",
      "text/plain": [
       "<Figure size 1008x360 with 4 Axes>"
      ]
     },
     "metadata": {
      "needs_background": "light"
     },
     "output_type": "display_data"
    }
   ],
   "source": [
    "cv_results_rf = pd.DataFrame(rfr_grid_broad.cv_results_)\n",
    "\n",
    "fig, axes = plt.subplots(1, 4, figsize = (14,5))\n",
    "plt.subplots_adjust(wspace = 0.2)\n",
    "axes[0].plot(cv_results_rf.param_n_estimators, -cv_results_rf.mean_test_score, 'o')\n",
    "axes[0].set_xlabel('Estimators')\n",
    "axes[0].set_ylabel('K-fold RMSE')\n",
    "\n",
    "axes[1].plot(cv_results_rf.param_max_features, -cv_results_rf.mean_test_score, 'o')\n",
    "axes[1].set_xlabel('Features')\n",
    "axes[1].set_ylabel('K-fold RMSE')\n",
    "\n",
    "axes[2].plot(cv_results_rf.param_max_depth, -cv_results_rf.mean_test_score, 'o')\n",
    "axes[2].set_xlabel('Depth')\n",
    "axes[2].set_ylabel('K-fold RMSE')\n",
    "\n",
    "axes[3].plot(cv_results_rf.param_max_samples, -cv_results_rf.mean_test_score, 'o')\n",
    "axes[3].set_xlabel('Samples')\n",
    "axes[3].set_ylabel('K-fold RMSE')"
   ]
  },
  {
   "cell_type": "code",
   "execution_count": 29,
   "metadata": {},
   "outputs": [
    {
     "name": "stderr",
     "output_type": "stream",
     "text": [
      "/var/folders/_x/qn4xkmz55j1g75w_xy65m99m0000gn/T/ipykernel_99576/273650390.py:4: DataConversionWarning: A column-vector y was passed when a 1d array was expected. Please change the shape of y to (n_samples,), for example using ravel().\n",
      "  rfr_model = RandomForestRegressor(n_estimators= 3000, max_features = 7, max_samples = 5000, max_depth = 50, random_state = 1, n_jobs = -1).fit(X_train, y_train)\n"
     ]
    },
    {
     "name": "stdout",
     "output_type": "stream",
     "text": [
      "Training RMSE: 0.22619313981098546\n",
      "Test RMSE: 0.6246034077785255\n"
     ]
    }
   ],
   "source": [
    "# {'n_estimators': 3000, 'max_samples': 5000, 'max_features': 7, 'max_depth': 50}\n",
    "# Lowest RMSE: Test RMSE: 0.6246034077785255\n",
    "\n",
    "rfr_model = RandomForestRegressor(n_estimators= 3000, max_features = 7, max_samples = 5000, max_depth = 50, random_state = 1, n_jobs = -1).fit(X_train, y_train)\n",
    "train_rmse = mean_squared_error(y_train, rfr_model.predict(X_train), squared = False)\n",
    "test_rmse = mean_squared_error(y_test, rfr_model.predict(X_test), squared = False)\n",
    "\n",
    "print(\"Training RMSE: {}\".format(train_rmse))\n",
    "print(\"Test RMSE: {}\".format(test_rmse))\n"
   ]
  },
  {
   "cell_type": "code",
   "execution_count": 30,
   "metadata": {},
   "outputs": [
    {
     "data": {
      "text/html": [
       "<div>\n",
       "<style scoped>\n",
       "    .dataframe tbody tr th:only-of-type {\n",
       "        vertical-align: middle;\n",
       "    }\n",
       "\n",
       "    .dataframe tbody tr th {\n",
       "        vertical-align: top;\n",
       "    }\n",
       "\n",
       "    .dataframe thead th {\n",
       "        text-align: right;\n",
       "    }\n",
       "</style>\n",
       "<table border=\"1\" class=\"dataframe\">\n",
       "  <thead>\n",
       "    <tr style=\"text-align: right;\">\n",
       "      <th></th>\n",
       "      <th>Feature_name</th>\n",
       "      <th>Importance</th>\n",
       "    </tr>\n",
       "  </thead>\n",
       "  <tbody>\n",
       "    <tr>\n",
       "      <th>0</th>\n",
       "      <td>alcohol</td>\n",
       "      <td>0.208823</td>\n",
       "    </tr>\n",
       "    <tr>\n",
       "      <th>1</th>\n",
       "      <td>volatile acidity</td>\n",
       "      <td>0.113601</td>\n",
       "    </tr>\n",
       "    <tr>\n",
       "      <th>2</th>\n",
       "      <td>density</td>\n",
       "      <td>0.095458</td>\n",
       "    </tr>\n",
       "    <tr>\n",
       "      <th>3</th>\n",
       "      <td>free sulfur dioxide</td>\n",
       "      <td>0.088861</td>\n",
       "    </tr>\n",
       "    <tr>\n",
       "      <th>4</th>\n",
       "      <td>sulphates</td>\n",
       "      <td>0.075318</td>\n",
       "    </tr>\n",
       "    <tr>\n",
       "      <th>5</th>\n",
       "      <td>total sulfur dioxide</td>\n",
       "      <td>0.074368</td>\n",
       "    </tr>\n",
       "    <tr>\n",
       "      <th>6</th>\n",
       "      <td>residual sugar</td>\n",
       "      <td>0.074362</td>\n",
       "    </tr>\n",
       "    <tr>\n",
       "      <th>7</th>\n",
       "      <td>chlorides</td>\n",
       "      <td>0.073688</td>\n",
       "    </tr>\n",
       "    <tr>\n",
       "      <th>8</th>\n",
       "      <td>pH</td>\n",
       "      <td>0.069191</td>\n",
       "    </tr>\n",
       "    <tr>\n",
       "      <th>9</th>\n",
       "      <td>citric acid</td>\n",
       "      <td>0.066376</td>\n",
       "    </tr>\n",
       "    <tr>\n",
       "      <th>10</th>\n",
       "      <td>fixed acidity</td>\n",
       "      <td>0.056763</td>\n",
       "    </tr>\n",
       "    <tr>\n",
       "      <th>11</th>\n",
       "      <td>type_white</td>\n",
       "      <td>0.001656</td>\n",
       "    </tr>\n",
       "    <tr>\n",
       "      <th>12</th>\n",
       "      <td>type_red</td>\n",
       "      <td>0.001534</td>\n",
       "    </tr>\n",
       "  </tbody>\n",
       "</table>\n",
       "</div>"
      ],
      "text/plain": [
       "            Feature_name  Importance\n",
       "0                alcohol    0.208823\n",
       "1       volatile acidity    0.113601\n",
       "2                density    0.095458\n",
       "3    free sulfur dioxide    0.088861\n",
       "4              sulphates    0.075318\n",
       "5   total sulfur dioxide    0.074368\n",
       "6         residual sugar    0.074362\n",
       "7              chlorides    0.073688\n",
       "8                     pH    0.069191\n",
       "9            citric acid    0.066376\n",
       "10         fixed acidity    0.056763\n",
       "11            type_white    0.001656\n",
       "12              type_red    0.001534"
      ]
     },
     "execution_count": 30,
     "metadata": {},
     "output_type": "execute_result"
    }
   ],
   "source": [
    "features = pd.DataFrame(list(zip(rfr_model.feature_names_in_, rfr_model.feature_importances_)), columns =['Feature_name', 'Importance'])\n",
    "features = features.sort_values(\"Importance\", ascending = False)\n",
    "features.reset_index().drop(columns = \"index\")"
   ]
  }
 ],
 "metadata": {
  "kernelspec": {
   "display_name": "base",
   "language": "python",
   "name": "python3"
  },
  "language_info": {
   "codemirror_mode": {
    "name": "ipython",
    "version": 3
   },
   "file_extension": ".py",
   "mimetype": "text/x-python",
   "name": "python",
   "nbconvert_exporter": "python",
   "pygments_lexer": "ipython3",
   "version": "3.9.12"
  },
  "orig_nbformat": 4
 },
 "nbformat": 4,
 "nbformat_minor": 2
}
